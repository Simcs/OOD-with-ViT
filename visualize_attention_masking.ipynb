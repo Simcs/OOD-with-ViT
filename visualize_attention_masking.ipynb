{
 "cells": [
  {
   "cell_type": "markdown",
   "metadata": {},
   "source": [
    "### Base settings"
   ]
  },
  {
   "cell_type": "code",
   "execution_count": 1,
   "metadata": {},
   "outputs": [],
   "source": [
    "%load_ext autoreload\n",
    "%autoreload 2\n",
    "\n",
    "import time\n",
    "from pprint import pprint\n",
    "from pathlib import Path\n",
    "from collections import OrderedDict\n",
    "from tqdm import tqdm\n",
    "import random\n",
    "\n",
    "import numpy as np\n",
    "import pandas as pd\n",
    "import matplotlib.pyplot as plt\n",
    "import plotly.express as px\n",
    "import plotly.graph_objects as go\n",
    "\n",
    "import torch\n",
    "import torch.nn as nn\n",
    "import torchvision.transforms as transforms\n",
    "\n",
    "device = 'cuda' if torch.cuda.is_available() else 'cpu'"
   ]
  },
  {
   "cell_type": "code",
   "execution_count": 2,
   "metadata": {},
   "outputs": [],
   "source": [
    "# create ConfigDict from config yaml file\n",
    "import yaml\n",
    "from ml_collections import config_dict\n",
    "\n",
    "config_path = Path('configs') / 'deit_tiny-pretrained-cifar10.yaml'\n",
    "with config_path.open('r') as f:\n",
    "    config = yaml.safe_load(f)\n",
    "    config = config_dict.ConfigDict(config)"
   ]
  },
  {
   "cell_type": "code",
   "execution_count": 3,
   "metadata": {},
   "outputs": [],
   "source": [
    "# frequently used variables\n",
    "model_name = config.model.name\n",
    "patch_size = config.model.patch_size\n",
    "summary = config.summary\n",
    "\n",
    "# log directories\n",
    "log_root = Path('./logs') / model_name / summary\n",
    "checkpoint_path = log_root / 'checkpoints'"
   ]
  },
  {
   "cell_type": "code",
   "execution_count": 4,
   "metadata": {},
   "outputs": [],
   "source": [
    "# initialize ViT model and load pretrained weights\n",
    "from ood_with_vit.models.vit import ViT\n",
    "\n",
    "def initialize_vit_model(config, finetuned: bool = True, verbose=0):\n",
    "    assert config.model.pretrained, 'only pretrained models are allowed'\n",
    "    if config.model.pretrained:\n",
    "        if finetuned:\n",
    "            print('init finetuned model')\n",
    "            n_class = config.dataset.n_class\n",
    "            model = torch.hub.load(\n",
    "                repo_or_dir=config.model.repo,\n",
    "                model=config.model.pretrained_model,\n",
    "                pretrained=False,\n",
    "            )\n",
    "            model.head = nn.Linear(model.head.in_features, n_class)\n",
    "        else:\n",
    "            print('init pretrained-only model')\n",
    "            model = torch.hub.load(\n",
    "                repo_or_dir=config.model.repo,\n",
    "                model=config.model.pretrained_model,\n",
    "                pretrained=True,\n",
    "            )\n",
    "    model = model.to(device=device)\n",
    "    if verbose:\n",
    "        print(model)\n",
    "        \n",
    "    if finetuned:\n",
    "        checkpoint = torch.load(checkpoint_path / f'{summary}_best.pt')\n",
    "\n",
    "        state_dict = checkpoint['model_state_dict']\n",
    "        trimmed_keys = []\n",
    "        for key in state_dict.keys():\n",
    "            # remove prefix 'module.' for each key (in case of DataParallel)\n",
    "            trimmed_keys.append(key[7:])\n",
    "        trimmed_state_dict = OrderedDict(list(zip(trimmed_keys, state_dict.values())))\n",
    "\n",
    "        model.load_state_dict(trimmed_state_dict)\n",
    "    return model"
   ]
  },
  {
   "cell_type": "code",
   "execution_count": 5,
   "metadata": {},
   "outputs": [
    {
     "name": "stdout",
     "output_type": "stream",
     "text": [
      "['airplane', 'automobile', 'bird', 'cat', 'deer', 'dog', 'frog', 'horse', 'ship', 'truck']\n",
      "['apple', 'aquarium_fish', 'baby', 'bear', 'beaver', 'bed', 'bee', 'beetle', 'bicycle', 'bottle']\n",
      "[0, 1, 2, 3, 4, 5, 6, 7, 8, 9]\n",
      "['tench', 'Tinca tinca', 'goldfish', 'Carassius auratus', 'great white shark', 'white shark', 'man-eater', 'man-eating shark', 'Carcharodon carcharias', 'tiger shark']\n"
     ]
    }
   ],
   "source": [
    "from torchvision.datasets import CIFAR10, CIFAR100, SVHN, ImageNet\n",
    "from torch.utils.data import DataLoader, Dataset\n",
    "\n",
    "dataset_mean, dataset_std = config.dataset.mean, config.dataset.std\n",
    "dataset_root = config.dataset.root\n",
    "img_size = config.model.img_size\n",
    "\n",
    "transform_test = transforms.Compose([\n",
    "    transforms.Resize(img_size),\n",
    "    transforms.ToTensor(),\n",
    "    transforms.Normalize(dataset_mean, dataset_std),\n",
    "])      \n",
    "\n",
    "cifar10 = CIFAR10(\n",
    "    root=dataset_root, \n",
    "    train=False, \n",
    "    download=False, \n",
    "    transform=transform_test\n",
    ")\n",
    "cifar10_test_dataloader = DataLoader(\n",
    "    dataset=cifar10, \n",
    "    batch_size=config.eval.batch_size, \n",
    "    shuffle=False, \n",
    "    num_workers=8\n",
    ")\n",
    "\n",
    "cifar100 = CIFAR100(\n",
    "    root=dataset_root, \n",
    "    train=False, \n",
    "    download=False, \n",
    "    transform=transform_test\n",
    ")\n",
    "cifar100_test_dataloader = DataLoader(\n",
    "    dataset=cifar100, \n",
    "    batch_size=config.eval.batch_size, \n",
    "    shuffle=False, \n",
    "    num_workers=8\n",
    ")\n",
    "\n",
    "dataset_mean, dataset_std = [0.4377, 0.4438, 0.4728], [0.1980, 0.2010, 0.1970]\n",
    "transform_test = transforms.Compose([\n",
    "    transforms.Resize(img_size),\n",
    "    transforms.ToTensor(),\n",
    "    transforms.Normalize(dataset_mean, dataset_std),\n",
    "])      \n",
    "svhn = SVHN(\n",
    "    root=dataset_root, \n",
    "    split='test', \n",
    "    download=False, \n",
    "    transform=transform_test\n",
    ")\n",
    "svhn_test_dataloader = DataLoader(\n",
    "    dataset=svhn, \n",
    "    batch_size=config.eval.batch_size, \n",
    "    shuffle=False, \n",
    "    num_workers=8\n",
    ")\n",
    "\n",
    "dataset_mean, dataset_std = [0.485, 0.456, 0.406], [0.229, 0.224, 0.225]\n",
    "transform_test = transforms.Compose([\n",
    "    transforms.Resize(img_size),\n",
    "    transforms.ToTensor(),\n",
    "    transforms.Normalize(dataset_mean, dataset_std),\n",
    "])\n",
    "imagenet = ImageNet(\n",
    "    root='~/workspace/dataset/imagenet',\n",
    "    split='val',\n",
    "    download=None,\n",
    "    transform=transform_test,\n",
    ")\n",
    "\n",
    "print(list(cifar10.class_to_idx.keys())[:10])\n",
    "print(list(cifar100.class_to_idx.keys())[:10])\n",
    "print(list(set(svhn.labels))[:10])\n",
    "print(list(imagenet.class_to_idx.keys())[:10])"
   ]
  },
  {
   "cell_type": "markdown",
   "metadata": {},
   "source": [
    "### Utility"
   ]
  },
  {
   "cell_type": "code",
   "execution_count": 6,
   "metadata": {},
   "outputs": [],
   "source": [
    "# set seeds\n",
    "import random\n",
    "import numpy as np\n",
    "\n",
    "def set_seed(seed):\n",
    "    random.seed(seed)\n",
    "    np.random.seed(seed)\n",
    "    torch.manual_seed(seed)\n",
    "seed = 4321"
   ]
  },
  {
   "cell_type": "markdown",
   "metadata": {},
   "source": [
    "### Visualize Attention Masking"
   ]
  },
  {
   "cell_type": "code",
   "execution_count": 7,
   "metadata": {},
   "outputs": [],
   "source": [
    "from ood_with_vit.visualizer.feature_extractor import FeatureExtractor\n",
    "from ood_with_vit.mim.attention_masking import AttentionMaskingHooker"
   ]
  },
  {
   "cell_type": "code",
   "execution_count": 8,
   "metadata": {},
   "outputs": [],
   "source": [
    "import cv2\n",
    "\n",
    "def apply_mask_on_img(img, mask):\n",
    "    img_h, img_w, _ = img.shape\n",
    "    mask = cv2.resize(mask, (img_h, img_w), interpolation=cv2.INTER_NEAREST)\n",
    "    mask = np.expand_dims(mask, axis=-1)\n",
    "    masked_img = img * (1 - mask)\n",
    "    return masked_img"
   ]
  },
  {
   "cell_type": "code",
   "execution_count": 16,
   "metadata": {},
   "outputs": [],
   "source": [
    "from ood_with_vit.visualizer import ViTAttentionRollout\n",
    "\n",
    "def visualize_attention_map(\n",
    "    original_img, \n",
    "    rollout_attention_map,\n",
    "    visualizer,\n",
    "):\n",
    "    mask = rollout_attention_map\n",
    "\n",
    "    fig, ax = plt.subplots(figsize=(12, 6))\n",
    "    plt.subplot(1, 3, 1)\n",
    "    plt.imshow(original_img)\n",
    "\n",
    "    plt.subplot(1, 3, 2)\n",
    "    visualized_img = visualizer.get_visualized_masks(original_img, mask)\n",
    "    visualized_img = visualized_img[:, :, ::-1]\n",
    "    plt.imshow(visualized_img)\n",
    "\n",
    "    plt.subplot(1, 3, 3)\n",
    "    plt.imshow(mask)\n",
    "    cax = fig.add_axes([\n",
    "        ax.get_position().x1 + 0.01,\n",
    "        ax.get_position().y0 + ax.get_position().height * 0.2, \n",
    "        0.02,\n",
    "        ax.get_position().height * 0.6\n",
    "    ])\n",
    "    plt.colorbar(cax=cax)\n",
    "\n",
    "    plt.show()\n",
    "\n",
    "def visualize_attention_masking(\n",
    "    original_img,\n",
    "    attention_mask,\n",
    "):\n",
    "    fig, ax = plt.subplots(figsize=(12, 6))\n",
    "    plt.subplot(1, 3, 1)\n",
    "    plt.imshow(original_img)\n",
    "\n",
    "    plt.subplot(1, 3, 2)\n",
    "    visualized_img = apply_mask_on_img(original_img, attention_mask)\n",
    "    visualized_img = visualized_img.astype(np.int32)\n",
    "    plt.imshow(visualized_img)\n",
    "\n",
    "    plt.subplot(1, 3, 3)\n",
    "    plt.imshow(attention_mask)\n",
    "    cax = fig.add_axes([\n",
    "        ax.get_position().x1 + 0.01,\n",
    "        ax.get_position().y0 + ax.get_position().height * 0.2, \n",
    "        0.02,\n",
    "        ax.get_position().height * 0.6\n",
    "    ])\n",
    "    plt.colorbar(cax=cax)\n",
    "\n",
    "    plt.show()"
   ]
  },
  {
   "cell_type": "markdown",
   "metadata": {},
   "source": [
    "#### Pretrained-only model"
   ]
  },
  {
   "cell_type": "code",
   "execution_count": 64,
   "metadata": {},
   "outputs": [
    {
     "name": "stdout",
     "output_type": "stream",
     "text": [
      "init pretrained-only model\n"
     ]
    },
    {
     "name": "stderr",
     "output_type": "stream",
     "text": [
      "Using cache found in /home/simc/.cache/torch/hub/facebookresearch_deit_main\n"
     ]
    },
    {
     "name": "stdout",
     "output_type": "stream",
     "text": [
      "VisionTransformer(\n",
      "  (patch_embed): PatchEmbed(\n",
      "    (proj): Conv2d(3, 192, kernel_size=(16, 16), stride=(16, 16))\n",
      "    (norm): Identity()\n",
      "  )\n",
      "  (pos_drop): Dropout(p=0.0, inplace=False)\n",
      "  (blocks): Sequential(\n",
      "    (0): Block(\n",
      "      (norm1): LayerNorm((192,), eps=1e-06, elementwise_affine=True)\n",
      "      (attn): Attention(\n",
      "        (qkv): Linear(in_features=192, out_features=576, bias=True)\n",
      "        (attn_drop): Dropout(p=0.0, inplace=False)\n",
      "        (proj): Linear(in_features=192, out_features=192, bias=True)\n",
      "        (proj_drop): Dropout(p=0.0, inplace=False)\n",
      "      )\n",
      "      (drop_path): Identity()\n",
      "      (norm2): LayerNorm((192,), eps=1e-06, elementwise_affine=True)\n",
      "      (mlp): Mlp(\n",
      "        (fc1): Linear(in_features=192, out_features=768, bias=True)\n",
      "        (act): GELU()\n",
      "        (fc2): Linear(in_features=768, out_features=192, bias=True)\n",
      "        (drop): Dropout(p=0.0, inplace=False)\n",
      "      )\n",
      "    )\n",
      "    (1): Block(\n",
      "      (norm1): LayerNorm((192,), eps=1e-06, elementwise_affine=True)\n",
      "      (attn): Attention(\n",
      "        (qkv): Linear(in_features=192, out_features=576, bias=True)\n",
      "        (attn_drop): Dropout(p=0.0, inplace=False)\n",
      "        (proj): Linear(in_features=192, out_features=192, bias=True)\n",
      "        (proj_drop): Dropout(p=0.0, inplace=False)\n",
      "      )\n",
      "      (drop_path): Identity()\n",
      "      (norm2): LayerNorm((192,), eps=1e-06, elementwise_affine=True)\n",
      "      (mlp): Mlp(\n",
      "        (fc1): Linear(in_features=192, out_features=768, bias=True)\n",
      "        (act): GELU()\n",
      "        (fc2): Linear(in_features=768, out_features=192, bias=True)\n",
      "        (drop): Dropout(p=0.0, inplace=False)\n",
      "      )\n",
      "    )\n",
      "    (2): Block(\n",
      "      (norm1): LayerNorm((192,), eps=1e-06, elementwise_affine=True)\n",
      "      (attn): Attention(\n",
      "        (qkv): Linear(in_features=192, out_features=576, bias=True)\n",
      "        (attn_drop): Dropout(p=0.0, inplace=False)\n",
      "        (proj): Linear(in_features=192, out_features=192, bias=True)\n",
      "        (proj_drop): Dropout(p=0.0, inplace=False)\n",
      "      )\n",
      "      (drop_path): Identity()\n",
      "      (norm2): LayerNorm((192,), eps=1e-06, elementwise_affine=True)\n",
      "      (mlp): Mlp(\n",
      "        (fc1): Linear(in_features=192, out_features=768, bias=True)\n",
      "        (act): GELU()\n",
      "        (fc2): Linear(in_features=768, out_features=192, bias=True)\n",
      "        (drop): Dropout(p=0.0, inplace=False)\n",
      "      )\n",
      "    )\n",
      "    (3): Block(\n",
      "      (norm1): LayerNorm((192,), eps=1e-06, elementwise_affine=True)\n",
      "      (attn): Attention(\n",
      "        (qkv): Linear(in_features=192, out_features=576, bias=True)\n",
      "        (attn_drop): Dropout(p=0.0, inplace=False)\n",
      "        (proj): Linear(in_features=192, out_features=192, bias=True)\n",
      "        (proj_drop): Dropout(p=0.0, inplace=False)\n",
      "      )\n",
      "      (drop_path): Identity()\n",
      "      (norm2): LayerNorm((192,), eps=1e-06, elementwise_affine=True)\n",
      "      (mlp): Mlp(\n",
      "        (fc1): Linear(in_features=192, out_features=768, bias=True)\n",
      "        (act): GELU()\n",
      "        (fc2): Linear(in_features=768, out_features=192, bias=True)\n",
      "        (drop): Dropout(p=0.0, inplace=False)\n",
      "      )\n",
      "    )\n",
      "    (4): Block(\n",
      "      (norm1): LayerNorm((192,), eps=1e-06, elementwise_affine=True)\n",
      "      (attn): Attention(\n",
      "        (qkv): Linear(in_features=192, out_features=576, bias=True)\n",
      "        (attn_drop): Dropout(p=0.0, inplace=False)\n",
      "        (proj): Linear(in_features=192, out_features=192, bias=True)\n",
      "        (proj_drop): Dropout(p=0.0, inplace=False)\n",
      "      )\n",
      "      (drop_path): Identity()\n",
      "      (norm2): LayerNorm((192,), eps=1e-06, elementwise_affine=True)\n",
      "      (mlp): Mlp(\n",
      "        (fc1): Linear(in_features=192, out_features=768, bias=True)\n",
      "        (act): GELU()\n",
      "        (fc2): Linear(in_features=768, out_features=192, bias=True)\n",
      "        (drop): Dropout(p=0.0, inplace=False)\n",
      "      )\n",
      "    )\n",
      "    (5): Block(\n",
      "      (norm1): LayerNorm((192,), eps=1e-06, elementwise_affine=True)\n",
      "      (attn): Attention(\n",
      "        (qkv): Linear(in_features=192, out_features=576, bias=True)\n",
      "        (attn_drop): Dropout(p=0.0, inplace=False)\n",
      "        (proj): Linear(in_features=192, out_features=192, bias=True)\n",
      "        (proj_drop): Dropout(p=0.0, inplace=False)\n",
      "      )\n",
      "      (drop_path): Identity()\n",
      "      (norm2): LayerNorm((192,), eps=1e-06, elementwise_affine=True)\n",
      "      (mlp): Mlp(\n",
      "        (fc1): Linear(in_features=192, out_features=768, bias=True)\n",
      "        (act): GELU()\n",
      "        (fc2): Linear(in_features=768, out_features=192, bias=True)\n",
      "        (drop): Dropout(p=0.0, inplace=False)\n",
      "      )\n",
      "    )\n",
      "    (6): Block(\n",
      "      (norm1): LayerNorm((192,), eps=1e-06, elementwise_affine=True)\n",
      "      (attn): Attention(\n",
      "        (qkv): Linear(in_features=192, out_features=576, bias=True)\n",
      "        (attn_drop): Dropout(p=0.0, inplace=False)\n",
      "        (proj): Linear(in_features=192, out_features=192, bias=True)\n",
      "        (proj_drop): Dropout(p=0.0, inplace=False)\n",
      "      )\n",
      "      (drop_path): Identity()\n",
      "      (norm2): LayerNorm((192,), eps=1e-06, elementwise_affine=True)\n",
      "      (mlp): Mlp(\n",
      "        (fc1): Linear(in_features=192, out_features=768, bias=True)\n",
      "        (act): GELU()\n",
      "        (fc2): Linear(in_features=768, out_features=192, bias=True)\n",
      "        (drop): Dropout(p=0.0, inplace=False)\n",
      "      )\n",
      "    )\n",
      "    (7): Block(\n",
      "      (norm1): LayerNorm((192,), eps=1e-06, elementwise_affine=True)\n",
      "      (attn): Attention(\n",
      "        (qkv): Linear(in_features=192, out_features=576, bias=True)\n",
      "        (attn_drop): Dropout(p=0.0, inplace=False)\n",
      "        (proj): Linear(in_features=192, out_features=192, bias=True)\n",
      "        (proj_drop): Dropout(p=0.0, inplace=False)\n",
      "      )\n",
      "      (drop_path): Identity()\n",
      "      (norm2): LayerNorm((192,), eps=1e-06, elementwise_affine=True)\n",
      "      (mlp): Mlp(\n",
      "        (fc1): Linear(in_features=192, out_features=768, bias=True)\n",
      "        (act): GELU()\n",
      "        (fc2): Linear(in_features=768, out_features=192, bias=True)\n",
      "        (drop): Dropout(p=0.0, inplace=False)\n",
      "      )\n",
      "    )\n",
      "    (8): Block(\n",
      "      (norm1): LayerNorm((192,), eps=1e-06, elementwise_affine=True)\n",
      "      (attn): Attention(\n",
      "        (qkv): Linear(in_features=192, out_features=576, bias=True)\n",
      "        (attn_drop): Dropout(p=0.0, inplace=False)\n",
      "        (proj): Linear(in_features=192, out_features=192, bias=True)\n",
      "        (proj_drop): Dropout(p=0.0, inplace=False)\n",
      "      )\n",
      "      (drop_path): Identity()\n",
      "      (norm2): LayerNorm((192,), eps=1e-06, elementwise_affine=True)\n",
      "      (mlp): Mlp(\n",
      "        (fc1): Linear(in_features=192, out_features=768, bias=True)\n",
      "        (act): GELU()\n",
      "        (fc2): Linear(in_features=768, out_features=192, bias=True)\n",
      "        (drop): Dropout(p=0.0, inplace=False)\n",
      "      )\n",
      "    )\n",
      "    (9): Block(\n",
      "      (norm1): LayerNorm((192,), eps=1e-06, elementwise_affine=True)\n",
      "      (attn): Attention(\n",
      "        (qkv): Linear(in_features=192, out_features=576, bias=True)\n",
      "        (attn_drop): Dropout(p=0.0, inplace=False)\n",
      "        (proj): Linear(in_features=192, out_features=192, bias=True)\n",
      "        (proj_drop): Dropout(p=0.0, inplace=False)\n",
      "      )\n",
      "      (drop_path): Identity()\n",
      "      (norm2): LayerNorm((192,), eps=1e-06, elementwise_affine=True)\n",
      "      (mlp): Mlp(\n",
      "        (fc1): Linear(in_features=192, out_features=768, bias=True)\n",
      "        (act): GELU()\n",
      "        (fc2): Linear(in_features=768, out_features=192, bias=True)\n",
      "        (drop): Dropout(p=0.0, inplace=False)\n",
      "      )\n",
      "    )\n",
      "    (10): Block(\n",
      "      (norm1): LayerNorm((192,), eps=1e-06, elementwise_affine=True)\n",
      "      (attn): Attention(\n",
      "        (qkv): Linear(in_features=192, out_features=576, bias=True)\n",
      "        (attn_drop): Dropout(p=0.0, inplace=False)\n",
      "        (proj): Linear(in_features=192, out_features=192, bias=True)\n",
      "        (proj_drop): Dropout(p=0.0, inplace=False)\n",
      "      )\n",
      "      (drop_path): Identity()\n",
      "      (norm2): LayerNorm((192,), eps=1e-06, elementwise_affine=True)\n",
      "      (mlp): Mlp(\n",
      "        (fc1): Linear(in_features=192, out_features=768, bias=True)\n",
      "        (act): GELU()\n",
      "        (fc2): Linear(in_features=768, out_features=192, bias=True)\n",
      "        (drop): Dropout(p=0.0, inplace=False)\n",
      "      )\n",
      "    )\n",
      "    (11): Block(\n",
      "      (norm1): LayerNorm((192,), eps=1e-06, elementwise_affine=True)\n",
      "      (attn): Attention(\n",
      "        (qkv): Linear(in_features=192, out_features=576, bias=True)\n",
      "        (attn_drop): Dropout(p=0.0, inplace=False)\n",
      "        (proj): Linear(in_features=192, out_features=192, bias=True)\n",
      "        (proj_drop): Dropout(p=0.0, inplace=False)\n",
      "      )\n",
      "      (drop_path): Identity()\n",
      "      (norm2): LayerNorm((192,), eps=1e-06, elementwise_affine=True)\n",
      "      (mlp): Mlp(\n",
      "        (fc1): Linear(in_features=192, out_features=768, bias=True)\n",
      "        (act): GELU()\n",
      "        (fc2): Linear(in_features=768, out_features=192, bias=True)\n",
      "        (drop): Dropout(p=0.0, inplace=False)\n",
      "      )\n",
      "    )\n",
      "  )\n",
      "  (norm): LayerNorm((192,), eps=1e-06, elementwise_affine=True)\n",
      "  (pre_logits): Identity()\n",
      "  (head): Linear(in_features=192, out_features=1000, bias=True)\n",
      ")\n"
     ]
    },
    {
     "ename": "AssertionError",
     "evalue": "invalid mask methods",
     "output_type": "error",
     "traceback": [
      "\u001b[0;31m---------------------------------------------------------------------------\u001b[0m",
      "\u001b[0;31mAssertionError\u001b[0m                            Traceback (most recent call last)",
      "\u001b[0;32m/tmp/ipykernel_843641/2858976813.py\u001b[0m in \u001b[0;36m<module>\u001b[0;34m\u001b[0m\n\u001b[1;32m     20\u001b[0m \u001b[0mdiscard_ratio\u001b[0m \u001b[0;34m=\u001b[0m \u001b[0;36m0.9\u001b[0m\u001b[0;34m\u001b[0m\u001b[0;34m\u001b[0m\u001b[0m\n\u001b[1;32m     21\u001b[0m \u001b[0;34m\u001b[0m\u001b[0m\n\u001b[0;32m---> 22\u001b[0;31m attention_masking_hooker = AttentionMaskingHooker(\n\u001b[0m\u001b[1;32m     23\u001b[0m     \u001b[0mconfig\u001b[0m\u001b[0;34m=\u001b[0m\u001b[0mconfig\u001b[0m\u001b[0;34m,\u001b[0m\u001b[0;34m\u001b[0m\u001b[0;34m\u001b[0m\u001b[0m\n\u001b[1;32m     24\u001b[0m     \u001b[0mmodel\u001b[0m\u001b[0;34m=\u001b[0m\u001b[0mmodel\u001b[0m\u001b[0;34m,\u001b[0m\u001b[0;34m\u001b[0m\u001b[0;34m\u001b[0m\u001b[0m\n",
      "\u001b[0;32m/workspace/OOD-with-ViT/ood_with_vit/mim/attention_masking.py\u001b[0m in \u001b[0;36m__init__\u001b[0;34m(self, config, model, attention_extractor, patch_embedding_layer_name, mask_method, mask_ratio, mask_threshold, head_fusion, discard_ratio)\u001b[0m\n\u001b[1;32m     35\u001b[0m         \u001b[0mdiscard_ratio\u001b[0m\u001b[0;34m:\u001b[0m \u001b[0mfloat\u001b[0m \u001b[0;34m=\u001b[0m \u001b[0;36m0.9\u001b[0m\u001b[0;34m,\u001b[0m\u001b[0;34m\u001b[0m\u001b[0;34m\u001b[0m\u001b[0m\n\u001b[1;32m     36\u001b[0m     ):\n\u001b[0;32m---> 37\u001b[0;31m         \u001b[0;32massert\u001b[0m \u001b[0mmask_method\u001b[0m \u001b[0;32min\u001b[0m \u001b[0mMASK_METHODS\u001b[0m\u001b[0;34m,\u001b[0m \u001b[0;34m'invalid mask methods'\u001b[0m\u001b[0;34m\u001b[0m\u001b[0;34m\u001b[0m\u001b[0m\n\u001b[0m\u001b[1;32m     38\u001b[0m         \u001b[0;32massert\u001b[0m \u001b[0;32mnot\u001b[0m\u001b[0;34m(\u001b[0m\u001b[0mmask_ratio\u001b[0m \u001b[0;32mis\u001b[0m \u001b[0;32mNone\u001b[0m \u001b[0;32mand\u001b[0m \u001b[0mmask_threshold\u001b[0m \u001b[0;32mis\u001b[0m \u001b[0;32mNone\u001b[0m\u001b[0;34m)\u001b[0m\u001b[0;34m,\u001b[0m\u001b[0;31m \u001b[0m\u001b[0;31m\\\u001b[0m\u001b[0;34m\u001b[0m\u001b[0;34m\u001b[0m\u001b[0m\n\u001b[1;32m     39\u001b[0m             \u001b[0;34m'neither mask_ratio nor mask_threshold are None'\u001b[0m\u001b[0;34m\u001b[0m\u001b[0;34m\u001b[0m\u001b[0m\n",
      "\u001b[0;31mAssertionError\u001b[0m: invalid mask methods"
     ]
    }
   ],
   "source": [
    "model = initialize_vit_model(config, finetuned=False, verbose=1)\n",
    "# add hooks for feature extraction\n",
    "feature_extractor = FeatureExtractor(\n",
    "    model=model,\n",
    "    layer_name=config.model.layer_name.penultimate,\n",
    ")\n",
    "feature_extractor.hook()\n",
    "\n",
    "# add hooks for attention map extraction\n",
    "attention_extractor = FeatureExtractor(\n",
    "    model=model,\n",
    "    layer_name=config.model.layer_name.attention,\n",
    ")\n",
    "attention_extractor.hook()\n",
    "\n",
    "# add hooks for attention masking\n",
    "mask_method = 'max'\n",
    "mask_ratio = 0.3\n",
    "head_fusion = 'max'\n",
    "discard_ratio = 0.9\n",
    "\n",
    "attention_masking_hooker = AttentionMaskingHooker(\n",
    "    config=config,\n",
    "    model=model,\n",
    "    attention_extractor=attention_extractor,\n",
    "    patch_embedding_layer_name='patch_embed.norm',\n",
    "    mask_method=mask_method,\n",
    "    mask_ratio=mask_ratio,\n",
    "    head_fusion=head_fusion,\n",
    "    discard_ratio=discard_ratio,\n",
    ")\n",
    "attention_masking_hooker.hook()"
   ]
  },
  {
   "cell_type": "code",
   "execution_count": 40,
   "metadata": {},
   "outputs": [
    {
     "name": "stdout",
     "output_type": "stream",
     "text": [
      "index:  4352\n",
      "visualize original image and attention map\n"
     ]
    },
    {
     "data": {
      "image/png": "[encoded data removed]",
      "text/plain": [
       "<Figure size 864x432 with 4 Axes>"
      ]
     },
     "metadata": {
      "needs_background": "light"
     },
     "output_type": "display_data"
    },
    {
     "name": "stdout",
     "output_type": "stream",
     "text": [
      "visualize masked image\n"
     ]
    },
    {
     "data": {
      "image/png": "[encoded data removed]",
      "text/plain": [
       "<Figure size 864x432 with 4 Axes>"
      ]
     },
     "metadata": {
      "needs_background": "light"
     },
     "output_type": "display_data"
    },
    {
     "name": "stdout",
     "output_type": "stream",
     "text": [
      "visualize masked image attention map\n"
     ]
    },
    {
     "data": {
      "image/png": "[encoded data removed]",
      "text/plain": [
       "<Figure size 864x432 with 4 Axes>"
      ]
     },
     "metadata": {
      "needs_background": "light"
     },
     "output_type": "display_data"
    },
    {
     "name": "stdout",
     "output_type": "stream",
     "text": [
      "prediction before masking:     ('Japanese spaniel',), 7.7524, 0.3534\n",
      "prediction after masking:     ('English foxhound',), 3.5324, 0.0205\n"
     ]
    }
   ],
   "source": [
    "from ood_with_vit.utils import compute_logits, compute_attention_maps\n",
    "\n",
    "class_name = 'cat'\n",
    "cls_idx = cifar10.class_to_idx[class_name]\n",
    "img_indices = np.where(np.array(cifar10.targets) == cls_idx)[0]\n",
    "img_idx = random.choice(img_indices)\n",
    "# img_idx = 8996\n",
    "\n",
    "softmax = torch.nn.Softmax(dim=1)\n",
    "\n",
    "print('index: ', img_idx)\n",
    "original_img = cifar10.data[img_idx]\n",
    "img, _ = cifar10[img_idx]\n",
    "img = img.to(device)\n",
    "\n",
    "visualizer = ViTAttentionRollout(\n",
    "    head_fusion=head_fusion,\n",
    "    discard_ratio=discard_ratio,\n",
    ")\n",
    "\n",
    "attention_masking_hooker.switch_status('normal')\n",
    "ori_logits = compute_logits(config, model, img.unsqueeze(0))\n",
    "ori_attention_maps = compute_attention_maps(config, model, img.unsqueeze(0), attention_extractor)\n",
    "rollout_attention_map = visualizer.rollout(ori_attention_maps)[0]\n",
    "ori_max_logit, ori_pred = ori_logits.max(axis=1)\n",
    "ori_msp, _ = softmax(ori_logits).max(axis=1)\n",
    "\n",
    "print('visualize original image and attention map')\n",
    "visualize_attention_map(\n",
    "    original_img=cifar10.data[img_idx],\n",
    "    rollout_attention_map=rollout_attention_map,\n",
    ")\n",
    "\n",
    "masks = attention_masking_hooker.generate_masks(img.unsqueeze(0))\n",
    "print('visualize masked image')\n",
    "visualize_attention_masking(\n",
    "    original_img=cifar10.data[img_idx],\n",
    "    attention_mask=masks[0],\n",
    ")\n",
    "\n",
    "attention_masking_hooker.switch_status('masking')\n",
    "mask_logits = compute_logits(config, model, img.unsqueeze(0))\n",
    "mask_attention_maps = compute_attention_maps(config, model, img.unsqueeze(0), attention_extractor)\n",
    "rollout_attention_map = visualizer.rollout(mask_attention_maps)[0]\n",
    "\n",
    "print('visualize masked image attention map')\n",
    "visualize_attention_map(\n",
    "    original_img=cifar10.data[img_idx],\n",
    "    rollout_attention_map=rollout_attention_map,\n",
    ")\n",
    "mask_max_logit, mask_pred = mask_logits.max(axis=1)\n",
    "mask_msp, _ = softmax(mask_logits).max(axis=1)\n",
    "\n",
    "print(f'prediction before masking: \\\n",
    "    {imagenet.classes[ori_pred.item()]}, {ori_max_logit.item():.4f}, {ori_msp.item():.4f}')\n",
    "print(f'prediction after masking: \\\n",
    "    {imagenet.classes[mask_pred.item()]}, {mask_max_logit.item():.4f}, {mask_msp.item():.4f}')\n"
   ]
  },
  {
   "cell_type": "markdown",
   "metadata": {},
   "source": [
    "#### Finetuned model"
   ]
  },
  {
   "cell_type": "code",
   "execution_count": 13,
   "metadata": {},
   "outputs": [
    {
     "name": "stdout",
     "output_type": "stream",
     "text": [
      "init finetuned model\n"
     ]
    },
    {
     "name": "stderr",
     "output_type": "stream",
     "text": [
      "Using cache found in /home/simc/.cache/torch/hub/facebookresearch_deit_main\n"
     ]
    },
    {
     "name": "stdout",
     "output_type": "stream",
     "text": [
      "name: patch_embed.norm\n"
     ]
    }
   ],
   "source": [
    "model = initialize_vit_model(config, finetuned=True)\n",
    "# add hooks for feature extraction\n",
    "feature_extractor = FeatureExtractor(\n",
    "    model=model,\n",
    "    layer_name=config.model.layer_name.penultimate,\n",
    ")\n",
    "feature_extractor.hook()\n",
    "\n",
    "# add hooks for attention map extraction\n",
    "attention_extractor = FeatureExtractor(\n",
    "    model=model,\n",
    "    layer_name=config.model.layer_name.attention,\n",
    ")\n",
    "\n",
    "# add hooks for attention masking\n",
    "mask_method = 'top_ratio'\n",
    "mask_ratio = 0.3\n",
    "mask_threshold = 0.5\n",
    "head_fusion = 'max'\n",
    "discard_ratio = 0.9\n",
    "\n",
    "attention_masking_hooker = AttentionMaskingHooker(\n",
    "    config=config,\n",
    "    model=model,\n",
    "    attention_extractor=attention_extractor,\n",
    "    patch_embedding_layer_name='patch_embed.norm',\n",
    "    mask_method=mask_method,\n",
    "    mask_ratio=mask_ratio,\n",
    "    mask_threshold=mask_threshold,\n",
    "    head_fusion=head_fusion,\n",
    "    discard_ratio=discard_ratio,\n",
    ")\n",
    "attention_masking_hooker.hook()"
   ]
  },
  {
   "cell_type": "markdown",
   "metadata": {},
   "source": [
    "#### In-distribution visualization"
   ]
  },
  {
   "cell_type": "code",
   "execution_count": 17,
   "metadata": {},
   "outputs": [
    {
     "name": "stdout",
     "output_type": "stream",
     "text": [
      "index:  8996\n",
      "12 torch.Size([1, 3, 197, 197])\n",
      "visualize original image and attention map\n"
     ]
    },
    {
     "data": {
      "image/png": "[encoded data removed]",
      "text/plain": [
       "<Figure size 864x432 with 4 Axes>"
      ]
     },
     "metadata": {
      "needs_background": "light"
     },
     "output_type": "display_data"
    },
    {
     "name": "stdout",
     "output_type": "stream",
     "text": [
      "visualize masked image\n"
     ]
    },
    {
     "data": {
      "image/png": "[encoded data removed]",
      "text/plain": [
       "<Figure size 864x432 with 4 Axes>"
      ]
     },
     "metadata": {
      "needs_background": "light"
     },
     "output_type": "display_data"
    },
    {
     "name": "stdout",
     "output_type": "stream",
     "text": [
      "visualize masked image attention map\n"
     ]
    },
    {
     "data": {
      "image/png": "[encoded data removed]",
      "text/plain": [
       "<Figure size 864x432 with 4 Axes>"
      ]
     },
     "metadata": {
      "needs_background": "light"
     },
     "output_type": "display_data"
    },
    {
     "name": "stdout",
     "output_type": "stream",
     "text": [
      "prediction before masking: cat, 9.1847, 9.1847\n",
      "prediction after masking: horse, 3.9083, 1.2612\n"
     ]
    }
   ],
   "source": [
    "from ood_with_vit.utils import compute_logits, compute_attention_maps\n",
    "\n",
    "class_name = 'cat'\n",
    "cls_idx = cifar10.class_to_idx[class_name]\n",
    "img_indices = np.where(np.array(cifar10.targets) == cls_idx)[0]\n",
    "img_idx = random.choice(img_indices)\n",
    "img_idx = 8996\n",
    "\n",
    "print('index: ', img_idx)\n",
    "original_img = cifar10.data[img_idx]\n",
    "img, _ = cifar10[img_idx]\n",
    "img = img.to(device)\n",
    "\n",
    "visualizer = ViTAttentionRollout(\n",
    "    head_fusion='max',\n",
    "    discard_ratio=0.9,\n",
    ")\n",
    "\n",
    "attention_masking_hooker.switch_status('normal')\n",
    "ori_logits = compute_logits(config, model, img.unsqueeze(0))\n",
    "attention_extractor.hook()\n",
    "ori_attention_maps = compute_attention_maps(config, model, img.unsqueeze(0), attention_extractor)\n",
    "attention_extractor.remove_hooks()\n",
    "print(len(ori_attention_maps), ori_attention_maps[0].shape)\n",
    "rollout_attention_maps = visualizer.rollout(ori_attention_maps)\n",
    "ori_max_logit, ori_pred = ori_logits.max(axis=1)\n",
    "\n",
    "print('visualize original image and attention map')\n",
    "visualize_attention_map(\n",
    "    original_img=cifar10.data[img_idx],\n",
    "    rollout_attention_map=rollout_attention_maps[0],\n",
    "    visualizer=visualizer,\n",
    ")\n",
    "\n",
    "masks = attention_masking_hooker.generate_masks(img.unsqueeze(0))\n",
    "print('visualize masked image')\n",
    "visualize_attention_masking(\n",
    "    original_img=cifar10.data[img_idx],\n",
    "    attention_mask=masks[0],\n",
    ")\n",
    "\n",
    "attention_masking_hooker.switch_status('masking')\n",
    "mask_logits = compute_logits(config, model, img.unsqueeze(0))\n",
    "attention_extractor.hook()\n",
    "mask_attention_maps = compute_attention_maps(config, model, img.unsqueeze(0), attention_extractor)\n",
    "attention_extractor.remove_hooks()\n",
    "rollout_attention_maps = visualizer.rollout(mask_attention_maps)\n",
    "\n",
    "print('visualize masked image attention map')\n",
    "visualize_attention_map(\n",
    "    original_img=cifar10.data[img_idx],\n",
    "    rollout_attention_map=rollout_attention_maps[0],\n",
    "    visualizer=visualizer,\n",
    ")\n",
    "mask_max_logit, mask_pred = mask_logits.max(axis=1)\n",
    "\n",
    "print(f'prediction before masking: {cifar10.classes[ori_pred.item()]}, {ori_max_logit.item():.4f}, {ori_logits[0][cls_idx].item():.4f}')\n",
    "print(f'prediction after masking: {cifar10.classes[mask_pred.item()]}, {mask_max_logit.item():.4f}, {mask_logits[0][cls_idx].item():.4f}')"
   ]
  },
  {
   "cell_type": "code",
   "execution_count": 41,
   "metadata": {},
   "outputs": [
    {
     "name": "stdout",
     "output_type": "stream",
     "text": [
      "index:  8996\n",
      "12 torch.Size([2, 3, 197, 197])\n",
      "visualize original image and attention map\n"
     ]
    },
    {
     "ename": "TypeError",
     "evalue": "visualize_attention_map() got an unexpected keyword argument 'attention_mask'",
     "output_type": "error",
     "traceback": [
      "\u001b[0;31m---------------------------------------------------------------------------\u001b[0m",
      "\u001b[0;31mTypeError\u001b[0m                                 Traceback (most recent call last)",
      "\u001b[0;32m/tmp/ipykernel_843641/972698311.py\u001b[0m in \u001b[0;36m<module>\u001b[0;34m\u001b[0m\n\u001b[1;32m     26\u001b[0m \u001b[0;34m\u001b[0m\u001b[0m\n\u001b[1;32m     27\u001b[0m \u001b[0mprint\u001b[0m\u001b[0;34m(\u001b[0m\u001b[0;34m'visualize original image and attention map'\u001b[0m\u001b[0;34m)\u001b[0m\u001b[0;34m\u001b[0m\u001b[0;34m\u001b[0m\u001b[0m\n\u001b[0;32m---> 28\u001b[0;31m visualize_attention_map(\n\u001b[0m\u001b[1;32m     29\u001b[0m     \u001b[0moriginal_img\u001b[0m\u001b[0;34m=\u001b[0m\u001b[0mcifar10\u001b[0m\u001b[0;34m.\u001b[0m\u001b[0mdata\u001b[0m\u001b[0;34m[\u001b[0m\u001b[0mimg_idx\u001b[0m\u001b[0;34m]\u001b[0m\u001b[0;34m,\u001b[0m\u001b[0;34m\u001b[0m\u001b[0;34m\u001b[0m\u001b[0m\n\u001b[1;32m     30\u001b[0m     \u001b[0mattention_mask\u001b[0m\u001b[0;34m=\u001b[0m\u001b[0mori_attention_masks\u001b[0m\u001b[0;34m[\u001b[0m\u001b[0;36m0\u001b[0m\u001b[0;34m]\u001b[0m\u001b[0;34m,\u001b[0m\u001b[0;34m\u001b[0m\u001b[0;34m\u001b[0m\u001b[0m\n",
      "\u001b[0;31mTypeError\u001b[0m: visualize_attention_map() got an unexpected keyword argument 'attention_mask'"
     ]
    }
   ],
   "source": [
    "from ood_with_vit.utils import compute_logits, compute_attention_maps\n",
    "\n",
    "class_name = 'cat'\n",
    "cls_idx = cifar10.class_to_idx[class_name]\n",
    "img_indices = np.where(np.array(cifar10.targets) == cls_idx)[0]\n",
    "img_idx = random.choice(img_indices)\n",
    "img_idx = 8996\n",
    "\n",
    "print('index: ', img_idx)\n",
    "original_img = cifar10.data[img_idx]\n",
    "img, _ = cifar10[img_idx]\n",
    "img = img.to(device)\n",
    "\n",
    "imgs = torch.stack([img, img])\n",
    "visualizer = ViTAttentionRollout(\n",
    "    head_fusion=head_fusion,\n",
    "    discard_ratio=discard_ratio\n",
    ")\n",
    "\n",
    "attention_masking_hooker.switch_status('normal')\n",
    "ori_logits = compute_logits(config, model, imgs)\n",
    "ori_attention_maps = compute_attention_maps(config, model, imgs, attention_extractor)\n",
    "print(len(ori_attention_maps), ori_attention_maps[0].shape)\n",
    "ori_max_logit, ori_pred = ori_logits.max(axis=1)\n",
    "ori_attention_masks = visualizer.rollout(ori_attention_maps)\n",
    "\n",
    "print('visualize original image and attention map')\n",
    "visualize_attention_map(\n",
    "    original_img=cifar10.data[img_idx],\n",
    "    attention_mask=ori_attention_masks[0],\n",
    "    head_fusion=head_fusion,\n",
    "    discard_ratio=discard_ratio,\n",
    ")\n",
    "visualize_attention_map(\n",
    "    original_img=cifar10.data[img_idx],\n",
    "    attention_mask=ori_attention_masks[1],\n",
    "    head_fusion=head_fusion,\n",
    "    discard_ratio=discard_ratio,\n",
    ")\n",
    "\n",
    "masks = attention_masking_hooker.generate_masks(imgs)\n",
    "print('visualize masked image')\n",
    "visualize_attention_masking(\n",
    "    original_img=cifar10.data[img_idx],\n",
    "    mask=masks[0],\n",
    ")\n",
    "visualize_attention_masking(\n",
    "    original_img=cifar10.data[img_idx],\n",
    "    mask=masks[1],\n",
    ")\n",
    "\n",
    "attention_masking_hooker.switch_status('masking')\n",
    "mask_logits = compute_logits(config, model, imgs)\n",
    "mask_attention_maps = compute_attention_maps(config, model, imgs, attention_extractor)\n",
    "mask_attention_masks = visualizer.rollout(mask_attention_maps)\n",
    "\n",
    "print('visualize masked image attention map')\n",
    "visualize_attention_map(\n",
    "    original_img=cifar10.data[img_idx],\n",
    "    attention_mask=mask_attention_masks[0],\n",
    "    head_fusion=head_fusion,\n",
    "    discard_ratio=discard_ratio,\n",
    ")\n",
    "visualize_attention_map(\n",
    "    original_img=cifar10.data[img_idx],\n",
    "    attention_mask=mask_attention_masks[1],\n",
    "    head_fusion=head_fusion,\n",
    "    discard_ratio=discard_ratio,\n",
    ")\n",
    "mask_max_logit, mask_pred = mask_logits.max(axis=1)\n",
    "\n",
    "print(f'prediction before masking: \\\n",
    "    {cifar10.classes[ori_pred[0].item()]}, {ori_max_logit[0].item():.4f}, {ori_logits[0][cls_idx].item():.3f}')\n",
    "print(f'prediction before masking: \\\n",
    "    {cifar10.classes[ori_pred[1].item()]}, {ori_max_logit[1].item():.4f}, {ori_logits[1][cls_idx].item():.3f}')\n",
    "print(f'prediction after masking: \\\n",
    "    {cifar10.classes[mask_pred[0].item()]}, {mask_max_logit[0].item():.4f}, {mask_logits[0][cls_idx].item():.4f}')\n",
    "print(f'prediction after masking: \\\n",
    "    {cifar10.classes[mask_pred[1].item()]}, {mask_max_logit[1].item():.4f}, {mask_logits[1][cls_idx].item():.4f}')"
   ]
  },
  {
   "cell_type": "code",
   "execution_count": 189,
   "metadata": {},
   "outputs": [
    {
     "name": "stdout",
     "output_type": "stream",
     "text": [
      "index:  4561\n",
      "torch.Size([2, 3, 224, 224])\n",
      "visualize original image and attention map\n",
      "indices: torch.Size([1, 34928])\n",
      "I: torch.Size([197, 197])\n",
      "a: torch.Size([1, 197, 197])\n",
      "indices: torch.Size([1, 34928])\n",
      "I: torch.Size([197, 197])\n",
      "a: torch.Size([1, 197, 197])\n",
      "indices: torch.Size([1, 34928])\n",
      "I: torch.Size([197, 197])\n",
      "a: torch.Size([1, 197, 197])\n",
      "indices: torch.Size([1, 34928])\n",
      "I: torch.Size([197, 197])\n",
      "a: torch.Size([1, 197, 197])\n",
      "indices: torch.Size([1, 34928])\n",
      "I: torch.Size([197, 197])\n",
      "a: torch.Size([1, 197, 197])\n",
      "indices: torch.Size([1, 34928])\n",
      "I: torch.Size([197, 197])\n",
      "a: torch.Size([1, 197, 197])\n",
      "indices: torch.Size([1, 34928])\n",
      "I: torch.Size([197, 197])\n",
      "a: torch.Size([1, 197, 197])\n",
      "indices: torch.Size([1, 34928])\n",
      "I: torch.Size([197, 197])\n",
      "a: torch.Size([1, 197, 197])\n",
      "indices: torch.Size([1, 34928])\n",
      "I: torch.Size([197, 197])\n",
      "a: torch.Size([1, 197, 197])\n",
      "indices: torch.Size([1, 34928])\n",
      "I: torch.Size([197, 197])\n",
      "a: torch.Size([1, 197, 197])\n",
      "indices: torch.Size([1, 34928])\n",
      "I: torch.Size([197, 197])\n",
      "a: torch.Size([1, 197, 197])\n",
      "indices: torch.Size([1, 34928])\n",
      "I: torch.Size([197, 197])\n",
      "a: torch.Size([1, 197, 197])\n",
      "final result: torch.Size([1, 197, 197])\n",
      "mask: (1, 14, 14)\n"
     ]
    },
    {
     "ename": "error",
     "evalue": "OpenCV(4.6.0) /io/opencv/modules/imgproc/src/colormap.cpp:736: error: (-5:Bad argument) cv::ColorMap only supports source images of type CV_8UC1 or CV_8UC3 in function 'operator()'\n",
     "output_type": "error",
     "traceback": [
      "\u001b[0;31m---------------------------------------------------------------------------\u001b[0m",
      "\u001b[0;31merror\u001b[0m                                     Traceback (most recent call last)",
      "\u001b[0;32m/tmp/ipykernel_676602/2642915327.py\u001b[0m in \u001b[0;36m<module>\u001b[0;34m\u001b[0m\n\u001b[1;32m     23\u001b[0m \u001b[0;34m\u001b[0m\u001b[0m\n\u001b[1;32m     24\u001b[0m \u001b[0mprint\u001b[0m\u001b[0;34m(\u001b[0m\u001b[0;34m'visualize original image and attention map'\u001b[0m\u001b[0;34m)\u001b[0m\u001b[0;34m\u001b[0m\u001b[0;34m\u001b[0m\u001b[0m\n\u001b[0;32m---> 25\u001b[0;31m visualize_attention_map(\n\u001b[0m\u001b[1;32m     26\u001b[0m     \u001b[0moriginal_img\u001b[0m\u001b[0;34m=\u001b[0m\u001b[0mcifar10\u001b[0m\u001b[0;34m.\u001b[0m\u001b[0mdata\u001b[0m\u001b[0;34m[\u001b[0m\u001b[0mimg_idx\u001b[0m\u001b[0;34m]\u001b[0m\u001b[0;34m,\u001b[0m\u001b[0;34m\u001b[0m\u001b[0;34m\u001b[0m\u001b[0m\n\u001b[1;32m     27\u001b[0m     \u001b[0mattn_weights\u001b[0m\u001b[0;34m=\u001b[0m\u001b[0mori_attention_maps\u001b[0m\u001b[0;34m,\u001b[0m\u001b[0;34m\u001b[0m\u001b[0;34m\u001b[0m\u001b[0m\n",
      "\u001b[0;32m/tmp/ipykernel_676602/1046316896.py\u001b[0m in \u001b[0;36mvisualize_attention_map\u001b[0;34m(original_img, attn_weights, head_fusion, discard_ratio)\u001b[0m\n\u001b[1;32m     18\u001b[0m \u001b[0;34m\u001b[0m\u001b[0m\n\u001b[1;32m     19\u001b[0m     \u001b[0mplt\u001b[0m\u001b[0;34m.\u001b[0m\u001b[0msubplot\u001b[0m\u001b[0;34m(\u001b[0m\u001b[0;36m1\u001b[0m\u001b[0;34m,\u001b[0m \u001b[0;36m3\u001b[0m\u001b[0;34m,\u001b[0m \u001b[0;36m2\u001b[0m\u001b[0;34m)\u001b[0m\u001b[0;34m\u001b[0m\u001b[0;34m\u001b[0m\u001b[0m\n\u001b[0;32m---> 20\u001b[0;31m     \u001b[0mvisualized_img\u001b[0m \u001b[0;34m=\u001b[0m \u001b[0mvisualizer\u001b[0m\u001b[0;34m.\u001b[0m\u001b[0mget_visualized_masks\u001b[0m\u001b[0;34m(\u001b[0m\u001b[0moriginal_img\u001b[0m\u001b[0;34m,\u001b[0m \u001b[0mmask\u001b[0m\u001b[0;34m)\u001b[0m\u001b[0;34m\u001b[0m\u001b[0;34m\u001b[0m\u001b[0m\n\u001b[0m\u001b[1;32m     21\u001b[0m     \u001b[0mvisualized_img\u001b[0m \u001b[0;34m=\u001b[0m \u001b[0mvisualized_img\u001b[0m\u001b[0;34m[\u001b[0m\u001b[0;34m:\u001b[0m\u001b[0;34m,\u001b[0m \u001b[0;34m:\u001b[0m\u001b[0;34m,\u001b[0m \u001b[0;34m:\u001b[0m\u001b[0;34m:\u001b[0m\u001b[0;34m-\u001b[0m\u001b[0;36m1\u001b[0m\u001b[0;34m]\u001b[0m\u001b[0;34m\u001b[0m\u001b[0;34m\u001b[0m\u001b[0m\n\u001b[1;32m     22\u001b[0m     \u001b[0mplt\u001b[0m\u001b[0;34m.\u001b[0m\u001b[0mimshow\u001b[0m\u001b[0;34m(\u001b[0m\u001b[0mvisualized_img\u001b[0m\u001b[0;34m)\u001b[0m\u001b[0;34m\u001b[0m\u001b[0;34m\u001b[0m\u001b[0m\n",
      "\u001b[0;32m/workspace/OOD-with-ViT/ood_with_vit/visualizer/attention_rollout.py\u001b[0m in \u001b[0;36mget_visualized_masks\u001b[0;34m(self, img, mask)\u001b[0m\n\u001b[1;32m     60\u001b[0m         \u001b[0mmask\u001b[0m \u001b[0;34m=\u001b[0m \u001b[0mcv2\u001b[0m\u001b[0;34m.\u001b[0m\u001b[0mresize\u001b[0m\u001b[0;34m(\u001b[0m\u001b[0mmask\u001b[0m\u001b[0;34m,\u001b[0m \u001b[0;34m(\u001b[0m\u001b[0mimg_h\u001b[0m\u001b[0;34m,\u001b[0m \u001b[0mimg_w\u001b[0m\u001b[0;34m)\u001b[0m\u001b[0;34m,\u001b[0m \u001b[0minterpolation\u001b[0m\u001b[0;34m=\u001b[0m\u001b[0mcv2\u001b[0m\u001b[0;34m.\u001b[0m\u001b[0mINTER_LINEAR\u001b[0m\u001b[0;34m)\u001b[0m\u001b[0;34m\u001b[0m\u001b[0;34m\u001b[0m\u001b[0m\n\u001b[1;32m     61\u001b[0m         \u001b[0mimg\u001b[0m \u001b[0;34m=\u001b[0m \u001b[0mnp\u001b[0m\u001b[0;34m.\u001b[0m\u001b[0mfloat32\u001b[0m\u001b[0;34m(\u001b[0m\u001b[0mimg\u001b[0m\u001b[0;34m)\u001b[0m \u001b[0;34m/\u001b[0m \u001b[0;36m255\u001b[0m\u001b[0;34m\u001b[0m\u001b[0;34m\u001b[0m\u001b[0m\n\u001b[0;32m---> 62\u001b[0;31m         \u001b[0mheatmap\u001b[0m \u001b[0;34m=\u001b[0m \u001b[0mcv2\u001b[0m\u001b[0;34m.\u001b[0m\u001b[0mapplyColorMap\u001b[0m\u001b[0;34m(\u001b[0m\u001b[0mnp\u001b[0m\u001b[0;34m.\u001b[0m\u001b[0muint8\u001b[0m\u001b[0;34m(\u001b[0m\u001b[0;36m255\u001b[0m \u001b[0;34m*\u001b[0m \u001b[0mmask\u001b[0m\u001b[0;34m)\u001b[0m\u001b[0;34m,\u001b[0m \u001b[0mcv2\u001b[0m\u001b[0;34m.\u001b[0m\u001b[0mCOLORMAP_JET\u001b[0m\u001b[0;34m)\u001b[0m\u001b[0;34m\u001b[0m\u001b[0;34m\u001b[0m\u001b[0m\n\u001b[0m\u001b[1;32m     63\u001b[0m         \u001b[0mheatmap\u001b[0m \u001b[0;34m=\u001b[0m \u001b[0mnp\u001b[0m\u001b[0;34m.\u001b[0m\u001b[0mfloat32\u001b[0m\u001b[0;34m(\u001b[0m\u001b[0mheatmap\u001b[0m\u001b[0;34m)\u001b[0m \u001b[0;34m/\u001b[0m \u001b[0;36m255\u001b[0m\u001b[0;34m\u001b[0m\u001b[0;34m\u001b[0m\u001b[0m\n\u001b[1;32m     64\u001b[0m         \u001b[0mcam\u001b[0m \u001b[0;34m=\u001b[0m \u001b[0mheatmap\u001b[0m \u001b[0;34m+\u001b[0m \u001b[0mnp\u001b[0m\u001b[0;34m.\u001b[0m\u001b[0mfloat32\u001b[0m\u001b[0;34m(\u001b[0m\u001b[0mimg\u001b[0m\u001b[0;34m)\u001b[0m\u001b[0;34m\u001b[0m\u001b[0;34m\u001b[0m\u001b[0m\n",
      "\u001b[0;31merror\u001b[0m: OpenCV(4.6.0) /io/opencv/modules/imgproc/src/colormap.cpp:736: error: (-5:Bad argument) cv::ColorMap only supports source images of type CV_8UC1 or CV_8UC3 in function 'operator()'\n"
     ]
    },
    {
     "data": {
      "image/png": "[encoded data removed]",
      "text/plain": [
       "<Figure size 864x432 with 2 Axes>"
      ]
     },
     "metadata": {
      "needs_background": "light"
     },
     "output_type": "display_data"
    }
   ],
   "source": [
    "from ood_with_vit.utils import compute_logits, compute_attention_maps\n",
    "\n",
    "class_name = 'cat'\n",
    "cls_idx = cifar10.class_to_idx[class_name]\n",
    "img_indices = np.where(np.array(cifar10.targets) == cls_idx)[0]\n",
    "img_idx = random.choice(img_indices)\n",
    "# img_idx = 4710\n",
    "\n",
    "print('index: ', img_idx)\n",
    "original_img = cifar10.data[img_idx]\n",
    "img, _ = cifar10[img_idx]\n",
    "img = img.to(device)\n",
    "\n",
    "img1, _ = cifar10[0]\n",
    "img2, _ = cifar10[1]\n",
    "imgs = torch.stack([img1, img2])\n",
    "\n",
    "attention_masking_hooker.switch_status('normal')\n",
    "ori_logits = compute_logits(config, model, imgs)\n",
    "ori_attention_maps = compute_attention_maps(config, model, imgs, attention_extractor)\n",
    "ori_max_logit, ori_pred = ori_logits.max(axis=1)\n",
    "\n",
    "print('visualize original image and attention map')\n",
    "visualize_attention_map(\n",
    "    original_img=cifar10.data[img_idx],\n",
    "    attn_weights=ori_attention_maps,\n",
    "    head_fusion=head_fusion,\n",
    "    discard_ratio=discard_ratio,\n",
    ")\n",
    "\n",
    "mask = attention_masking_hooker.generate_mask(img)\n",
    "print('visualize masked image')\n",
    "visualize_attention_masking(\n",
    "    original_img=cifar10.data[img_idx],\n",
    "    mask=mask,\n",
    ")\n",
    "\n",
    "attention_masking_hooker.switch_status('masking')\n",
    "mask_logits = compute_logits(config, model, img.unsqueeze(0))\n",
    "mask_attention_maps = compute_attention_maps(config, model, img.unsqueeze(0), attention_extractor)\n",
    "\n",
    "print('visualize masked image attention map')\n",
    "visualize_attention_map(\n",
    "    original_img=cifar10.data[img_idx],\n",
    "    attn_weights=mask_attention_maps,\n",
    "    head_fusion=head_fusion,\n",
    "    discard_ratio=discard_ratio,\n",
    ")\n",
    "mask_max_logit, mask_pred = mask_logits.max(axis=1)\n",
    "\n",
    "print(f'prediction before masking: {cifar10.classes[ori_pred.item()]}, {ori_max_logit.item():.4f}, {ori_logits[0][cls_idx].item():.3f}')\n",
    "print(f'prediction after masking: {cifar10.classes[mask_pred.item()]}, {mask_max_logit.item():.4f}, {mask_logits[0][cls_idx].item():.4f}')"
   ]
  },
  {
   "cell_type": "code",
   "execution_count": 175,
   "metadata": {},
   "outputs": [
    {
     "name": "stdout",
     "output_type": "stream",
     "text": [
      "index:  3169\n",
      "visualize original image and attention map\n",
      "visualize masked image\n",
      "visualize masked image attention map\n",
      "prediction before masking: cat, 9.5374\n",
      "prediction after masking: cat, 4.2271\n"
     ]
    }
   ],
   "source": [
    "from ood_with_vit.utils import compute_logits, compute_attention_maps\n",
    "\n",
    "class_name = 'bear'\n",
    "cls_idx = cifar100.class_to_idx[class_name]\n",
    "img_indices = np.where(np.array(cifar100.targets) == cls_idx)[0]\n",
    "img_idx = random.choice(img_indices)\n",
    "# img_idx = img_indices[i]\n",
    "\n",
    "print('index: ', img_idx)\n",
    "original_img = cifar100.data[img_idx]\n",
    "img, _ = cifar100[img_idx]\n",
    "img = img.to(device)\n",
    "\n",
    "attention_masking_hooker.switch_status('normal')\n",
    "ori_logits = compute_logits(config, model, img.unsqueeze(0))\n",
    "ori_attention_maps = compute_attention_maps(config, model, img.unsqueeze(0), attention_extractor)\n",
    "ori_max_logit, ori_pred = ori_logits.max(axis=1)\n",
    "\n",
    "print('visualize original image and attention map')\n",
    "# visualize_attention_map(\n",
    "#     original_img=cifar100.data[img_idx],\n",
    "#     attn_weights=ori_attention_maps,\n",
    "#     head_fusion=head_fusion,\n",
    "#     discard_ratio=discard_ratio,\n",
    "# )\n",
    "\n",
    "mask = attention_masking_hooker.generate_mask(img)\n",
    "print('visualize masked image')\n",
    "# visualize_attention_masking(\n",
    "#     original_img=cifar100.data[img_idx],\n",
    "#     mask=mask,\n",
    "# )\n",
    "\n",
    "attention_masking_hooker.switch_status('masking')\n",
    "mask_logits = compute_logits(config, model, img.unsqueeze(0))\n",
    "mask_attention_maps = compute_attention_maps(config, model, img.unsqueeze(0), attention_extractor)\n",
    "\n",
    "print('visualize masked image attention map')\n",
    "# visualize_attention_map(\n",
    "#     original_img=cifar100.data[img_idx],\n",
    "#     attn_weights=mask_attention_maps,\n",
    "#     head_fusion=head_fusion,\n",
    "#     discard_ratio=discard_ratio,\n",
    "# )\n",
    "mask_max_logit, mask_pred = mask_logits.max(axis=1)\n",
    "\n",
    "print(f'prediction before masking: {cifar10.classes[ori_pred.item()]}, {ori_max_logit.item():.4f}')\n",
    "print(f'prediction after masking: {cifar10.classes[mask_pred.item()]}, {mask_max_logit.item():.4f}')"
   ]
  },
  {
   "cell_type": "markdown",
   "metadata": {},
   "source": [
    "### Visualize features"
   ]
  },
  {
   "cell_type": "code",
   "execution_count": 16,
   "metadata": {},
   "outputs": [],
   "source": [
    "from sklearn.manifold import TSNE\n",
    "from sklearn.decomposition import PCA\n",
    "\n",
    "from ood_with_vit.utils import compute_penultimate_features\n",
    "from ood_with_vit.visualizer.feature_extractor import FeatureExtractor\n",
    "from ood_with_vit.mim.attention_masking import AttentionMaskingHooker"
   ]
  },
  {
   "cell_type": "code",
   "execution_count": 17,
   "metadata": {},
   "outputs": [
    {
     "name": "stderr",
     "output_type": "stream",
     "text": [
      "Using cache found in /home/simc/.cache/torch/hub/facebookresearch_deit_main\n"
     ]
    },
    {
     "name": "stdout",
     "output_type": "stream",
     "text": [
      "name: patch_embed.norm\n"
     ]
    }
   ],
   "source": [
    "model = initialize_vit_model(config)\n",
    "# add hooks for feature extraction\n",
    "feature_extractor = FeatureExtractor(\n",
    "    model=model,\n",
    "    layer_name=config.model.layer_name.penultimate,\n",
    ")\n",
    "\n",
    "attention_extractor = FeatureExtractor(\n",
    "    model=model,\n",
    "    layer_name=config.model.layer_name.attention,\n",
    ")\n",
    "\n",
    "mask_ratio = 0.2\n",
    "attention_masking_hooker = AttentionMaskingHooker(\n",
    "    config=config,\n",
    "    model=model,\n",
    "    attention_extractor=attention_extractor,\n",
    "    patch_embedding_layer_name='patch_embed.norm',\n",
    "    mask_ratio=mask_ratio,\n",
    ")\n",
    "attention_masking_hooker.hook()"
   ]
  },
  {
   "cell_type": "code",
   "execution_count": 21,
   "metadata": {},
   "outputs": [
    {
     "name": "stdout",
     "output_type": "stream",
     "text": [
      "processing cifar10 samples...\n"
     ]
    },
    {
     "name": "stderr",
     "output_type": "stream",
     "text": [
      "100%|██████████| 20/20 [00:00<00:00, 96.91it/s]\n",
      "100%|██████████| 20/20 [00:00<00:00, 105.53it/s]\n",
      "100%|██████████| 20/20 [00:00<00:00, 105.95it/s]\n",
      "100%|██████████| 20/20 [00:00<00:00, 106.87it/s]\n",
      "100%|██████████| 20/20 [00:00<00:00, 106.75it/s]\n",
      "100%|██████████| 20/20 [00:00<00:00, 104.99it/s]\n",
      "100%|██████████| 20/20 [00:00<00:00, 103.84it/s]\n",
      "100%|██████████| 20/20 [00:00<00:00, 101.57it/s]\n",
      "100%|██████████| 20/20 [00:00<00:00, 98.77it/s]\n",
      "100%|██████████| 20/20 [00:00<00:00, 95.76it/s]\n"
     ]
    },
    {
     "name": "stdout",
     "output_type": "stream",
     "text": [
      "processing cifar100 samples...\n"
     ]
    },
    {
     "name": "stderr",
     "output_type": "stream",
     "text": [
      "100%|██████████| 20/20 [00:00<00:00, 103.60it/s]\n",
      "100%|██████████| 20/20 [00:00<00:00, 103.51it/s]\n",
      "100%|██████████| 20/20 [00:00<00:00, 102.80it/s]\n",
      "100%|██████████| 20/20 [00:00<00:00, 102.74it/s]\n",
      "100%|██████████| 20/20 [00:00<00:00, 103.06it/s]\n",
      "100%|██████████| 20/20 [00:00<00:00, 103.60it/s]\n",
      "100%|██████████| 20/20 [00:00<00:00, 103.64it/s]\n",
      "100%|██████████| 20/20 [00:00<00:00, 103.71it/s]\n",
      "100%|██████████| 20/20 [00:00<00:00, 104.29it/s]\n",
      "100%|██████████| 20/20 [00:00<00:00, 102.01it/s]\n"
     ]
    },
    {
     "name": "stdout",
     "output_type": "stream",
     "text": [
      "processing svhn samples...\n"
     ]
    },
    {
     "name": "stderr",
     "output_type": "stream",
     "text": [
      "100%|██████████| 20/20 [00:00<00:00, 103.32it/s]\n",
      "100%|██████████| 20/20 [00:00<00:00, 103.28it/s]\n",
      "100%|██████████| 20/20 [00:00<00:00, 103.72it/s]\n",
      "100%|██████████| 20/20 [00:00<00:00, 103.83it/s]\n",
      "100%|██████████| 20/20 [00:00<00:00, 103.58it/s]\n",
      "100%|██████████| 20/20 [00:00<00:00, 103.95it/s]\n",
      "100%|██████████| 20/20 [00:00<00:00, 103.47it/s]\n",
      "100%|██████████| 20/20 [00:00<00:00, 103.34it/s]\n",
      "100%|██████████| 20/20 [00:00<00:00, 103.87it/s]\n",
      "100%|██████████| 20/20 [00:00<00:00, 103.06it/s]\n"
     ]
    }
   ],
   "source": [
    "# gather penultimate features\n",
    "set_seed(seed)\n",
    "num_samples = 20\n",
    "num_class = 10\n",
    "\n",
    "print('processing cifar10 samples...')\n",
    "X_cifar10, y_cifar10 = [], []\n",
    "cifar10_img_paths = []\n",
    "cls_indices = random.sample(range(len(cifar10.classes)), num_class)\n",
    "for cls_idx in cls_indices:\n",
    "    img_indices = np.where(np.array(cifar10.targets) == cls_idx)[0]\n",
    "    img_indices = random.sample(list(img_indices), num_samples)\n",
    "    for i in tqdm(img_indices):\n",
    "        img, _ = cifar10[i]\n",
    "        img = img.to(device)\n",
    "        penultimate_features = compute_penultimate_features(\n",
    "            config=config, \n",
    "            model=model, \n",
    "            imgs=img.unsqueeze(0),\n",
    "            feature_extractor=feature_extractor,    \n",
    "        )\n",
    "        X_cifar10.append(penultimate_features.squeeze().numpy())\n",
    "        y_cifar10.append((cls_idx, cifar10.classes[cls_idx]))\n",
    "        # CHW => HWC\n",
    "        original_img_path = f'./assets/cifar10}/test/{i:05d}.jpg'\n",
    "        original_img = cv2.imread(original_img_path)\n",
    "        mask = simmim.get_mask()\n",
    "        masked_img = apply_mask_on_img(original_img, mask)\n",
    "        masked_img_path = f'./assets/{id_dataset_name}/test/masked/{i:05d}.jpg'\n",
    "        cv2.imwrite(masked_img_path, masked_img)\n",
    "        cifar10_img_paths.append(masked_img_path)\n",
    "\n",
    "        # img_path = f'./assets/cifar10/test/{i:05d}.jpg'\n",
    "        # # img_path = f'/assets/cifar10/test/{i:05d}.jpg'\n",
    "        # cifar10_img_paths.append(img_path)\n",
    "        \n",
    "print('processing cifar100 samples...')\n",
    "X_cifar100, y_cifar100 = [], []\n",
    "cifar100_img_paths = []\n",
    "cls_indices = random.sample(range(len(cifar100.classes)), num_class)\n",
    "for cls_idx in cls_indices:\n",
    "    img_indices = np.where(np.array(cifar100.targets) == cls_idx)[0]\n",
    "    img_indices = random.sample(list(img_indices), num_samples)\n",
    "    for i in tqdm(img_indices):\n",
    "        img, _ = cifar100[i]\n",
    "        img = img.to(device)\n",
    "        penultimate_features = compute_penultimate_features(\n",
    "            config=config, \n",
    "            model=model, \n",
    "            imgs=img.unsqueeze(0),\n",
    "            feature_extractor=feature_extractor,    \n",
    "        )\n",
    "        X_cifar100.append(penultimate_features.squeeze().numpy())\n",
    "        y_cifar100.append((cls_idx, cifar100.classes[cls_idx]))\n",
    "        img_path = f'./assets/cifar100/test/{i:05d}.jpg'\n",
    "        # img_path = f'/assets/cifar100/test/{i:05d}.jpg'\n",
    "        cifar100_img_paths.append(img_path)\n",
    "\n",
    "print('processing svhn samples...')\n",
    "X_svhn, y_svhn = [], []\n",
    "svhn_img_paths = []\n",
    "cls_indices = random.sample(range(len(set(svhn.labels))), num_class)\n",
    "for cls_idx in cls_indices:\n",
    "    img_indices = np.where(np.array(svhn.labels) == cls_idx)[0]\n",
    "    img_indices = random.sample(list(img_indices), num_samples)\n",
    "    for i in tqdm(img_indices):\n",
    "        img, target = svhn[i]\n",
    "        img = img.to(device)\n",
    "        penultimate_features = compute_penultimate_features(\n",
    "            config=config, \n",
    "            model=model, \n",
    "            imgs=img.unsqueeze(0),\n",
    "            feature_extractor=feature_extractor,    \n",
    "        )\n",
    "        X_svhn.append(penultimate_features.squeeze().numpy())\n",
    "        y_svhn.append(str(cls_idx))\n",
    "        img_path = f'./assets/svhn/test/{i:05d}.jpg'\n",
    "        # img_path = f'/assets/svhn/test/{i:05d}.jpg'\n",
    "        svhn_img_paths.append(img_path)"
   ]
  },
  {
   "cell_type": "markdown",
   "metadata": {},
   "source": [
    "#### Feature visualization by T-SNE"
   ]
  },
  {
   "cell_type": "code",
   "execution_count": 23,
   "metadata": {},
   "outputs": [],
   "source": [
    "from ipywidgets import HTML, VBox\n",
    "\n",
    "def interactive_plot(partitioned_info, fig, img_width=240, event=\"click\") :\n",
    "    \"\"\"\n",
    "    Make a plot react on hover or click of a data point and update a HTML preview below it.    \n",
    "    \"\"\"\n",
    "    html = HTML(\"\")\n",
    "    fig = go.FigureWidget(data=fig.data, layout=fig.layout)\n",
    "\n",
    "    if event == \"hover\" :\n",
    "        for data in fig.data:\n",
    "            def update(trace, points, state):\n",
    "                if len(points.point_inds) == 0:\n",
    "                    return\n",
    "                trace_idx, point_idx = points.trace_index, points.point_inds[0]\n",
    "                df_row = partitioned_info[trace_idx].iloc[point_idx]\n",
    "                img_url = df_row['img']\n",
    "                label = df_row['label']\n",
    "                html.value = f'\\\n",
    "                    <body>\\\n",
    "                        <img src=\"{img_url}\" width=\"{img_width}\"><br>\\\n",
    "                        <b>Image: {img_url}</b><br>\\\n",
    "                        <b>Label: {label}</b>\\\n",
    "                    </body>'\n",
    "            data.on_hover(update)\n",
    "    else :\n",
    "        for data in fig.data:\n",
    "            def update(trace, points, state):\n",
    "                if len(points.point_inds) == 0:\n",
    "                    return\n",
    "                trace_idx, point_idx = points.trace_index, points.point_inds[0]\n",
    "                df_row = partitioned_info[trace_idx].iloc[point_idx]\n",
    "                img_url = df_row['img']\n",
    "                label = df_row['label']\n",
    "                html.value = f'\\\n",
    "                    <body>\\\n",
    "                        <img src=\"{img_url}\" width=\"{img_width}\"><br>\\\n",
    "                        <b>Image: {img_url}</b><br>\\\n",
    "                        <b>Label: {label}</b>\\\n",
    "                    </body>'\n",
    "            data.on_click(update)\n",
    "\n",
    "    return VBox([fig, html])"
   ]
  },
  {
   "cell_type": "code",
   "execution_count": 33,
   "metadata": {},
   "outputs": [
    {
     "name": "stderr",
     "output_type": "stream",
     "text": [
      "/usr/local/lib/python3.9/site-packages/sklearn/manifold/_t_sne.py:780: FutureWarning:\n",
      "\n",
      "The default initialization in TSNE will change from 'random' to 'pca' in 1.2.\n",
      "\n",
      "/usr/local/lib/python3.9/site-packages/sklearn/manifold/_t_sne.py:790: FutureWarning:\n",
      "\n",
      "The default learning rate in TSNE will change from 200.0 to 'auto' in 1.2.\n",
      "\n"
     ]
    },
    {
     "data": {
      "application/vnd.jupyter.widget-view+json": {
       "model_id": "146b67193cab45ad9749e0dd3230a74a",
       "version_major": 2,
       "version_minor": 0
      },
      "text/plain": [
       "VBox(children=(FigureWidget({\n",
       "    'data': [{'customdata': array([['./assets/cifar10/test/02852.jpg'],\n",
       "        …"
      ]
     },
     "metadata": {},
     "output_type": "display_data"
    }
   ],
   "source": [
    "tsne = TSNE(n_components=2, random_state=seed)\n",
    "X_tsne = tsne.fit_transform(X_cifar10)\n",
    "\n",
    "df_embed = pd.DataFrame(X_tsne)\n",
    "df_embed = df_embed.rename(columns={0: 'x', 1: 'y'})\n",
    "df_embed = df_embed.assign(label=y_cifar10)\n",
    "df_embed = df_embed.assign(img=cifar10_img_paths)\n",
    "\n",
    "partitioned_info, processed_labels = [], []\n",
    "for label in y_cifar10:\n",
    "    if label not in processed_labels:\n",
    "        processed_labels.append(label)\n",
    "        partitioned_info.append(df_embed.where(df_embed['label'] == label).dropna())\n",
    "    \n",
    "fig = px.scatter(\n",
    "    df_embed,\n",
    "    x='x',\n",
    "    y='y',\n",
    "    color='label',\n",
    "    labels={'label': 'class'},\n",
    "    hover_data=['img'],\n",
    "    title='ImageNet pretrained ViT CIFAR10 T-SNE',\n",
    ")\n",
    "interactive_plot(partitioned_info, fig, event='click')"
   ]
  },
  {
   "cell_type": "code",
   "execution_count": 34,
   "metadata": {},
   "outputs": [
    {
     "name": "stderr",
     "output_type": "stream",
     "text": [
      "/usr/local/lib/python3.9/site-packages/sklearn/manifold/_t_sne.py:780: FutureWarning:\n",
      "\n",
      "The default initialization in TSNE will change from 'random' to 'pca' in 1.2.\n",
      "\n",
      "/usr/local/lib/python3.9/site-packages/sklearn/manifold/_t_sne.py:790: FutureWarning:\n",
      "\n",
      "The default learning rate in TSNE will change from 200.0 to 'auto' in 1.2.\n",
      "\n"
     ]
    },
    {
     "data": {
      "application/vnd.jupyter.widget-view+json": {
       "model_id": "5c3da8c9b45a4b3db82661c20abe7468",
       "version_major": 2,
       "version_minor": 0
      },
      "text/plain": [
       "VBox(children=(FigureWidget({\n",
       "    'data': [{'customdata': array([['./assets/cifar100/test/03989.jpg'],\n",
       "       …"
      ]
     },
     "metadata": {},
     "output_type": "display_data"
    }
   ],
   "source": [
    "tsne = TSNE(n_components=2, random_state=seed)\n",
    "X_tsne = tsne.fit_transform(X_cifar100)\n",
    "\n",
    "df_embed = pd.DataFrame(X_tsne)\n",
    "df_embed = df_embed.rename(columns={0: 'x', 1: 'y'})\n",
    "df_embed = df_embed.assign(label=y_cifar100)\n",
    "df_embed = df_embed.assign(img=cifar100_img_paths)\n",
    "\n",
    "partitioned_info, processed_labels = [], []\n",
    "for label in y_cifar100:\n",
    "    if label not in processed_labels:\n",
    "        processed_labels.append(label)\n",
    "        partitioned_info.append(df_embed.where(df_embed['label'] == label).dropna())\n",
    "\n",
    "fig = px.scatter(\n",
    "    df_embed,\n",
    "    x='x',\n",
    "    y='y',\n",
    "    color='label',\n",
    "    labels={'label': 'class'},\n",
    "    hover_data=['img'],\n",
    "    title='ImageNet pretrained ViT CIFAR100 T-SNE',\n",
    ")\n",
    "interactive_plot(partitioned_info, fig, event='click')"
   ]
  },
  {
   "cell_type": "code",
   "execution_count": 35,
   "metadata": {},
   "outputs": [
    {
     "name": "stderr",
     "output_type": "stream",
     "text": [
      "/usr/local/lib/python3.9/site-packages/sklearn/manifold/_t_sne.py:780: FutureWarning:\n",
      "\n",
      "The default initialization in TSNE will change from 'random' to 'pca' in 1.2.\n",
      "\n",
      "/usr/local/lib/python3.9/site-packages/sklearn/manifold/_t_sne.py:790: FutureWarning:\n",
      "\n",
      "The default learning rate in TSNE will change from 200.0 to 'auto' in 1.2.\n",
      "\n"
     ]
    },
    {
     "data": {
      "application/vnd.jupyter.widget-view+json": {
       "model_id": "7ad1346702214ce9af1510b7e20df62c",
       "version_major": 2,
       "version_minor": 0
      },
      "text/plain": [
       "VBox(children=(FigureWidget({\n",
       "    'data': [{'customdata': array([['./assets/svhn/test/06430.jpg'],\n",
       "           …"
      ]
     },
     "metadata": {},
     "output_type": "display_data"
    }
   ],
   "source": [
    "tsne = TSNE(n_components=2, random_state=seed)\n",
    "X_tsne = tsne.fit_transform(X_svhn)\n",
    "\n",
    "df_embed = pd.DataFrame(X_tsne)\n",
    "df_embed = df_embed.rename(columns={0: 'x', 1: 'y'})\n",
    "df_embed = df_embed.assign(label=y_svhn)\n",
    "df_embed = df_embed.assign(img=svhn_img_paths)\n",
    "\n",
    "partitioned_info, processed_labels = [], []\n",
    "for label in y_svhn:\n",
    "    if label not in processed_labels:\n",
    "        processed_labels.append(label)\n",
    "        partitioned_info.append(df_embed.where(df_embed['label'] == label).dropna())\n",
    "    \n",
    "fig = px.scatter(\n",
    "    df_embed,\n",
    "    x='x',\n",
    "    y='y',\n",
    "    color='label',\n",
    "    labels={'label': 'class'},\n",
    "    hover_data=['img'],\n",
    "    title='ImageNet pretrained ViT SVHN T-SNE',\n",
    ")\n",
    "interactive_plot(partitioned_info, fig, event='click')"
   ]
  },
  {
   "cell_type": "code",
   "execution_count": 25,
   "metadata": {},
   "outputs": [
    {
     "name": "stderr",
     "output_type": "stream",
     "text": [
      "/usr/local/lib/python3.9/site-packages/sklearn/manifold/_t_sne.py:780: FutureWarning:\n",
      "\n",
      "The default initialization in TSNE will change from 'random' to 'pca' in 1.2.\n",
      "\n",
      "/usr/local/lib/python3.9/site-packages/sklearn/manifold/_t_sne.py:790: FutureWarning:\n",
      "\n",
      "The default learning rate in TSNE will change from 200.0 to 'auto' in 1.2.\n",
      "\n"
     ]
    },
    {
     "data": {
      "application/vnd.jupyter.widget-view+json": {
       "model_id": "1831ce45e93c489f93814adbcfc80bbf",
       "version_major": 2,
       "version_minor": 0
      },
      "text/plain": [
       "VBox(children=(FigureWidget({\n",
       "    'data': [{'customdata': array([['./assets/cifar10/test/05878.jpg'],\n",
       "        …"
      ]
     },
     "metadata": {},
     "output_type": "display_data"
    }
   ],
   "source": [
    "y_svhn = ['svhn' for _ in y_svhn]\n",
    "X_all = X_cifar10 + X_svhn\n",
    "y_all = y_cifar10 + y_svhn\n",
    "img_all = cifar10_img_paths + svhn_img_paths\n",
    "tsne = TSNE(n_components=2, random_state=seed)\n",
    "X_tsne = tsne.fit_transform(X_all)\n",
    "n_samples = int(X_tsne.shape[0] / 2)\n",
    "X_tsne_cifar10, X_tsne_svhn = X_tsne[:n_samples, :], X_tsne[n_samples:, :]\n",
    "\n",
    "df_embed = pd.DataFrame(X_tsne)\n",
    "df_embed = df_embed.rename(columns={0: 'x', 1: 'y'})\n",
    "df_embed = df_embed.assign(label=y_all)\n",
    "df_embed = df_embed.assign(img=img_all)\n",
    "\n",
    "partitioned_info, processed_labels = [], []\n",
    "for label in y_all:\n",
    "    if label not in processed_labels:\n",
    "        processed_labels.append(label)\n",
    "        partitioned_info.append(df_embed.where(df_embed['label'] == label).dropna())\n",
    "    \n",
    "fig = px.scatter(\n",
    "    df_embed,\n",
    "    x='x',\n",
    "    y='y',\n",
    "    color='label',\n",
    "    labels={'label': 'class'},\n",
    "    hover_data=['img'],\n",
    "    title='ImageNet pretrained ViT CIFAR10, SVHN T-SNE',\n",
    ")\n",
    "interactive_plot(partitioned_info, fig, 64, event='click')"
   ]
  },
  {
   "cell_type": "markdown",
   "metadata": {},
   "source": [
    "#### Feature visualization by PCA"
   ]
  },
  {
   "cell_type": "code",
   "execution_count": 23,
   "metadata": {},
   "outputs": [
    {
     "data": {
      "application/vnd.jupyter.widget-view+json": {
       "model_id": "52d4baa4ad5f4b1ab276290c92929e4a",
       "version_major": 2,
       "version_minor": 0
      },
      "text/plain": [
       "VBox(children=(FigureWidget({\n",
       "    'data': [{'customdata': array([['./assets/cifar10/test/47795.jpg'],\n",
       "        …"
      ]
     },
     "metadata": {},
     "output_type": "display_data"
    }
   ],
   "source": [
    "pca = PCA()\n",
    "components = pca.fit_transform(X_cifar10)\n",
    "\n",
    "df_embed = pd.DataFrame(components)\n",
    "df_embed = df_embed.rename(columns={0: 'x', 1: 'y'})\n",
    "df_embed = df_embed.assign(label=y_cifar10)\n",
    "df_embed = df_embed.assign(img=cifar10_img_paths)\n",
    "\n",
    "partitioned_info, processed_labels = [], []\n",
    "for label in y_cifar10:\n",
    "    if label not in processed_labels:\n",
    "        processed_labels.append(label)\n",
    "        partitioned_info.append(df_embed.where(df_embed['label'] == label).dropna())\n",
    "        \n",
    "fig = px.scatter(\n",
    "    df_embed,\n",
    "    x='x',\n",
    "    y='y',\n",
    "    color='label',\n",
    "    labels={'label': 'class'},\n",
    "    hover_data=['img'],\n",
    "    title='ImageNet pretrained ViT CIFAR10 PCA',\n",
    ")\n",
    "interactive_plot(partitioned_info, fig, event='click')"
   ]
  },
  {
   "cell_type": "code",
   "execution_count": 17,
   "metadata": {},
   "outputs": [
    {
     "data": {
      "application/vnd.jupyter.widget-view+json": {
       "model_id": "4bb7cbba2dee49b488f95002d033d530",
       "version_major": 2,
       "version_minor": 0
      },
      "text/plain": [
       "VBox(children=(FigureWidget({\n",
       "    'data': [{'customdata': array([['./assets/cifar100/test/07143.jpg'],\n",
       "       …"
      ]
     },
     "metadata": {},
     "output_type": "display_data"
    }
   ],
   "source": [
    "pca = PCA()\n",
    "components = pca.fit_transform(X_cifar100)\n",
    "\n",
    "df_embed = pd.DataFrame(components)\n",
    "df_embed = df_embed.rename(columns={0: 'x', 1: 'y'})\n",
    "df_embed = df_embed.assign(label=y_cifar100)\n",
    "df_embed = df_embed.assign(img=cifar100_img_paths)\n",
    "\n",
    "partitioned_info, processed_labels = [], []\n",
    "for label in y_cifar100:\n",
    "    if label not in processed_labels:\n",
    "        processed_labels.append(label)\n",
    "        partitioned_info.append(df_embed.where(df_embed['label'] == label).dropna())\n",
    "        \n",
    "fig = px.scatter(\n",
    "    df_embed,\n",
    "    x='x',\n",
    "    y='y',\n",
    "    color='label',\n",
    "    labels={'label': 'class'},\n",
    "    hover_data=['img'],\n",
    "    title='ImageNet pretrained ViT CIFAR100 PCA',\n",
    ")\n",
    "interactive_plot(partitioned_info, fig, event='click')"
   ]
  },
  {
   "cell_type": "code",
   "execution_count": 18,
   "metadata": {},
   "outputs": [
    {
     "data": {
      "application/vnd.jupyter.widget-view+json": {
       "model_id": "462e691c20ac448faf0b2fe599331604",
       "version_major": 2,
       "version_minor": 0
      },
      "text/plain": [
       "VBox(children=(FigureWidget({\n",
       "    'data': [{'customdata': array([['./assets/svhn/test/23880.jpg'],\n",
       "           …"
      ]
     },
     "metadata": {},
     "output_type": "display_data"
    }
   ],
   "source": [
    "pca = PCA()\n",
    "components = pca.fit_transform(X_svhn)\n",
    "\n",
    "df_embed = pd.DataFrame(components)\n",
    "df_embed = df_embed.rename(columns={0: 'x', 1: 'y'})\n",
    "df_embed = df_embed.assign(label=y_svhn)\n",
    "df_embed = df_embed.assign(img=svhn_img_paths)\n",
    "\n",
    "partitioned_info, processed_labels = [], []\n",
    "for label in y_svhn:\n",
    "    if label not in processed_labels:\n",
    "        processed_labels.append(label)\n",
    "        partitioned_info.append(df_embed.where(df_embed['label'] == label).dropna())\n",
    "        \n",
    "fig = px.scatter(\n",
    "    df_embed,\n",
    "    x='x',\n",
    "    y='y',\n",
    "    color='label',\n",
    "    labels={'label': 'class'},\n",
    "    hover_data=['img'],\n",
    "    title='ImageNet pretrained ViT SVHN PCA',\n",
    ")\n",
    "interactive_plot(partitioned_info, fig, event='click')"
   ]
  },
  {
   "cell_type": "code",
   "execution_count": 34,
   "metadata": {},
   "outputs": [
    {
     "data": {
      "application/vnd.jupyter.widget-view+json": {
       "model_id": "c5ae96b443534f10a5a17774e0a19b41",
       "version_major": 2,
       "version_minor": 0
      },
      "text/plain": [
       "VBox(children=(FigureWidget({\n",
       "    'data': [{'hovertemplate': \"class=(4, 'deer')<br>x=%{x}<br>y=%{y}<extra></ex…"
      ]
     },
     "metadata": {},
     "output_type": "display_data"
    }
   ],
   "source": [
    "X_all = X_cifar10 + X_svhn\n",
    "y_all = y_cifar10 + y_svhn\n",
    "img_all = cifar10_img_paths + svhn_img_paths\n",
    "pca = PCA()\n",
    "components = pca.fit_transform(X_all)\n",
    "\n",
    "df_embed = pd.DataFrame(components)\n",
    "df_embed = df_embed.rename(columns={0: 'x', 1: 'y'})\n",
    "df_embed = df_embed.assign(label=y_all)\n",
    "df_embed = df_embed.assign(img=img_all)\n",
    "\n",
    "partitioned_info, processed_labels = [], []\n",
    "for label in y_all:\n",
    "    if label not in processed_labels:\n",
    "        processed_labels.append(label)\n",
    "        partitioned_info.append(df_embed.where(df_embed['label'] == label).dropna())\n",
    "    \n",
    "fig = px.scatter(\n",
    "    df_embed,\n",
    "    x='x',\n",
    "    y='y',\n",
    "    color='label',\n",
    "    labels={'label': 'class'},\n",
    "    # hover_data=['img'],\n",
    "    title='ImageNet pretrained ViT CIFAR10, SVHN PCA',\n",
    ")\n",
    "interactive_plot(partitioned_info, fig, event='click')"
   ]
  },
  {
   "cell_type": "code",
   "execution_count": 93,
   "metadata": {},
   "outputs": [
    {
     "data": {
      "application/vnd.jupyter.widget-view+json": {
       "model_id": "7847621dd57f44d7a06564a483c82e52",
       "version_major": 2,
       "version_minor": 0
      },
      "text/plain": [
       "VBox(children=(FigureWidget({\n",
       "    'data': [{'customdata': array([['./assets/cifar100/test/04630.jpg'],\n",
       "       …"
      ]
     },
     "metadata": {},
     "output_type": "display_data"
    }
   ],
   "source": [
    "X_all = X_cifar100 + X_svhn\n",
    "y_all = y_cifar100 + y_svhn\n",
    "img_all = cifar100_img_paths + svhn_img_paths\n",
    "pca = PCA()\n",
    "components = pca.fit_transform(X_all)\n",
    "\n",
    "df_embed = pd.DataFrame(components)\n",
    "df_embed = df_embed.rename(columns={0: 'x', 1: 'y'})\n",
    "df_embed = df_embed.assign(label=y_all)\n",
    "df_embed = df_embed.assign(img=img_all)\n",
    "\n",
    "partitioned_info, processed_labels = [], []\n",
    "for label in y_all:\n",
    "    if label not in processed_labels:\n",
    "        processed_labels.append(label)\n",
    "        partitioned_info.append(df_embed.where(df_embed['label'] == label).dropna())\n",
    "    \n",
    "fig = px.scatter(\n",
    "    df_embed,\n",
    "    x='x',\n",
    "    y='y',\n",
    "    color='label',\n",
    "    labels={'label': 'class'},\n",
    "    hover_data=['img'],\n",
    "    title='ImageNet pretrained ViT CIFAR10, SVHN T-SNE',\n",
    ")\n",
    "interactive_plot(partitioned_info, fig, event='click')"
   ]
  },
  {
   "cell_type": "markdown",
   "metadata": {},
   "source": [
    "### OOD detection baselines"
   ]
  },
  {
   "cell_type": "code",
   "execution_count": 7,
   "metadata": {},
   "outputs": [],
   "source": [
    "from ood_with_vit.utils import compute_ood_scores\n",
    "from ood_with_vit.utils.ood_metrics import auroc, aupr, fpr_at_95_tpr\n",
    "from ood_with_vit.utils.visualization import plot_roc_curve, plot_precision_recall_curve"
   ]
  },
  {
   "cell_type": "markdown",
   "metadata": {},
   "source": [
    "### OOD detection by Mahalanobis"
   ]
  },
  {
   "cell_type": "markdown",
   "metadata": {},
   "source": [
    "#### CIFAR10 vs. CIFAR100"
   ]
  },
  {
   "cell_type": "code",
   "execution_count": 72,
   "metadata": {},
   "outputs": [],
   "source": [
    "# create ConfigDict from config yaml file\n",
    "import yaml\n",
    "from ml_collections import config_dict\n",
    "\n",
    "config_path = Path('configs') / 'deit_tiny-pretrained-cifar10.yaml'\n",
    "with config_path.open('r') as f:\n",
    "    config = yaml.safe_load(f)\n",
    "    config = config_dict.ConfigDict(config)"
   ]
  },
  {
   "cell_type": "code",
   "execution_count": 73,
   "metadata": {},
   "outputs": [
    {
     "name": "stderr",
     "output_type": "stream",
     "text": [
      "Using cache found in /home/simc/.cache/torch/hub/facebookresearch_deit_main\n",
      "100%|██████████| 98/98 [00:24<00:00,  3.97it/s]\n"
     ]
    },
    {
     "name": "stdout",
     "output_type": "stream",
     "text": [
      "covairance norms: [35.333, 56.15467, 24.710087, 24.760406, 39.9555, 33.052032, 34.579536, 37.751755, 43.906643, 69.12952]\n",
      "covariance norm: 20.314365237275208\n"
     ]
    }
   ],
   "source": [
    "from ood_with_vit.metrics.mahalanobis import Mahalanobis\n",
    "\n",
    "transform_test = transforms.Compose([\n",
    "    transforms.Resize(img_size),\n",
    "    transforms.ToTensor(),\n",
    "    transforms.Normalize(dataset_mean, dataset_std),\n",
    "])      \n",
    "cifar10 = CIFAR10(\n",
    "    root=dataset_root, \n",
    "    train=True, \n",
    "    download=False, \n",
    "    transform=transform_test\n",
    ")\n",
    "cifar10_train_dataloader = DataLoader(\n",
    "    dataset=cifar10, \n",
    "    batch_size=config.train.batch_size, \n",
    "    shuffle=False, \n",
    "    num_workers=8\n",
    ")\n",
    "\n",
    "model = initialize_vit_model(config)\n",
    "feature_extractor = FeatureExtractor(\n",
    "    model=model,\n",
    "    layer_name=config.model.layer_name.penultimate,\n",
    ")\n",
    "mahalanobis = Mahalanobis(config, model, cifar10_train_dataloader, feature_extractor)"
   ]
  },
  {
   "cell_type": "code",
   "execution_count": 78,
   "metadata": {},
   "outputs": [
    {
     "name": "stdout",
     "output_type": "stream",
     "text": [
      "processing in-distribution samples...\n"
     ]
    },
    {
     "name": "stderr",
     "output_type": "stream",
     "text": [
      "100%|██████████| 100/100 [00:06<00:00, 14.58it/s]\n"
     ]
    },
    {
     "name": "stdout",
     "output_type": "stream",
     "text": [
      "processing out-of-distribution samples...\n"
     ]
    },
    {
     "name": "stderr",
     "output_type": "stream",
     "text": [
      "100%|██████████| 100/100 [00:06<00:00, 14.93it/s]"
     ]
    },
    {
     "name": "stdout",
     "output_type": "stream",
     "text": [
      "id mean score: 185.77126 id variance: 5098.766\n",
      "ood mean score: 296.23566 ood variance: 13700.672\n"
     ]
    },
    {
     "name": "stderr",
     "output_type": "stream",
     "text": [
      "\n"
     ]
    }
   ],
   "source": [
    "test_y, ood_scores, id_ood_scores, ood_ood_scores = compute_ood_scores(\n",
    "    metric=mahalanobis,\n",
    "    in_dist_dataloader=cifar10_test_dataloader,\n",
    "    out_of_dist_dataloader=cifar100_test_dataloader,\n",
    ")\n",
    "print('id mean score:', np.mean(id_ood_scores), 'id variance:', np.var(id_ood_scores))\n",
    "print('ood mean score:', np.mean(ood_ood_scores), 'ood variance:', np.var(ood_ood_scores))"
   ]
  },
  {
   "cell_type": "code",
   "execution_count": 79,
   "metadata": {},
   "outputs": [
    {
     "data": {
      "image/png": "[encoded data removed]",
      "text/plain": [
       "<Figure size 432x288 with 1 Axes>"
      ]
     },
     "metadata": {
      "needs_background": "light"
     },
     "output_type": "display_data"
    },
    {
     "name": "stdout",
     "output_type": "stream",
     "text": [
      "Mahalanobis AUROC score: 0.793445925\n"
     ]
    }
   ],
   "source": [
    "fpr, tpr, auroc_score = auroc(test_y, ood_scores)\n",
    "\n",
    "plot_roc_curve(fpr, tpr)\n",
    "print('Mahalanobis AUROC score:', auroc_score)"
   ]
  },
  {
   "cell_type": "code",
   "execution_count": 80,
   "metadata": {},
   "outputs": [
    {
     "data": {
      "image/png": "[encoded data removed]",
      "text/plain": [
       "<Figure size 432x288 with 1 Axes>"
      ]
     },
     "metadata": {
      "needs_background": "light"
     },
     "output_type": "display_data"
    },
    {
     "name": "stdout",
     "output_type": "stream",
     "text": [
      "Mahalanobis AUPR score: 0.8042694946122347\n"
     ]
    }
   ],
   "source": [
    "precision, recall, aupr_score = aupr(test_y, ood_scores)\n",
    "\n",
    "plot_precision_recall_curve(precision, recall)\n",
    "print('Mahalanobis AUPR score:', aupr_score)"
   ]
  },
  {
   "cell_type": "code",
   "execution_count": 81,
   "metadata": {},
   "outputs": [
    {
     "name": "stdout",
     "output_type": "stream",
     "text": [
      "Mahalanobis fpr95 score: 0.7116\n"
     ]
    }
   ],
   "source": [
    "fpr95 = fpr_at_95_tpr(test_y, ood_scores)\n",
    "print('Mahalanobis fpr95 score:', fpr95)"
   ]
  },
  {
   "cell_type": "markdown",
   "metadata": {},
   "source": [
    "#### CIFAR100 vs. CIFAR10"
   ]
  },
  {
   "cell_type": "code",
   "execution_count": 82,
   "metadata": {},
   "outputs": [],
   "source": [
    "# create ConfigDict from config yaml file\n",
    "import yaml\n",
    "from ml_collections import config_dict\n",
    "\n",
    "config_path = Path('configs') / 'deit_tiny-pretrained-cifar100.yaml'\n",
    "with config_path.open('r') as f:\n",
    "    config = yaml.safe_load(f)\n",
    "    config = config_dict.ConfigDict(config)"
   ]
  },
  {
   "cell_type": "code",
   "execution_count": 83,
   "metadata": {},
   "outputs": [
    {
     "name": "stderr",
     "output_type": "stream",
     "text": [
      "Using cache found in /home/simc/.cache/torch/hub/facebookresearch_deit_main\n",
      "100%|██████████| 98/98 [00:24<00:00,  3.99it/s]\n"
     ]
    },
    {
     "name": "stdout",
     "output_type": "stream",
     "text": [
      "covairance norms: [263.46378, 77.92307, 62.325638, 80.66709, 75.18534, 100.40797, 66.52207, 70.2855, 67.92541, 131.20055, 72.79468, 67.23096, 94.89134, 131.36543, 52.57952, 68.92815, 108.78612, 156.35555, 66.387245, 76.153435, 186.54181, 92.1108, 116.830666, 200.74992, 104.38893, 76.71766, 56.18107, 72.12981, 113.84088, 65.256004, 110.993095, 112.384674, 47.549763, 142.16095, 106.667244, 64.68393, 77.938354, 140.21097, 84.57663, 141.1265, 86.61233, 136.75073, 84.28827, 108.02133, 53.766808, 52.737347, 69.79799, 181.3637, 102.13129, 159.1394, 52.997185, 76.635635, 310.8027, 237.88107, 91.407074, 57.405407, 108.757965, 91.88912, 135.49464, 150.76845, 203.73753, 135.37445, 93.17572, 79.47289, 59.076694, 58.19088, 54.70186, 70.325676, 101.08861, 110.29933, 89.110725, 157.89583, 53.995583, 88.88261, 72.54234, 112.906395, 84.69865, 60.59433, 66.72352, 67.59271, 68.5114, 120.50207, 88.786995, 108.55526, 70.414055, 76.757904, 144.27342, 125.93828, 71.104095, 90.18949, 85.55628, 59.082256, 84.97329, 63.88701, 172.62997, 116.16797, 184.04216, 92.89649, 67.44909, 111.20053]\n",
      "covariance norm: 17.99201274070443\n"
     ]
    }
   ],
   "source": [
    "from ood_with_vit.metrics.mahalanobis import Mahalanobis\n",
    "\n",
    "transform_test = transforms.Compose([\n",
    "    transforms.Resize(img_size),\n",
    "    transforms.ToTensor(),\n",
    "    transforms.Normalize(dataset_mean, dataset_std),\n",
    "])      \n",
    "cifar100 = CIFAR100(\n",
    "    root=dataset_root, \n",
    "    train=True, \n",
    "    download=False, \n",
    "    transform=transform_test\n",
    ")\n",
    "cifar100_train_dataloader = DataLoader(\n",
    "    dataset=cifar100, \n",
    "    batch_size=config.train.batch_size, \n",
    "    shuffle=False, \n",
    "    num_workers=8\n",
    ")\n",
    "\n",
    "model = initialize_vit_model(config)\n",
    "feature_extractor = FeatureExtractor(\n",
    "    model=model,\n",
    "    layer_name=config.model.layer_name.penultimate,\n",
    ")\n",
    "mahalanobis = Mahalanobis(config, model, cifar100_train_dataloader, feature_extractor)"
   ]
  },
  {
   "cell_type": "code",
   "execution_count": 84,
   "metadata": {},
   "outputs": [
    {
     "name": "stdout",
     "output_type": "stream",
     "text": [
      "processing in-distribution samples...\n"
     ]
    },
    {
     "name": "stderr",
     "output_type": "stream",
     "text": [
      "100%|██████████| 100/100 [00:08<00:00, 12.16it/s]\n"
     ]
    },
    {
     "name": "stdout",
     "output_type": "stream",
     "text": [
      "processing out-of-distribution samples...\n"
     ]
    },
    {
     "name": "stderr",
     "output_type": "stream",
     "text": [
      "100%|██████████| 100/100 [00:07<00:00, 13.54it/s]\n"
     ]
    },
    {
     "name": "stdout",
     "output_type": "stream",
     "text": [
      "id mean score: 282.28717 id variance: 13077.243\n",
      "ood mean score: 362.8451 ood variance: 16439.283\n"
     ]
    }
   ],
   "source": [
    "test_y, ood_scores, id_ood_scores, ood_ood_scores = compute_ood_scores(\n",
    "    metric=mahalanobis,\n",
    "    in_dist_dataloader=cifar100_test_dataloader,\n",
    "    out_of_dist_dataloader=cifar10_test_dataloader,\n",
    ")\n",
    "print('id mean score:', np.mean(id_ood_scores), 'id variance:', np.var(id_ood_scores))\n",
    "print('ood mean score:', np.mean(ood_ood_scores), 'ood variance:', np.var(ood_ood_scores))"
   ]
  },
  {
   "cell_type": "code",
   "execution_count": 85,
   "metadata": {},
   "outputs": [
    {
     "data": {
      "image/png": "[encoded data removed]",
      "text/plain": [
       "<Figure size 432x288 with 1 Axes>"
      ]
     },
     "metadata": {
      "needs_background": "light"
     },
     "output_type": "display_data"
    },
    {
     "name": "stdout",
     "output_type": "stream",
     "text": [
      "Mahalanobis AUROC score: 0.684721245\n"
     ]
    }
   ],
   "source": [
    "fpr, tpr, auroc_score = auroc(test_y, ood_scores)\n",
    "\n",
    "plot_roc_curve(fpr, tpr)\n",
    "print('Mahalanobis AUROC score:', auroc_score)"
   ]
  },
  {
   "cell_type": "code",
   "execution_count": 86,
   "metadata": {},
   "outputs": [
    {
     "data": {
      "image/png": "[encoded data removed]",
      "text/plain": [
       "<Figure size 432x288 with 1 Axes>"
      ]
     },
     "metadata": {
      "needs_background": "light"
     },
     "output_type": "display_data"
    },
    {
     "name": "stdout",
     "output_type": "stream",
     "text": [
      "Mahalanobis AUPR score: 0.6653673709559564\n"
     ]
    }
   ],
   "source": [
    "precision, recall, aupr_score = aupr(test_y, ood_scores)\n",
    "\n",
    "plot_precision_recall_curve(precision, recall)\n",
    "print('Mahalanobis AUPR score:', aupr_score)"
   ]
  },
  {
   "cell_type": "code",
   "execution_count": 87,
   "metadata": {},
   "outputs": [
    {
     "name": "stdout",
     "output_type": "stream",
     "text": [
      "Mahalanobis fpr95 score: 0.801\n"
     ]
    }
   ],
   "source": [
    "fpr95 = fpr_at_95_tpr(test_y, ood_scores)\n",
    "print('Mahalanobis fpr95 score:', fpr95)"
   ]
  },
  {
   "cell_type": "markdown",
   "metadata": {},
   "source": [
    "#### CIFAR10 vs. SVHN"
   ]
  },
  {
   "cell_type": "code",
   "execution_count": 89,
   "metadata": {},
   "outputs": [],
   "source": [
    "# create ConfigDict from config yaml file\n",
    "import yaml\n",
    "from ml_collections import config_dict\n",
    "\n",
    "config_path = Path('configs') / 'deit_tiny-pretrained-cifar10.yaml'\n",
    "with config_path.open('r') as f:\n",
    "    config = yaml.safe_load(f)\n",
    "    config = config_dict.ConfigDict(config)"
   ]
  },
  {
   "cell_type": "code",
   "execution_count": 90,
   "metadata": {},
   "outputs": [
    {
     "name": "stderr",
     "output_type": "stream",
     "text": [
      "Using cache found in /home/simc/.cache/torch/hub/facebookresearch_deit_main\n",
      "100%|██████████| 98/98 [00:24<00:00,  4.01it/s]\n"
     ]
    },
    {
     "name": "stdout",
     "output_type": "stream",
     "text": [
      "covairance norms: [35.333, 56.15467, 24.710087, 24.760406, 39.9555, 33.052032, 34.579536, 37.751755, 43.906643, 69.12952]\n",
      "covariance norm: 20.314365237275208\n"
     ]
    }
   ],
   "source": [
    "from ood_with_vit.metrics.mahalanobis import Mahalanobis\n",
    "\n",
    "transform_test = transforms.Compose([\n",
    "    transforms.Resize(img_size),\n",
    "    transforms.ToTensor(),\n",
    "    transforms.Normalize(dataset_mean, dataset_std),\n",
    "])      \n",
    "cifar10_train = CIFAR10(\n",
    "    root=dataset_root, \n",
    "    train=True, \n",
    "    download=False, \n",
    "    transform=transform_test\n",
    ")\n",
    "cifar10_train_dataloader = DataLoader(\n",
    "    dataset=cifar10_train, \n",
    "    batch_size=config.train.batch_size, \n",
    "    shuffle=False, \n",
    "    num_workers=8\n",
    ")\n",
    "\n",
    "model = initialize_vit_model(config)\n",
    "feature_extractor = FeatureExtractor(\n",
    "    model=model,\n",
    "    layer_name=config.model.layer_name.penultimate,\n",
    ")\n",
    "mahalanobis = Mahalanobis(config, model, cifar10_train_dataloader, feature_extractor)"
   ]
  },
  {
   "cell_type": "code",
   "execution_count": 91,
   "metadata": {},
   "outputs": [
    {
     "name": "stdout",
     "output_type": "stream",
     "text": [
      "processing in-distribution samples...\n"
     ]
    },
    {
     "name": "stderr",
     "output_type": "stream",
     "text": [
      "100%|██████████| 100/100 [00:06<00:00, 15.07it/s]\n"
     ]
    },
    {
     "name": "stdout",
     "output_type": "stream",
     "text": [
      "processing out-of-distribution samples...\n"
     ]
    },
    {
     "name": "stderr",
     "output_type": "stream",
     "text": [
      "100%|██████████| 261/261 [00:14<00:00, 17.98it/s]\n"
     ]
    },
    {
     "name": "stdout",
     "output_type": "stream",
     "text": [
      "10000 10000\n",
      "id mean score: 185.77122 id variance: 5098.7666\n",
      "ood mean score: 198.51315 ood variance: 7935.3193\n"
     ]
    }
   ],
   "source": [
    "test_y, ood_scores, id_ood_scores, ood_ood_scores = compute_ood_scores(\n",
    "    metric=mahalanobis,\n",
    "    in_dist_dataloader=cifar10_test_dataloader,\n",
    "    out_of_dist_dataloader=svhn_test_dataloader,\n",
    ")\n",
    "print(len(id_ood_scores), len(ood_ood_scores))\n",
    "print('id mean score:', np.mean(id_ood_scores), 'id variance:', np.var(id_ood_scores))\n",
    "print('ood mean score:', np.mean(ood_ood_scores), 'ood variance:', np.var(ood_ood_scores))"
   ]
  },
  {
   "cell_type": "code",
   "execution_count": 92,
   "metadata": {},
   "outputs": [
    {
     "name": "stderr",
     "output_type": "stream",
     "text": [
      "100%|██████████| 100/100 [00:06<00:00, 15.47it/s]\n"
     ]
    },
    {
     "name": "stdout",
     "output_type": "stream",
     "text": [
      "0, airplane: 1219, mean: 200.83541870117188, var: 5953.31494140625\n",
      "1, automobile: 982, mean: 180.28318786621094, var: 5549.2197265625\n",
      "2, bird: 1458, mean: 203.9126739501953, var: 4917.78173828125\n",
      "3, cat: 1712, mean: 218.58245849609375, var: 5362.91015625\n",
      "4, deer: 620, mean: 152.279052734375, var: 2285.1669921875\n",
      "5, dog: 791, mean: 162.62451171875, var: 2515.4228515625\n",
      "6, frog: 810, mean: 178.7567901611328, var: 4185.275390625\n",
      "7, horse: 767, mean: 164.74615478515625, var: 4294.2294921875\n",
      "8, ship: 916, mean: 177.46817016601562, var: 4754.640625\n",
      "9, truck: 725, mean: 148.37918090820312, var: 3145.055908203125\n"
     ]
    },
    {
     "name": "stderr",
     "output_type": "stream",
     "text": [
      "100%|██████████| 261/261 [00:14<00:00, 17.99it/s]\n"
     ]
    },
    {
     "name": "stdout",
     "output_type": "stream",
     "text": [
      "0, airplane: 3865, mean: 277.4150695800781, var: 6065.61767578125\n",
      "1, automobile: 12, mean: 330.41131591796875, var: 5214.02587890625\n",
      "2, bird: 5620, mean: 122.05317687988281, var: 2861.732666015625\n",
      "3, cat: 16308, mean: 205.9731903076172, var: 6601.2509765625\n",
      "4, deer: 3, mean: 85.57693481445312, var: 152.88162231445312\n",
      "5, dog: 46, mean: 155.63922119140625, var: 1258.68798828125\n",
      "6, frog: 149, mean: 241.08758544921875, var: 8427.986328125\n",
      "7, horse: 1, mean: 146.46051025390625, var: 0.0\n",
      "8, ship: 28, mean: 277.72357177734375, var: 6558.03076171875\n"
     ]
    }
   ],
   "source": [
    "mahalanobis.compute_dataset_ood_score(cifar10_test_dataloader)\n",
    "classes = set(mahalanobis.closest_classes)\n",
    "for c in classes:\n",
    "    tmd = np.array(mahalanobis.total_mahalanobis_distances)\n",
    "    cc = np.array(mahalanobis.closest_classes)\n",
    "    c_tmd = tmd[list(np.where(cc == c)[0])]\n",
    "    n_samples = mahalanobis.closest_classes.count(c)\n",
    "    print(f'{c}, {cifar10.classes[c]}: {n_samples}, mean: {c_tmd.mean()}, var: {c_tmd.var()}')\n",
    "\n",
    "mahalanobis.compute_dataset_ood_score(svhn_test_dataloader)\n",
    "classes = set(mahalanobis.closest_classes)\n",
    "for c in classes:\n",
    "    tmd = np.array(mahalanobis.total_mahalanobis_distances)\n",
    "    cc = np.array(mahalanobis.closest_classes)\n",
    "    c_tmd = tmd[list(np.where(cc == c)[0])]\n",
    "    n_samples = mahalanobis.closest_classes.count(c)\n",
    "    print(f'{c}, {cifar10.classes[c]}: {n_samples}, mean: {c_tmd.mean()}, var: {c_tmd.var()}')"
   ]
  },
  {
   "cell_type": "code",
   "execution_count": 56,
   "metadata": {},
   "outputs": [
    {
     "data": {
      "image/png": "[encoded data removed]",
      "text/plain": [
       "<Figure size 432x288 with 1 Axes>"
      ]
     },
     "metadata": {
      "needs_background": "light"
     },
     "output_type": "display_data"
    },
    {
     "name": "stdout",
     "output_type": "stream",
     "text": [
      "Mahalanobis AUROC score: 0.5133815625\n"
     ]
    }
   ],
   "source": [
    "fpr, tpr, auroc_score = auroc(test_y, ood_scores)\n",
    "\n",
    "plot_roc_curve(fpr, tpr)\n",
    "print('Mahalanobis AUROC score:', auroc_score)"
   ]
  },
  {
   "cell_type": "code",
   "execution_count": 57,
   "metadata": {},
   "outputs": [
    {
     "data": {
      "image/png": "[encoded data removed]",
      "text/plain": [
       "<Figure size 432x288 with 1 Axes>"
      ]
     },
     "metadata": {
      "needs_background": "light"
     },
     "output_type": "display_data"
    },
    {
     "name": "stdout",
     "output_type": "stream",
     "text": [
      "Mahalanobis AUPR score: 0.5485117350198137\n"
     ]
    }
   ],
   "source": [
    "precision, recall, aupr_score = aupr(test_y, ood_scores)\n",
    "\n",
    "plot_precision_recall_curve(precision, recall)\n",
    "print('Mahalanobis AUPR score:', aupr_score)"
   ]
  },
  {
   "cell_type": "code",
   "execution_count": 58,
   "metadata": {},
   "outputs": [
    {
     "name": "stdout",
     "output_type": "stream",
     "text": [
      "Mahalanobis fpr95 score: 0.9703\n"
     ]
    }
   ],
   "source": [
    "fpr95 = fpr_at_95_tpr(test_y, ood_scores)\n",
    "print('Mahalanobis fpr95 score:', fpr95)"
   ]
  },
  {
   "cell_type": "markdown",
   "metadata": {},
   "source": [
    "#### CIFAR100 vs. SVHN"
   ]
  },
  {
   "cell_type": "code",
   "execution_count": 11,
   "metadata": {},
   "outputs": [],
   "source": [
    "# create ConfigDict from config yaml file\n",
    "import yaml\n",
    "from ml_collections import config_dict\n",
    "\n",
    "config_path = Path('configs') / 'deit_tiny-pretrained-cifar100.yaml'\n",
    "with config_path.open('r') as f:\n",
    "    config = yaml.safe_load(f)\n",
    "    config = config_dict.ConfigDict(config)"
   ]
  },
  {
   "cell_type": "code",
   "execution_count": 12,
   "metadata": {},
   "outputs": [
    {
     "name": "stderr",
     "output_type": "stream",
     "text": [
      "Using cache found in /home/simc/.cache/torch/hub/facebookresearch_deit_main\n",
      "100%|██████████| 98/98 [00:24<00:00,  3.92it/s]\n"
     ]
    },
    {
     "name": "stdout",
     "output_type": "stream",
     "text": [
      "covariance norm: 14.771052072849098\n"
     ]
    }
   ],
   "source": [
    "from ood_with_vit.metrics.mahalanobis import Mahalanobis\n",
    "\n",
    "transform_test = transforms.Compose([\n",
    "    transforms.Resize(img_size),\n",
    "    transforms.ToTensor(),\n",
    "    transforms.Normalize(dataset_mean, dataset_std),\n",
    "])      \n",
    "cifar100 = CIFAR100(\n",
    "    root=dataset_root, \n",
    "    train=True, \n",
    "    download=False, \n",
    "    transform=transform_test\n",
    ")\n",
    "cifar100_train_dataloader = DataLoader(\n",
    "    dataset=cifar100, \n",
    "    batch_size=config.train.batch_size, \n",
    "    shuffle=False, \n",
    "    num_workers=8\n",
    ")\n",
    "\n",
    "model = initialize_vit_model(config)\n",
    "feature_extractor = FeatureExtractor(\n",
    "    model=model,\n",
    "    layer_name=config.model.layer_name.penultimate,\n",
    ")\n",
    "mahalanobis = Mahalanobis(config, model, cifar100_train_dataloader, feature_extractor)"
   ]
  },
  {
   "cell_type": "code",
   "execution_count": 22,
   "metadata": {},
   "outputs": [
    {
     "name": "stdout",
     "output_type": "stream",
     "text": [
      "processing in-distribution samples...\n"
     ]
    },
    {
     "name": "stderr",
     "output_type": "stream",
     "text": [
      "100%|██████████| 100/100 [00:07<00:00, 12.68it/s]\n"
     ]
    },
    {
     "name": "stdout",
     "output_type": "stream",
     "text": [
      "processing out-of-distribution samples...\n"
     ]
    },
    {
     "name": "stderr",
     "output_type": "stream",
     "text": [
      "100%|██████████| 261/261 [00:18<00:00, 14.44it/s]"
     ]
    },
    {
     "name": "stdout",
     "output_type": "stream",
     "text": [
      "id mean score: 175.51826 id variance: 3052.4336\n",
      "ood mean score: 132.59648 ood variance: 1724.3635\n"
     ]
    },
    {
     "name": "stderr",
     "output_type": "stream",
     "text": [
      "\n"
     ]
    }
   ],
   "source": [
    "test_y, ood_scores, id_ood_scores, ood_ood_scores = compute_ood_scores(\n",
    "    metric=mahalanobis,\n",
    "    in_dist_dataloader=cifar100_test_dataloader,\n",
    "    out_of_dist_dataloader=svhn_test_dataloader,\n",
    ")\n",
    "print('id mean score:', np.mean(id_ood_scores), 'id variance:', np.var(id_ood_scores))\n",
    "print('ood mean score:', np.mean(ood_ood_scores), 'ood variance:', np.var(ood_ood_scores))"
   ]
  },
  {
   "cell_type": "code",
   "execution_count": 23,
   "metadata": {},
   "outputs": [
    {
     "data": {
      "image/png": "[encoded data removed]",
      "text/plain": [
       "<Figure size 432x288 with 1 Axes>"
      ]
     },
     "metadata": {
      "needs_background": "light"
     },
     "output_type": "display_data"
    },
    {
     "name": "stdout",
     "output_type": "stream",
     "text": [
      "Mahalanobis AUROC score: 0.2627712738168408\n"
     ]
    }
   ],
   "source": [
    "fpr, tpr, auroc_score = auroc(test_y, ood_scores)\n",
    "\n",
    "plot_roc_curve(fpr, tpr)\n",
    "print('Mahalanobis AUROC score:', auroc_score)"
   ]
  },
  {
   "cell_type": "code",
   "execution_count": 24,
   "metadata": {},
   "outputs": [
    {
     "data": {
      "image/png": "[encoded data removed]",
      "text/plain": [
       "<Figure size 432x288 with 1 Axes>"
      ]
     },
     "metadata": {
      "needs_background": "light"
     },
     "output_type": "display_data"
    },
    {
     "name": "stdout",
     "output_type": "stream",
     "text": [
      "Mahalanobis AUPR score: 0.5826056984519462\n"
     ]
    }
   ],
   "source": [
    "precision, recall, aupr_score = aupr(test_y, ood_scores)\n",
    "\n",
    "plot_precision_recall_curve(precision, recall)\n",
    "print('Mahalanobis AUPR score:', aupr_score)"
   ]
  },
  {
   "cell_type": "code",
   "execution_count": 18,
   "metadata": {},
   "outputs": [
    {
     "name": "stdout",
     "output_type": "stream",
     "text": [
      "Mahalanobis fpr95 score: 0.9722\n"
     ]
    }
   ],
   "source": [
    "fpr95 = fpr_at_95_tpr(test_y, ood_scores)\n",
    "print('Mahalanobis fpr95 score:', fpr95)"
   ]
  }
 ],
 "metadata": {
  "interpreter": {
   "hash": "949777d72b0d2535278d3dc13498b2535136f6dfe0678499012e853ee9abcab1"
  },
  "kernelspec": {
   "display_name": "Python 3 (ipykernel)",
   "language": "python",
   "name": "python3"
  },
  "language_info": {
   "codemirror_mode": {
    "name": "ipython",
    "version": 3
   },
   "file_extension": ".py",
   "mimetype": "text/x-python",
   "name": "python",
   "nbconvert_exporter": "python",
   "pygments_lexer": "ipython3",
   "version": "3.9.7"
  }
 },
 "nbformat": 4,
 "nbformat_minor": 4
}
