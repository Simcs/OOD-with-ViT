{
 "cells": [
  {
   "cell_type": "markdown",
   "metadata": {},
   "source": [
    "### Base settings"
   ]
  },
  {
   "cell_type": "code",
   "execution_count": 1,
   "metadata": {},
   "outputs": [],
   "source": [
    "%load_ext autoreload\n",
    "%autoreload 2\n",
    "\n",
    "# %env CUDA_VISIBLE_DEVICES=1\n",
    "\n",
    "import time\n",
    "import pickle\n",
    "from tqdm import tqdm\n",
    "\n",
    "import numpy as np\n",
    "import pandas as pd\n",
    "import torch\n",
    "\n",
    "device = 'cuda' if torch.cuda.is_available() else 'cpu'"
   ]
  },
  {
   "cell_type": "markdown",
   "metadata": {},
   "source": [
    "#### Prepare kinetics400 'train' split"
   ]
  },
  {
   "cell_type": "code",
   "execution_count": 4,
   "metadata": {},
   "outputs": [
    {
     "name": "stdout",
     "output_type": "stream",
     "text": [
      "/home/simc/workspace/dataset/kinetics/k400\n"
     ]
    },
    {
     "data": {
      "application/vnd.jupyter.widget-view+json": {
       "model_id": "dcdd4bcb116446118bfbd424a1279c2b",
       "version_major": 2,
       "version_minor": 0
      },
      "text/plain": [
       "  0%|          | 0/15079 [00:00<?, ?it/s]"
      ]
     },
     "metadata": {},
     "output_type": "display_data"
    },
    {
     "name": "stderr",
     "output_type": "stream",
     "text": [
      "moov atom not found\n",
      "/usr/local/lib/python3.9/site-packages/torchvision/io/video.py:407: RuntimeWarning: Failed to open container for /home/simc/workspace/dataset/kinetics/k400/train/baking_cookies/E2kUsRIj4tM_000317_000327.mp4; Caught error: [Errno 1094995529] Invalid data found when processing input: '/home/simc/workspace/dataset/kinetics/k400/train/baking_cookies/E2kUsRIj4tM_000317_000327.mp4'; last error log: [mov,mp4,m4a,3gp,3g2,mj2] moov atom not found\n",
      "  warnings.warn(msg, RuntimeWarning)\n",
      "moov atom not found\n",
      "/usr/local/lib/python3.9/site-packages/torchvision/io/video.py:407: RuntimeWarning: Failed to open container for /home/simc/workspace/dataset/kinetics/k400/train/braiding_hair/B6GxQKcL7IY_000213_000223.mp4; Caught error: [Errno 1094995529] Invalid data found when processing input: '/home/simc/workspace/dataset/kinetics/k400/train/braiding_hair/B6GxQKcL7IY_000213_000223.mp4'; last error log: [mov,mp4,m4a,3gp,3g2,mj2] moov atom not found\n",
      "  warnings.warn(msg, RuntimeWarning)\n",
      "moov atom not found\n",
      "/usr/local/lib/python3.9/site-packages/torchvision/io/video.py:407: RuntimeWarning: Failed to open container for /home/simc/workspace/dataset/kinetics/k400/train/checking_tires/28bTQiuymgs_000031_000041.mp4; Caught error: [Errno 1094995529] Invalid data found when processing input: '/home/simc/workspace/dataset/kinetics/k400/train/checking_tires/28bTQiuymgs_000031_000041.mp4'; last error log: [mov,mp4,m4a,3gp,3g2,mj2] moov atom not found\n",
      "  warnings.warn(msg, RuntimeWarning)\n",
      "moov atom not found\n",
      "/usr/local/lib/python3.9/site-packages/torchvision/io/video.py:407: RuntimeWarning: Failed to open container for /home/simc/workspace/dataset/kinetics/k400/train/cheerleading/UdMCrOIUQrw_000005_000015.mp4; Caught error: [Errno 1094995529] Invalid data found when processing input: '/home/simc/workspace/dataset/kinetics/k400/train/cheerleading/UdMCrOIUQrw_000005_000015.mp4'; last error log: [mov,mp4,m4a,3gp,3g2,mj2] moov atom not found\n",
      "  warnings.warn(msg, RuntimeWarning)\n",
      "moov atom not found\n",
      "/usr/local/lib/python3.9/site-packages/torchvision/io/video.py:407: RuntimeWarning: Failed to open container for /home/simc/workspace/dataset/kinetics/k400/train/cleaning_floor/8iED0lhyrN8_000038_000048.mp4; Caught error: [Errno 1094995529] Invalid data found when processing input: '/home/simc/workspace/dataset/kinetics/k400/train/cleaning_floor/8iED0lhyrN8_000038_000048.mp4'; last error log: [mov,mp4,m4a,3gp,3g2,mj2] moov atom not found\n",
      "  warnings.warn(msg, RuntimeWarning)\n",
      "moov atom not found\n",
      "/usr/local/lib/python3.9/site-packages/torchvision/io/video.py:407: RuntimeWarning: Failed to open container for /home/simc/workspace/dataset/kinetics/k400/train/climbing_tree/U_vYW90hFds_000042_000052.mp4; Caught error: [Errno 1094995529] Invalid data found when processing input: '/home/simc/workspace/dataset/kinetics/k400/train/climbing_tree/U_vYW90hFds_000042_000052.mp4'; last error log: [mov,mp4,m4a,3gp,3g2,mj2] moov atom not found\n",
      "  warnings.warn(msg, RuntimeWarning)\n",
      "moov atom not found\n",
      "/usr/local/lib/python3.9/site-packages/torchvision/io/video.py:407: RuntimeWarning: Failed to open container for /home/simc/workspace/dataset/kinetics/k400/train/cooking_egg/d_vQWquKtBg_000015_000025.mp4; Caught error: [Errno 1094995529] Invalid data found when processing input: '/home/simc/workspace/dataset/kinetics/k400/train/cooking_egg/d_vQWquKtBg_000015_000025.mp4'; last error log: [mov,mp4,m4a,3gp,3g2,mj2] moov atom not found\n",
      "  warnings.warn(msg, RuntimeWarning)\n",
      "moov atom not found\n",
      "/usr/local/lib/python3.9/site-packages/torchvision/io/video.py:407: RuntimeWarning: Failed to open container for /home/simc/workspace/dataset/kinetics/k400/train/doing_nails/YCQlaH_Vy8I_000245_000255.mp4; Caught error: [Errno 1094995529] Invalid data found when processing input: '/home/simc/workspace/dataset/kinetics/k400/train/doing_nails/YCQlaH_Vy8I_000245_000255.mp4'; last error log: [mov,mp4,m4a,3gp,3g2,mj2] moov atom not found\n",
      "  warnings.warn(msg, RuntimeWarning)\n",
      "/usr/local/lib/python3.9/site-packages/torchvision/io/video.py:407: RuntimeWarning: Failed to open container for /home/simc/workspace/dataset/kinetics/k400/train/doing_nails/Df6CGDjUkAA_000151_000161.mp4; Caught error: [Errno 1094995529] Invalid data found when processing input: '/home/simc/workspace/dataset/kinetics/k400/train/doing_nails/Df6CGDjUkAA_000151_000161.mp4'; last error log: [mov,mp4,m4a,3gp,3g2,mj2] moov atom not found\n",
      "  warnings.warn(msg, RuntimeWarning)\n",
      "moov atom not found\n",
      "/usr/local/lib/python3.9/site-packages/torchvision/io/video.py:407: RuntimeWarning: Failed to open container for /home/simc/workspace/dataset/kinetics/k400/train/dribbling_basketball/1oyrWyrgTws_000056_000066.mp4; Caught error: [Errno 1094995529] Invalid data found when processing input: '/home/simc/workspace/dataset/kinetics/k400/train/dribbling_basketball/1oyrWyrgTws_000056_000066.mp4'; last error log: [mov,mp4,m4a,3gp,3g2,mj2] moov atom not found\n",
      "  warnings.warn(msg, RuntimeWarning)\n",
      "/usr/local/lib/python3.9/site-packages/torchvision/io/video.py:407: RuntimeWarning: Failed to open container for /home/simc/workspace/dataset/kinetics/k400/train/driving_car/_cbZlhduYJY_000503_000513.mp4; Caught error: [Errno 1094995529] Invalid data found when processing input: '/home/simc/workspace/dataset/kinetics/k400/train/driving_car/_cbZlhduYJY_000503_000513.mp4'; last error log: [mov,mp4,m4a,3gp,3g2,mj2] moov atom not found\n",
      "  warnings.warn(msg, RuntimeWarning)\n",
      "/usr/local/lib/python3.9/site-packages/torchvision/io/video.py:407: RuntimeWarning: Failed to open container for /home/simc/workspace/dataset/kinetics/k400/train/dying_hair/J5xNIJlfBAw_000156_000166.mp4; Caught error: [Errno 1094995529] Invalid data found when processing input: '/home/simc/workspace/dataset/kinetics/k400/train/dying_hair/J5xNIJlfBAw_000156_000166.mp4'; last error log: [mov,mp4,m4a,3gp,3g2,mj2] moov atom not found\n",
      "  warnings.warn(msg, RuntimeWarning)\n",
      "moov atom not found\n",
      "/usr/local/lib/python3.9/site-packages/torchvision/io/video.py:407: RuntimeWarning: Failed to open container for /home/simc/workspace/dataset/kinetics/k400/train/feeding_fish/UhkXeiMm_s4_000017_000027.mp4; Caught error: [Errno 1094995529] Invalid data found when processing input: '/home/simc/workspace/dataset/kinetics/k400/train/feeding_fish/UhkXeiMm_s4_000017_000027.mp4'; last error log: [mov,mp4,m4a,3gp,3g2,mj2] moov atom not found\n",
      "  warnings.warn(msg, RuntimeWarning)\n",
      "moov atom not found\n",
      "/usr/local/lib/python3.9/site-packages/torchvision/io/video.py:407: RuntimeWarning: Failed to open container for /home/simc/workspace/dataset/kinetics/k400/train/feeding_goats/zwv1q8B6mQI_000026_000036.mp4; Caught error: [Errno 1094995529] Invalid data found when processing input: '/home/simc/workspace/dataset/kinetics/k400/train/feeding_goats/zwv1q8B6mQI_000026_000036.mp4'; last error log: [mov,mp4,m4a,3gp,3g2,mj2] moov atom not found\n",
      "  warnings.warn(msg, RuntimeWarning)\n",
      "/usr/local/lib/python3.9/site-packages/torchvision/io/video.py:407: RuntimeWarning: Failed to open container for /home/simc/workspace/dataset/kinetics/k400/train/getting_a_haircut/GN37yfNvQwM_000132_000142.mp4; Caught error: [Errno 1094995529] Invalid data found when processing input: '/home/simc/workspace/dataset/kinetics/k400/train/getting_a_haircut/GN37yfNvQwM_000132_000142.mp4'; last error log: [mov,mp4,m4a,3gp,3g2,mj2] moov atom not found\n",
      "  warnings.warn(msg, RuntimeWarning)\n",
      "moov atom not found\n",
      "/usr/local/lib/python3.9/site-packages/torchvision/io/video.py:407: RuntimeWarning: Failed to open container for /home/simc/workspace/dataset/kinetics/k400/train/getting_a_tattoo/rba-NkJjSNg_000167_000177.mp4; Caught error: [Errno 1094995529] Invalid data found when processing input: '/home/simc/workspace/dataset/kinetics/k400/train/getting_a_tattoo/rba-NkJjSNg_000167_000177.mp4'; last error log: [mov,mp4,m4a,3gp,3g2,mj2] moov atom not found\n",
      "  warnings.warn(msg, RuntimeWarning)\n",
      "moov atom not found\n",
      "/usr/local/lib/python3.9/site-packages/torchvision/io/video.py:407: RuntimeWarning: Failed to open container for /home/simc/workspace/dataset/kinetics/k400/train/getting_a_tattoo/UfkWCSho6qg_000233_000243.mp4; Caught error: [Errno 1094995529] Invalid data found when processing input: '/home/simc/workspace/dataset/kinetics/k400/train/getting_a_tattoo/UfkWCSho6qg_000233_000243.mp4'; last error log: [mov,mp4,m4a,3gp,3g2,mj2] moov atom not found\n",
      "  warnings.warn(msg, RuntimeWarning)\n",
      "moov atom not found\n",
      "/usr/local/lib/python3.9/site-packages/torchvision/io/video.py:407: RuntimeWarning: Failed to open container for /home/simc/workspace/dataset/kinetics/k400/train/getting_a_tattoo/aCcAcCE7Ixo_000034_000044.mp4; Caught error: [Errno 1094995529] Invalid data found when processing input: '/home/simc/workspace/dataset/kinetics/k400/train/getting_a_tattoo/aCcAcCE7Ixo_000034_000044.mp4'; last error log: [mov,mp4,m4a,3gp,3g2,mj2] moov atom not found\n",
      "  warnings.warn(msg, RuntimeWarning)\n",
      "moov atom not found\n",
      "/usr/local/lib/python3.9/site-packages/torchvision/io/video.py:407: RuntimeWarning: Failed to open container for /home/simc/workspace/dataset/kinetics/k400/train/laying_bricks/MVWayhNpHr0_000065_000075.mp4; Caught error: [Errno 1094995529] Invalid data found when processing input: '/home/simc/workspace/dataset/kinetics/k400/train/laying_bricks/MVWayhNpHr0_000065_000075.mp4'; last error log: [mov,mp4,m4a,3gp,3g2,mj2] moov atom not found\n",
      "  warnings.warn(msg, RuntimeWarning)\n",
      "moov atom not found\n",
      "/usr/local/lib/python3.9/site-packages/torchvision/io/video.py:407: RuntimeWarning: Failed to open container for /home/simc/workspace/dataset/kinetics/k400/train/making_a_cake/gKBhQ-oe_9Q_000177_000187.mp4; Caught error: [Errno 1094995529] Invalid data found when processing input: '/home/simc/workspace/dataset/kinetics/k400/train/making_a_cake/gKBhQ-oe_9Q_000177_000187.mp4'; last error log: [mov,mp4,m4a,3gp,3g2,mj2] moov atom not found\n",
      "  warnings.warn(msg, RuntimeWarning)\n",
      "/usr/local/lib/python3.9/site-packages/torchvision/io/video.py:407: RuntimeWarning: Failed to open container for /home/simc/workspace/dataset/kinetics/k400/train/making_bed/ZtCk_0cMZ9U_000347_000357.mp4; Caught error: [Errno 1094995529] Invalid data found when processing input: '/home/simc/workspace/dataset/kinetics/k400/train/making_bed/ZtCk_0cMZ9U_000347_000357.mp4'; last error log: [mov,mp4,m4a,3gp,3g2,mj2] moov atom not found\n",
      "  warnings.warn(msg, RuntimeWarning)\n",
      "/usr/local/lib/python3.9/site-packages/torchvision/io/video.py:407: RuntimeWarning: Failed to open container for /home/simc/workspace/dataset/kinetics/k400/train/playing_badminton/N74EWF0fs5c_000182_000192.mp4; Caught error: [Errno 1094995529] Invalid data found when processing input: '/home/simc/workspace/dataset/kinetics/k400/train/playing_badminton/N74EWF0fs5c_000182_000192.mp4'; last error log: [mov,mp4,m4a,3gp,3g2,mj2] moov atom not found\n",
      "  warnings.warn(msg, RuntimeWarning)\n",
      "/usr/local/lib/python3.9/site-packages/torchvision/io/video.py:407: RuntimeWarning: Failed to open container for /home/simc/workspace/dataset/kinetics/k400/train/playing_bass_guitar/QzmhrYx15_E_000059_000069.mp4; Caught error: [Errno 1094995529] Invalid data found when processing input: '/home/simc/workspace/dataset/kinetics/k400/train/playing_bass_guitar/QzmhrYx15_E_000059_000069.mp4'; last error log: [mov,mp4,m4a,3gp,3g2,mj2] moov atom not found\n",
      "  warnings.warn(msg, RuntimeWarning)\n",
      "/usr/local/lib/python3.9/site-packages/torchvision/io/video.py:407: RuntimeWarning: Failed to open container for /home/simc/workspace/dataset/kinetics/k400/train/playing_paintball/E2NeSaQieHk_000087_000097.mp4; Caught error: [Errno 1094995529] Invalid data found when processing input: '/home/simc/workspace/dataset/kinetics/k400/train/playing_paintball/E2NeSaQieHk_000087_000097.mp4'; last error log: [mov,mp4,m4a,3gp,3g2,mj2] moov atom not found\n",
      "  warnings.warn(msg, RuntimeWarning)\n",
      "moov atom not found\n",
      "/usr/local/lib/python3.9/site-packages/torchvision/io/video.py:407: RuntimeWarning: Failed to open container for /home/simc/workspace/dataset/kinetics/k400/train/playing_paintball/lm6qgrfJGmw_000027_000037.mp4; Caught error: [Errno 1094995529] Invalid data found when processing input: '/home/simc/workspace/dataset/kinetics/k400/train/playing_paintball/lm6qgrfJGmw_000027_000037.mp4'; last error log: [mov,mp4,m4a,3gp,3g2,mj2] moov atom not found\n",
      "  warnings.warn(msg, RuntimeWarning)\n",
      "moov atom not found\n",
      "/usr/local/lib/python3.9/site-packages/torchvision/io/video.py:407: RuntimeWarning: Failed to open container for /home/simc/workspace/dataset/kinetics/k400/train/playing_tennis/bOU2oGVBM_o_000030_000040.mp4; Caught error: [Errno 1094995529] Invalid data found when processing input: '/home/simc/workspace/dataset/kinetics/k400/train/playing_tennis/bOU2oGVBM_o_000030_000040.mp4'; last error log: [mov,mp4,m4a,3gp,3g2,mj2] moov atom not found\n",
      "  warnings.warn(msg, RuntimeWarning)\n",
      "moov atom not found\n",
      "/usr/local/lib/python3.9/site-packages/torchvision/io/video.py:407: RuntimeWarning: Failed to open container for /home/simc/workspace/dataset/kinetics/k400/train/riding_unicycle/UnGxFi0H5UA_000065_000075.mp4; Caught error: [Errno 1094995529] Invalid data found when processing input: '/home/simc/workspace/dataset/kinetics/k400/train/riding_unicycle/UnGxFi0H5UA_000065_000075.mp4'; last error log: [mov,mp4,m4a,3gp,3g2,mj2] moov atom not found\n",
      "  warnings.warn(msg, RuntimeWarning)\n",
      "/usr/local/lib/python3.9/site-packages/torchvision/io/video.py:407: RuntimeWarning: Failed to open container for /home/simc/workspace/dataset/kinetics/k400/train/sniffing/fXRNY6-s-7U_000112_000122.mp4; Caught error: [Errno 1094995529] Invalid data found when processing input: '/home/simc/workspace/dataset/kinetics/k400/train/sniffing/fXRNY6-s-7U_000112_000122.mp4'; last error log: [mov,mp4,m4a,3gp,3g2,mj2] moov atom not found\n",
      "  warnings.warn(msg, RuntimeWarning)\n",
      "moov atom not found\n",
      "/usr/local/lib/python3.9/site-packages/torchvision/io/video.py:407: RuntimeWarning: Failed to open container for /home/simc/workspace/dataset/kinetics/k400/train/sword_fighting/QhF1i23vwps_000379_000389.mp4; Caught error: [Errno 1094995529] Invalid data found when processing input: '/home/simc/workspace/dataset/kinetics/k400/train/sword_fighting/QhF1i23vwps_000379_000389.mp4'; last error log: [mov,mp4,m4a,3gp,3g2,mj2] moov atom not found\n",
      "  warnings.warn(msg, RuntimeWarning)\n",
      "moov atom not found\n",
      "/usr/local/lib/python3.9/site-packages/torchvision/io/video.py:407: RuntimeWarning: Failed to open container for /home/simc/workspace/dataset/kinetics/k400/train/tasting_food/GkGS69GCx4Q_000319_000329.mp4; Caught error: [Errno 1094995529] Invalid data found when processing input: '/home/simc/workspace/dataset/kinetics/k400/train/tasting_food/GkGS69GCx4Q_000319_000329.mp4'; last error log: [mov,mp4,m4a,3gp,3g2,mj2] moov atom not found\n",
      "  warnings.warn(msg, RuntimeWarning)\n",
      "/usr/local/lib/python3.9/site-packages/torchvision/io/video.py:407: RuntimeWarning: Failed to open container for /home/simc/workspace/dataset/kinetics/k400/train/trimming_or_shaving_beard/wL1Bit-Gv40_000305_000315.mp4; Caught error: [Errno 1094995529] Invalid data found when processing input: '/home/simc/workspace/dataset/kinetics/k400/train/trimming_or_shaving_beard/wL1Bit-Gv40_000305_000315.mp4'; last error log: [mov,mp4,m4a,3gp,3g2,mj2] moov atom not found\n",
      "  warnings.warn(msg, RuntimeWarning)\n",
      "/usr/local/lib/python3.9/site-packages/torchvision/io/video.py:407: RuntimeWarning: Failed to open container for /home/simc/workspace/dataset/kinetics/k400/train/unboxing/du6bfkBEfVs_000155_000165.mp4; Caught error: [Errno 1094995529] Invalid data found when processing input: '/home/simc/workspace/dataset/kinetics/k400/train/unboxing/du6bfkBEfVs_000155_000165.mp4'; last error log: [mov,mp4,m4a,3gp,3g2,mj2] moov atom not found\n",
      "  warnings.warn(msg, RuntimeWarning)\n",
      "/usr/local/lib/python3.9/site-packages/torchvision/io/video.py:407: RuntimeWarning: Failed to open container for /home/simc/workspace/dataset/kinetics/k400/train/walking_the_dog/UbQsEI_KkBs_000049_000059.mp4; Caught error: [Errno 1094995529] Invalid data found when processing input: '/home/simc/workspace/dataset/kinetics/k400/train/walking_the_dog/UbQsEI_KkBs_000049_000059.mp4'; last error log: [mov,mp4,m4a,3gp,3g2,mj2] moov atom not found\n",
      "  warnings.warn(msg, RuntimeWarning)\n",
      "moov atom not found\n",
      "/usr/local/lib/python3.9/site-packages/torchvision/io/video.py:407: RuntimeWarning: Failed to open container for /home/simc/workspace/dataset/kinetics/k400/train/watering_plants/Ud9poTS_URE_000014_000024.mp4; Caught error: [Errno 1094995529] Invalid data found when processing input: '/home/simc/workspace/dataset/kinetics/k400/train/watering_plants/Ud9poTS_URE_000014_000024.mp4'; last error log: [mov,mp4,m4a,3gp,3g2,mj2] moov atom not found\n",
      "  warnings.warn(msg, RuntimeWarning)\n",
      "/usr/local/lib/python3.9/site-packages/torchvision/datasets/video_utils.py:215: UserWarning: There aren't enough frames in the current video to get a clip for the given clip length and frames between clips. The video (and potentially others) will be skipped.\n",
      "  warnings.warn(\"There aren't enough frames in the current video to get a clip for the given clip length and \"\n"
     ]
    },
    {
     "name": "stdout",
     "output_type": "stream",
     "text": [
      "Dataset Kinetics\n",
      "    Number of datapoints: 0\n",
      "    Root location: /home/simc/workspace/dataset/kinetics/k400\n"
     ]
    }
   ],
   "source": [
    "from torchvision.datasets.kinetics import Kinetics\n",
    "import os\n",
    "\n",
    "dataset_root = '~/workspace/dataset/kinetics/k400'\n",
    "dataset_root = os.path.expanduser(dataset_root)\n",
    "print(dataset_root)\n",
    "\n",
    "kinetics400_train_ds = Kinetics(\n",
    "    root=dataset_root,\n",
    "    frames_per_clip=16,\n",
    "    split='train',\n",
    "    num_workers=32,\n",
    "    frame_rate=1,\n",
    ")\n",
    "print(kinetics400_train_ds)"
   ]
  },
  {
   "cell_type": "code",
   "execution_count": 5,
   "metadata": {},
   "outputs": [],
   "source": [
    "train_metadata_filename = f'./data/kinetics400_train_metadata.pkl'\n",
    "if not os.path.exists(train_metadata_filename):\n",
    "    with open(train_metadata_filename, 'wb') as f:\n",
    "        pickle.dump(kinetics400_train_ds.metadata, f)"
   ]
  },
  {
   "cell_type": "code",
   "execution_count": 6,
   "metadata": {},
   "outputs": [],
   "source": [
    "with open(train_metadata_filename, 'rb') as f:\n",
    "    kinetics400_train_metadata = pickle.load(f)"
   ]
  },
  {
   "cell_type": "code",
   "execution_count": 7,
   "metadata": {},
   "outputs": [
    {
     "name": "stdout",
     "output_type": "stream",
     "text": [
      "/home/simc/workspace/dataset/kinetics/k400\n",
      "Dataset Kinetics\n",
      "    Number of datapoints: 1067352\n",
      "    Root location: /home/simc/workspace/dataset/kinetics/k400\n"
     ]
    }
   ],
   "source": [
    "from torchvision.datasets.kinetics import Kinetics\n",
    "import os\n",
    "\n",
    "dataset_root = '~/workspace/dataset/kinetics/k400'\n",
    "dataset_root = os.path.expanduser(dataset_root)\n",
    "print(dataset_root)\n",
    "\n",
    "kinetics400_train_ds = Kinetics(\n",
    "    root=dataset_root,\n",
    "    frames_per_clip=16,\n",
    "    split='train',\n",
    "    num_workers=16,\n",
    "    frame_rate=2,\n",
    "    _precomputed_metadata=kinetics400_train_metadata,\n",
    ")\n",
    "print(kinetics400_train_ds)"
   ]
  },
  {
   "cell_type": "code",
   "execution_count": 15,
   "metadata": {},
   "outputs": [
    {
     "name": "stdout",
     "output_type": "stream",
     "text": [
      "torch.Size([16, 3, 360, 480]) 399 zumba\n"
     ]
    }
   ],
   "source": [
    "video, audio, label = kinetics400_train_ds[1067351]\n",
    "print(video.shape, label, kinetics400_train_ds.classes[label])"
   ]
  },
  {
   "cell_type": "markdown",
   "metadata": {},
   "source": [
    "#### Prepare kinetics400 'val' split"
   ]
  },
  {
   "cell_type": "code",
   "execution_count": 14,
   "metadata": {},
   "outputs": [
    {
     "name": "stdout",
     "output_type": "stream",
     "text": [
      "/home/simc/workspace/dataset/kinetics/k400\n"
     ]
    },
    {
     "data": {
      "application/vnd.jupyter.widget-view+json": {
       "model_id": "3af8c6662dc1445d9d2d9b86ecbdcea5",
       "version_major": 2,
       "version_minor": 0
      },
      "text/plain": [
       "  0%|          | 0/1243 [00:00<?, ?it/s]"
      ]
     },
     "metadata": {},
     "output_type": "display_data"
    },
    {
     "name": "stdout",
     "output_type": "stream",
     "text": [
      "Dataset Kinetics\n",
      "    Number of datapoints: 4933425\n",
      "    Root location: /home/simc/workspace/dataset/kinetics/k400\n"
     ]
    }
   ],
   "source": [
    "from torchvision.datasets.kinetics import Kinetics\n",
    "\n",
    "dataset_root = '~/workspace/dataset/kinetics/k400'\n",
    "dataset_root = os.path.expanduser(dataset_root)\n",
    "print(dataset_root)\n",
    "\n",
    "kinetics400_val_ds = Kinetics(\n",
    "    root=dataset_root,\n",
    "    frames_per_clip=16,\n",
    "    split='val',\n",
    "    num_workers=32,\n",
    ")\n",
    "print(kinetics400_val_ds)"
   ]
  },
  {
   "cell_type": "code",
   "execution_count": 15,
   "metadata": {},
   "outputs": [],
   "source": [
    "val_metadata_filename = f'./data/kinetics400_val_metadata.pkl'\n",
    "if not os.path.exists(val_metadata_filename):\n",
    "    with open(val_metadata_filename, 'wb') as f:\n",
    "        pickle.dump(kinetics400_val_ds.metadata, f)"
   ]
  },
  {
   "cell_type": "code",
   "execution_count": 16,
   "metadata": {},
   "outputs": [],
   "source": [
    "with open(val_metadata_filename, 'rb') as f:\n",
    "    kinetics400_val_metadata = pickle.load(f)"
   ]
  },
  {
   "cell_type": "code",
   "execution_count": 17,
   "metadata": {},
   "outputs": [
    {
     "name": "stdout",
     "output_type": "stream",
     "text": [
      "/home/simc/workspace/dataset/kinetics/k400\n",
      "Dataset Kinetics\n",
      "    Number of datapoints: 88540\n",
      "    Root location: /home/simc/workspace/dataset/kinetics/k400\n"
     ]
    }
   ],
   "source": [
    "from torchvision.datasets.kinetics import Kinetics\n",
    "\n",
    "dataset_root = '~/workspace/dataset/kinetics/k400'\n",
    "dataset_root = os.path.expanduser(dataset_root)\n",
    "print(dataset_root)\n",
    "\n",
    "dataset = Kinetics(\n",
    "    root=dataset_root,\n",
    "    frames_per_clip=16,\n",
    "    split='val',\n",
    "    num_workers=16,\n",
    "    frame_rate=2,\n",
    "    _precomputed_metadata=kinetics400_val_metadata,\n",
    ")\n",
    "print(dataset)"
   ]
  },
  {
   "cell_type": "code",
   "execution_count": 54,
   "metadata": {},
   "outputs": [
    {
     "name": "stdout",
     "output_type": "stream",
     "text": [
      "video paths: <class 'list'> 19881 /home/simc/workspace/dataset/kinetics/k400/val/abseiling/0wR5jVB-WPk_000417_000427.mp4\n",
      "video pts: <class 'list'> 19881 torch.Size([300])\n",
      "video fps: <class 'list'> 19881 29.97002997002997\n",
      "clips <class 'list'> 19881 torch.Size([15, 16])\n",
      "cumulative sizes: 274421\n"
     ]
    }
   ],
   "source": [
    "video_paths = dataset.metadata['video_paths']\n",
    "video_pts = dataset.metadata['video_pts']\n",
    "video_fps = dataset.metadata['video_fps']\n",
    "clips = dataset.video_clips.clips\n",
    "print('video paths:', type(video_paths), len(video_paths), video_paths[0])\n",
    "print('video pts:', type(video_pts), len(video_pts), video_pts[0].shape)\n",
    "print('video fps:', type(video_fps), len(video_fps), video_fps[0])\n",
    "print('clips', type(clips), len(clips), clips[0].shape)\n",
    "print('cumulative sizes:', dataset.video_clips.cumulative_sizes[-1])"
   ]
  },
  {
   "cell_type": "code",
   "execution_count": 44,
   "metadata": {},
   "outputs": [
    {
     "name": "stdout",
     "output_type": "stream",
     "text": [
      "torch.Size([16, 3, 360, 480]) 4 applying_cream\n"
     ]
    }
   ],
   "source": [
    "video, audio, label = dataset[50000]\n",
    "print(video.shape, label, dataset.classes[label])"
   ]
  }
 ],
 "metadata": {
  "interpreter": {
   "hash": "949777d72b0d2535278d3dc13498b2535136f6dfe0678499012e853ee9abcab1"
  },
  "kernelspec": {
   "display_name": "Python 3.9.7 64-bit",
   "language": "python",
   "name": "python3"
  },
  "language_info": {
   "codemirror_mode": {
    "name": "ipython",
    "version": 3
   },
   "file_extension": ".py",
   "mimetype": "text/x-python",
   "name": "python",
   "nbconvert_exporter": "python",
   "pygments_lexer": "ipython3",
   "version": "3.9.7"
  },
  "orig_nbformat": 4
 },
 "nbformat": 4,
 "nbformat_minor": 2
}
