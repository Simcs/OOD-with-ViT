{
 "cells": [
  {
   "cell_type": "markdown",
   "metadata": {},
   "source": [
    "### Base settings"
   ]
  },
  {
   "cell_type": "code",
   "execution_count": 44,
   "metadata": {},
   "outputs": [
    {
     "name": "stdout",
     "output_type": "stream",
     "text": [
      "The autoreload extension is already loaded. To reload it, use:\n",
      "  %reload_ext autoreload\n",
      "env: CUDA_VISIBLE_DEVICES=1\n"
     ]
    }
   ],
   "source": [
    "%load_ext autoreload\n",
    "%autoreload 2\n",
    "\n",
    "%env CUDA_VISIBLE_DEVICES=1\n",
    "\n",
    "import time\n",
    "from pprint import pprint\n",
    "from pathlib import Path\n",
    "from collections import OrderedDict\n",
    "from tqdm import tqdm\n",
    "import random\n",
    "\n",
    "import numpy as np\n",
    "import pandas as pd\n",
    "import matplotlib.pyplot as plt\n",
    "import plotly.express as px\n",
    "\n",
    "import torch\n",
    "import torch.nn as nn\n",
    "import torchvision.transforms as transforms\n",
    "\n",
    "device = 'cuda' if torch.cuda.is_available() else 'cpu'\n",
    "\n"
   ]
  },
  {
   "cell_type": "code",
   "execution_count": 45,
   "metadata": {},
   "outputs": [],
   "source": [
    "# create ConfigDict from config yaml file\n",
    "import yaml\n",
    "from ml_collections import config_dict\n",
    "\n",
    "config_path = Path('configs') / 'deit_tiny-pretrained-cifar10-ood_8.yaml'\n",
    "config_path = Path('configs') / 'deit_tiny-pretrained-cifar10-ood_9.yaml'\n",
    "# config_path = Path('configs') / 'custom_vit_tiny-scratch-cifar10-ood_9.yaml'\n",
    "with config_path.open('r') as f:\n",
    "    config = yaml.safe_load(f)\n",
    "    config = config_dict.ConfigDict(config)"
   ]
  },
  {
   "cell_type": "code",
   "execution_count": 46,
   "metadata": {},
   "outputs": [],
   "source": [
    "# frequently used variables\n",
    "model_name = config.model.name\n",
    "patch_size = config.model.patch_size\n",
    "summary = config.summary\n",
    "\n",
    "# log directories\n",
    "log_root = Path('./logs') / model_name\n",
    "checkpoint_path = log_root / 'checkpoints'"
   ]
  },
  {
   "cell_type": "code",
   "execution_count": 47,
   "metadata": {},
   "outputs": [
    {
     "name": "stderr",
     "output_type": "stream",
     "text": [
      "Using cache found in /home/simc/.cache/torch/hub/facebookresearch_deit_main\n"
     ]
    },
    {
     "name": "stdout",
     "output_type": "stream",
     "text": [
      "VisionTransformer(\n",
      "  (patch_embed): PatchEmbed(\n",
      "    (proj): Conv2d(3, 192, kernel_size=(16, 16), stride=(16, 16))\n",
      "    (norm): Identity()\n",
      "  )\n",
      "  (pos_drop): Dropout(p=0.0, inplace=False)\n",
      "  (blocks): Sequential(\n",
      "    (0): Block(\n",
      "      (norm1): LayerNorm((192,), eps=1e-06, elementwise_affine=True)\n",
      "      (attn): Attention(\n",
      "        (qkv): Linear(in_features=192, out_features=576, bias=True)\n",
      "        (attn_drop): Dropout(p=0.0, inplace=False)\n",
      "        (proj): Linear(in_features=192, out_features=192, bias=True)\n",
      "        (proj_drop): Dropout(p=0.0, inplace=False)\n",
      "      )\n",
      "      (drop_path): Identity()\n",
      "      (norm2): LayerNorm((192,), eps=1e-06, elementwise_affine=True)\n",
      "      (mlp): Mlp(\n",
      "        (fc1): Linear(in_features=192, out_features=768, bias=True)\n",
      "        (act): GELU()\n",
      "        (drop1): Dropout(p=0.0, inplace=False)\n",
      "        (fc2): Linear(in_features=768, out_features=192, bias=True)\n",
      "        (drop2): Dropout(p=0.0, inplace=False)\n",
      "      )\n",
      "    )\n",
      "    (1): Block(\n",
      "      (norm1): LayerNorm((192,), eps=1e-06, elementwise_affine=True)\n",
      "      (attn): Attention(\n",
      "        (qkv): Linear(in_features=192, out_features=576, bias=True)\n",
      "        (attn_drop): Dropout(p=0.0, inplace=False)\n",
      "        (proj): Linear(in_features=192, out_features=192, bias=True)\n",
      "        (proj_drop): Dropout(p=0.0, inplace=False)\n",
      "      )\n",
      "      (drop_path): Identity()\n",
      "      (norm2): LayerNorm((192,), eps=1e-06, elementwise_affine=True)\n",
      "      (mlp): Mlp(\n",
      "        (fc1): Linear(in_features=192, out_features=768, bias=True)\n",
      "        (act): GELU()\n",
      "        (drop1): Dropout(p=0.0, inplace=False)\n",
      "        (fc2): Linear(in_features=768, out_features=192, bias=True)\n",
      "        (drop2): Dropout(p=0.0, inplace=False)\n",
      "      )\n",
      "    )\n",
      "    (2): Block(\n",
      "      (norm1): LayerNorm((192,), eps=1e-06, elementwise_affine=True)\n",
      "      (attn): Attention(\n",
      "        (qkv): Linear(in_features=192, out_features=576, bias=True)\n",
      "        (attn_drop): Dropout(p=0.0, inplace=False)\n",
      "        (proj): Linear(in_features=192, out_features=192, bias=True)\n",
      "        (proj_drop): Dropout(p=0.0, inplace=False)\n",
      "      )\n",
      "      (drop_path): Identity()\n",
      "      (norm2): LayerNorm((192,), eps=1e-06, elementwise_affine=True)\n",
      "      (mlp): Mlp(\n",
      "        (fc1): Linear(in_features=192, out_features=768, bias=True)\n",
      "        (act): GELU()\n",
      "        (drop1): Dropout(p=0.0, inplace=False)\n",
      "        (fc2): Linear(in_features=768, out_features=192, bias=True)\n",
      "        (drop2): Dropout(p=0.0, inplace=False)\n",
      "      )\n",
      "    )\n",
      "    (3): Block(\n",
      "      (norm1): LayerNorm((192,), eps=1e-06, elementwise_affine=True)\n",
      "      (attn): Attention(\n",
      "        (qkv): Linear(in_features=192, out_features=576, bias=True)\n",
      "        (attn_drop): Dropout(p=0.0, inplace=False)\n",
      "        (proj): Linear(in_features=192, out_features=192, bias=True)\n",
      "        (proj_drop): Dropout(p=0.0, inplace=False)\n",
      "      )\n",
      "      (drop_path): Identity()\n",
      "      (norm2): LayerNorm((192,), eps=1e-06, elementwise_affine=True)\n",
      "      (mlp): Mlp(\n",
      "        (fc1): Linear(in_features=192, out_features=768, bias=True)\n",
      "        (act): GELU()\n",
      "        (drop1): Dropout(p=0.0, inplace=False)\n",
      "        (fc2): Linear(in_features=768, out_features=192, bias=True)\n",
      "        (drop2): Dropout(p=0.0, inplace=False)\n",
      "      )\n",
      "    )\n",
      "    (4): Block(\n",
      "      (norm1): LayerNorm((192,), eps=1e-06, elementwise_affine=True)\n",
      "      (attn): Attention(\n",
      "        (qkv): Linear(in_features=192, out_features=576, bias=True)\n",
      "        (attn_drop): Dropout(p=0.0, inplace=False)\n",
      "        (proj): Linear(in_features=192, out_features=192, bias=True)\n",
      "        (proj_drop): Dropout(p=0.0, inplace=False)\n",
      "      )\n",
      "      (drop_path): Identity()\n",
      "      (norm2): LayerNorm((192,), eps=1e-06, elementwise_affine=True)\n",
      "      (mlp): Mlp(\n",
      "        (fc1): Linear(in_features=192, out_features=768, bias=True)\n",
      "        (act): GELU()\n",
      "        (drop1): Dropout(p=0.0, inplace=False)\n",
      "        (fc2): Linear(in_features=768, out_features=192, bias=True)\n",
      "        (drop2): Dropout(p=0.0, inplace=False)\n",
      "      )\n",
      "    )\n",
      "    (5): Block(\n",
      "      (norm1): LayerNorm((192,), eps=1e-06, elementwise_affine=True)\n",
      "      (attn): Attention(\n",
      "        (qkv): Linear(in_features=192, out_features=576, bias=True)\n",
      "        (attn_drop): Dropout(p=0.0, inplace=False)\n",
      "        (proj): Linear(in_features=192, out_features=192, bias=True)\n",
      "        (proj_drop): Dropout(p=0.0, inplace=False)\n",
      "      )\n",
      "      (drop_path): Identity()\n",
      "      (norm2): LayerNorm((192,), eps=1e-06, elementwise_affine=True)\n",
      "      (mlp): Mlp(\n",
      "        (fc1): Linear(in_features=192, out_features=768, bias=True)\n",
      "        (act): GELU()\n",
      "        (drop1): Dropout(p=0.0, inplace=False)\n",
      "        (fc2): Linear(in_features=768, out_features=192, bias=True)\n",
      "        (drop2): Dropout(p=0.0, inplace=False)\n",
      "      )\n",
      "    )\n",
      "    (6): Block(\n",
      "      (norm1): LayerNorm((192,), eps=1e-06, elementwise_affine=True)\n",
      "      (attn): Attention(\n",
      "        (qkv): Linear(in_features=192, out_features=576, bias=True)\n",
      "        (attn_drop): Dropout(p=0.0, inplace=False)\n",
      "        (proj): Linear(in_features=192, out_features=192, bias=True)\n",
      "        (proj_drop): Dropout(p=0.0, inplace=False)\n",
      "      )\n",
      "      (drop_path): Identity()\n",
      "      (norm2): LayerNorm((192,), eps=1e-06, elementwise_affine=True)\n",
      "      (mlp): Mlp(\n",
      "        (fc1): Linear(in_features=192, out_features=768, bias=True)\n",
      "        (act): GELU()\n",
      "        (drop1): Dropout(p=0.0, inplace=False)\n",
      "        (fc2): Linear(in_features=768, out_features=192, bias=True)\n",
      "        (drop2): Dropout(p=0.0, inplace=False)\n",
      "      )\n",
      "    )\n",
      "    (7): Block(\n",
      "      (norm1): LayerNorm((192,), eps=1e-06, elementwise_affine=True)\n",
      "      (attn): Attention(\n",
      "        (qkv): Linear(in_features=192, out_features=576, bias=True)\n",
      "        (attn_drop): Dropout(p=0.0, inplace=False)\n",
      "        (proj): Linear(in_features=192, out_features=192, bias=True)\n",
      "        (proj_drop): Dropout(p=0.0, inplace=False)\n",
      "      )\n",
      "      (drop_path): Identity()\n",
      "      (norm2): LayerNorm((192,), eps=1e-06, elementwise_affine=True)\n",
      "      (mlp): Mlp(\n",
      "        (fc1): Linear(in_features=192, out_features=768, bias=True)\n",
      "        (act): GELU()\n",
      "        (drop1): Dropout(p=0.0, inplace=False)\n",
      "        (fc2): Linear(in_features=768, out_features=192, bias=True)\n",
      "        (drop2): Dropout(p=0.0, inplace=False)\n",
      "      )\n",
      "    )\n",
      "    (8): Block(\n",
      "      (norm1): LayerNorm((192,), eps=1e-06, elementwise_affine=True)\n",
      "      (attn): Attention(\n",
      "        (qkv): Linear(in_features=192, out_features=576, bias=True)\n",
      "        (attn_drop): Dropout(p=0.0, inplace=False)\n",
      "        (proj): Linear(in_features=192, out_features=192, bias=True)\n",
      "        (proj_drop): Dropout(p=0.0, inplace=False)\n",
      "      )\n",
      "      (drop_path): Identity()\n",
      "      (norm2): LayerNorm((192,), eps=1e-06, elementwise_affine=True)\n",
      "      (mlp): Mlp(\n",
      "        (fc1): Linear(in_features=192, out_features=768, bias=True)\n",
      "        (act): GELU()\n",
      "        (drop1): Dropout(p=0.0, inplace=False)\n",
      "        (fc2): Linear(in_features=768, out_features=192, bias=True)\n",
      "        (drop2): Dropout(p=0.0, inplace=False)\n",
      "      )\n",
      "    )\n",
      "    (9): Block(\n",
      "      (norm1): LayerNorm((192,), eps=1e-06, elementwise_affine=True)\n",
      "      (attn): Attention(\n",
      "        (qkv): Linear(in_features=192, out_features=576, bias=True)\n",
      "        (attn_drop): Dropout(p=0.0, inplace=False)\n",
      "        (proj): Linear(in_features=192, out_features=192, bias=True)\n",
      "        (proj_drop): Dropout(p=0.0, inplace=False)\n",
      "      )\n",
      "      (drop_path): Identity()\n",
      "      (norm2): LayerNorm((192,), eps=1e-06, elementwise_affine=True)\n",
      "      (mlp): Mlp(\n",
      "        (fc1): Linear(in_features=192, out_features=768, bias=True)\n",
      "        (act): GELU()\n",
      "        (drop1): Dropout(p=0.0, inplace=False)\n",
      "        (fc2): Linear(in_features=768, out_features=192, bias=True)\n",
      "        (drop2): Dropout(p=0.0, inplace=False)\n",
      "      )\n",
      "    )\n",
      "    (10): Block(\n",
      "      (norm1): LayerNorm((192,), eps=1e-06, elementwise_affine=True)\n",
      "      (attn): Attention(\n",
      "        (qkv): Linear(in_features=192, out_features=576, bias=True)\n",
      "        (attn_drop): Dropout(p=0.0, inplace=False)\n",
      "        (proj): Linear(in_features=192, out_features=192, bias=True)\n",
      "        (proj_drop): Dropout(p=0.0, inplace=False)\n",
      "      )\n",
      "      (drop_path): Identity()\n",
      "      (norm2): LayerNorm((192,), eps=1e-06, elementwise_affine=True)\n",
      "      (mlp): Mlp(\n",
      "        (fc1): Linear(in_features=192, out_features=768, bias=True)\n",
      "        (act): GELU()\n",
      "        (drop1): Dropout(p=0.0, inplace=False)\n",
      "        (fc2): Linear(in_features=768, out_features=192, bias=True)\n",
      "        (drop2): Dropout(p=0.0, inplace=False)\n",
      "      )\n",
      "    )\n",
      "    (11): Block(\n",
      "      (norm1): LayerNorm((192,), eps=1e-06, elementwise_affine=True)\n",
      "      (attn): Attention(\n",
      "        (qkv): Linear(in_features=192, out_features=576, bias=True)\n",
      "        (attn_drop): Dropout(p=0.0, inplace=False)\n",
      "        (proj): Linear(in_features=192, out_features=192, bias=True)\n",
      "        (proj_drop): Dropout(p=0.0, inplace=False)\n",
      "      )\n",
      "      (drop_path): Identity()\n",
      "      (norm2): LayerNorm((192,), eps=1e-06, elementwise_affine=True)\n",
      "      (mlp): Mlp(\n",
      "        (fc1): Linear(in_features=192, out_features=768, bias=True)\n",
      "        (act): GELU()\n",
      "        (drop1): Dropout(p=0.0, inplace=False)\n",
      "        (fc2): Linear(in_features=768, out_features=192, bias=True)\n",
      "        (drop2): Dropout(p=0.0, inplace=False)\n",
      "      )\n",
      "    )\n",
      "  )\n",
      "  (norm): LayerNorm((192,), eps=1e-06, elementwise_affine=True)\n",
      "  (pre_logits): Identity()\n",
      "  (head): Linear(in_features=192, out_features=9, bias=True)\n",
      ")\n"
     ]
    },
    {
     "data": {
      "text/plain": [
       "<All keys matched successfully>"
      ]
     },
     "execution_count": 47,
     "metadata": {},
     "output_type": "execute_result"
    }
   ],
   "source": [
    "# initialize ViT model and load pretrained weights\n",
    "from ood_with_vit.models.vit import ViT\n",
    "\n",
    "if config.model.pretrained:\n",
    "    n_class = len(config.dataset.in_distribution_class_indices)\n",
    "    model = torch.hub.load(\n",
    "        repo_or_dir=config.model.repo,\n",
    "        model=config.model.pretrained_model,\n",
    "        pretrained=False,\n",
    "    )\n",
    "    model.head = nn.Linear(model.head.in_features, n_class)\n",
    "else:\n",
    "    model = ViT(\n",
    "        image_size=config.model.img_size,\n",
    "        patch_size=config.model.patch_size,\n",
    "        num_classes=len(config.dataset.in_distribution_class_indices),\n",
    "        dim=config.model.dim_head,\n",
    "        depth=config.model.depth,\n",
    "        heads=config.model.n_heads,\n",
    "        mlp_dim=config.model.dim_mlp,\n",
    "        dropout=config.model.dropout,\n",
    "        emb_dropout=config.model.emb_dropout,\n",
    "        visualize=True,\n",
    "    )\n",
    "\n",
    "model = model.to(device=device)\n",
    "print(model)\n",
    "\n",
    "checkpoint = torch.load(checkpoint_path / f'{summary}_best.pt')\n",
    "\n",
    "state_dict = checkpoint['model_state_dict']\n",
    "trimmed_keys = []\n",
    "for key in state_dict.keys():\n",
    "    # remove prefix 'module.' for each key (in case of DataParallel)\n",
    "    trimmed_keys.append(key[7:])\n",
    "trimmed_state_dict = OrderedDict(list(zip(trimmed_keys, state_dict.values())))\n",
    "\n",
    "model.load_state_dict(trimmed_state_dict)"
   ]
  },
  {
   "cell_type": "code",
   "execution_count": 48,
   "metadata": {},
   "outputs": [
    {
     "name": "stdout",
     "output_type": "stream",
     "text": [
      "{'airplane': 0, 'automobile': 1, 'bird': 2, 'cat': 3, 'deer': 4, 'dog': 5, 'frog': 6, 'horse': 7, 'ship': 8, 'truck': 9}\n"
     ]
    }
   ],
   "source": [
    "from ood_with_vit.datasets import OOD_CIFAR10\n",
    "\n",
    "dataset_mean, dataset_std = config.dataset.mean, config.dataset.std\n",
    "dataset_root = config.dataset.root\n",
    "img_size = config.model.img_size\n",
    "in_distribution_class_indices = config.dataset.in_distribution_class_indices\n",
    "\n",
    "transform_test = transforms.Compose([\n",
    "    transforms.Resize(img_size),\n",
    "    transforms.ToTensor(),\n",
    "    transforms.Normalize(dataset_mean, dataset_std),\n",
    "])      \n",
    "\n",
    "dataset = OOD_CIFAR10(\n",
    "    root=dataset_root, \n",
    "    in_distribution_class_indices=in_distribution_class_indices, \n",
    "    train=False, \n",
    "    download=False, \n",
    "    transform=transform_test\n",
    ")\n",
    "\n",
    "class_indices = list(range(10))\n",
    "idx_to_class = dict((v, k) for k, v in dataset.class_to_idx.items())\n",
    "ood_class_indices = [i for i in class_indices if i not in in_distribution_class_indices]\n",
    "id_class_indices = [i for i in class_indices if i in in_distribution_class_indices]\n",
    "print(dataset.class_to_idx)"
   ]
  },
  {
   "cell_type": "markdown",
   "metadata": {},
   "source": [
    "### Utility"
   ]
  },
  {
   "cell_type": "code",
   "execution_count": 49,
   "metadata": {},
   "outputs": [],
   "source": [
    "# set seeds\n",
    "import random\n",
    "import numpy as np\n",
    "\n",
    "def set_seed(seed):\n",
    "    random.seed(seed)\n",
    "    np.random.seed(seed)\n",
    "    torch.manual_seed(seed)"
   ]
  },
  {
   "cell_type": "markdown",
   "metadata": {},
   "source": [
    "### Visualize features"
   ]
  },
  {
   "cell_type": "code",
   "execution_count": 50,
   "metadata": {},
   "outputs": [
    {
     "name": "stderr",
     "output_type": "stream",
     "text": [
      "100%|██████████| 20/20 [00:00<00:00, 38.04it/s]\n",
      "100%|██████████| 20/20 [00:00<00:00, 88.15it/s]\n",
      "100%|██████████| 20/20 [00:00<00:00, 89.95it/s]\n",
      "100%|██████████| 20/20 [00:00<00:00, 88.36it/s]\n",
      "100%|██████████| 20/20 [00:00<00:00, 85.00it/s]\n",
      "100%|██████████| 20/20 [00:00<00:00, 83.57it/s]\n",
      "100%|██████████| 20/20 [00:00<00:00, 81.34it/s]\n",
      "100%|██████████| 20/20 [00:00<00:00, 80.16it/s]\n",
      "100%|██████████| 20/20 [00:00<00:00, 77.93it/s]\n",
      "100%|██████████| 20/20 [00:00<00:00, 75.63it/s]\n"
     ]
    }
   ],
   "source": [
    "# gather penultimate features\n",
    "from ood_with_vit.utils import compute_penultimate_features\n",
    "\n",
    "num_samples = 20\n",
    "\n",
    "X, y = [], []\n",
    "for id_class_idx in id_class_indices:\n",
    "    idx_list = random.sample(range(1000), num_samples)\n",
    "    for idx in tqdm(idx_list):\n",
    "        img = dataset.get_transformed_image(id_class_idx, idx).to(device)\n",
    "        penultimate_features = compute_penultimate_features(config, model, img.unsqueeze(0))\n",
    "        X.append(penultimate_features.squeeze().numpy())\n",
    "        y.append((id_class_idx, dataset.classes[id_class_idx]))\n",
    "        \n",
    "for ood_class_idx in ood_class_indices:\n",
    "    idx_list = random.sample(range(1000), num_samples)\n",
    "    for idx in tqdm(idx_list):\n",
    "        img = dataset.get_transformed_image(ood_class_idx, idx).to(device)\n",
    "        penultimate_features = compute_penultimate_features(config, model, img.unsqueeze(0))\n",
    "        X.append(penultimate_features.squeeze().numpy())\n",
    "        y.append((ood_class_idx, dataset.classes[ood_class_idx]))"
   ]
  },
  {
   "cell_type": "markdown",
   "metadata": {},
   "source": [
    "#### Feature visualization by T-SNE"
   ]
  },
  {
   "cell_type": "code",
   "execution_count": 51,
   "metadata": {},
   "outputs": [
    {
     "data": {
      "application/vnd.plotly.v1+json": {
       "config": {
        "plotlyServerURL": "https://plot.ly"
       },
       "data": [
        {
         "hovertemplate": "class=(0, 'airplane')<br>x=%{x}<br>y=%{y}<extra></extra>",
         "legendgroup": "(0, 'airplane')",
         "marker": {
          "color": "#636efa",
          "symbol": "circle"
         },
         "mode": "markers",
         "name": "(0, 'airplane')",
         "orientation": "v",
         "showlegend": true,
         "type": "scatter",
         "x": [
          -4.769811153411865,
          -3.7442305088043213,
          -3.1790668964385986,
          -6.134625434875488,
          -3.1973345279693604,
          -3.633760690689087,
          -3.8533523082733154,
          -4.120106220245361,
          -3.682023525238037,
          -4.156797885894775,
          -3.366474151611328,
          -3.935807704925537,
          -4.275876998901367,
          -5.235179424285889,
          -4.551849365234375,
          -4.617405414581299,
          -5.396862983703613,
          -2.9816858768463135,
          -3.4798264503479004,
          -3.78961181640625
         ],
         "xaxis": "x",
         "y": [
          -6.446712493896484,
          -9.650738716125488,
          -7.485908508300781,
          -7.899523735046387,
          -6.701169967651367,
          -7.3372955322265625,
          -7.395340442657471,
          -7.822714328765869,
          -7.028719425201416,
          -7.984583854675293,
          -7.287546157836914,
          -8.046832084655762,
          -7.515768527984619,
          -7.063621997833252,
          -7.016040802001953,
          -7.186921119689941,
          -7.080550193786621,
          -8.399646759033203,
          -8.813836097717285,
          -6.3888421058654785
         ],
         "yaxis": "y"
        },
        {
         "hovertemplate": "class=(1, 'automobile')<br>x=%{x}<br>y=%{y}<extra></extra>",
         "legendgroup": "(1, 'automobile')",
         "marker": {
          "color": "#EF553B",
          "symbol": "circle"
         },
         "mode": "markers",
         "name": "(1, 'automobile')",
         "orientation": "v",
         "showlegend": true,
         "type": "scatter",
         "x": [
          -11.354174613952637,
          -9.94910717010498,
          -10.770367622375488,
          -9.994546890258789,
          -9.20825481414795,
          -10.759058952331543,
          -10.864143371582031,
          -10.713766098022461,
          -9.634279251098633,
          -9.74911880493164,
          -10.090258598327637,
          -10.092469215393066,
          -8.81997299194336,
          -10.946014404296875,
          -8.811114311218262,
          -10.120771408081055,
          -9.858868598937988,
          -10.591928482055664,
          -10.606700897216797,
          -10.433794975280762
         ],
         "xaxis": "x",
         "y": [
          -13.691704750061035,
          -14.990697860717773,
          -12.628157615661621,
          -14.343608856201172,
          -14.03014087677002,
          -13.508536338806152,
          -14.652843475341797,
          -14.57193374633789,
          -15.322053909301758,
          -13.99367904663086,
          -14.796058654785156,
          -15.451746940612793,
          -13.97859001159668,
          -14.772716522216797,
          -14.450384140014648,
          -14.133670806884766,
          -14.75610637664795,
          -14.046524047851562,
          -13.861419677734375,
          -14.951348304748535
         ],
         "yaxis": "y"
        },
        {
         "hovertemplate": "class=(2, 'bird')<br>x=%{x}<br>y=%{y}<extra></extra>",
         "legendgroup": "(2, 'bird')",
         "marker": {
          "color": "#00cc96",
          "symbol": "circle"
         },
         "mode": "markers",
         "name": "(2, 'bird')",
         "orientation": "v",
         "showlegend": true,
         "type": "scatter",
         "x": [
          4.298827648162842,
          6.902784824371338,
          6.074653148651123,
          6.1541056632995605,
          4.540131092071533,
          5.848549842834473,
          4.9940290451049805,
          4.436946392059326,
          4.021098613739014,
          4.604389190673828,
          5.980633735656738,
          5.472643852233887,
          5.083898544311523,
          5.250452995300293,
          4.386845588684082,
          4.554221153259277,
          5.5878005027771,
          6.39177131652832,
          4.163817882537842,
          4.781946182250977
         ],
         "xaxis": "x",
         "y": [
          0.055028121918439865,
          0.9255303144454956,
          0.9533751606941223,
          -0.4977153539657593,
          -0.5709190368652344,
          -0.2373848855495453,
          0.05839705094695091,
          -0.21856610476970673,
          0.1469735950231552,
          0.24573346972465515,
          0.4106789231300354,
          -0.6793262362480164,
          0.3887220323085785,
          0.6399323344230652,
          0.1496180146932602,
          0.7336873412132263,
          1.2798758745193481,
          -0.5543887615203857,
          -0.1051274836063385,
          -0.585502564907074
         ],
         "yaxis": "y"
        },
        {
         "hovertemplate": "class=(3, 'cat')<br>x=%{x}<br>y=%{y}<extra></extra>",
         "legendgroup": "(3, 'cat')",
         "marker": {
          "color": "#ab63fa",
          "symbol": "circle"
         },
         "mode": "markers",
         "name": "(3, 'cat')",
         "orientation": "v",
         "showlegend": true,
         "type": "scatter",
         "x": [
          9.841446876525879,
          11.115734100341797,
          12.913790702819824,
          12.755767822265625,
          10.593259811401367,
          12.068106651306152,
          10.481667518615723,
          11.262969017028809,
          11.590457916259766,
          11.045194625854492,
          10.175691604614258,
          10.589096069335938,
          10.518295288085938,
          8.226263046264648,
          7.652151107788086,
          10.42197036743164,
          9.621734619140625,
          10.900338172912598,
          10.0015230178833,
          12.052016258239746
         ],
         "xaxis": "x",
         "y": [
          5.235787868499756,
          4.731943130493164,
          6.134396076202393,
          6.150472164154053,
          4.857482433319092,
          6.525824069976807,
          5.832429885864258,
          5.227540016174316,
          5.992228031158447,
          5.914999008178711,
          5.954212665557861,
          5.127638816833496,
          5.231743335723877,
          5.120702743530273,
          5.700926780700684,
          4.836729049682617,
          4.680707931518555,
          5.390676021575928,
          4.875792980194092,
          5.828286170959473
         ],
         "yaxis": "y"
        },
        {
         "hovertemplate": "class=(4, 'deer')<br>x=%{x}<br>y=%{y}<extra></extra>",
         "legendgroup": "(4, 'deer')",
         "marker": {
          "color": "#FFA15A",
          "symbol": "circle"
         },
         "mode": "markers",
         "name": "(4, 'deer')",
         "orientation": "v",
         "showlegend": true,
         "type": "scatter",
         "x": [
          2.9398343563079834,
          3.5202879905700684,
          3.7523367404937744,
          5.104194641113281,
          4.4205002784729,
          4.068385124206543,
          3.084028720855713,
          4.051670551300049,
          3.060533285140991,
          4.714478969573975,
          3.7193706035614014,
          4.825008869171143,
          3.6246120929718018,
          3.8777952194213867,
          4.189488410949707,
          3.749830484390259,
          3.271721363067627,
          4.041334629058838,
          3.6709160804748535,
          3.2554373741149902
         ],
         "xaxis": "x",
         "y": [
          7.733914375305176,
          8.403606414794922,
          7.876466274261475,
          4.5080180168151855,
          7.964739799499512,
          8.576685905456543,
          8.334693908691406,
          8.569282531738281,
          9.247601509094238,
          7.647030353546143,
          9.30828857421875,
          8.795565605163574,
          7.694274425506592,
          9.352716445922852,
          11.446269989013672,
          9.368415832519531,
          7.743809223175049,
          8.268587112426758,
          8.574962615966797,
          7.3502655029296875
         ],
         "yaxis": "y"
        },
        {
         "hovertemplate": "class=(5, 'dog')<br>x=%{x}<br>y=%{y}<extra></extra>",
         "legendgroup": "(5, 'dog')",
         "marker": {
          "color": "#19d3f3",
          "symbol": "circle"
         },
         "mode": "markers",
         "name": "(5, 'dog')",
         "orientation": "v",
         "showlegend": true,
         "type": "scatter",
         "x": [
          11.987630844116211,
          13.852240562438965,
          13.836067199707031,
          14.434500694274902,
          13.568120956420898,
          13.351726531982422,
          12.64523983001709,
          11.788492202758789,
          13.427994728088379,
          13.010843276977539,
          12.61825942993164,
          13.449195861816406,
          13.739367485046387,
          12.671486854553223,
          13.347633361816406,
          13.827404975891113,
          14.704060554504395,
          12.257250785827637,
          11.606315612792969,
          13.284978866577148
         ],
         "xaxis": "x",
         "y": [
          8.569744110107422,
          9.483237266540527,
          9.702075004577637,
          8.499808311462402,
          9.51075553894043,
          9.127365112304688,
          9.548397064208984,
          4.944485187530518,
          8.624580383300781,
          8.850504875183105,
          8.246529579162598,
          9.459153175354004,
          8.092035293579102,
          9.149463653564453,
          8.847641944885254,
          10.30756950378418,
          9.497135162353516,
          7.919410705566406,
          6.645265579223633,
          8.219535827636719
         ],
         "yaxis": "y"
        },
        {
         "hovertemplate": "class=(6, 'frog')<br>x=%{x}<br>y=%{y}<extra></extra>",
         "legendgroup": "(6, 'frog')",
         "marker": {
          "color": "#FF6692",
          "symbol": "circle"
         },
         "mode": "markers",
         "name": "(6, 'frog')",
         "orientation": "v",
         "showlegend": true,
         "type": "scatter",
         "x": [
          -1.2316844463348389,
          -2.0740909576416016,
          -1.4756468534469604,
          -1.8938146829605103,
          7.936825752258301,
          -2.068895101547241,
          -0.6607887744903564,
          -2.0551652908325195,
          -1.28208589553833,
          -1.363348364830017,
          -1.2798662185668945,
          -0.578668475151062,
          -0.40613943338394165,
          -1.635322093963623,
          -2.5935235023498535,
          -0.9405348300933838,
          -1.9801996946334839,
          -1.8898141384124756,
          -1.693207025527954,
          -1.2018474340438843
         ],
         "xaxis": "x",
         "y": [
          1.4067384004592896,
          2.2444400787353516,
          2.6596908569335938,
          1.9971767663955688,
          4.648427963256836,
          1.7460724115371704,
          2.8493776321411133,
          2.5982303619384766,
          1.9665822982788086,
          2.080217123031616,
          2.1098387241363525,
          1.9175423383712769,
          1.9899864196777344,
          2.557997465133667,
          2.2516019344329834,
          2.5736021995544434,
          2.3520781993865967,
          3.423516273498535,
          1.6090679168701172,
          2.8843462467193604
         ],
         "yaxis": "y"
        },
        {
         "hovertemplate": "class=(7, 'horse')<br>x=%{x}<br>y=%{y}<extra></extra>",
         "legendgroup": "(7, 'horse')",
         "marker": {
          "color": "#B6E880",
          "symbol": "circle"
         },
         "mode": "markers",
         "name": "(7, 'horse')",
         "orientation": "v",
         "showlegend": true,
         "type": "scatter",
         "x": [
          5.962386131286621,
          5.157443046569824,
          4.931725025177002,
          4.603455543518066,
          4.319733619689941,
          4.678578853607178,
          4.619838714599609,
          5.43147087097168,
          5.1239213943481445,
          5.15895938873291,
          5.105892658233643,
          5.026991367340088,
          4.544930934906006,
          4.646089553833008,
          4.2076897621154785,
          4.364470481872559,
          5.519356727600098,
          5.454922199249268,
          4.795977592468262,
          6.250843048095703
         ],
         "xaxis": "x",
         "y": [
          13.148460388183594,
          13.097114562988281,
          13.051029205322266,
          15.196649551391602,
          13.360213279724121,
          15.011225700378418,
          12.771059036254883,
          14.230271339416504,
          13.65781021118164,
          13.958087921142578,
          14.854433059692383,
          13.870842933654785,
          14.171950340270996,
          13.82540225982666,
          13.593207359313965,
          11.918063163757324,
          12.644842147827148,
          13.501486778259277,
          13.46863842010498,
          14.736855506896973
         ],
         "yaxis": "y"
        },
        {
         "hovertemplate": "class=(8, 'ship')<br>x=%{x}<br>y=%{y}<extra></extra>",
         "legendgroup": "(8, 'ship')",
         "marker": {
          "color": "#FF97FF",
          "symbol": "circle"
         },
         "mode": "markers",
         "name": "(8, 'ship')",
         "orientation": "v",
         "showlegend": true,
         "type": "scatter",
         "x": [
          -9.8319091796875,
          -11.09045696258545,
          -9.846067428588867,
          -10.621227264404297,
          -9.20903205871582,
          -10.977896690368652,
          -10.753337860107422,
          -10.014103889465332,
          -10.323594093322754,
          -10.503768920898438,
          -9.684165954589844,
          -9.4025297164917,
          -8.858270645141602,
          -9.756028175354004,
          -10.337106704711914,
          -10.29462718963623,
          -8.732185363769531,
          -10.152277946472168,
          -9.299488067626953,
          -9.87613296508789
         ],
         "xaxis": "x",
         "y": [
          -4.606202125549316,
          -5.79817008972168,
          -5.499022483825684,
          -4.562796592712402,
          -5.031390190124512,
          -5.6964311599731445,
          -6.0891289710998535,
          -3.8546853065490723,
          -4.6865386962890625,
          -4.237003803253174,
          -4.864182949066162,
          -5.573507308959961,
          -4.298007488250732,
          -4.6171345710754395,
          -5.435015678405762,
          -5.048495292663574,
          -5.583515644073486,
          -4.304235935211182,
          -4.726894855499268,
          -5.034625053405762
         ],
         "yaxis": "y"
        },
        {
         "hovertemplate": "class=(9, 'truck')<br>x=%{x}<br>y=%{y}<extra></extra>",
         "legendgroup": "(9, 'truck')",
         "marker": {
          "color": "#FECB52",
          "symbol": "circle"
         },
         "mode": "markers",
         "name": "(9, 'truck')",
         "orientation": "v",
         "showlegend": true,
         "type": "scatter",
         "x": [
          -9.798151016235352,
          -9.872335433959961,
          -9.234354972839355,
          -9.366745948791504,
          -7.623522758483887,
          -7.807321548461914,
          -8.995336532592773,
          -8.377726554870605,
          -8.613805770874023,
          -10.113103866577148,
          -10.069238662719727,
          -8.502233505249023,
          -8.834821701049805,
          -6.314868450164795,
          -8.500435829162598,
          -8.242682456970215,
          -9.565211296081543,
          -7.932883262634277,
          -8.09632682800293,
          -9.24782657623291
         ],
         "xaxis": "x",
         "y": [
          -12.051700592041016,
          -12.925376892089844,
          -13.336715698242188,
          -12.65844440460205,
          -10.165257453918457,
          -11.663858413696289,
          -9.448241233825684,
          -12.390810012817383,
          -10.503897666931152,
          -13.523649215698242,
          -12.458724975585938,
          -10.116011619567871,
          -10.787941932678223,
          -9.991754531860352,
          -12.985044479370117,
          -12.975722312927246,
          -12.402443885803223,
          -12.220958709716797,
          -9.486750602722168,
          -11.412145614624023
         ],
         "yaxis": "y"
        }
       ],
       "layout": {
        "legend": {
         "title": {
          "text": "class"
         },
         "tracegroupgap": 0
        },
        "template": {
         "data": {
          "bar": [
           {
            "error_x": {
             "color": "#2a3f5f"
            },
            "error_y": {
             "color": "#2a3f5f"
            },
            "marker": {
             "line": {
              "color": "#E5ECF6",
              "width": 0.5
             },
             "pattern": {
              "fillmode": "overlay",
              "size": 10,
              "solidity": 0.2
             }
            },
            "type": "bar"
           }
          ],
          "barpolar": [
           {
            "marker": {
             "line": {
              "color": "#E5ECF6",
              "width": 0.5
             },
             "pattern": {
              "fillmode": "overlay",
              "size": 10,
              "solidity": 0.2
             }
            },
            "type": "barpolar"
           }
          ],
          "carpet": [
           {
            "aaxis": {
             "endlinecolor": "#2a3f5f",
             "gridcolor": "white",
             "linecolor": "white",
             "minorgridcolor": "white",
             "startlinecolor": "#2a3f5f"
            },
            "baxis": {
             "endlinecolor": "#2a3f5f",
             "gridcolor": "white",
             "linecolor": "white",
             "minorgridcolor": "white",
             "startlinecolor": "#2a3f5f"
            },
            "type": "carpet"
           }
          ],
          "choropleth": [
           {
            "colorbar": {
             "outlinewidth": 0,
             "ticks": ""
            },
            "type": "choropleth"
           }
          ],
          "contour": [
           {
            "colorbar": {
             "outlinewidth": 0,
             "ticks": ""
            },
            "colorscale": [
             [
              0,
              "#0d0887"
             ],
             [
              0.1111111111111111,
              "#46039f"
             ],
             [
              0.2222222222222222,
              "#7201a8"
             ],
             [
              0.3333333333333333,
              "#9c179e"
             ],
             [
              0.4444444444444444,
              "#bd3786"
             ],
             [
              0.5555555555555556,
              "#d8576b"
             ],
             [
              0.6666666666666666,
              "#ed7953"
             ],
             [
              0.7777777777777778,
              "#fb9f3a"
             ],
             [
              0.8888888888888888,
              "#fdca26"
             ],
             [
              1,
              "#f0f921"
             ]
            ],
            "type": "contour"
           }
          ],
          "contourcarpet": [
           {
            "colorbar": {
             "outlinewidth": 0,
             "ticks": ""
            },
            "type": "contourcarpet"
           }
          ],
          "heatmap": [
           {
            "colorbar": {
             "outlinewidth": 0,
             "ticks": ""
            },
            "colorscale": [
             [
              0,
              "#0d0887"
             ],
             [
              0.1111111111111111,
              "#46039f"
             ],
             [
              0.2222222222222222,
              "#7201a8"
             ],
             [
              0.3333333333333333,
              "#9c179e"
             ],
             [
              0.4444444444444444,
              "#bd3786"
             ],
             [
              0.5555555555555556,
              "#d8576b"
             ],
             [
              0.6666666666666666,
              "#ed7953"
             ],
             [
              0.7777777777777778,
              "#fb9f3a"
             ],
             [
              0.8888888888888888,
              "#fdca26"
             ],
             [
              1,
              "#f0f921"
             ]
            ],
            "type": "heatmap"
           }
          ],
          "heatmapgl": [
           {
            "colorbar": {
             "outlinewidth": 0,
             "ticks": ""
            },
            "colorscale": [
             [
              0,
              "#0d0887"
             ],
             [
              0.1111111111111111,
              "#46039f"
             ],
             [
              0.2222222222222222,
              "#7201a8"
             ],
             [
              0.3333333333333333,
              "#9c179e"
             ],
             [
              0.4444444444444444,
              "#bd3786"
             ],
             [
              0.5555555555555556,
              "#d8576b"
             ],
             [
              0.6666666666666666,
              "#ed7953"
             ],
             [
              0.7777777777777778,
              "#fb9f3a"
             ],
             [
              0.8888888888888888,
              "#fdca26"
             ],
             [
              1,
              "#f0f921"
             ]
            ],
            "type": "heatmapgl"
           }
          ],
          "histogram": [
           {
            "marker": {
             "pattern": {
              "fillmode": "overlay",
              "size": 10,
              "solidity": 0.2
             }
            },
            "type": "histogram"
           }
          ],
          "histogram2d": [
           {
            "colorbar": {
             "outlinewidth": 0,
             "ticks": ""
            },
            "colorscale": [
             [
              0,
              "#0d0887"
             ],
             [
              0.1111111111111111,
              "#46039f"
             ],
             [
              0.2222222222222222,
              "#7201a8"
             ],
             [
              0.3333333333333333,
              "#9c179e"
             ],
             [
              0.4444444444444444,
              "#bd3786"
             ],
             [
              0.5555555555555556,
              "#d8576b"
             ],
             [
              0.6666666666666666,
              "#ed7953"
             ],
             [
              0.7777777777777778,
              "#fb9f3a"
             ],
             [
              0.8888888888888888,
              "#fdca26"
             ],
             [
              1,
              "#f0f921"
             ]
            ],
            "type": "histogram2d"
           }
          ],
          "histogram2dcontour": [
           {
            "colorbar": {
             "outlinewidth": 0,
             "ticks": ""
            },
            "colorscale": [
             [
              0,
              "#0d0887"
             ],
             [
              0.1111111111111111,
              "#46039f"
             ],
             [
              0.2222222222222222,
              "#7201a8"
             ],
             [
              0.3333333333333333,
              "#9c179e"
             ],
             [
              0.4444444444444444,
              "#bd3786"
             ],
             [
              0.5555555555555556,
              "#d8576b"
             ],
             [
              0.6666666666666666,
              "#ed7953"
             ],
             [
              0.7777777777777778,
              "#fb9f3a"
             ],
             [
              0.8888888888888888,
              "#fdca26"
             ],
             [
              1,
              "#f0f921"
             ]
            ],
            "type": "histogram2dcontour"
           }
          ],
          "mesh3d": [
           {
            "colorbar": {
             "outlinewidth": 0,
             "ticks": ""
            },
            "type": "mesh3d"
           }
          ],
          "parcoords": [
           {
            "line": {
             "colorbar": {
              "outlinewidth": 0,
              "ticks": ""
             }
            },
            "type": "parcoords"
           }
          ],
          "pie": [
           {
            "automargin": true,
            "type": "pie"
           }
          ],
          "scatter": [
           {
            "marker": {
             "colorbar": {
              "outlinewidth": 0,
              "ticks": ""
             }
            },
            "type": "scatter"
           }
          ],
          "scatter3d": [
           {
            "line": {
             "colorbar": {
              "outlinewidth": 0,
              "ticks": ""
             }
            },
            "marker": {
             "colorbar": {
              "outlinewidth": 0,
              "ticks": ""
             }
            },
            "type": "scatter3d"
           }
          ],
          "scattercarpet": [
           {
            "marker": {
             "colorbar": {
              "outlinewidth": 0,
              "ticks": ""
             }
            },
            "type": "scattercarpet"
           }
          ],
          "scattergeo": [
           {
            "marker": {
             "colorbar": {
              "outlinewidth": 0,
              "ticks": ""
             }
            },
            "type": "scattergeo"
           }
          ],
          "scattergl": [
           {
            "marker": {
             "colorbar": {
              "outlinewidth": 0,
              "ticks": ""
             }
            },
            "type": "scattergl"
           }
          ],
          "scattermapbox": [
           {
            "marker": {
             "colorbar": {
              "outlinewidth": 0,
              "ticks": ""
             }
            },
            "type": "scattermapbox"
           }
          ],
          "scatterpolar": [
           {
            "marker": {
             "colorbar": {
              "outlinewidth": 0,
              "ticks": ""
             }
            },
            "type": "scatterpolar"
           }
          ],
          "scatterpolargl": [
           {
            "marker": {
             "colorbar": {
              "outlinewidth": 0,
              "ticks": ""
             }
            },
            "type": "scatterpolargl"
           }
          ],
          "scatterternary": [
           {
            "marker": {
             "colorbar": {
              "outlinewidth": 0,
              "ticks": ""
             }
            },
            "type": "scatterternary"
           }
          ],
          "surface": [
           {
            "colorbar": {
             "outlinewidth": 0,
             "ticks": ""
            },
            "colorscale": [
             [
              0,
              "#0d0887"
             ],
             [
              0.1111111111111111,
              "#46039f"
             ],
             [
              0.2222222222222222,
              "#7201a8"
             ],
             [
              0.3333333333333333,
              "#9c179e"
             ],
             [
              0.4444444444444444,
              "#bd3786"
             ],
             [
              0.5555555555555556,
              "#d8576b"
             ],
             [
              0.6666666666666666,
              "#ed7953"
             ],
             [
              0.7777777777777778,
              "#fb9f3a"
             ],
             [
              0.8888888888888888,
              "#fdca26"
             ],
             [
              1,
              "#f0f921"
             ]
            ],
            "type": "surface"
           }
          ],
          "table": [
           {
            "cells": {
             "fill": {
              "color": "#EBF0F8"
             },
             "line": {
              "color": "white"
             }
            },
            "header": {
             "fill": {
              "color": "#C8D4E3"
             },
             "line": {
              "color": "white"
             }
            },
            "type": "table"
           }
          ]
         },
         "layout": {
          "annotationdefaults": {
           "arrowcolor": "#2a3f5f",
           "arrowhead": 0,
           "arrowwidth": 1
          },
          "autotypenumbers": "strict",
          "coloraxis": {
           "colorbar": {
            "outlinewidth": 0,
            "ticks": ""
           }
          },
          "colorscale": {
           "diverging": [
            [
             0,
             "#8e0152"
            ],
            [
             0.1,
             "#c51b7d"
            ],
            [
             0.2,
             "#de77ae"
            ],
            [
             0.3,
             "#f1b6da"
            ],
            [
             0.4,
             "#fde0ef"
            ],
            [
             0.5,
             "#f7f7f7"
            ],
            [
             0.6,
             "#e6f5d0"
            ],
            [
             0.7,
             "#b8e186"
            ],
            [
             0.8,
             "#7fbc41"
            ],
            [
             0.9,
             "#4d9221"
            ],
            [
             1,
             "#276419"
            ]
           ],
           "sequential": [
            [
             0,
             "#0d0887"
            ],
            [
             0.1111111111111111,
             "#46039f"
            ],
            [
             0.2222222222222222,
             "#7201a8"
            ],
            [
             0.3333333333333333,
             "#9c179e"
            ],
            [
             0.4444444444444444,
             "#bd3786"
            ],
            [
             0.5555555555555556,
             "#d8576b"
            ],
            [
             0.6666666666666666,
             "#ed7953"
            ],
            [
             0.7777777777777778,
             "#fb9f3a"
            ],
            [
             0.8888888888888888,
             "#fdca26"
            ],
            [
             1,
             "#f0f921"
            ]
           ],
           "sequentialminus": [
            [
             0,
             "#0d0887"
            ],
            [
             0.1111111111111111,
             "#46039f"
            ],
            [
             0.2222222222222222,
             "#7201a8"
            ],
            [
             0.3333333333333333,
             "#9c179e"
            ],
            [
             0.4444444444444444,
             "#bd3786"
            ],
            [
             0.5555555555555556,
             "#d8576b"
            ],
            [
             0.6666666666666666,
             "#ed7953"
            ],
            [
             0.7777777777777778,
             "#fb9f3a"
            ],
            [
             0.8888888888888888,
             "#fdca26"
            ],
            [
             1,
             "#f0f921"
            ]
           ]
          },
          "colorway": [
           "#636efa",
           "#EF553B",
           "#00cc96",
           "#ab63fa",
           "#FFA15A",
           "#19d3f3",
           "#FF6692",
           "#B6E880",
           "#FF97FF",
           "#FECB52"
          ],
          "font": {
           "color": "#2a3f5f"
          },
          "geo": {
           "bgcolor": "white",
           "lakecolor": "white",
           "landcolor": "#E5ECF6",
           "showlakes": true,
           "showland": true,
           "subunitcolor": "white"
          },
          "hoverlabel": {
           "align": "left"
          },
          "hovermode": "closest",
          "mapbox": {
           "style": "light"
          },
          "paper_bgcolor": "white",
          "plot_bgcolor": "#E5ECF6",
          "polar": {
           "angularaxis": {
            "gridcolor": "white",
            "linecolor": "white",
            "ticks": ""
           },
           "bgcolor": "#E5ECF6",
           "radialaxis": {
            "gridcolor": "white",
            "linecolor": "white",
            "ticks": ""
           }
          },
          "scene": {
           "xaxis": {
            "backgroundcolor": "#E5ECF6",
            "gridcolor": "white",
            "gridwidth": 2,
            "linecolor": "white",
            "showbackground": true,
            "ticks": "",
            "zerolinecolor": "white"
           },
           "yaxis": {
            "backgroundcolor": "#E5ECF6",
            "gridcolor": "white",
            "gridwidth": 2,
            "linecolor": "white",
            "showbackground": true,
            "ticks": "",
            "zerolinecolor": "white"
           },
           "zaxis": {
            "backgroundcolor": "#E5ECF6",
            "gridcolor": "white",
            "gridwidth": 2,
            "linecolor": "white",
            "showbackground": true,
            "ticks": "",
            "zerolinecolor": "white"
           }
          },
          "shapedefaults": {
           "line": {
            "color": "#2a3f5f"
           }
          },
          "ternary": {
           "aaxis": {
            "gridcolor": "white",
            "linecolor": "white",
            "ticks": ""
           },
           "baxis": {
            "gridcolor": "white",
            "linecolor": "white",
            "ticks": ""
           },
           "bgcolor": "#E5ECF6",
           "caxis": {
            "gridcolor": "white",
            "linecolor": "white",
            "ticks": ""
           }
          },
          "title": {
           "x": 0.05
          },
          "xaxis": {
           "automargin": true,
           "gridcolor": "white",
           "linecolor": "white",
           "ticks": "",
           "title": {
            "standoff": 15
           },
           "zerolinecolor": "white",
           "zerolinewidth": 2
          },
          "yaxis": {
           "automargin": true,
           "gridcolor": "white",
           "linecolor": "white",
           "ticks": "",
           "title": {
            "standoff": 15
           },
           "zerolinecolor": "white",
           "zerolinewidth": 2
          }
         }
        },
        "title": {
         "text": "ImageNet pretrained ViT CIFAR9 T-SNE"
        },
        "xaxis": {
         "anchor": "y",
         "domain": [
          0,
          1
         ],
         "title": {
          "text": "x"
         }
        },
        "yaxis": {
         "anchor": "x",
         "domain": [
          0,
          1
         ],
         "title": {
          "text": "y"
         }
        }
       }
      },
      "text/html": [
       "<div>                            <div id=\"848345bd-950b-4e6e-9073-fdc2e17b72ab\" class=\"plotly-graph-div\" style=\"height:525px; width:100%;\"></div>            <script type=\"text/javascript\">                require([\"plotly\"], function(Plotly) {                    window.PLOTLYENV=window.PLOTLYENV || {};                                    if (document.getElementById(\"848345bd-950b-4e6e-9073-fdc2e17b72ab\")) {                    Plotly.newPlot(                        \"848345bd-950b-4e6e-9073-fdc2e17b72ab\",                        [{\"hovertemplate\":\"class=(0, 'airplane')<br>x=%{x}<br>y=%{y}<extra></extra>\",\"legendgroup\":\"(0, 'airplane')\",\"marker\":{\"color\":\"#636efa\",\"symbol\":\"circle\"},\"mode\":\"markers\",\"name\":\"(0, 'airplane')\",\"orientation\":\"v\",\"showlegend\":true,\"type\":\"scatter\",\"x\":[-4.769811153411865,-3.7442305088043213,-3.1790668964385986,-6.134625434875488,-3.1973345279693604,-3.633760690689087,-3.8533523082733154,-4.120106220245361,-3.682023525238037,-4.156797885894775,-3.366474151611328,-3.935807704925537,-4.275876998901367,-5.235179424285889,-4.551849365234375,-4.617405414581299,-5.396862983703613,-2.9816858768463135,-3.4798264503479004,-3.78961181640625],\"xaxis\":\"x\",\"y\":[-6.446712493896484,-9.650738716125488,-7.485908508300781,-7.899523735046387,-6.701169967651367,-7.3372955322265625,-7.395340442657471,-7.822714328765869,-7.028719425201416,-7.984583854675293,-7.287546157836914,-8.046832084655762,-7.515768527984619,-7.063621997833252,-7.016040802001953,-7.186921119689941,-7.080550193786621,-8.399646759033203,-8.813836097717285,-6.3888421058654785],\"yaxis\":\"y\"},{\"hovertemplate\":\"class=(1, 'automobile')<br>x=%{x}<br>y=%{y}<extra></extra>\",\"legendgroup\":\"(1, 'automobile')\",\"marker\":{\"color\":\"#EF553B\",\"symbol\":\"circle\"},\"mode\":\"markers\",\"name\":\"(1, 'automobile')\",\"orientation\":\"v\",\"showlegend\":true,\"type\":\"scatter\",\"x\":[-11.354174613952637,-9.94910717010498,-10.770367622375488,-9.994546890258789,-9.20825481414795,-10.759058952331543,-10.864143371582031,-10.713766098022461,-9.634279251098633,-9.74911880493164,-10.090258598327637,-10.092469215393066,-8.81997299194336,-10.946014404296875,-8.811114311218262,-10.120771408081055,-9.858868598937988,-10.591928482055664,-10.606700897216797,-10.433794975280762],\"xaxis\":\"x\",\"y\":[-13.691704750061035,-14.990697860717773,-12.628157615661621,-14.343608856201172,-14.03014087677002,-13.508536338806152,-14.652843475341797,-14.57193374633789,-15.322053909301758,-13.99367904663086,-14.796058654785156,-15.451746940612793,-13.97859001159668,-14.772716522216797,-14.450384140014648,-14.133670806884766,-14.75610637664795,-14.046524047851562,-13.861419677734375,-14.951348304748535],\"yaxis\":\"y\"},{\"hovertemplate\":\"class=(2, 'bird')<br>x=%{x}<br>y=%{y}<extra></extra>\",\"legendgroup\":\"(2, 'bird')\",\"marker\":{\"color\":\"#00cc96\",\"symbol\":\"circle\"},\"mode\":\"markers\",\"name\":\"(2, 'bird')\",\"orientation\":\"v\",\"showlegend\":true,\"type\":\"scatter\",\"x\":[4.298827648162842,6.902784824371338,6.074653148651123,6.1541056632995605,4.540131092071533,5.848549842834473,4.9940290451049805,4.436946392059326,4.021098613739014,4.604389190673828,5.980633735656738,5.472643852233887,5.083898544311523,5.250452995300293,4.386845588684082,4.554221153259277,5.5878005027771,6.39177131652832,4.163817882537842,4.781946182250977],\"xaxis\":\"x\",\"y\":[0.055028121918439865,0.9255303144454956,0.9533751606941223,-0.4977153539657593,-0.5709190368652344,-0.2373848855495453,0.05839705094695091,-0.21856610476970673,0.1469735950231552,0.24573346972465515,0.4106789231300354,-0.6793262362480164,0.3887220323085785,0.6399323344230652,0.1496180146932602,0.7336873412132263,1.2798758745193481,-0.5543887615203857,-0.1051274836063385,-0.585502564907074],\"yaxis\":\"y\"},{\"hovertemplate\":\"class=(3, 'cat')<br>x=%{x}<br>y=%{y}<extra></extra>\",\"legendgroup\":\"(3, 'cat')\",\"marker\":{\"color\":\"#ab63fa\",\"symbol\":\"circle\"},\"mode\":\"markers\",\"name\":\"(3, 'cat')\",\"orientation\":\"v\",\"showlegend\":true,\"type\":\"scatter\",\"x\":[9.841446876525879,11.115734100341797,12.913790702819824,12.755767822265625,10.593259811401367,12.068106651306152,10.481667518615723,11.262969017028809,11.590457916259766,11.045194625854492,10.175691604614258,10.589096069335938,10.518295288085938,8.226263046264648,7.652151107788086,10.42197036743164,9.621734619140625,10.900338172912598,10.0015230178833,12.052016258239746],\"xaxis\":\"x\",\"y\":[5.235787868499756,4.731943130493164,6.134396076202393,6.150472164154053,4.857482433319092,6.525824069976807,5.832429885864258,5.227540016174316,5.992228031158447,5.914999008178711,5.954212665557861,5.127638816833496,5.231743335723877,5.120702743530273,5.700926780700684,4.836729049682617,4.680707931518555,5.390676021575928,4.875792980194092,5.828286170959473],\"yaxis\":\"y\"},{\"hovertemplate\":\"class=(4, 'deer')<br>x=%{x}<br>y=%{y}<extra></extra>\",\"legendgroup\":\"(4, 'deer')\",\"marker\":{\"color\":\"#FFA15A\",\"symbol\":\"circle\"},\"mode\":\"markers\",\"name\":\"(4, 'deer')\",\"orientation\":\"v\",\"showlegend\":true,\"type\":\"scatter\",\"x\":[2.9398343563079834,3.5202879905700684,3.7523367404937744,5.104194641113281,4.4205002784729,4.068385124206543,3.084028720855713,4.051670551300049,3.060533285140991,4.714478969573975,3.7193706035614014,4.825008869171143,3.6246120929718018,3.8777952194213867,4.189488410949707,3.749830484390259,3.271721363067627,4.041334629058838,3.6709160804748535,3.2554373741149902],\"xaxis\":\"x\",\"y\":[7.733914375305176,8.403606414794922,7.876466274261475,4.5080180168151855,7.964739799499512,8.576685905456543,8.334693908691406,8.569282531738281,9.247601509094238,7.647030353546143,9.30828857421875,8.795565605163574,7.694274425506592,9.352716445922852,11.446269989013672,9.368415832519531,7.743809223175049,8.268587112426758,8.574962615966797,7.3502655029296875],\"yaxis\":\"y\"},{\"hovertemplate\":\"class=(5, 'dog')<br>x=%{x}<br>y=%{y}<extra></extra>\",\"legendgroup\":\"(5, 'dog')\",\"marker\":{\"color\":\"#19d3f3\",\"symbol\":\"circle\"},\"mode\":\"markers\",\"name\":\"(5, 'dog')\",\"orientation\":\"v\",\"showlegend\":true,\"type\":\"scatter\",\"x\":[11.987630844116211,13.852240562438965,13.836067199707031,14.434500694274902,13.568120956420898,13.351726531982422,12.64523983001709,11.788492202758789,13.427994728088379,13.010843276977539,12.61825942993164,13.449195861816406,13.739367485046387,12.671486854553223,13.347633361816406,13.827404975891113,14.704060554504395,12.257250785827637,11.606315612792969,13.284978866577148],\"xaxis\":\"x\",\"y\":[8.569744110107422,9.483237266540527,9.702075004577637,8.499808311462402,9.51075553894043,9.127365112304688,9.548397064208984,4.944485187530518,8.624580383300781,8.850504875183105,8.246529579162598,9.459153175354004,8.092035293579102,9.149463653564453,8.847641944885254,10.30756950378418,9.497135162353516,7.919410705566406,6.645265579223633,8.219535827636719],\"yaxis\":\"y\"},{\"hovertemplate\":\"class=(6, 'frog')<br>x=%{x}<br>y=%{y}<extra></extra>\",\"legendgroup\":\"(6, 'frog')\",\"marker\":{\"color\":\"#FF6692\",\"symbol\":\"circle\"},\"mode\":\"markers\",\"name\":\"(6, 'frog')\",\"orientation\":\"v\",\"showlegend\":true,\"type\":\"scatter\",\"x\":[-1.2316844463348389,-2.0740909576416016,-1.4756468534469604,-1.8938146829605103,7.936825752258301,-2.068895101547241,-0.6607887744903564,-2.0551652908325195,-1.28208589553833,-1.363348364830017,-1.2798662185668945,-0.578668475151062,-0.40613943338394165,-1.635322093963623,-2.5935235023498535,-0.9405348300933838,-1.9801996946334839,-1.8898141384124756,-1.693207025527954,-1.2018474340438843],\"xaxis\":\"x\",\"y\":[1.4067384004592896,2.2444400787353516,2.6596908569335938,1.9971767663955688,4.648427963256836,1.7460724115371704,2.8493776321411133,2.5982303619384766,1.9665822982788086,2.080217123031616,2.1098387241363525,1.9175423383712769,1.9899864196777344,2.557997465133667,2.2516019344329834,2.5736021995544434,2.3520781993865967,3.423516273498535,1.6090679168701172,2.8843462467193604],\"yaxis\":\"y\"},{\"hovertemplate\":\"class=(7, 'horse')<br>x=%{x}<br>y=%{y}<extra></extra>\",\"legendgroup\":\"(7, 'horse')\",\"marker\":{\"color\":\"#B6E880\",\"symbol\":\"circle\"},\"mode\":\"markers\",\"name\":\"(7, 'horse')\",\"orientation\":\"v\",\"showlegend\":true,\"type\":\"scatter\",\"x\":[5.962386131286621,5.157443046569824,4.931725025177002,4.603455543518066,4.319733619689941,4.678578853607178,4.619838714599609,5.43147087097168,5.1239213943481445,5.15895938873291,5.105892658233643,5.026991367340088,4.544930934906006,4.646089553833008,4.2076897621154785,4.364470481872559,5.519356727600098,5.454922199249268,4.795977592468262,6.250843048095703],\"xaxis\":\"x\",\"y\":[13.148460388183594,13.097114562988281,13.051029205322266,15.196649551391602,13.360213279724121,15.011225700378418,12.771059036254883,14.230271339416504,13.65781021118164,13.958087921142578,14.854433059692383,13.870842933654785,14.171950340270996,13.82540225982666,13.593207359313965,11.918063163757324,12.644842147827148,13.501486778259277,13.46863842010498,14.736855506896973],\"yaxis\":\"y\"},{\"hovertemplate\":\"class=(8, 'ship')<br>x=%{x}<br>y=%{y}<extra></extra>\",\"legendgroup\":\"(8, 'ship')\",\"marker\":{\"color\":\"#FF97FF\",\"symbol\":\"circle\"},\"mode\":\"markers\",\"name\":\"(8, 'ship')\",\"orientation\":\"v\",\"showlegend\":true,\"type\":\"scatter\",\"x\":[-9.8319091796875,-11.09045696258545,-9.846067428588867,-10.621227264404297,-9.20903205871582,-10.977896690368652,-10.753337860107422,-10.014103889465332,-10.323594093322754,-10.503768920898438,-9.684165954589844,-9.4025297164917,-8.858270645141602,-9.756028175354004,-10.337106704711914,-10.29462718963623,-8.732185363769531,-10.152277946472168,-9.299488067626953,-9.87613296508789],\"xaxis\":\"x\",\"y\":[-4.606202125549316,-5.79817008972168,-5.499022483825684,-4.562796592712402,-5.031390190124512,-5.6964311599731445,-6.0891289710998535,-3.8546853065490723,-4.6865386962890625,-4.237003803253174,-4.864182949066162,-5.573507308959961,-4.298007488250732,-4.6171345710754395,-5.435015678405762,-5.048495292663574,-5.583515644073486,-4.304235935211182,-4.726894855499268,-5.034625053405762],\"yaxis\":\"y\"},{\"hovertemplate\":\"class=(9, 'truck')<br>x=%{x}<br>y=%{y}<extra></extra>\",\"legendgroup\":\"(9, 'truck')\",\"marker\":{\"color\":\"#FECB52\",\"symbol\":\"circle\"},\"mode\":\"markers\",\"name\":\"(9, 'truck')\",\"orientation\":\"v\",\"showlegend\":true,\"type\":\"scatter\",\"x\":[-9.798151016235352,-9.872335433959961,-9.234354972839355,-9.366745948791504,-7.623522758483887,-7.807321548461914,-8.995336532592773,-8.377726554870605,-8.613805770874023,-10.113103866577148,-10.069238662719727,-8.502233505249023,-8.834821701049805,-6.314868450164795,-8.500435829162598,-8.242682456970215,-9.565211296081543,-7.932883262634277,-8.09632682800293,-9.24782657623291],\"xaxis\":\"x\",\"y\":[-12.051700592041016,-12.925376892089844,-13.336715698242188,-12.65844440460205,-10.165257453918457,-11.663858413696289,-9.448241233825684,-12.390810012817383,-10.503897666931152,-13.523649215698242,-12.458724975585938,-10.116011619567871,-10.787941932678223,-9.991754531860352,-12.985044479370117,-12.975722312927246,-12.402443885803223,-12.220958709716797,-9.486750602722168,-11.412145614624023],\"yaxis\":\"y\"}],                        {\"legend\":{\"title\":{\"text\":\"class\"},\"tracegroupgap\":0},\"template\":{\"data\":{\"bar\":[{\"error_x\":{\"color\":\"#2a3f5f\"},\"error_y\":{\"color\":\"#2a3f5f\"},\"marker\":{\"line\":{\"color\":\"#E5ECF6\",\"width\":0.5},\"pattern\":{\"fillmode\":\"overlay\",\"size\":10,\"solidity\":0.2}},\"type\":\"bar\"}],\"barpolar\":[{\"marker\":{\"line\":{\"color\":\"#E5ECF6\",\"width\":0.5},\"pattern\":{\"fillmode\":\"overlay\",\"size\":10,\"solidity\":0.2}},\"type\":\"barpolar\"}],\"carpet\":[{\"aaxis\":{\"endlinecolor\":\"#2a3f5f\",\"gridcolor\":\"white\",\"linecolor\":\"white\",\"minorgridcolor\":\"white\",\"startlinecolor\":\"#2a3f5f\"},\"baxis\":{\"endlinecolor\":\"#2a3f5f\",\"gridcolor\":\"white\",\"linecolor\":\"white\",\"minorgridcolor\":\"white\",\"startlinecolor\":\"#2a3f5f\"},\"type\":\"carpet\"}],\"choropleth\":[{\"colorbar\":{\"outlinewidth\":0,\"ticks\":\"\"},\"type\":\"choropleth\"}],\"contour\":[{\"colorbar\":{\"outlinewidth\":0,\"ticks\":\"\"},\"colorscale\":[[0.0,\"#0d0887\"],[0.1111111111111111,\"#46039f\"],[0.2222222222222222,\"#7201a8\"],[0.3333333333333333,\"#9c179e\"],[0.4444444444444444,\"#bd3786\"],[0.5555555555555556,\"#d8576b\"],[0.6666666666666666,\"#ed7953\"],[0.7777777777777778,\"#fb9f3a\"],[0.8888888888888888,\"#fdca26\"],[1.0,\"#f0f921\"]],\"type\":\"contour\"}],\"contourcarpet\":[{\"colorbar\":{\"outlinewidth\":0,\"ticks\":\"\"},\"type\":\"contourcarpet\"}],\"heatmap\":[{\"colorbar\":{\"outlinewidth\":0,\"ticks\":\"\"},\"colorscale\":[[0.0,\"#0d0887\"],[0.1111111111111111,\"#46039f\"],[0.2222222222222222,\"#7201a8\"],[0.3333333333333333,\"#9c179e\"],[0.4444444444444444,\"#bd3786\"],[0.5555555555555556,\"#d8576b\"],[0.6666666666666666,\"#ed7953\"],[0.7777777777777778,\"#fb9f3a\"],[0.8888888888888888,\"#fdca26\"],[1.0,\"#f0f921\"]],\"type\":\"heatmap\"}],\"heatmapgl\":[{\"colorbar\":{\"outlinewidth\":0,\"ticks\":\"\"},\"colorscale\":[[0.0,\"#0d0887\"],[0.1111111111111111,\"#46039f\"],[0.2222222222222222,\"#7201a8\"],[0.3333333333333333,\"#9c179e\"],[0.4444444444444444,\"#bd3786\"],[0.5555555555555556,\"#d8576b\"],[0.6666666666666666,\"#ed7953\"],[0.7777777777777778,\"#fb9f3a\"],[0.8888888888888888,\"#fdca26\"],[1.0,\"#f0f921\"]],\"type\":\"heatmapgl\"}],\"histogram\":[{\"marker\":{\"pattern\":{\"fillmode\":\"overlay\",\"size\":10,\"solidity\":0.2}},\"type\":\"histogram\"}],\"histogram2d\":[{\"colorbar\":{\"outlinewidth\":0,\"ticks\":\"\"},\"colorscale\":[[0.0,\"#0d0887\"],[0.1111111111111111,\"#46039f\"],[0.2222222222222222,\"#7201a8\"],[0.3333333333333333,\"#9c179e\"],[0.4444444444444444,\"#bd3786\"],[0.5555555555555556,\"#d8576b\"],[0.6666666666666666,\"#ed7953\"],[0.7777777777777778,\"#fb9f3a\"],[0.8888888888888888,\"#fdca26\"],[1.0,\"#f0f921\"]],\"type\":\"histogram2d\"}],\"histogram2dcontour\":[{\"colorbar\":{\"outlinewidth\":0,\"ticks\":\"\"},\"colorscale\":[[0.0,\"#0d0887\"],[0.1111111111111111,\"#46039f\"],[0.2222222222222222,\"#7201a8\"],[0.3333333333333333,\"#9c179e\"],[0.4444444444444444,\"#bd3786\"],[0.5555555555555556,\"#d8576b\"],[0.6666666666666666,\"#ed7953\"],[0.7777777777777778,\"#fb9f3a\"],[0.8888888888888888,\"#fdca26\"],[1.0,\"#f0f921\"]],\"type\":\"histogram2dcontour\"}],\"mesh3d\":[{\"colorbar\":{\"outlinewidth\":0,\"ticks\":\"\"},\"type\":\"mesh3d\"}],\"parcoords\":[{\"line\":{\"colorbar\":{\"outlinewidth\":0,\"ticks\":\"\"}},\"type\":\"parcoords\"}],\"pie\":[{\"automargin\":true,\"type\":\"pie\"}],\"scatter\":[{\"marker\":{\"colorbar\":{\"outlinewidth\":0,\"ticks\":\"\"}},\"type\":\"scatter\"}],\"scatter3d\":[{\"line\":{\"colorbar\":{\"outlinewidth\":0,\"ticks\":\"\"}},\"marker\":{\"colorbar\":{\"outlinewidth\":0,\"ticks\":\"\"}},\"type\":\"scatter3d\"}],\"scattercarpet\":[{\"marker\":{\"colorbar\":{\"outlinewidth\":0,\"ticks\":\"\"}},\"type\":\"scattercarpet\"}],\"scattergeo\":[{\"marker\":{\"colorbar\":{\"outlinewidth\":0,\"ticks\":\"\"}},\"type\":\"scattergeo\"}],\"scattergl\":[{\"marker\":{\"colorbar\":{\"outlinewidth\":0,\"ticks\":\"\"}},\"type\":\"scattergl\"}],\"scattermapbox\":[{\"marker\":{\"colorbar\":{\"outlinewidth\":0,\"ticks\":\"\"}},\"type\":\"scattermapbox\"}],\"scatterpolar\":[{\"marker\":{\"colorbar\":{\"outlinewidth\":0,\"ticks\":\"\"}},\"type\":\"scatterpolar\"}],\"scatterpolargl\":[{\"marker\":{\"colorbar\":{\"outlinewidth\":0,\"ticks\":\"\"}},\"type\":\"scatterpolargl\"}],\"scatterternary\":[{\"marker\":{\"colorbar\":{\"outlinewidth\":0,\"ticks\":\"\"}},\"type\":\"scatterternary\"}],\"surface\":[{\"colorbar\":{\"outlinewidth\":0,\"ticks\":\"\"},\"colorscale\":[[0.0,\"#0d0887\"],[0.1111111111111111,\"#46039f\"],[0.2222222222222222,\"#7201a8\"],[0.3333333333333333,\"#9c179e\"],[0.4444444444444444,\"#bd3786\"],[0.5555555555555556,\"#d8576b\"],[0.6666666666666666,\"#ed7953\"],[0.7777777777777778,\"#fb9f3a\"],[0.8888888888888888,\"#fdca26\"],[1.0,\"#f0f921\"]],\"type\":\"surface\"}],\"table\":[{\"cells\":{\"fill\":{\"color\":\"#EBF0F8\"},\"line\":{\"color\":\"white\"}},\"header\":{\"fill\":{\"color\":\"#C8D4E3\"},\"line\":{\"color\":\"white\"}},\"type\":\"table\"}]},\"layout\":{\"annotationdefaults\":{\"arrowcolor\":\"#2a3f5f\",\"arrowhead\":0,\"arrowwidth\":1},\"autotypenumbers\":\"strict\",\"coloraxis\":{\"colorbar\":{\"outlinewidth\":0,\"ticks\":\"\"}},\"colorscale\":{\"diverging\":[[0,\"#8e0152\"],[0.1,\"#c51b7d\"],[0.2,\"#de77ae\"],[0.3,\"#f1b6da\"],[0.4,\"#fde0ef\"],[0.5,\"#f7f7f7\"],[0.6,\"#e6f5d0\"],[0.7,\"#b8e186\"],[0.8,\"#7fbc41\"],[0.9,\"#4d9221\"],[1,\"#276419\"]],\"sequential\":[[0.0,\"#0d0887\"],[0.1111111111111111,\"#46039f\"],[0.2222222222222222,\"#7201a8\"],[0.3333333333333333,\"#9c179e\"],[0.4444444444444444,\"#bd3786\"],[0.5555555555555556,\"#d8576b\"],[0.6666666666666666,\"#ed7953\"],[0.7777777777777778,\"#fb9f3a\"],[0.8888888888888888,\"#fdca26\"],[1.0,\"#f0f921\"]],\"sequentialminus\":[[0.0,\"#0d0887\"],[0.1111111111111111,\"#46039f\"],[0.2222222222222222,\"#7201a8\"],[0.3333333333333333,\"#9c179e\"],[0.4444444444444444,\"#bd3786\"],[0.5555555555555556,\"#d8576b\"],[0.6666666666666666,\"#ed7953\"],[0.7777777777777778,\"#fb9f3a\"],[0.8888888888888888,\"#fdca26\"],[1.0,\"#f0f921\"]]},\"colorway\":[\"#636efa\",\"#EF553B\",\"#00cc96\",\"#ab63fa\",\"#FFA15A\",\"#19d3f3\",\"#FF6692\",\"#B6E880\",\"#FF97FF\",\"#FECB52\"],\"font\":{\"color\":\"#2a3f5f\"},\"geo\":{\"bgcolor\":\"white\",\"lakecolor\":\"white\",\"landcolor\":\"#E5ECF6\",\"showlakes\":true,\"showland\":true,\"subunitcolor\":\"white\"},\"hoverlabel\":{\"align\":\"left\"},\"hovermode\":\"closest\",\"mapbox\":{\"style\":\"light\"},\"paper_bgcolor\":\"white\",\"plot_bgcolor\":\"#E5ECF6\",\"polar\":{\"angularaxis\":{\"gridcolor\":\"white\",\"linecolor\":\"white\",\"ticks\":\"\"},\"bgcolor\":\"#E5ECF6\",\"radialaxis\":{\"gridcolor\":\"white\",\"linecolor\":\"white\",\"ticks\":\"\"}},\"scene\":{\"xaxis\":{\"backgroundcolor\":\"#E5ECF6\",\"gridcolor\":\"white\",\"gridwidth\":2,\"linecolor\":\"white\",\"showbackground\":true,\"ticks\":\"\",\"zerolinecolor\":\"white\"},\"yaxis\":{\"backgroundcolor\":\"#E5ECF6\",\"gridcolor\":\"white\",\"gridwidth\":2,\"linecolor\":\"white\",\"showbackground\":true,\"ticks\":\"\",\"zerolinecolor\":\"white\"},\"zaxis\":{\"backgroundcolor\":\"#E5ECF6\",\"gridcolor\":\"white\",\"gridwidth\":2,\"linecolor\":\"white\",\"showbackground\":true,\"ticks\":\"\",\"zerolinecolor\":\"white\"}},\"shapedefaults\":{\"line\":{\"color\":\"#2a3f5f\"}},\"ternary\":{\"aaxis\":{\"gridcolor\":\"white\",\"linecolor\":\"white\",\"ticks\":\"\"},\"baxis\":{\"gridcolor\":\"white\",\"linecolor\":\"white\",\"ticks\":\"\"},\"bgcolor\":\"#E5ECF6\",\"caxis\":{\"gridcolor\":\"white\",\"linecolor\":\"white\",\"ticks\":\"\"}},\"title\":{\"x\":0.05},\"xaxis\":{\"automargin\":true,\"gridcolor\":\"white\",\"linecolor\":\"white\",\"ticks\":\"\",\"title\":{\"standoff\":15},\"zerolinecolor\":\"white\",\"zerolinewidth\":2},\"yaxis\":{\"automargin\":true,\"gridcolor\":\"white\",\"linecolor\":\"white\",\"ticks\":\"\",\"title\":{\"standoff\":15},\"zerolinecolor\":\"white\",\"zerolinewidth\":2}}},\"title\":{\"text\":\"ImageNet pretrained ViT CIFAR9 T-SNE\"},\"xaxis\":{\"anchor\":\"y\",\"domain\":[0.0,1.0],\"title\":{\"text\":\"x\"}},\"yaxis\":{\"anchor\":\"x\",\"domain\":[0.0,1.0],\"title\":{\"text\":\"y\"}}},                        {\"responsive\": true}                    ).then(function(){\n",
       "                            \n",
       "var gd = document.getElementById('848345bd-950b-4e6e-9073-fdc2e17b72ab');\n",
       "var x = new MutationObserver(function (mutations, observer) {{\n",
       "        var display = window.getComputedStyle(gd).display;\n",
       "        if (!display || display === 'none') {{\n",
       "            console.log([gd, 'removed!']);\n",
       "            Plotly.purge(gd);\n",
       "            observer.disconnect();\n",
       "        }}\n",
       "}});\n",
       "\n",
       "// Listen for the removal of the full notebook cells\n",
       "var notebookContainer = gd.closest('#notebook-container');\n",
       "if (notebookContainer) {{\n",
       "    x.observe(notebookContainer, {childList: true});\n",
       "}}\n",
       "\n",
       "// Listen for the clearing of the current output cell\n",
       "var outputEl = gd.closest('.output');\n",
       "if (outputEl) {{\n",
       "    x.observe(outputEl, {childList: true});\n",
       "}}\n",
       "\n",
       "                        })                };                });            </script>        </div>"
      ]
     },
     "metadata": {},
     "output_type": "display_data"
    }
   ],
   "source": [
    "from sklearn.manifold import TSNE\n",
    "\n",
    "tsne = TSNE(n_components=2)\n",
    "X_tsne = tsne.fit_transform(X)\n",
    "\n",
    "df_embed = pd.DataFrame(X_tsne)\n",
    "df_embed = df_embed.rename(columns={0: 'x', 1: 'y'})\n",
    "df_embed = df_embed.assign(label=y)\n",
    "fig = px.scatter(\n",
    "    df_embed,\n",
    "    x='x',\n",
    "    y='y',\n",
    "    color='label',\n",
    "    labels={'label': 'class'},\n",
    "    title='ImageNet pretrained ViT CIFAR9 T-SNE',\n",
    ")\n",
    "fig.show()"
   ]
  },
  {
   "cell_type": "markdown",
   "metadata": {},
   "source": [
    "#### Feature visualization by PCA"
   ]
  },
  {
   "cell_type": "code",
   "execution_count": 52,
   "metadata": {},
   "outputs": [
    {
     "data": {
      "application/vnd.plotly.v1+json": {
       "config": {
        "plotlyServerURL": "https://plot.ly"
       },
       "data": [
        {
         "hovertemplate": "class=(0, 'airplane')<br>x=%{x}<br>y=%{y}<extra></extra>",
         "legendgroup": "(0, 'airplane')",
         "marker": {
          "color": "#636efa",
          "symbol": "circle"
         },
         "mode": "markers",
         "name": "(0, 'airplane')",
         "orientation": "v",
         "showlegend": true,
         "type": "scatter",
         "x": [
          0.8842548431466202,
          9.631790563220866,
          1.545488282026465,
          8.86657031875531,
          4.538644994574234,
          2.4119599798030475,
          4.474068320889534,
          4.82887166433725,
          3.9604992299691193,
          5.965245136996574,
          2.694193200296835,
          3.71874407306288,
          5.686176332675794,
          7.875903693955728,
          6.911350107492428,
          6.483776746527671,
          6.022932496432634,
          2.9198956475734925,
          6.877196340950637,
          2.7370614933451365
         ],
         "xaxis": "x",
         "y": [
          13.801795255505587,
          -2.9645905259312983,
          8.630228826477921,
          14.23891397589156,
          10.83324406494484,
          14.106967333960618,
          14.063793499280239,
          11.971767860638467,
          12.362771408394904,
          10.240157988303416,
          11.612563169016523,
          9.707284651045267,
          14.893008944455637,
          14.826393567062995,
          15.502211153809377,
          17.30957898711787,
          17.43462139823346,
          6.056997670923945,
          11.932417286213854,
          12.607168888530472
         ],
         "yaxis": "y"
        },
        {
         "hovertemplate": "class=(1, 'automobile')<br>x=%{x}<br>y=%{y}<extra></extra>",
         "legendgroup": "(1, 'automobile')",
         "marker": {
          "color": "#EF553B",
          "symbol": "circle"
         },
         "mode": "markers",
         "name": "(1, 'automobile')",
         "orientation": "v",
         "showlegend": true,
         "type": "scatter",
         "x": [
          17.95888649565537,
          17.647634747497275,
          17.54116875345478,
          18.745011158720093,
          18.724913252754515,
          17.24482501854084,
          18.033081541730905,
          17.02357925794419,
          16.00923519010017,
          19.550545562143807,
          18.324315470982288,
          15.997097065235044,
          19.332032148728313,
          17.043286222800187,
          18.628104450262963,
          19.43136238837771,
          17.764961210100655,
          18.77687043953316,
          17.637724580706642,
          17.279131196042083
         ],
         "xaxis": "x",
         "y": [
          -5.89392801528143,
          -8.9501228473549,
          -4.288492543337407,
          -10.808207582283565,
          -7.115213979442911,
          -9.872655482610424,
          -9.572280641531977,
          -11.84871536722029,
          -12.111634931656518,
          -11.386495110535233,
          -10.344528322338153,
          -10.548705824582433,
          -4.466560561241329,
          -10.765604618699662,
          -4.296597726867301,
          -8.480761324308874,
          -11.748944200350039,
          -10.09407302549882,
          -10.682262794185517,
          -11.781353929459957
         ],
         "yaxis": "y"
        },
        {
         "hovertemplate": "class=(2, 'bird')<br>x=%{x}<br>y=%{y}<extra></extra>",
         "legendgroup": "(2, 'bird')",
         "marker": {
          "color": "#00cc96",
          "symbol": "circle"
         },
         "mode": "markers",
         "name": "(2, 'bird')",
         "orientation": "v",
         "showlegend": true,
         "type": "scatter",
         "x": [
          -5.270047386870882,
          -4.019683667574733,
          -4.5410113400578815,
          -3.9908369118554154,
          -5.498964086259863,
          -5.721960515165192,
          -4.408136163604501,
          -5.702159657321782,
          -5.536796689121363,
          -7.521151741027948,
          -6.319739800193301,
          -5.916921135683336,
          -5.940604078944048,
          -2.407755081228892,
          -6.023878426718259,
          -4.504321816573723,
          -1.6841808233380673,
          -8.322296437276966,
          -5.239638438941005,
          -7.489281244167943
         ],
         "xaxis": "x",
         "y": [
          0.3241494820451916,
          0.8075178071076937,
          -7.145777461927941,
          3.1363256421450503,
          0.6348726888041115,
          0.8974624086592916,
          -1.8139671688557044,
          -2.4346491554527403,
          -2.672535581939067,
          0.7739235273303507,
          -1.5226173849293279,
          -2.230094191225101,
          0.7054685597752831,
          2.513463956032299,
          0.22106138949367202,
          0.9928098378712472,
          2.098150687663914,
          5.596729861675169,
          -1.2319538884236094,
          -0.024439867447486198
         ],
         "yaxis": "y"
        },
        {
         "hovertemplate": "class=(3, 'cat')<br>x=%{x}<br>y=%{y}<extra></extra>",
         "legendgroup": "(3, 'cat')",
         "marker": {
          "color": "#ab63fa",
          "symbol": "circle"
         },
         "mode": "markers",
         "name": "(3, 'cat')",
         "orientation": "v",
         "showlegend": true,
         "type": "scatter",
         "x": [
          -8.268463254476048,
          -8.84396609540463,
          -11.205887146124484,
          -9.264342823106654,
          -10.99423275157293,
          -9.115938107094488,
          -11.019552160560957,
          -6.714914834102077,
          -10.119348689494185,
          -5.2530815945208875,
          -8.63365058528635,
          -8.660353117550432,
          -8.014953720522248,
          -10.246926756503036,
          -15.499334854943298,
          -9.046092980357955,
          -8.92235007820784,
          -9.148212266566548,
          -7.798723694282843,
          -11.802526600224995
         ],
         "xaxis": "x",
         "y": [
          -13.037543234661829,
          -13.375547826903945,
          -7.666177071867803,
          -10.911069447079381,
          -10.568237151718815,
          -11.092353679709241,
          -8.70898687101025,
          -9.43125225752157,
          -11.23038255024434,
          -11.724847533348978,
          -9.883144168019667,
          -11.007419523169654,
          -10.334865290851551,
          -3.7458972689357743,
          -0.7181141756452707,
          -10.515210719015688,
          -13.429146908644567,
          -8.813061012278498,
          -8.558055892899826,
          -7.427075516007867
         ],
         "yaxis": "y"
        },
        {
         "hovertemplate": "class=(4, 'deer')<br>x=%{x}<br>y=%{y}<extra></extra>",
         "legendgroup": "(4, 'deer')",
         "marker": {
          "color": "#FFA15A",
          "symbol": "circle"
         },
         "mode": "markers",
         "name": "(4, 'deer')",
         "orientation": "v",
         "showlegend": true,
         "type": "scatter",
         "x": [
          -8.190724376219764,
          -7.69583304565238,
          -6.068040011120537,
          -7.870803411507935,
          -8.85595231355704,
          -6.205736916455367,
          -5.586501453028252,
          -5.767694030557948,
          -8.711485323314717,
          -5.427424480671697,
          -8.436705403888407,
          -7.7483692143645815,
          -6.819986352581808,
          -8.678179999139983,
          -10.37299442854682,
          -6.923165208049451,
          -6.964843075333601,
          -5.766687661729871,
          -6.976089381914664,
          -9.12068276379147
         ],
         "xaxis": "x",
         "y": [
          5.5495496562093365,
          11.542172796806092,
          10.5009564559508,
          -2.728436197958967,
          6.08272100949476,
          11.483330107145308,
          12.358820026617495,
          12.026857954575748,
          9.437986421588377,
          9.73501628227475,
          11.00576607685221,
          11.630215798845446,
          10.721080786616394,
          10.995564838906775,
          9.58318650398145,
          5.818906978515997,
          10.843229722673659,
          10.08432273473025,
          11.47067519889511,
          8.638017494834715
         ],
         "yaxis": "y"
        },
        {
         "hovertemplate": "class=(5, 'dog')<br>x=%{x}<br>y=%{y}<extra></extra>",
         "legendgroup": "(5, 'dog')",
         "marker": {
          "color": "#19d3f3",
          "symbol": "circle"
         },
         "mode": "markers",
         "name": "(5, 'dog')",
         "orientation": "v",
         "showlegend": true,
         "type": "scatter",
         "x": [
          -8.797888383098229,
          -7.878081343846761,
          -8.257260645082551,
          -9.395147414830626,
          -7.58964462503214,
          -7.229856101285716,
          -9.825788579626844,
          -4.492041018158968,
          -9.389661734489492,
          -8.792715194176314,
          -9.80564378465122,
          -7.347269092030032,
          -5.214650121670187,
          -10.330345595303983,
          -6.879680827440331,
          -10.289130291672608,
          -3.805080221545785,
          -11.976269064638107,
          -9.597749068243145,
          -6.861215897453706
         ],
         "xaxis": "x",
         "y": [
          -7.725807550532943,
          -4.626403736691679,
          -3.5130600632042523,
          -2.697777697233157,
          -5.568981575243938,
          -3.2180590008316545,
          -2.0460465179140837,
          -12.52729751990423,
          -2.7715099991095222,
          -4.869957331889341,
          -6.006371479814342,
          -4.687792058540486,
          -7.065823115243043,
          -4.5835055227569095,
          -3.1588101437205283,
          -3.286203489255934,
          -5.964641748815967,
          -5.845494721857062,
          -6.931004368641533,
          -4.127643594312332
         ],
         "yaxis": "y"
        },
        {
         "hovertemplate": "class=(6, 'frog')<br>x=%{x}<br>y=%{y}<extra></extra>",
         "legendgroup": "(6, 'frog')",
         "marker": {
          "color": "#FF6692",
          "symbol": "circle"
         },
         "mode": "markers",
         "name": "(6, 'frog')",
         "orientation": "v",
         "showlegend": true,
         "type": "scatter",
         "x": [
          -5.559266804423461,
          -2.683130571266416,
          -5.0312629918028255,
          -4.365925973208811,
          -12.831831339289193,
          -1.3520659702019957,
          -6.438317691882332,
          -2.1201927763006587,
          -2.513957546755734,
          -3.7595691793750965,
          -5.457821838674226,
          -6.853027913475823,
          -6.962249138758533,
          -4.7997433585503435,
          0.8361488604191514,
          -5.3432561283547395,
          -2.278587744286381,
          -5.599513928397668,
          -4.031175276176373,
          -6.638417193681969
         ],
         "xaxis": "x",
         "y": [
          -13.50928654239449,
          -11.969974912445505,
          -12.170942446867128,
          -12.638929566989573,
          -9.606982492025214,
          -12.359584761043564,
          -12.479361143816105,
          -11.746272917803555,
          -12.161001008006957,
          -12.549904702432304,
          -12.748311293494712,
          -9.93699830328096,
          -10.263691983912627,
          -12.968289930355033,
          -11.174086177688942,
          -10.769272710188815,
          -11.720712016846031,
          -15.147063537486149,
          -11.323384780365007,
          -10.646759789520594
         ],
         "yaxis": "y"
        },
        {
         "hovertemplate": "class=(7, 'horse')<br>x=%{x}<br>y=%{y}<extra></extra>",
         "legendgroup": "(7, 'horse')",
         "marker": {
          "color": "#B6E880",
          "symbol": "circle"
         },
         "mode": "markers",
         "name": "(7, 'horse')",
         "orientation": "v",
         "showlegend": true,
         "type": "scatter",
         "x": [
          -10.610926332090655,
          -9.27792972666745,
          -10.569422058316077,
          -8.313157196212757,
          -11.65140312268611,
          -9.311450722321547,
          -11.687908122320971,
          -9.735269495602477,
          -10.215474810315968,
          -10.284611906500995,
          -8.585372192566817,
          -10.925797651688612,
          -10.745586738386363,
          -12.291505887423684,
          -11.254166875018873,
          -13.497930873683917,
          -11.734409819909931,
          -11.544425530221309,
          -11.01652310154468,
          -5.566566241695651
         ],
         "xaxis": "x",
         "y": [
          3.537425765928848,
          6.200295524988017,
          5.1019017899562,
          4.639192549232345,
          7.200004670631119,
          2.0066209587024852,
          7.379043782460007,
          3.9899186298883285,
          5.550572060232359,
          3.3019932680236317,
          -1.1042007400806142,
          5.694967491389335,
          2.5828002040617086,
          5.421782406915796,
          4.962934251941159,
          8.98230767629389,
          4.895379628811701,
          2.940571769033794,
          5.207930370815844,
          7.385759902534435
         ],
         "yaxis": "y"
        },
        {
         "hovertemplate": "class=(8, 'ship')<br>x=%{x}<br>y=%{y}<extra></extra>",
         "legendgroup": "(8, 'ship')",
         "marker": {
          "color": "#FF97FF",
          "symbol": "circle"
         },
         "mode": "markers",
         "name": "(8, 'ship')",
         "orientation": "v",
         "showlegend": true,
         "type": "scatter",
         "x": [
          5.286823279430361,
          1.5438794711239876,
          6.7962864721940495,
          8.319759791967838,
          3.1785044978989485,
          3.618172360237094,
          6.0861629571195754,
          2.1902341593361903,
          7.073779612272295,
          5.253075383753771,
          4.636742701777915,
          8.648866505358578,
          11.680017327591122,
          4.978617820757566,
          8.766974073674914,
          9.0430625397487,
          9.86617107099137,
          6.524593086802423,
          8.56248424361156,
          7.379942591866886
         ],
         "xaxis": "x",
         "y": [
          10.54203127005081,
          9.15700110044905,
          9.674214281620365,
          9.153613565748142,
          11.427961845514284,
          11.445062895846558,
          11.871645501383686,
          7.019001660761434,
          11.561316215701122,
          9.993061841719419,
          9.994330454937245,
          10.495483318801583,
          4.867615928357325,
          9.259687566476812,
          10.658357517592204,
          9.393584038593056,
          12.816775899167837,
          8.606248571648004,
          12.604916061146506,
          11.06931832569011
         ],
         "yaxis": "y"
        },
        {
         "hovertemplate": "class=(9, 'truck')<br>x=%{x}<br>y=%{y}<extra></extra>",
         "legendgroup": "(9, 'truck')",
         "marker": {
          "color": "#FECB52",
          "symbol": "circle"
         },
         "mode": "markers",
         "name": "(9, 'truck')",
         "orientation": "v",
         "showlegend": true,
         "type": "scatter",
         "x": [
          18.910177787766138,
          19.349877126855603,
          18.749645876847946,
          19.920198518434617,
          12.996070427098358,
          14.694773769206591,
          13.77598644926583,
          17.625634187829267,
          15.434062766864978,
          19.402138978552227,
          19.1066886457186,
          13.062254675302789,
          15.249657224520213,
          8.582931754802546,
          18.48509092602536,
          16.13508033747351,
          19.25560766087082,
          14.842546619995929,
          7.406303498368943,
          19.030971521490635
         ],
         "xaxis": "x",
         "y": [
          -5.598390220521783,
          -6.677049412774228,
          -7.0440800520049835,
          -5.276467899847172,
          5.993142616455092,
          2.449259466368699,
          7.126923247695779,
          -1.567375811873086,
          6.3700557004029585,
          -8.920705312363895,
          -4.084609762153494,
          7.55566978923828,
          2.315115241842327,
          1.7429958162997496,
          -1.9885604702500252,
          1.7879865448916261,
          -6.946410676903588,
          -1.5820641391929127,
          7.731221828382607,
          -0.09969433569408552
         ],
         "yaxis": "y"
        }
       ],
       "layout": {
        "legend": {
         "title": {
          "text": "class"
         },
         "tracegroupgap": 0
        },
        "template": {
         "data": {
          "bar": [
           {
            "error_x": {
             "color": "#2a3f5f"
            },
            "error_y": {
             "color": "#2a3f5f"
            },
            "marker": {
             "line": {
              "color": "#E5ECF6",
              "width": 0.5
             },
             "pattern": {
              "fillmode": "overlay",
              "size": 10,
              "solidity": 0.2
             }
            },
            "type": "bar"
           }
          ],
          "barpolar": [
           {
            "marker": {
             "line": {
              "color": "#E5ECF6",
              "width": 0.5
             },
             "pattern": {
              "fillmode": "overlay",
              "size": 10,
              "solidity": 0.2
             }
            },
            "type": "barpolar"
           }
          ],
          "carpet": [
           {
            "aaxis": {
             "endlinecolor": "#2a3f5f",
             "gridcolor": "white",
             "linecolor": "white",
             "minorgridcolor": "white",
             "startlinecolor": "#2a3f5f"
            },
            "baxis": {
             "endlinecolor": "#2a3f5f",
             "gridcolor": "white",
             "linecolor": "white",
             "minorgridcolor": "white",
             "startlinecolor": "#2a3f5f"
            },
            "type": "carpet"
           }
          ],
          "choropleth": [
           {
            "colorbar": {
             "outlinewidth": 0,
             "ticks": ""
            },
            "type": "choropleth"
           }
          ],
          "contour": [
           {
            "colorbar": {
             "outlinewidth": 0,
             "ticks": ""
            },
            "colorscale": [
             [
              0,
              "#0d0887"
             ],
             [
              0.1111111111111111,
              "#46039f"
             ],
             [
              0.2222222222222222,
              "#7201a8"
             ],
             [
              0.3333333333333333,
              "#9c179e"
             ],
             [
              0.4444444444444444,
              "#bd3786"
             ],
             [
              0.5555555555555556,
              "#d8576b"
             ],
             [
              0.6666666666666666,
              "#ed7953"
             ],
             [
              0.7777777777777778,
              "#fb9f3a"
             ],
             [
              0.8888888888888888,
              "#fdca26"
             ],
             [
              1,
              "#f0f921"
             ]
            ],
            "type": "contour"
           }
          ],
          "contourcarpet": [
           {
            "colorbar": {
             "outlinewidth": 0,
             "ticks": ""
            },
            "type": "contourcarpet"
           }
          ],
          "heatmap": [
           {
            "colorbar": {
             "outlinewidth": 0,
             "ticks": ""
            },
            "colorscale": [
             [
              0,
              "#0d0887"
             ],
             [
              0.1111111111111111,
              "#46039f"
             ],
             [
              0.2222222222222222,
              "#7201a8"
             ],
             [
              0.3333333333333333,
              "#9c179e"
             ],
             [
              0.4444444444444444,
              "#bd3786"
             ],
             [
              0.5555555555555556,
              "#d8576b"
             ],
             [
              0.6666666666666666,
              "#ed7953"
             ],
             [
              0.7777777777777778,
              "#fb9f3a"
             ],
             [
              0.8888888888888888,
              "#fdca26"
             ],
             [
              1,
              "#f0f921"
             ]
            ],
            "type": "heatmap"
           }
          ],
          "heatmapgl": [
           {
            "colorbar": {
             "outlinewidth": 0,
             "ticks": ""
            },
            "colorscale": [
             [
              0,
              "#0d0887"
             ],
             [
              0.1111111111111111,
              "#46039f"
             ],
             [
              0.2222222222222222,
              "#7201a8"
             ],
             [
              0.3333333333333333,
              "#9c179e"
             ],
             [
              0.4444444444444444,
              "#bd3786"
             ],
             [
              0.5555555555555556,
              "#d8576b"
             ],
             [
              0.6666666666666666,
              "#ed7953"
             ],
             [
              0.7777777777777778,
              "#fb9f3a"
             ],
             [
              0.8888888888888888,
              "#fdca26"
             ],
             [
              1,
              "#f0f921"
             ]
            ],
            "type": "heatmapgl"
           }
          ],
          "histogram": [
           {
            "marker": {
             "pattern": {
              "fillmode": "overlay",
              "size": 10,
              "solidity": 0.2
             }
            },
            "type": "histogram"
           }
          ],
          "histogram2d": [
           {
            "colorbar": {
             "outlinewidth": 0,
             "ticks": ""
            },
            "colorscale": [
             [
              0,
              "#0d0887"
             ],
             [
              0.1111111111111111,
              "#46039f"
             ],
             [
              0.2222222222222222,
              "#7201a8"
             ],
             [
              0.3333333333333333,
              "#9c179e"
             ],
             [
              0.4444444444444444,
              "#bd3786"
             ],
             [
              0.5555555555555556,
              "#d8576b"
             ],
             [
              0.6666666666666666,
              "#ed7953"
             ],
             [
              0.7777777777777778,
              "#fb9f3a"
             ],
             [
              0.8888888888888888,
              "#fdca26"
             ],
             [
              1,
              "#f0f921"
             ]
            ],
            "type": "histogram2d"
           }
          ],
          "histogram2dcontour": [
           {
            "colorbar": {
             "outlinewidth": 0,
             "ticks": ""
            },
            "colorscale": [
             [
              0,
              "#0d0887"
             ],
             [
              0.1111111111111111,
              "#46039f"
             ],
             [
              0.2222222222222222,
              "#7201a8"
             ],
             [
              0.3333333333333333,
              "#9c179e"
             ],
             [
              0.4444444444444444,
              "#bd3786"
             ],
             [
              0.5555555555555556,
              "#d8576b"
             ],
             [
              0.6666666666666666,
              "#ed7953"
             ],
             [
              0.7777777777777778,
              "#fb9f3a"
             ],
             [
              0.8888888888888888,
              "#fdca26"
             ],
             [
              1,
              "#f0f921"
             ]
            ],
            "type": "histogram2dcontour"
           }
          ],
          "mesh3d": [
           {
            "colorbar": {
             "outlinewidth": 0,
             "ticks": ""
            },
            "type": "mesh3d"
           }
          ],
          "parcoords": [
           {
            "line": {
             "colorbar": {
              "outlinewidth": 0,
              "ticks": ""
             }
            },
            "type": "parcoords"
           }
          ],
          "pie": [
           {
            "automargin": true,
            "type": "pie"
           }
          ],
          "scatter": [
           {
            "marker": {
             "colorbar": {
              "outlinewidth": 0,
              "ticks": ""
             }
            },
            "type": "scatter"
           }
          ],
          "scatter3d": [
           {
            "line": {
             "colorbar": {
              "outlinewidth": 0,
              "ticks": ""
             }
            },
            "marker": {
             "colorbar": {
              "outlinewidth": 0,
              "ticks": ""
             }
            },
            "type": "scatter3d"
           }
          ],
          "scattercarpet": [
           {
            "marker": {
             "colorbar": {
              "outlinewidth": 0,
              "ticks": ""
             }
            },
            "type": "scattercarpet"
           }
          ],
          "scattergeo": [
           {
            "marker": {
             "colorbar": {
              "outlinewidth": 0,
              "ticks": ""
             }
            },
            "type": "scattergeo"
           }
          ],
          "scattergl": [
           {
            "marker": {
             "colorbar": {
              "outlinewidth": 0,
              "ticks": ""
             }
            },
            "type": "scattergl"
           }
          ],
          "scattermapbox": [
           {
            "marker": {
             "colorbar": {
              "outlinewidth": 0,
              "ticks": ""
             }
            },
            "type": "scattermapbox"
           }
          ],
          "scatterpolar": [
           {
            "marker": {
             "colorbar": {
              "outlinewidth": 0,
              "ticks": ""
             }
            },
            "type": "scatterpolar"
           }
          ],
          "scatterpolargl": [
           {
            "marker": {
             "colorbar": {
              "outlinewidth": 0,
              "ticks": ""
             }
            },
            "type": "scatterpolargl"
           }
          ],
          "scatterternary": [
           {
            "marker": {
             "colorbar": {
              "outlinewidth": 0,
              "ticks": ""
             }
            },
            "type": "scatterternary"
           }
          ],
          "surface": [
           {
            "colorbar": {
             "outlinewidth": 0,
             "ticks": ""
            },
            "colorscale": [
             [
              0,
              "#0d0887"
             ],
             [
              0.1111111111111111,
              "#46039f"
             ],
             [
              0.2222222222222222,
              "#7201a8"
             ],
             [
              0.3333333333333333,
              "#9c179e"
             ],
             [
              0.4444444444444444,
              "#bd3786"
             ],
             [
              0.5555555555555556,
              "#d8576b"
             ],
             [
              0.6666666666666666,
              "#ed7953"
             ],
             [
              0.7777777777777778,
              "#fb9f3a"
             ],
             [
              0.8888888888888888,
              "#fdca26"
             ],
             [
              1,
              "#f0f921"
             ]
            ],
            "type": "surface"
           }
          ],
          "table": [
           {
            "cells": {
             "fill": {
              "color": "#EBF0F8"
             },
             "line": {
              "color": "white"
             }
            },
            "header": {
             "fill": {
              "color": "#C8D4E3"
             },
             "line": {
              "color": "white"
             }
            },
            "type": "table"
           }
          ]
         },
         "layout": {
          "annotationdefaults": {
           "arrowcolor": "#2a3f5f",
           "arrowhead": 0,
           "arrowwidth": 1
          },
          "autotypenumbers": "strict",
          "coloraxis": {
           "colorbar": {
            "outlinewidth": 0,
            "ticks": ""
           }
          },
          "colorscale": {
           "diverging": [
            [
             0,
             "#8e0152"
            ],
            [
             0.1,
             "#c51b7d"
            ],
            [
             0.2,
             "#de77ae"
            ],
            [
             0.3,
             "#f1b6da"
            ],
            [
             0.4,
             "#fde0ef"
            ],
            [
             0.5,
             "#f7f7f7"
            ],
            [
             0.6,
             "#e6f5d0"
            ],
            [
             0.7,
             "#b8e186"
            ],
            [
             0.8,
             "#7fbc41"
            ],
            [
             0.9,
             "#4d9221"
            ],
            [
             1,
             "#276419"
            ]
           ],
           "sequential": [
            [
             0,
             "#0d0887"
            ],
            [
             0.1111111111111111,
             "#46039f"
            ],
            [
             0.2222222222222222,
             "#7201a8"
            ],
            [
             0.3333333333333333,
             "#9c179e"
            ],
            [
             0.4444444444444444,
             "#bd3786"
            ],
            [
             0.5555555555555556,
             "#d8576b"
            ],
            [
             0.6666666666666666,
             "#ed7953"
            ],
            [
             0.7777777777777778,
             "#fb9f3a"
            ],
            [
             0.8888888888888888,
             "#fdca26"
            ],
            [
             1,
             "#f0f921"
            ]
           ],
           "sequentialminus": [
            [
             0,
             "#0d0887"
            ],
            [
             0.1111111111111111,
             "#46039f"
            ],
            [
             0.2222222222222222,
             "#7201a8"
            ],
            [
             0.3333333333333333,
             "#9c179e"
            ],
            [
             0.4444444444444444,
             "#bd3786"
            ],
            [
             0.5555555555555556,
             "#d8576b"
            ],
            [
             0.6666666666666666,
             "#ed7953"
            ],
            [
             0.7777777777777778,
             "#fb9f3a"
            ],
            [
             0.8888888888888888,
             "#fdca26"
            ],
            [
             1,
             "#f0f921"
            ]
           ]
          },
          "colorway": [
           "#636efa",
           "#EF553B",
           "#00cc96",
           "#ab63fa",
           "#FFA15A",
           "#19d3f3",
           "#FF6692",
           "#B6E880",
           "#FF97FF",
           "#FECB52"
          ],
          "font": {
           "color": "#2a3f5f"
          },
          "geo": {
           "bgcolor": "white",
           "lakecolor": "white",
           "landcolor": "#E5ECF6",
           "showlakes": true,
           "showland": true,
           "subunitcolor": "white"
          },
          "hoverlabel": {
           "align": "left"
          },
          "hovermode": "closest",
          "mapbox": {
           "style": "light"
          },
          "paper_bgcolor": "white",
          "plot_bgcolor": "#E5ECF6",
          "polar": {
           "angularaxis": {
            "gridcolor": "white",
            "linecolor": "white",
            "ticks": ""
           },
           "bgcolor": "#E5ECF6",
           "radialaxis": {
            "gridcolor": "white",
            "linecolor": "white",
            "ticks": ""
           }
          },
          "scene": {
           "xaxis": {
            "backgroundcolor": "#E5ECF6",
            "gridcolor": "white",
            "gridwidth": 2,
            "linecolor": "white",
            "showbackground": true,
            "ticks": "",
            "zerolinecolor": "white"
           },
           "yaxis": {
            "backgroundcolor": "#E5ECF6",
            "gridcolor": "white",
            "gridwidth": 2,
            "linecolor": "white",
            "showbackground": true,
            "ticks": "",
            "zerolinecolor": "white"
           },
           "zaxis": {
            "backgroundcolor": "#E5ECF6",
            "gridcolor": "white",
            "gridwidth": 2,
            "linecolor": "white",
            "showbackground": true,
            "ticks": "",
            "zerolinecolor": "white"
           }
          },
          "shapedefaults": {
           "line": {
            "color": "#2a3f5f"
           }
          },
          "ternary": {
           "aaxis": {
            "gridcolor": "white",
            "linecolor": "white",
            "ticks": ""
           },
           "baxis": {
            "gridcolor": "white",
            "linecolor": "white",
            "ticks": ""
           },
           "bgcolor": "#E5ECF6",
           "caxis": {
            "gridcolor": "white",
            "linecolor": "white",
            "ticks": ""
           }
          },
          "title": {
           "x": 0.05
          },
          "xaxis": {
           "automargin": true,
           "gridcolor": "white",
           "linecolor": "white",
           "ticks": "",
           "title": {
            "standoff": 15
           },
           "zerolinecolor": "white",
           "zerolinewidth": 2
          },
          "yaxis": {
           "automargin": true,
           "gridcolor": "white",
           "linecolor": "white",
           "ticks": "",
           "title": {
            "standoff": 15
           },
           "zerolinecolor": "white",
           "zerolinewidth": 2
          }
         }
        },
        "title": {
         "text": "ImageNet pretrained ViT CIFAR9 PCA"
        },
        "xaxis": {
         "anchor": "y",
         "domain": [
          0,
          1
         ],
         "title": {
          "text": "x"
         }
        },
        "yaxis": {
         "anchor": "x",
         "domain": [
          0,
          1
         ],
         "title": {
          "text": "y"
         }
        }
       }
      },
      "text/html": [
       "<div>                            <div id=\"51cc5866-7f32-4ea9-a847-e3bb7fc990e4\" class=\"plotly-graph-div\" style=\"height:525px; width:100%;\"></div>            <script type=\"text/javascript\">                require([\"plotly\"], function(Plotly) {                    window.PLOTLYENV=window.PLOTLYENV || {};                                    if (document.getElementById(\"51cc5866-7f32-4ea9-a847-e3bb7fc990e4\")) {                    Plotly.newPlot(                        \"51cc5866-7f32-4ea9-a847-e3bb7fc990e4\",                        [{\"hovertemplate\":\"class=(0, 'airplane')<br>x=%{x}<br>y=%{y}<extra></extra>\",\"legendgroup\":\"(0, 'airplane')\",\"marker\":{\"color\":\"#636efa\",\"symbol\":\"circle\"},\"mode\":\"markers\",\"name\":\"(0, 'airplane')\",\"orientation\":\"v\",\"showlegend\":true,\"type\":\"scatter\",\"x\":[0.8842548431466202,9.631790563220866,1.545488282026465,8.86657031875531,4.538644994574234,2.4119599798030475,4.474068320889534,4.82887166433725,3.9604992299691193,5.965245136996574,2.694193200296835,3.71874407306288,5.686176332675794,7.875903693955728,6.911350107492428,6.483776746527671,6.022932496432634,2.9198956475734925,6.877196340950637,2.7370614933451365],\"xaxis\":\"x\",\"y\":[13.801795255505587,-2.9645905259312983,8.630228826477921,14.23891397589156,10.83324406494484,14.106967333960618,14.063793499280239,11.971767860638467,12.362771408394904,10.240157988303416,11.612563169016523,9.707284651045267,14.893008944455637,14.826393567062995,15.502211153809377,17.30957898711787,17.43462139823346,6.056997670923945,11.932417286213854,12.607168888530472],\"yaxis\":\"y\"},{\"hovertemplate\":\"class=(1, 'automobile')<br>x=%{x}<br>y=%{y}<extra></extra>\",\"legendgroup\":\"(1, 'automobile')\",\"marker\":{\"color\":\"#EF553B\",\"symbol\":\"circle\"},\"mode\":\"markers\",\"name\":\"(1, 'automobile')\",\"orientation\":\"v\",\"showlegend\":true,\"type\":\"scatter\",\"x\":[17.95888649565537,17.647634747497275,17.54116875345478,18.745011158720093,18.724913252754515,17.24482501854084,18.033081541730905,17.02357925794419,16.00923519010017,19.550545562143807,18.324315470982288,15.997097065235044,19.332032148728313,17.043286222800187,18.628104450262963,19.43136238837771,17.764961210100655,18.77687043953316,17.637724580706642,17.279131196042083],\"xaxis\":\"x\",\"y\":[-5.89392801528143,-8.9501228473549,-4.288492543337407,-10.808207582283565,-7.115213979442911,-9.872655482610424,-9.572280641531977,-11.84871536722029,-12.111634931656518,-11.386495110535233,-10.344528322338153,-10.548705824582433,-4.466560561241329,-10.765604618699662,-4.296597726867301,-8.480761324308874,-11.748944200350039,-10.09407302549882,-10.682262794185517,-11.781353929459957],\"yaxis\":\"y\"},{\"hovertemplate\":\"class=(2, 'bird')<br>x=%{x}<br>y=%{y}<extra></extra>\",\"legendgroup\":\"(2, 'bird')\",\"marker\":{\"color\":\"#00cc96\",\"symbol\":\"circle\"},\"mode\":\"markers\",\"name\":\"(2, 'bird')\",\"orientation\":\"v\",\"showlegend\":true,\"type\":\"scatter\",\"x\":[-5.270047386870882,-4.019683667574733,-4.5410113400578815,-3.9908369118554154,-5.498964086259863,-5.721960515165192,-4.408136163604501,-5.702159657321782,-5.536796689121363,-7.521151741027948,-6.319739800193301,-5.916921135683336,-5.940604078944048,-2.407755081228892,-6.023878426718259,-4.504321816573723,-1.6841808233380673,-8.322296437276966,-5.239638438941005,-7.489281244167943],\"xaxis\":\"x\",\"y\":[0.3241494820451916,0.8075178071076937,-7.145777461927941,3.1363256421450503,0.6348726888041115,0.8974624086592916,-1.8139671688557044,-2.4346491554527403,-2.672535581939067,0.7739235273303507,-1.5226173849293279,-2.230094191225101,0.7054685597752831,2.513463956032299,0.22106138949367202,0.9928098378712472,2.098150687663914,5.596729861675169,-1.2319538884236094,-0.024439867447486198],\"yaxis\":\"y\"},{\"hovertemplate\":\"class=(3, 'cat')<br>x=%{x}<br>y=%{y}<extra></extra>\",\"legendgroup\":\"(3, 'cat')\",\"marker\":{\"color\":\"#ab63fa\",\"symbol\":\"circle\"},\"mode\":\"markers\",\"name\":\"(3, 'cat')\",\"orientation\":\"v\",\"showlegend\":true,\"type\":\"scatter\",\"x\":[-8.268463254476048,-8.84396609540463,-11.205887146124484,-9.264342823106654,-10.99423275157293,-9.115938107094488,-11.019552160560957,-6.714914834102077,-10.119348689494185,-5.2530815945208875,-8.63365058528635,-8.660353117550432,-8.014953720522248,-10.246926756503036,-15.499334854943298,-9.046092980357955,-8.92235007820784,-9.148212266566548,-7.798723694282843,-11.802526600224995],\"xaxis\":\"x\",\"y\":[-13.037543234661829,-13.375547826903945,-7.666177071867803,-10.911069447079381,-10.568237151718815,-11.092353679709241,-8.70898687101025,-9.43125225752157,-11.23038255024434,-11.724847533348978,-9.883144168019667,-11.007419523169654,-10.334865290851551,-3.7458972689357743,-0.7181141756452707,-10.515210719015688,-13.429146908644567,-8.813061012278498,-8.558055892899826,-7.427075516007867],\"yaxis\":\"y\"},{\"hovertemplate\":\"class=(4, 'deer')<br>x=%{x}<br>y=%{y}<extra></extra>\",\"legendgroup\":\"(4, 'deer')\",\"marker\":{\"color\":\"#FFA15A\",\"symbol\":\"circle\"},\"mode\":\"markers\",\"name\":\"(4, 'deer')\",\"orientation\":\"v\",\"showlegend\":true,\"type\":\"scatter\",\"x\":[-8.190724376219764,-7.69583304565238,-6.068040011120537,-7.870803411507935,-8.85595231355704,-6.205736916455367,-5.586501453028252,-5.767694030557948,-8.711485323314717,-5.427424480671697,-8.436705403888407,-7.7483692143645815,-6.819986352581808,-8.678179999139983,-10.37299442854682,-6.923165208049451,-6.964843075333601,-5.766687661729871,-6.976089381914664,-9.12068276379147],\"xaxis\":\"x\",\"y\":[5.5495496562093365,11.542172796806092,10.5009564559508,-2.728436197958967,6.08272100949476,11.483330107145308,12.358820026617495,12.026857954575748,9.437986421588377,9.73501628227475,11.00576607685221,11.630215798845446,10.721080786616394,10.995564838906775,9.58318650398145,5.818906978515997,10.843229722673659,10.08432273473025,11.47067519889511,8.638017494834715],\"yaxis\":\"y\"},{\"hovertemplate\":\"class=(5, 'dog')<br>x=%{x}<br>y=%{y}<extra></extra>\",\"legendgroup\":\"(5, 'dog')\",\"marker\":{\"color\":\"#19d3f3\",\"symbol\":\"circle\"},\"mode\":\"markers\",\"name\":\"(5, 'dog')\",\"orientation\":\"v\",\"showlegend\":true,\"type\":\"scatter\",\"x\":[-8.797888383098229,-7.878081343846761,-8.257260645082551,-9.395147414830626,-7.58964462503214,-7.229856101285716,-9.825788579626844,-4.492041018158968,-9.389661734489492,-8.792715194176314,-9.80564378465122,-7.347269092030032,-5.214650121670187,-10.330345595303983,-6.879680827440331,-10.289130291672608,-3.805080221545785,-11.976269064638107,-9.597749068243145,-6.861215897453706],\"xaxis\":\"x\",\"y\":[-7.725807550532943,-4.626403736691679,-3.5130600632042523,-2.697777697233157,-5.568981575243938,-3.2180590008316545,-2.0460465179140837,-12.52729751990423,-2.7715099991095222,-4.869957331889341,-6.006371479814342,-4.687792058540486,-7.065823115243043,-4.5835055227569095,-3.1588101437205283,-3.286203489255934,-5.964641748815967,-5.845494721857062,-6.931004368641533,-4.127643594312332],\"yaxis\":\"y\"},{\"hovertemplate\":\"class=(6, 'frog')<br>x=%{x}<br>y=%{y}<extra></extra>\",\"legendgroup\":\"(6, 'frog')\",\"marker\":{\"color\":\"#FF6692\",\"symbol\":\"circle\"},\"mode\":\"markers\",\"name\":\"(6, 'frog')\",\"orientation\":\"v\",\"showlegend\":true,\"type\":\"scatter\",\"x\":[-5.559266804423461,-2.683130571266416,-5.0312629918028255,-4.365925973208811,-12.831831339289193,-1.3520659702019957,-6.438317691882332,-2.1201927763006587,-2.513957546755734,-3.7595691793750965,-5.457821838674226,-6.853027913475823,-6.962249138758533,-4.7997433585503435,0.8361488604191514,-5.3432561283547395,-2.278587744286381,-5.599513928397668,-4.031175276176373,-6.638417193681969],\"xaxis\":\"x\",\"y\":[-13.50928654239449,-11.969974912445505,-12.170942446867128,-12.638929566989573,-9.606982492025214,-12.359584761043564,-12.479361143816105,-11.746272917803555,-12.161001008006957,-12.549904702432304,-12.748311293494712,-9.93699830328096,-10.263691983912627,-12.968289930355033,-11.174086177688942,-10.769272710188815,-11.720712016846031,-15.147063537486149,-11.323384780365007,-10.646759789520594],\"yaxis\":\"y\"},{\"hovertemplate\":\"class=(7, 'horse')<br>x=%{x}<br>y=%{y}<extra></extra>\",\"legendgroup\":\"(7, 'horse')\",\"marker\":{\"color\":\"#B6E880\",\"symbol\":\"circle\"},\"mode\":\"markers\",\"name\":\"(7, 'horse')\",\"orientation\":\"v\",\"showlegend\":true,\"type\":\"scatter\",\"x\":[-10.610926332090655,-9.27792972666745,-10.569422058316077,-8.313157196212757,-11.65140312268611,-9.311450722321547,-11.687908122320971,-9.735269495602477,-10.215474810315968,-10.284611906500995,-8.585372192566817,-10.925797651688612,-10.745586738386363,-12.291505887423684,-11.254166875018873,-13.497930873683917,-11.734409819909931,-11.544425530221309,-11.01652310154468,-5.566566241695651],\"xaxis\":\"x\",\"y\":[3.537425765928848,6.200295524988017,5.1019017899562,4.639192549232345,7.200004670631119,2.0066209587024852,7.379043782460007,3.9899186298883285,5.550572060232359,3.3019932680236317,-1.1042007400806142,5.694967491389335,2.5828002040617086,5.421782406915796,4.962934251941159,8.98230767629389,4.895379628811701,2.940571769033794,5.207930370815844,7.385759902534435],\"yaxis\":\"y\"},{\"hovertemplate\":\"class=(8, 'ship')<br>x=%{x}<br>y=%{y}<extra></extra>\",\"legendgroup\":\"(8, 'ship')\",\"marker\":{\"color\":\"#FF97FF\",\"symbol\":\"circle\"},\"mode\":\"markers\",\"name\":\"(8, 'ship')\",\"orientation\":\"v\",\"showlegend\":true,\"type\":\"scatter\",\"x\":[5.286823279430361,1.5438794711239876,6.7962864721940495,8.319759791967838,3.1785044978989485,3.618172360237094,6.0861629571195754,2.1902341593361903,7.073779612272295,5.253075383753771,4.636742701777915,8.648866505358578,11.680017327591122,4.978617820757566,8.766974073674914,9.0430625397487,9.86617107099137,6.524593086802423,8.56248424361156,7.379942591866886],\"xaxis\":\"x\",\"y\":[10.54203127005081,9.15700110044905,9.674214281620365,9.153613565748142,11.427961845514284,11.445062895846558,11.871645501383686,7.019001660761434,11.561316215701122,9.993061841719419,9.994330454937245,10.495483318801583,4.867615928357325,9.259687566476812,10.658357517592204,9.393584038593056,12.816775899167837,8.606248571648004,12.604916061146506,11.06931832569011],\"yaxis\":\"y\"},{\"hovertemplate\":\"class=(9, 'truck')<br>x=%{x}<br>y=%{y}<extra></extra>\",\"legendgroup\":\"(9, 'truck')\",\"marker\":{\"color\":\"#FECB52\",\"symbol\":\"circle\"},\"mode\":\"markers\",\"name\":\"(9, 'truck')\",\"orientation\":\"v\",\"showlegend\":true,\"type\":\"scatter\",\"x\":[18.910177787766138,19.349877126855603,18.749645876847946,19.920198518434617,12.996070427098358,14.694773769206591,13.77598644926583,17.625634187829267,15.434062766864978,19.402138978552227,19.1066886457186,13.062254675302789,15.249657224520213,8.582931754802546,18.48509092602536,16.13508033747351,19.25560766087082,14.842546619995929,7.406303498368943,19.030971521490635],\"xaxis\":\"x\",\"y\":[-5.598390220521783,-6.677049412774228,-7.0440800520049835,-5.276467899847172,5.993142616455092,2.449259466368699,7.126923247695779,-1.567375811873086,6.3700557004029585,-8.920705312363895,-4.084609762153494,7.55566978923828,2.315115241842327,1.7429958162997496,-1.9885604702500252,1.7879865448916261,-6.946410676903588,-1.5820641391929127,7.731221828382607,-0.09969433569408552],\"yaxis\":\"y\"}],                        {\"legend\":{\"title\":{\"text\":\"class\"},\"tracegroupgap\":0},\"template\":{\"data\":{\"bar\":[{\"error_x\":{\"color\":\"#2a3f5f\"},\"error_y\":{\"color\":\"#2a3f5f\"},\"marker\":{\"line\":{\"color\":\"#E5ECF6\",\"width\":0.5},\"pattern\":{\"fillmode\":\"overlay\",\"size\":10,\"solidity\":0.2}},\"type\":\"bar\"}],\"barpolar\":[{\"marker\":{\"line\":{\"color\":\"#E5ECF6\",\"width\":0.5},\"pattern\":{\"fillmode\":\"overlay\",\"size\":10,\"solidity\":0.2}},\"type\":\"barpolar\"}],\"carpet\":[{\"aaxis\":{\"endlinecolor\":\"#2a3f5f\",\"gridcolor\":\"white\",\"linecolor\":\"white\",\"minorgridcolor\":\"white\",\"startlinecolor\":\"#2a3f5f\"},\"baxis\":{\"endlinecolor\":\"#2a3f5f\",\"gridcolor\":\"white\",\"linecolor\":\"white\",\"minorgridcolor\":\"white\",\"startlinecolor\":\"#2a3f5f\"},\"type\":\"carpet\"}],\"choropleth\":[{\"colorbar\":{\"outlinewidth\":0,\"ticks\":\"\"},\"type\":\"choropleth\"}],\"contour\":[{\"colorbar\":{\"outlinewidth\":0,\"ticks\":\"\"},\"colorscale\":[[0.0,\"#0d0887\"],[0.1111111111111111,\"#46039f\"],[0.2222222222222222,\"#7201a8\"],[0.3333333333333333,\"#9c179e\"],[0.4444444444444444,\"#bd3786\"],[0.5555555555555556,\"#d8576b\"],[0.6666666666666666,\"#ed7953\"],[0.7777777777777778,\"#fb9f3a\"],[0.8888888888888888,\"#fdca26\"],[1.0,\"#f0f921\"]],\"type\":\"contour\"}],\"contourcarpet\":[{\"colorbar\":{\"outlinewidth\":0,\"ticks\":\"\"},\"type\":\"contourcarpet\"}],\"heatmap\":[{\"colorbar\":{\"outlinewidth\":0,\"ticks\":\"\"},\"colorscale\":[[0.0,\"#0d0887\"],[0.1111111111111111,\"#46039f\"],[0.2222222222222222,\"#7201a8\"],[0.3333333333333333,\"#9c179e\"],[0.4444444444444444,\"#bd3786\"],[0.5555555555555556,\"#d8576b\"],[0.6666666666666666,\"#ed7953\"],[0.7777777777777778,\"#fb9f3a\"],[0.8888888888888888,\"#fdca26\"],[1.0,\"#f0f921\"]],\"type\":\"heatmap\"}],\"heatmapgl\":[{\"colorbar\":{\"outlinewidth\":0,\"ticks\":\"\"},\"colorscale\":[[0.0,\"#0d0887\"],[0.1111111111111111,\"#46039f\"],[0.2222222222222222,\"#7201a8\"],[0.3333333333333333,\"#9c179e\"],[0.4444444444444444,\"#bd3786\"],[0.5555555555555556,\"#d8576b\"],[0.6666666666666666,\"#ed7953\"],[0.7777777777777778,\"#fb9f3a\"],[0.8888888888888888,\"#fdca26\"],[1.0,\"#f0f921\"]],\"type\":\"heatmapgl\"}],\"histogram\":[{\"marker\":{\"pattern\":{\"fillmode\":\"overlay\",\"size\":10,\"solidity\":0.2}},\"type\":\"histogram\"}],\"histogram2d\":[{\"colorbar\":{\"outlinewidth\":0,\"ticks\":\"\"},\"colorscale\":[[0.0,\"#0d0887\"],[0.1111111111111111,\"#46039f\"],[0.2222222222222222,\"#7201a8\"],[0.3333333333333333,\"#9c179e\"],[0.4444444444444444,\"#bd3786\"],[0.5555555555555556,\"#d8576b\"],[0.6666666666666666,\"#ed7953\"],[0.7777777777777778,\"#fb9f3a\"],[0.8888888888888888,\"#fdca26\"],[1.0,\"#f0f921\"]],\"type\":\"histogram2d\"}],\"histogram2dcontour\":[{\"colorbar\":{\"outlinewidth\":0,\"ticks\":\"\"},\"colorscale\":[[0.0,\"#0d0887\"],[0.1111111111111111,\"#46039f\"],[0.2222222222222222,\"#7201a8\"],[0.3333333333333333,\"#9c179e\"],[0.4444444444444444,\"#bd3786\"],[0.5555555555555556,\"#d8576b\"],[0.6666666666666666,\"#ed7953\"],[0.7777777777777778,\"#fb9f3a\"],[0.8888888888888888,\"#fdca26\"],[1.0,\"#f0f921\"]],\"type\":\"histogram2dcontour\"}],\"mesh3d\":[{\"colorbar\":{\"outlinewidth\":0,\"ticks\":\"\"},\"type\":\"mesh3d\"}],\"parcoords\":[{\"line\":{\"colorbar\":{\"outlinewidth\":0,\"ticks\":\"\"}},\"type\":\"parcoords\"}],\"pie\":[{\"automargin\":true,\"type\":\"pie\"}],\"scatter\":[{\"marker\":{\"colorbar\":{\"outlinewidth\":0,\"ticks\":\"\"}},\"type\":\"scatter\"}],\"scatter3d\":[{\"line\":{\"colorbar\":{\"outlinewidth\":0,\"ticks\":\"\"}},\"marker\":{\"colorbar\":{\"outlinewidth\":0,\"ticks\":\"\"}},\"type\":\"scatter3d\"}],\"scattercarpet\":[{\"marker\":{\"colorbar\":{\"outlinewidth\":0,\"ticks\":\"\"}},\"type\":\"scattercarpet\"}],\"scattergeo\":[{\"marker\":{\"colorbar\":{\"outlinewidth\":0,\"ticks\":\"\"}},\"type\":\"scattergeo\"}],\"scattergl\":[{\"marker\":{\"colorbar\":{\"outlinewidth\":0,\"ticks\":\"\"}},\"type\":\"scattergl\"}],\"scattermapbox\":[{\"marker\":{\"colorbar\":{\"outlinewidth\":0,\"ticks\":\"\"}},\"type\":\"scattermapbox\"}],\"scatterpolar\":[{\"marker\":{\"colorbar\":{\"outlinewidth\":0,\"ticks\":\"\"}},\"type\":\"scatterpolar\"}],\"scatterpolargl\":[{\"marker\":{\"colorbar\":{\"outlinewidth\":0,\"ticks\":\"\"}},\"type\":\"scatterpolargl\"}],\"scatterternary\":[{\"marker\":{\"colorbar\":{\"outlinewidth\":0,\"ticks\":\"\"}},\"type\":\"scatterternary\"}],\"surface\":[{\"colorbar\":{\"outlinewidth\":0,\"ticks\":\"\"},\"colorscale\":[[0.0,\"#0d0887\"],[0.1111111111111111,\"#46039f\"],[0.2222222222222222,\"#7201a8\"],[0.3333333333333333,\"#9c179e\"],[0.4444444444444444,\"#bd3786\"],[0.5555555555555556,\"#d8576b\"],[0.6666666666666666,\"#ed7953\"],[0.7777777777777778,\"#fb9f3a\"],[0.8888888888888888,\"#fdca26\"],[1.0,\"#f0f921\"]],\"type\":\"surface\"}],\"table\":[{\"cells\":{\"fill\":{\"color\":\"#EBF0F8\"},\"line\":{\"color\":\"white\"}},\"header\":{\"fill\":{\"color\":\"#C8D4E3\"},\"line\":{\"color\":\"white\"}},\"type\":\"table\"}]},\"layout\":{\"annotationdefaults\":{\"arrowcolor\":\"#2a3f5f\",\"arrowhead\":0,\"arrowwidth\":1},\"autotypenumbers\":\"strict\",\"coloraxis\":{\"colorbar\":{\"outlinewidth\":0,\"ticks\":\"\"}},\"colorscale\":{\"diverging\":[[0,\"#8e0152\"],[0.1,\"#c51b7d\"],[0.2,\"#de77ae\"],[0.3,\"#f1b6da\"],[0.4,\"#fde0ef\"],[0.5,\"#f7f7f7\"],[0.6,\"#e6f5d0\"],[0.7,\"#b8e186\"],[0.8,\"#7fbc41\"],[0.9,\"#4d9221\"],[1,\"#276419\"]],\"sequential\":[[0.0,\"#0d0887\"],[0.1111111111111111,\"#46039f\"],[0.2222222222222222,\"#7201a8\"],[0.3333333333333333,\"#9c179e\"],[0.4444444444444444,\"#bd3786\"],[0.5555555555555556,\"#d8576b\"],[0.6666666666666666,\"#ed7953\"],[0.7777777777777778,\"#fb9f3a\"],[0.8888888888888888,\"#fdca26\"],[1.0,\"#f0f921\"]],\"sequentialminus\":[[0.0,\"#0d0887\"],[0.1111111111111111,\"#46039f\"],[0.2222222222222222,\"#7201a8\"],[0.3333333333333333,\"#9c179e\"],[0.4444444444444444,\"#bd3786\"],[0.5555555555555556,\"#d8576b\"],[0.6666666666666666,\"#ed7953\"],[0.7777777777777778,\"#fb9f3a\"],[0.8888888888888888,\"#fdca26\"],[1.0,\"#f0f921\"]]},\"colorway\":[\"#636efa\",\"#EF553B\",\"#00cc96\",\"#ab63fa\",\"#FFA15A\",\"#19d3f3\",\"#FF6692\",\"#B6E880\",\"#FF97FF\",\"#FECB52\"],\"font\":{\"color\":\"#2a3f5f\"},\"geo\":{\"bgcolor\":\"white\",\"lakecolor\":\"white\",\"landcolor\":\"#E5ECF6\",\"showlakes\":true,\"showland\":true,\"subunitcolor\":\"white\"},\"hoverlabel\":{\"align\":\"left\"},\"hovermode\":\"closest\",\"mapbox\":{\"style\":\"light\"},\"paper_bgcolor\":\"white\",\"plot_bgcolor\":\"#E5ECF6\",\"polar\":{\"angularaxis\":{\"gridcolor\":\"white\",\"linecolor\":\"white\",\"ticks\":\"\"},\"bgcolor\":\"#E5ECF6\",\"radialaxis\":{\"gridcolor\":\"white\",\"linecolor\":\"white\",\"ticks\":\"\"}},\"scene\":{\"xaxis\":{\"backgroundcolor\":\"#E5ECF6\",\"gridcolor\":\"white\",\"gridwidth\":2,\"linecolor\":\"white\",\"showbackground\":true,\"ticks\":\"\",\"zerolinecolor\":\"white\"},\"yaxis\":{\"backgroundcolor\":\"#E5ECF6\",\"gridcolor\":\"white\",\"gridwidth\":2,\"linecolor\":\"white\",\"showbackground\":true,\"ticks\":\"\",\"zerolinecolor\":\"white\"},\"zaxis\":{\"backgroundcolor\":\"#E5ECF6\",\"gridcolor\":\"white\",\"gridwidth\":2,\"linecolor\":\"white\",\"showbackground\":true,\"ticks\":\"\",\"zerolinecolor\":\"white\"}},\"shapedefaults\":{\"line\":{\"color\":\"#2a3f5f\"}},\"ternary\":{\"aaxis\":{\"gridcolor\":\"white\",\"linecolor\":\"white\",\"ticks\":\"\"},\"baxis\":{\"gridcolor\":\"white\",\"linecolor\":\"white\",\"ticks\":\"\"},\"bgcolor\":\"#E5ECF6\",\"caxis\":{\"gridcolor\":\"white\",\"linecolor\":\"white\",\"ticks\":\"\"}},\"title\":{\"x\":0.05},\"xaxis\":{\"automargin\":true,\"gridcolor\":\"white\",\"linecolor\":\"white\",\"ticks\":\"\",\"title\":{\"standoff\":15},\"zerolinecolor\":\"white\",\"zerolinewidth\":2},\"yaxis\":{\"automargin\":true,\"gridcolor\":\"white\",\"linecolor\":\"white\",\"ticks\":\"\",\"title\":{\"standoff\":15},\"zerolinecolor\":\"white\",\"zerolinewidth\":2}}},\"title\":{\"text\":\"ImageNet pretrained ViT CIFAR9 PCA\"},\"xaxis\":{\"anchor\":\"y\",\"domain\":[0.0,1.0],\"title\":{\"text\":\"x\"}},\"yaxis\":{\"anchor\":\"x\",\"domain\":[0.0,1.0],\"title\":{\"text\":\"y\"}}},                        {\"responsive\": true}                    ).then(function(){\n",
       "                            \n",
       "var gd = document.getElementById('51cc5866-7f32-4ea9-a847-e3bb7fc990e4');\n",
       "var x = new MutationObserver(function (mutations, observer) {{\n",
       "        var display = window.getComputedStyle(gd).display;\n",
       "        if (!display || display === 'none') {{\n",
       "            console.log([gd, 'removed!']);\n",
       "            Plotly.purge(gd);\n",
       "            observer.disconnect();\n",
       "        }}\n",
       "}});\n",
       "\n",
       "// Listen for the removal of the full notebook cells\n",
       "var notebookContainer = gd.closest('#notebook-container');\n",
       "if (notebookContainer) {{\n",
       "    x.observe(notebookContainer, {childList: true});\n",
       "}}\n",
       "\n",
       "// Listen for the clearing of the current output cell\n",
       "var outputEl = gd.closest('.output');\n",
       "if (outputEl) {{\n",
       "    x.observe(outputEl, {childList: true});\n",
       "}}\n",
       "\n",
       "                        })                };                });            </script>        </div>"
      ]
     },
     "metadata": {},
     "output_type": "display_data"
    }
   ],
   "source": [
    "from sklearn.decomposition import PCA\n",
    "\n",
    "pca = PCA()\n",
    "components = pca.fit_transform(X)\n",
    "\n",
    "df_embed = pd.DataFrame(components)\n",
    "df_embed = df_embed.rename(columns={0: 'x', 1: 'y'})\n",
    "df_embed = df_embed.assign(label=y)\n",
    "fig = px.scatter(\n",
    "    df_embed,\n",
    "    x='x',\n",
    "    y='y',\n",
    "    color='label',\n",
    "    labels={'label': 'class'},\n",
    "    title='ImageNet pretrained ViT CIFAR9 PCA',\n",
    ")\n",
    "fig.show()"
   ]
  },
  {
   "cell_type": "markdown",
   "metadata": {},
   "source": [
    "### OOD detection baselines"
   ]
  },
  {
   "cell_type": "code",
   "execution_count": 53,
   "metadata": {},
   "outputs": [],
   "source": [
    "# utility functions\n",
    "\n",
    "from sklearn.metrics import roc_auc_score, roc_curve\n",
    "\n",
    "def plot_roc_curve(fper, tper):\n",
    "    plt.plot(fper, tper, color='red', label='ROC')\n",
    "    plt.plot([0, 1], [0, 1], color='green', linestyle='--')\n",
    "    plt.xlabel('False Positive Rate')\n",
    "    plt.ylabel('True Positive Rate')\n",
    "    plt.title('Receiver Operating Characteristic Curve')\n",
    "    plt.legend()\n",
    "    plt.show()\n",
    "    \n",
    "    \n",
    "def plot_precision_recall_curve(precision, recall):\n",
    "    plt.plot(recall, precision, color='red', label='ROC')\n",
    "    plt.xlabel('Recall')\n",
    "    plt.ylabel('Precision')\n",
    "    plt.title('Precision-Recall Curve')\n",
    "    plt.legend()\n",
    "    plt.show()\n",
    "    \n",
    "    \n",
    "def compute_ood_scores(\n",
    "    metric, \n",
    "    n_id_samples_per_class: int = 100,\n",
    "    n_ood_samples_per_class: int = 1000\n",
    "):\n",
    "    test_y, ood_scores = [], []\n",
    "    print('processing in-distribution samples...')\n",
    "    id_ood_scores = []\n",
    "    for id_class_idx in id_class_indices:\n",
    "        imgs = random.sample(dataset.img_dict[id_class_idx], n_id_samples_per_class)\n",
    "        for img in tqdm(imgs):\n",
    "            test_y.append(0)\n",
    "            score = metric.compute_img_ood_score(img)\n",
    "            ood_scores.append(score)\n",
    "            id_ood_scores.append(score)\n",
    "\n",
    "    print('processing out-of-distribution samples...')   \n",
    "    ood_ood_scores = []\n",
    "    for ood_class_idx in ood_class_indices:\n",
    "        imgs = random.sample(dataset.img_dict[ood_class_idx], n_ood_samples_per_class)\n",
    "        for img in tqdm(imgs):\n",
    "            test_y.append(1)\n",
    "            score = metric.compute_img_ood_score(img)\n",
    "            ood_scores.append(score)\n",
    "            ood_ood_scores.append(score)\n",
    "    \n",
    "    return test_y, ood_scores, id_ood_scores, ood_ood_scores\n",
    "    "
   ]
  },
  {
   "cell_type": "markdown",
   "metadata": {},
   "source": [
    "#### OOD detection by MSP (Maximum over Softmax Probability)"
   ]
  },
  {
   "cell_type": "code",
   "execution_count": 54,
   "metadata": {},
   "outputs": [],
   "source": [
    "from ood_with_vit.metrics.msp import MSP\n",
    "\n",
    "msp = MSP(config, model)"
   ]
  },
  {
   "cell_type": "code",
   "execution_count": 55,
   "metadata": {},
   "outputs": [
    {
     "name": "stderr",
     "output_type": "stream",
     "text": [
      "  7%|▋         | 7/100 [00:00<00:01, 65.81it/s]"
     ]
    },
    {
     "name": "stdout",
     "output_type": "stream",
     "text": [
      "processing in-distribution samples...\n"
     ]
    },
    {
     "name": "stderr",
     "output_type": "stream",
     "text": [
      "100%|██████████| 100/100 [00:01<00:00, 71.78it/s]\n",
      "100%|██████████| 100/100 [00:01<00:00, 75.09it/s]\n",
      "100%|██████████| 100/100 [00:01<00:00, 75.21it/s]\n",
      "100%|██████████| 100/100 [00:01<00:00, 75.55it/s]\n",
      "100%|██████████| 100/100 [00:01<00:00, 74.87it/s]\n",
      "100%|██████████| 100/100 [00:01<00:00, 73.96it/s]\n",
      "100%|██████████| 100/100 [00:01<00:00, 74.99it/s]\n",
      "100%|██████████| 100/100 [00:01<00:00, 75.32it/s]\n",
      "100%|██████████| 100/100 [00:01<00:00, 75.68it/s]\n",
      "  1%|          | 8/1000 [00:00<00:13, 75.47it/s]"
     ]
    },
    {
     "name": "stdout",
     "output_type": "stream",
     "text": [
      "processing out-of-distribution samples...\n"
     ]
    },
    {
     "name": "stderr",
     "output_type": "stream",
     "text": [
      "100%|██████████| 1000/1000 [00:13<00:00, 74.43it/s]\n"
     ]
    },
    {
     "name": "stdout",
     "output_type": "stream",
     "text": [
      "id mean score: -0.9835261435641183\n",
      "ood mean score: -0.9210141553282738\n"
     ]
    },
    {
     "data": {
      "image/png": "[encoded data removed]",
      "text/plain": [
       "<Figure size 432x288 with 1 Axes>"
      ]
     },
     "metadata": {
      "needs_background": "light"
     },
     "output_type": "display_data"
    },
    {
     "name": "stdout",
     "output_type": "stream",
     "text": [
      "MSP AUROC score: 0.8093788888888889\n"
     ]
    }
   ],
   "source": [
    "test_y, ood_scores, id_ood_scores, ood_ood_scores = compute_ood_scores(msp)\n",
    "print('id mean score:', np.mean(id_ood_scores))\n",
    "print('ood mean score:', np.mean(ood_ood_scores))\n",
    "       \n",
    "fper, tper, _ = roc_curve(test_y, ood_scores)\n",
    "auroc_score = roc_auc_score(test_y, ood_scores)\n",
    "\n",
    "plot_roc_curve(fper, tper)\n",
    "print('MSP AUROC score:', auroc_score)"
   ]
  },
  {
   "cell_type": "code",
   "execution_count": 56,
   "metadata": {},
   "outputs": [
    {
     "data": {
      "image/png": "[encoded data removed]",
      "text/plain": [
       "<Figure size 432x288 with 1 Axes>"
      ]
     },
     "metadata": {
      "needs_background": "light"
     },
     "output_type": "display_data"
    },
    {
     "name": "stdout",
     "output_type": "stream",
     "text": [
      "MSP AUPR score: 0.7925079342537422\n"
     ]
    }
   ],
   "source": [
    "from sklearn.metrics import precision_recall_curve\n",
    "from sklearn.metrics import average_precision_score\n",
    "\n",
    "precision, recall, _ = precision_recall_curve(test_y, ood_scores)\n",
    "aupr_score = average_precision_score(test_y, ood_scores)\n",
    "\n",
    "plot_precision_recall_curve(precision, recall)\n",
    "print('MSP AUPR score:', aupr_score)"
   ]
  },
  {
   "cell_type": "markdown",
   "metadata": {},
   "source": [
    "### OOD detection by Mahalanobis"
   ]
  },
  {
   "cell_type": "code",
   "execution_count": 57,
   "metadata": {},
   "outputs": [
    {
     "name": "stdout",
     "output_type": "stream",
     "text": [
      "Files already downloaded and verified\n",
      "covariance norm: 22.59798091898979\n"
     ]
    }
   ],
   "source": [
    "from ood_with_vit.metrics.mahalanobis import Mahalanobis\n",
    "\n",
    "mahalanobis = Mahalanobis(config, model)"
   ]
  },
  {
   "cell_type": "code",
   "execution_count": 58,
   "metadata": {},
   "outputs": [
    {
     "name": "stderr",
     "output_type": "stream",
     "text": [
      "  0%|          | 0/100 [00:00<?, ?it/s]"
     ]
    },
    {
     "name": "stdout",
     "output_type": "stream",
     "text": [
      "processing in-distribution samples...\n"
     ]
    },
    {
     "name": "stderr",
     "output_type": "stream",
     "text": [
      "100%|██████████| 100/100 [00:03<00:00, 33.00it/s]\n",
      "100%|██████████| 100/100 [00:08<00:00, 11.21it/s]\n",
      "100%|██████████| 100/100 [00:03<00:00, 30.61it/s]\n",
      "100%|██████████| 100/100 [00:03<00:00, 28.09it/s]\n",
      "100%|██████████| 100/100 [00:04<00:00, 22.12it/s]\n",
      "100%|██████████| 100/100 [00:04<00:00, 24.71it/s]\n",
      "100%|██████████| 100/100 [00:04<00:00, 23.66it/s]\n",
      "100%|██████████| 100/100 [00:05<00:00, 19.14it/s]\n",
      "100%|██████████| 100/100 [00:04<00:00, 21.98it/s]\n",
      "  0%|          | 2/1000 [00:00<00:50, 19.83it/s]"
     ]
    },
    {
     "name": "stdout",
     "output_type": "stream",
     "text": [
      "processing out-of-distribution samples...\n"
     ]
    },
    {
     "name": "stderr",
     "output_type": "stream",
     "text": [
      "100%|██████████| 1000/1000 [01:00<00:00, 16.42it/s]\n"
     ]
    },
    {
     "name": "stdout",
     "output_type": "stream",
     "text": [
      "id mean score: 178.37759356180825\n",
      "ood mean score: 375.8514508972168\n"
     ]
    },
    {
     "data": {
      "image/png": "[encoded data removed]",
      "text/plain": [
       "<Figure size 432x288 with 1 Axes>"
      ]
     },
     "metadata": {
      "needs_background": "light"
     },
     "output_type": "display_data"
    },
    {
     "name": "stdout",
     "output_type": "stream",
     "text": [
      "Mahalanobis AUROC score: 0.8946999999999998\n"
     ]
    }
   ],
   "source": [
    "test_y, ood_scores, id_ood_scores, ood_ood_scores = compute_ood_scores(mahalanobis)\n",
    "print('id mean score:', np.mean(id_ood_scores))\n",
    "print('ood mean score:', np.mean(ood_ood_scores))\n",
    "       \n",
    "fper, tper, _ = roc_curve(test_y, ood_scores)\n",
    "auroc_score = roc_auc_score(test_y, ood_scores)\n",
    "\n",
    "plot_roc_curve(fper, tper)\n",
    "print('Mahalanobis AUROC score:', auroc_score)"
   ]
  },
  {
   "cell_type": "code",
   "execution_count": 59,
   "metadata": {},
   "outputs": [
    {
     "data": {
      "image/png": "[encoded data removed]",
      "text/plain": [
       "<Figure size 432x288 with 1 Axes>"
      ]
     },
     "metadata": {
      "needs_background": "light"
     },
     "output_type": "display_data"
    },
    {
     "name": "stdout",
     "output_type": "stream",
     "text": [
      "Mahalanobis AUPR score: 0.8922381675156905\n"
     ]
    }
   ],
   "source": [
    "precision, recall, _ = precision_recall_curve(test_y, ood_scores)\n",
    "aupr_score = average_precision_score(test_y, ood_scores)\n",
    "\n",
    "plot_precision_recall_curve(precision, recall)\n",
    "print('Mahalanobis AUPR score:', aupr_score)"
   ]
  }
 ],
 "metadata": {
  "interpreter": {
   "hash": "949777d72b0d2535278d3dc13498b2535136f6dfe0678499012e853ee9abcab1"
  },
  "kernelspec": {
   "display_name": "Python 3.9.7 64-bit",
   "language": "python",
   "name": "python3"
  },
  "language_info": {
   "codemirror_mode": {
    "name": "ipython",
    "version": 3
   },
   "file_extension": ".py",
   "mimetype": "text/x-python",
   "name": "python",
   "nbconvert_exporter": "python",
   "pygments_lexer": "ipython3",
   "version": "3.9.7"
  },
  "orig_nbformat": 4
 },
 "nbformat": 4,
 "nbformat_minor": 2
}
