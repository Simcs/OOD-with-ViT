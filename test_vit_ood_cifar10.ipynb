{
 "cells": [
  {
   "cell_type": "markdown",
   "metadata": {},
   "source": [
    "### Base settings"
   ]
  },
  {
   "cell_type": "code",
   "execution_count": 1,
   "metadata": {},
   "outputs": [],
   "source": [
    "%load_ext autoreload\n",
    "%autoreload 2\n",
    "\n",
    "import time\n",
    "from pathlib import Path\n",
    "\n",
    "import matplotlib.pyplot as plt\n",
    "\n",
    "import torch\n",
    "import torchvision.transforms as transforms\n",
    "\n",
    "device = 'cuda' if torch.cuda.is_available() else 'cpu'\n",
    "\n",
    "log_root = Path('./logs')\n",
    "checkpoint_path = log_root / 'checkpoints'"
   ]
  },
  {
   "cell_type": "code",
   "execution_count": 2,
   "metadata": {},
   "outputs": [],
   "source": [
    "# create ConfigDict from config yaml file\n",
    "import yaml\n",
    "from ml_collections import config_dict\n",
    "\n",
    "config_path = Path('configs') / 'ViT-OC-CIFAR10.yaml'\n",
    "with config_path.open('r') as f:\n",
    "    config = yaml.safe_load(f)\n",
    "    config = config_dict.ConfigDict(config)"
   ]
  },
  {
   "cell_type": "code",
   "execution_count": 3,
   "metadata": {},
   "outputs": [
    {
     "data": {
      "text/plain": [
       "<All keys matched successfully>"
      ]
     },
     "execution_count": 3,
     "metadata": {},
     "output_type": "execute_result"
    }
   ],
   "source": [
    "# initialize ViT model and load pretrained weights\n",
    "from models.vit import ViT\n",
    "\n",
    "model = ViT(\n",
    "    image_size=config.dataset.img_size,\n",
    "    patch_size=config.model.patch_size,\n",
    "    num_classes=len(config.dataset.in_distribution_class_indices),\n",
    "    dim=config.model.dim_head,\n",
    "    depth=config.model.depth,\n",
    "    heads=config.model.n_heads,\n",
    "    mlp_dim=config.model.dim_mlp,\n",
    "    dropout=config.model.dropout,\n",
    "    emb_dropout=config.model.emb_dropout,\n",
    "    visualize=True,\n",
    ")\n",
    "\n",
    "if device == 'cuda':\n",
    "    model = model.to(device)\n",
    "    model = torch.nn.DataParallel(model) # make parallel\n",
    "\n",
    "model_name = config.model.name\n",
    "patch_size = config.model.patch_size\n",
    "checkpoint = torch.load(checkpoint_path / f'{model_name}-patch{patch_size}-ckpt.t7')\n",
    "model.load_state_dict(checkpoint['model_state_dict'])\n"
   ]
  },
  {
   "cell_type": "code",
   "execution_count": 12,
   "metadata": {},
   "outputs": [
    {
     "data": {
      "image/png": "[encoded data removed]",
      "text/plain": [
       "<Figure size 432x288 with 1 Axes>"
      ]
     },
     "metadata": {
      "needs_background": "light"
     },
     "output_type": "display_data"
    },
    {
     "name": "stdout",
     "output_type": "stream",
     "text": [
      "{'airplane': 0, 'automobile': 1, 'bird': 2, 'cat': 3, 'deer': 4, 'dog': 5, 'frog': 6, 'horse': 7, 'ship': 8, 'truck': 9}\n",
      "torch.return_types.max(\n",
      "values=tensor([10.9446], device='cuda:0', grad_fn=<MaxBackward0>),\n",
      "indices=tensor([1], device='cuda:0')) tensor([[ 2.0908, 10.9446, -2.9262, -1.6959, -5.0676, -2.1707, -1.7368, -0.8264,\n",
      "          5.2797]], device='cuda:0', grad_fn=<GatherBackward>)\n",
      "6 torch.Size([1, 8, 65, 65])\n"
     ]
    }
   ],
   "source": [
    "from datasets import OC_CIFAR10\n",
    "\n",
    "dataset_mean, dataset_std = config.dataset.mean, config.dataset.std\n",
    "dataset_root = config.dataset.root\n",
    "img_size = config.dataset.img_size\n",
    "in_distribution_class_indices = config.dataset.in_distribution_class_indices\n",
    "\n",
    "transform_test = transforms.Compose([\n",
    "    transforms.Resize(img_size),\n",
    "    transforms.ToTensor(),\n",
    "    transforms.Normalize(dataset_mean, dataset_std),\n",
    "])      \n",
    "\n",
    "dataset = OC_CIFAR10(\n",
    "    root=dataset_root, \n",
    "    in_distribution_class_indices=in_distribution_class_indices, \n",
    "    train=False, \n",
    "    download=False, \n",
    "    transform=transform_test\n",
    ")\n",
    "\n",
    "class_indices = list(range(10))\n",
    "ood_class_indices = [i for i in class_indices if i not in in_distribution_class_indices]\n",
    "plt.imshow(dataset.img_dict[ood_class_indices[0]][0])\n",
    "plt.show()\n",
    "processed_img = dataset.get_sample_image(ood_class_indices[0], 0)\n",
    "logit, attn_weights = model(processed_img.unsqueeze(0))\n",
    "print(dataset.class_to_idx)\n",
    "print(logit.max(1), logit)\n",
    "print(len(attn_weights), attn_weights[0].shape)"
   ]
  }
 ],
 "metadata": {
  "interpreter": {
   "hash": "949777d72b0d2535278d3dc13498b2535136f6dfe0678499012e853ee9abcab1"
  },
  "kernelspec": {
   "display_name": "Python 3.9.7 64-bit",
   "language": "python",
   "name": "python3"
  },
  "language_info": {
   "codemirror_mode": {
    "name": "ipython",
    "version": 3
   },
   "file_extension": ".py",
   "mimetype": "text/x-python",
   "name": "python",
   "nbconvert_exporter": "python",
   "pygments_lexer": "ipython3",
   "version": "3.9.7"
  },
  "orig_nbformat": 4
 },
 "nbformat": 4,
 "nbformat_minor": 2
}
