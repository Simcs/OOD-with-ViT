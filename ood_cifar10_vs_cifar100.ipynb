{
 "cells": [
  {
   "cell_type": "markdown",
   "metadata": {},
   "source": [
    "### Base settings"
   ]
  },
  {
   "cell_type": "code",
   "execution_count": 1,
   "metadata": {},
   "outputs": [],
   "source": [
    "%load_ext autoreload\n",
    "%autoreload 2\n",
    "\n",
    "import time\n",
    "from pprint import pprint\n",
    "from pathlib import Path\n",
    "from collections import OrderedDict\n",
    "from tqdm import tqdm\n",
    "import random\n",
    "\n",
    "import numpy as np\n",
    "import pandas as pd\n",
    "import matplotlib.pyplot as plt\n",
    "import plotly.express as px\n",
    "\n",
    "import torch\n",
    "import torch.nn as nn\n",
    "import torchvision.transforms as transforms\n",
    "\n",
    "device = 'cuda' if torch.cuda.is_available() else 'cpu'\n",
    "\n"
   ]
  },
  {
   "cell_type": "code",
   "execution_count": 2,
   "metadata": {},
   "outputs": [],
   "source": [
    "# create ConfigDict from config yaml file\n",
    "import yaml\n",
    "from ml_collections import config_dict\n",
    "\n",
    "config_path = Path('configs') / 'deit_tiny-pretrained-cifar10.yaml'\n",
    "with config_path.open('r') as f:\n",
    "    config = yaml.safe_load(f)\n",
    "    config = config_dict.ConfigDict(config)"
   ]
  },
  {
   "cell_type": "code",
   "execution_count": 5,
   "metadata": {},
   "outputs": [],
   "source": [
    "# frequently used variables\n",
    "model_name = config.model.name\n",
    "patch_size = config.model.patch_size\n",
    "summary = config.summary\n",
    "\n",
    "# log directories\n",
    "log_root = Path('./logs') / model_name / summary\n",
    "checkpoint_path = log_root / 'checkpoints'"
   ]
  },
  {
   "cell_type": "code",
   "execution_count": 6,
   "metadata": {},
   "outputs": [
    {
     "name": "stderr",
     "output_type": "stream",
     "text": [
      "Using cache found in /home/simc/.cache/torch/hub/facebookresearch_deit_main\n"
     ]
    },
    {
     "name": "stdout",
     "output_type": "stream",
     "text": [
      "VisionTransformer(\n",
      "  (patch_embed): PatchEmbed(\n",
      "    (proj): Conv2d(3, 192, kernel_size=(16, 16), stride=(16, 16))\n",
      "    (norm): Identity()\n",
      "  )\n",
      "  (pos_drop): Dropout(p=0.0, inplace=False)\n",
      "  (blocks): Sequential(\n",
      "    (0): Block(\n",
      "      (norm1): LayerNorm((192,), eps=1e-06, elementwise_affine=True)\n",
      "      (attn): Attention(\n",
      "        (qkv): Linear(in_features=192, out_features=576, bias=True)\n",
      "        (attn_drop): Dropout(p=0.0, inplace=False)\n",
      "        (proj): Linear(in_features=192, out_features=192, bias=True)\n",
      "        (proj_drop): Dropout(p=0.0, inplace=False)\n",
      "      )\n",
      "      (drop_path): Identity()\n",
      "      (norm2): LayerNorm((192,), eps=1e-06, elementwise_affine=True)\n",
      "      (mlp): Mlp(\n",
      "        (fc1): Linear(in_features=192, out_features=768, bias=True)\n",
      "        (act): GELU()\n",
      "        (drop1): Dropout(p=0.0, inplace=False)\n",
      "        (fc2): Linear(in_features=768, out_features=192, bias=True)\n",
      "        (drop2): Dropout(p=0.0, inplace=False)\n",
      "      )\n",
      "    )\n",
      "    (1): Block(\n",
      "      (norm1): LayerNorm((192,), eps=1e-06, elementwise_affine=True)\n",
      "      (attn): Attention(\n",
      "        (qkv): Linear(in_features=192, out_features=576, bias=True)\n",
      "        (attn_drop): Dropout(p=0.0, inplace=False)\n",
      "        (proj): Linear(in_features=192, out_features=192, bias=True)\n",
      "        (proj_drop): Dropout(p=0.0, inplace=False)\n",
      "      )\n",
      "      (drop_path): Identity()\n",
      "      (norm2): LayerNorm((192,), eps=1e-06, elementwise_affine=True)\n",
      "      (mlp): Mlp(\n",
      "        (fc1): Linear(in_features=192, out_features=768, bias=True)\n",
      "        (act): GELU()\n",
      "        (drop1): Dropout(p=0.0, inplace=False)\n",
      "        (fc2): Linear(in_features=768, out_features=192, bias=True)\n",
      "        (drop2): Dropout(p=0.0, inplace=False)\n",
      "      )\n",
      "    )\n",
      "    (2): Block(\n",
      "      (norm1): LayerNorm((192,), eps=1e-06, elementwise_affine=True)\n",
      "      (attn): Attention(\n",
      "        (qkv): Linear(in_features=192, out_features=576, bias=True)\n",
      "        (attn_drop): Dropout(p=0.0, inplace=False)\n",
      "        (proj): Linear(in_features=192, out_features=192, bias=True)\n",
      "        (proj_drop): Dropout(p=0.0, inplace=False)\n",
      "      )\n",
      "      (drop_path): Identity()\n",
      "      (norm2): LayerNorm((192,), eps=1e-06, elementwise_affine=True)\n",
      "      (mlp): Mlp(\n",
      "        (fc1): Linear(in_features=192, out_features=768, bias=True)\n",
      "        (act): GELU()\n",
      "        (drop1): Dropout(p=0.0, inplace=False)\n",
      "        (fc2): Linear(in_features=768, out_features=192, bias=True)\n",
      "        (drop2): Dropout(p=0.0, inplace=False)\n",
      "      )\n",
      "    )\n",
      "    (3): Block(\n",
      "      (norm1): LayerNorm((192,), eps=1e-06, elementwise_affine=True)\n",
      "      (attn): Attention(\n",
      "        (qkv): Linear(in_features=192, out_features=576, bias=True)\n",
      "        (attn_drop): Dropout(p=0.0, inplace=False)\n",
      "        (proj): Linear(in_features=192, out_features=192, bias=True)\n",
      "        (proj_drop): Dropout(p=0.0, inplace=False)\n",
      "      )\n",
      "      (drop_path): Identity()\n",
      "      (norm2): LayerNorm((192,), eps=1e-06, elementwise_affine=True)\n",
      "      (mlp): Mlp(\n",
      "        (fc1): Linear(in_features=192, out_features=768, bias=True)\n",
      "        (act): GELU()\n",
      "        (drop1): Dropout(p=0.0, inplace=False)\n",
      "        (fc2): Linear(in_features=768, out_features=192, bias=True)\n",
      "        (drop2): Dropout(p=0.0, inplace=False)\n",
      "      )\n",
      "    )\n",
      "    (4): Block(\n",
      "      (norm1): LayerNorm((192,), eps=1e-06, elementwise_affine=True)\n",
      "      (attn): Attention(\n",
      "        (qkv): Linear(in_features=192, out_features=576, bias=True)\n",
      "        (attn_drop): Dropout(p=0.0, inplace=False)\n",
      "        (proj): Linear(in_features=192, out_features=192, bias=True)\n",
      "        (proj_drop): Dropout(p=0.0, inplace=False)\n",
      "      )\n",
      "      (drop_path): Identity()\n",
      "      (norm2): LayerNorm((192,), eps=1e-06, elementwise_affine=True)\n",
      "      (mlp): Mlp(\n",
      "        (fc1): Linear(in_features=192, out_features=768, bias=True)\n",
      "        (act): GELU()\n",
      "        (drop1): Dropout(p=0.0, inplace=False)\n",
      "        (fc2): Linear(in_features=768, out_features=192, bias=True)\n",
      "        (drop2): Dropout(p=0.0, inplace=False)\n",
      "      )\n",
      "    )\n",
      "    (5): Block(\n",
      "      (norm1): LayerNorm((192,), eps=1e-06, elementwise_affine=True)\n",
      "      (attn): Attention(\n",
      "        (qkv): Linear(in_features=192, out_features=576, bias=True)\n",
      "        (attn_drop): Dropout(p=0.0, inplace=False)\n",
      "        (proj): Linear(in_features=192, out_features=192, bias=True)\n",
      "        (proj_drop): Dropout(p=0.0, inplace=False)\n",
      "      )\n",
      "      (drop_path): Identity()\n",
      "      (norm2): LayerNorm((192,), eps=1e-06, elementwise_affine=True)\n",
      "      (mlp): Mlp(\n",
      "        (fc1): Linear(in_features=192, out_features=768, bias=True)\n",
      "        (act): GELU()\n",
      "        (drop1): Dropout(p=0.0, inplace=False)\n",
      "        (fc2): Linear(in_features=768, out_features=192, bias=True)\n",
      "        (drop2): Dropout(p=0.0, inplace=False)\n",
      "      )\n",
      "    )\n",
      "    (6): Block(\n",
      "      (norm1): LayerNorm((192,), eps=1e-06, elementwise_affine=True)\n",
      "      (attn): Attention(\n",
      "        (qkv): Linear(in_features=192, out_features=576, bias=True)\n",
      "        (attn_drop): Dropout(p=0.0, inplace=False)\n",
      "        (proj): Linear(in_features=192, out_features=192, bias=True)\n",
      "        (proj_drop): Dropout(p=0.0, inplace=False)\n",
      "      )\n",
      "      (drop_path): Identity()\n",
      "      (norm2): LayerNorm((192,), eps=1e-06, elementwise_affine=True)\n",
      "      (mlp): Mlp(\n",
      "        (fc1): Linear(in_features=192, out_features=768, bias=True)\n",
      "        (act): GELU()\n",
      "        (drop1): Dropout(p=0.0, inplace=False)\n",
      "        (fc2): Linear(in_features=768, out_features=192, bias=True)\n",
      "        (drop2): Dropout(p=0.0, inplace=False)\n",
      "      )\n",
      "    )\n",
      "    (7): Block(\n",
      "      (norm1): LayerNorm((192,), eps=1e-06, elementwise_affine=True)\n",
      "      (attn): Attention(\n",
      "        (qkv): Linear(in_features=192, out_features=576, bias=True)\n",
      "        (attn_drop): Dropout(p=0.0, inplace=False)\n",
      "        (proj): Linear(in_features=192, out_features=192, bias=True)\n",
      "        (proj_drop): Dropout(p=0.0, inplace=False)\n",
      "      )\n",
      "      (drop_path): Identity()\n",
      "      (norm2): LayerNorm((192,), eps=1e-06, elementwise_affine=True)\n",
      "      (mlp): Mlp(\n",
      "        (fc1): Linear(in_features=192, out_features=768, bias=True)\n",
      "        (act): GELU()\n",
      "        (drop1): Dropout(p=0.0, inplace=False)\n",
      "        (fc2): Linear(in_features=768, out_features=192, bias=True)\n",
      "        (drop2): Dropout(p=0.0, inplace=False)\n",
      "      )\n",
      "    )\n",
      "    (8): Block(\n",
      "      (norm1): LayerNorm((192,), eps=1e-06, elementwise_affine=True)\n",
      "      (attn): Attention(\n",
      "        (qkv): Linear(in_features=192, out_features=576, bias=True)\n",
      "        (attn_drop): Dropout(p=0.0, inplace=False)\n",
      "        (proj): Linear(in_features=192, out_features=192, bias=True)\n",
      "        (proj_drop): Dropout(p=0.0, inplace=False)\n",
      "      )\n",
      "      (drop_path): Identity()\n",
      "      (norm2): LayerNorm((192,), eps=1e-06, elementwise_affine=True)\n",
      "      (mlp): Mlp(\n",
      "        (fc1): Linear(in_features=192, out_features=768, bias=True)\n",
      "        (act): GELU()\n",
      "        (drop1): Dropout(p=0.0, inplace=False)\n",
      "        (fc2): Linear(in_features=768, out_features=192, bias=True)\n",
      "        (drop2): Dropout(p=0.0, inplace=False)\n",
      "      )\n",
      "    )\n",
      "    (9): Block(\n",
      "      (norm1): LayerNorm((192,), eps=1e-06, elementwise_affine=True)\n",
      "      (attn): Attention(\n",
      "        (qkv): Linear(in_features=192, out_features=576, bias=True)\n",
      "        (attn_drop): Dropout(p=0.0, inplace=False)\n",
      "        (proj): Linear(in_features=192, out_features=192, bias=True)\n",
      "        (proj_drop): Dropout(p=0.0, inplace=False)\n",
      "      )\n",
      "      (drop_path): Identity()\n",
      "      (norm2): LayerNorm((192,), eps=1e-06, elementwise_affine=True)\n",
      "      (mlp): Mlp(\n",
      "        (fc1): Linear(in_features=192, out_features=768, bias=True)\n",
      "        (act): GELU()\n",
      "        (drop1): Dropout(p=0.0, inplace=False)\n",
      "        (fc2): Linear(in_features=768, out_features=192, bias=True)\n",
      "        (drop2): Dropout(p=0.0, inplace=False)\n",
      "      )\n",
      "    )\n",
      "    (10): Block(\n",
      "      (norm1): LayerNorm((192,), eps=1e-06, elementwise_affine=True)\n",
      "      (attn): Attention(\n",
      "        (qkv): Linear(in_features=192, out_features=576, bias=True)\n",
      "        (attn_drop): Dropout(p=0.0, inplace=False)\n",
      "        (proj): Linear(in_features=192, out_features=192, bias=True)\n",
      "        (proj_drop): Dropout(p=0.0, inplace=False)\n",
      "      )\n",
      "      (drop_path): Identity()\n",
      "      (norm2): LayerNorm((192,), eps=1e-06, elementwise_affine=True)\n",
      "      (mlp): Mlp(\n",
      "        (fc1): Linear(in_features=192, out_features=768, bias=True)\n",
      "        (act): GELU()\n",
      "        (drop1): Dropout(p=0.0, inplace=False)\n",
      "        (fc2): Linear(in_features=768, out_features=192, bias=True)\n",
      "        (drop2): Dropout(p=0.0, inplace=False)\n",
      "      )\n",
      "    )\n",
      "    (11): Block(\n",
      "      (norm1): LayerNorm((192,), eps=1e-06, elementwise_affine=True)\n",
      "      (attn): Attention(\n",
      "        (qkv): Linear(in_features=192, out_features=576, bias=True)\n",
      "        (attn_drop): Dropout(p=0.0, inplace=False)\n",
      "        (proj): Linear(in_features=192, out_features=192, bias=True)\n",
      "        (proj_drop): Dropout(p=0.0, inplace=False)\n",
      "      )\n",
      "      (drop_path): Identity()\n",
      "      (norm2): LayerNorm((192,), eps=1e-06, elementwise_affine=True)\n",
      "      (mlp): Mlp(\n",
      "        (fc1): Linear(in_features=192, out_features=768, bias=True)\n",
      "        (act): GELU()\n",
      "        (drop1): Dropout(p=0.0, inplace=False)\n",
      "        (fc2): Linear(in_features=768, out_features=192, bias=True)\n",
      "        (drop2): Dropout(p=0.0, inplace=False)\n",
      "      )\n",
      "    )\n",
      "  )\n",
      "  (norm): LayerNorm((192,), eps=1e-06, elementwise_affine=True)\n",
      "  (pre_logits): Identity()\n",
      "  (head): Linear(in_features=192, out_features=10, bias=True)\n",
      ")\n"
     ]
    },
    {
     "data": {
      "text/plain": [
       "<All keys matched successfully>"
      ]
     },
     "execution_count": 6,
     "metadata": {},
     "output_type": "execute_result"
    }
   ],
   "source": [
    "# initialize ViT model and load pretrained weights\n",
    "from ood_with_vit.models.vit import ViT\n",
    "\n",
    "n_class = config.dataset.n_class\n",
    "if config.model.pretrained:\n",
    "    model = torch.hub.load(\n",
    "        repo_or_dir=config.model.repo,\n",
    "        model=config.model.pretrained_model,\n",
    "        pretrained=False,\n",
    "    )\n",
    "    model.head = nn.Linear(model.head.in_features, n_class)\n",
    "else:\n",
    "    model = ViT(\n",
    "        image_size=config.model.img_size,\n",
    "        patch_size=config.model.patch_size,\n",
    "        num_classes=n_class,\n",
    "        dim=config.model.dim_head,\n",
    "        depth=config.model.depth,\n",
    "        heads=config.model.n_heads,\n",
    "        mlp_dim=config.model.dim_mlp,\n",
    "        dropout=config.model.dropout,\n",
    "        emb_dropout=config.model.emb_dropout,\n",
    "        visualize=True,\n",
    "    )\n",
    "\n",
    "model = model.to(device=device)\n",
    "print(model)\n",
    "\n",
    "checkpoint = torch.load(checkpoint_path / f'{summary}_best.pt')\n",
    "\n",
    "state_dict = checkpoint['model_state_dict']\n",
    "trimmed_keys = []\n",
    "for key in state_dict.keys():\n",
    "    # remove prefix 'module.' for each key (in case of DataParallel)\n",
    "    trimmed_keys.append(key[7:])\n",
    "trimmed_state_dict = OrderedDict(list(zip(trimmed_keys, state_dict.values())))\n",
    "\n",
    "model.load_state_dict(trimmed_state_dict)"
   ]
  },
  {
   "cell_type": "code",
   "execution_count": 8,
   "metadata": {},
   "outputs": [
    {
     "name": "stdout",
     "output_type": "stream",
     "text": [
      "{'airplane': 0, 'automobile': 1, 'bird': 2, 'cat': 3, 'deer': 4, 'dog': 5, 'frog': 6, 'horse': 7, 'ship': 8, 'truck': 9}\n",
      "{'apple': 0, 'aquarium_fish': 1, 'baby': 2, 'bear': 3, 'beaver': 4, 'bed': 5, 'bee': 6, 'beetle': 7, 'bicycle': 8, 'bottle': 9, 'bowl': 10, 'boy': 11, 'bridge': 12, 'bus': 13, 'butterfly': 14, 'camel': 15, 'can': 16, 'castle': 17, 'caterpillar': 18, 'cattle': 19, 'chair': 20, 'chimpanzee': 21, 'clock': 22, 'cloud': 23, 'cockroach': 24, 'couch': 25, 'crab': 26, 'crocodile': 27, 'cup': 28, 'dinosaur': 29, 'dolphin': 30, 'elephant': 31, 'flatfish': 32, 'forest': 33, 'fox': 34, 'girl': 35, 'hamster': 36, 'house': 37, 'kangaroo': 38, 'keyboard': 39, 'lamp': 40, 'lawn_mower': 41, 'leopard': 42, 'lion': 43, 'lizard': 44, 'lobster': 45, 'man': 46, 'maple_tree': 47, 'motorcycle': 48, 'mountain': 49, 'mouse': 50, 'mushroom': 51, 'oak_tree': 52, 'orange': 53, 'orchid': 54, 'otter': 55, 'palm_tree': 56, 'pear': 57, 'pickup_truck': 58, 'pine_tree': 59, 'plain': 60, 'plate': 61, 'poppy': 62, 'porcupine': 63, 'possum': 64, 'rabbit': 65, 'raccoon': 66, 'ray': 67, 'road': 68, 'rocket': 69, 'rose': 70, 'sea': 71, 'seal': 72, 'shark': 73, 'shrew': 74, 'skunk': 75, 'skyscraper': 76, 'snail': 77, 'snake': 78, 'spider': 79, 'squirrel': 80, 'streetcar': 81, 'sunflower': 82, 'sweet_pepper': 83, 'table': 84, 'tank': 85, 'telephone': 86, 'television': 87, 'tiger': 88, 'tractor': 89, 'train': 90, 'trout': 91, 'tulip': 92, 'turtle': 93, 'wardrobe': 94, 'whale': 95, 'willow_tree': 96, 'wolf': 97, 'woman': 98, 'worm': 99}\n"
     ]
    }
   ],
   "source": [
    "from torchvision.datasets import CIFAR10, CIFAR100\n",
    "from torch.utils.data import DataLoader, Dataset\n",
    "\n",
    "dataset_mean, dataset_std = config.dataset.mean, config.dataset.std\n",
    "dataset_root = config.dataset.root\n",
    "img_size = config.model.img_size\n",
    "\n",
    "transform_test = transforms.Compose([\n",
    "    transforms.Resize(img_size),\n",
    "    transforms.ToTensor(),\n",
    "    transforms.Normalize(dataset_mean, dataset_std),\n",
    "])      \n",
    "\n",
    "cifar10 = CIFAR10(\n",
    "    root=dataset_root, \n",
    "    train=False, \n",
    "    download=False, \n",
    "    transform=transform_test\n",
    ")\n",
    "id_test_dataloader = DataLoader(\n",
    "    dataset=cifar10, \n",
    "    batch_size=config.eval.batch_size, \n",
    "    shuffle=False, \n",
    "    num_workers=8\n",
    ")\n",
    "\n",
    "cifar100 = CIFAR100(\n",
    "    root=dataset_root, \n",
    "    train=False, \n",
    "    download=False, \n",
    "    transform=transform_test\n",
    ")\n",
    "ood_test_dataloader = DataLoader(\n",
    "    dataset=cifar100, \n",
    "    batch_size=config.eval.batch_size, \n",
    "    shuffle=False, \n",
    "    num_workers=8\n",
    ")\n",
    "\n",
    "print(cifar10.class_to_idx)\n",
    "print(cifar100.class_to_idx)"
   ]
  },
  {
   "cell_type": "markdown",
   "metadata": {},
   "source": [
    "### Utility"
   ]
  },
  {
   "cell_type": "code",
   "execution_count": 9,
   "metadata": {},
   "outputs": [],
   "source": [
    "# set seeds\n",
    "import random\n",
    "import numpy as np\n",
    "\n",
    "def set_seed(seed):\n",
    "    random.seed(seed)\n",
    "    np.random.seed(seed)\n",
    "    torch.manual_seed(seed)"
   ]
  },
  {
   "cell_type": "markdown",
   "metadata": {},
   "source": [
    "### Visualize features"
   ]
  },
  {
   "cell_type": "code",
   "execution_count": 15,
   "metadata": {},
   "outputs": [
    {
     "name": "stderr",
     "output_type": "stream",
     "text": [
      " 20%|██        | 4/20 [00:00<00:00, 33.90it/s]"
     ]
    },
    {
     "name": "stdout",
     "output_type": "stream",
     "text": [
      "processing in-distribution samples...\n"
     ]
    },
    {
     "name": "stderr",
     "output_type": "stream",
     "text": [
      "100%|██████████| 20/20 [00:00<00:00, 36.96it/s]\n",
      "100%|██████████| 20/20 [00:01<00:00, 17.21it/s]\n",
      "100%|██████████| 20/20 [00:00<00:00, 32.97it/s]\n",
      "100%|██████████| 20/20 [00:00<00:00, 32.57it/s]\n",
      "100%|██████████| 20/20 [00:00<00:00, 31.85it/s]\n",
      "100%|██████████| 20/20 [00:00<00:00, 31.58it/s]\n",
      "100%|██████████| 20/20 [00:00<00:00, 30.75it/s]\n",
      "100%|██████████| 20/20 [00:00<00:00, 30.87it/s]\n",
      "100%|██████████| 20/20 [00:00<00:00, 30.71it/s]\n",
      "100%|██████████| 20/20 [00:00<00:00, 29.81it/s]\n",
      " 15%|█▌        | 3/20 [00:00<00:00, 29.64it/s]"
     ]
    },
    {
     "name": "stdout",
     "output_type": "stream",
     "text": [
      "processing out-of-distribution samples...\n"
     ]
    },
    {
     "name": "stderr",
     "output_type": "stream",
     "text": [
      "100%|██████████| 20/20 [00:00<00:00, 29.34it/s]\n",
      "100%|██████████| 20/20 [00:01<00:00, 17.13it/s]\n",
      "100%|██████████| 20/20 [00:00<00:00, 30.30it/s]\n",
      "100%|██████████| 20/20 [00:00<00:00, 37.12it/s]\n",
      "100%|██████████| 20/20 [00:00<00:00, 35.92it/s]\n",
      "100%|██████████| 20/20 [00:00<00:00, 36.23it/s]\n",
      "100%|██████████| 20/20 [00:00<00:00, 35.70it/s]\n",
      "100%|██████████| 20/20 [00:00<00:00, 34.76it/s]\n",
      "100%|██████████| 20/20 [00:00<00:00, 34.65it/s]\n",
      "100%|██████████| 20/20 [00:00<00:00, 34.47it/s]\n"
     ]
    }
   ],
   "source": [
    "# gather penultimate features\n",
    "from ood_with_vit.utils import compute_penultimate_features\n",
    "\n",
    "num_samples = 20\n",
    "num_class = 10\n",
    "\n",
    "print('processing in-distribution samples...')\n",
    "X_in, y_in = [], []\n",
    "cls_indices = random.sample(range(len(cifar10.classes)), num_class)\n",
    "for cls_idx in cls_indices:\n",
    "    img_indices = np.where(np.array(cifar10.targets) == cls_idx)[0]\n",
    "    img_indices = random.sample(list(img_indices), num_samples)\n",
    "    for i in tqdm(img_indices):\n",
    "        img, _ = cifar10[i]\n",
    "        img = img.to(device)\n",
    "        penultimate_features = compute_penultimate_features(config, model, img.unsqueeze(0))\n",
    "        X_in.append(penultimate_features.squeeze().numpy())\n",
    "        y_in.append((cls_idx, cifar10.classes[cls_idx]))\n",
    "\n",
    "print('processing out-of-distribution samples...')\n",
    "X_out, y_out = [], []\n",
    "cls_indices = random.sample(range(len(cifar100.classes)), num_class)\n",
    "for cls_idx in cls_indices:\n",
    "    img_indices = np.where(np.array(cifar100.targets) == cls_idx)[0]\n",
    "    img_indices = random.sample(list(img_indices), num_samples)\n",
    "    for i in tqdm(img_indices):\n",
    "        img, _ = cifar100[i]\n",
    "        img = img.to(device)\n",
    "        penultimate_features = compute_penultimate_features(config, model, img.unsqueeze(0))\n",
    "        X_out.append(penultimate_features.squeeze().numpy())\n",
    "        y_out.append((cls_idx, cifar100.classes[cls_idx]))"
   ]
  },
  {
   "cell_type": "markdown",
   "metadata": {},
   "source": [
    "#### Feature visualization by T-SNE"
   ]
  },
  {
   "cell_type": "code",
   "execution_count": 19,
   "metadata": {},
   "outputs": [
    {
     "data": {
      "application/vnd.plotly.v1+json": {
       "config": {
        "plotlyServerURL": "https://plot.ly"
       },
       "data": [
        {
         "hovertemplate": "class=(2, 'bird')<br>x=%{x}<br>y=%{y}<extra></extra>",
         "legendgroup": "(2, 'bird')",
         "marker": {
          "color": "#636efa",
          "symbol": "circle"
         },
         "mode": "markers",
         "name": "(2, 'bird')",
         "orientation": "v",
         "showlegend": true,
         "type": "scatter",
         "x": [
          -0.9409308433532715,
          -0.11230428516864777,
          -0.5539156794548035,
          0.2827477753162384,
          0.21151748299598694,
          -1.2194875478744507,
          0.7049155831336975,
          -1.0692636966705322,
          -1.7382855415344238,
          0.4187709093093872,
          -1.2673413753509521,
          -0.47071313858032227,
          -0.4806513488292694,
          -0.40609025955200195,
          0.9297252297401428,
          -0.8093603849411011,
          0.29427570104599,
          0.727464497089386,
          -1.0513557195663452,
          0.615593433380127
         ],
         "xaxis": "x",
         "y": [
          -0.5418699979782104,
          0.6015770435333252,
          -0.2736697494983673,
          -1.7477209568023682,
          0.7371955513954163,
          0.21061775088310242,
          0.1387285441160202,
          -0.3520984649658203,
          0.6241333484649658,
          0.41725268959999084,
          -0.5617944598197937,
          0.1161201074719429,
          -0.0847199410200119,
          -0.2055608481168747,
          0.3012247085571289,
          -0.39105021953582764,
          -0.1750938594341278,
          -0.575884997844696,
          -0.19754569232463837,
          -0.28250762820243835
         ],
         "yaxis": "y"
        },
        {
         "hovertemplate": "class=(1, 'automobile')<br>x=%{x}<br>y=%{y}<extra></extra>",
         "legendgroup": "(1, 'automobile')",
         "marker": {
          "color": "#EF553B",
          "symbol": "circle"
         },
         "mode": "markers",
         "name": "(1, 'automobile')",
         "orientation": "v",
         "showlegend": true,
         "type": "scatter",
         "x": [
          -10.0271635055542,
          -10.979453086853027,
          -11.618902206420898,
          -11.130526542663574,
          -10.510211944580078,
          -9.974920272827148,
          -10.851224899291992,
          -10.459575653076172,
          -12.009723663330078,
          -12.2155122756958,
          -10.618643760681152,
          -10.928709030151367,
          -10.910310745239258,
          -11.233190536499023,
          -10.46565055847168,
          -11.12865924835205,
          -11.229803085327148,
          -11.354828834533691,
          -10.769755363464355,
          -10.39773178100586
         ],
         "xaxis": "x",
         "y": [
          -9.733997344970703,
          -10.487081527709961,
          -9.254366874694824,
          -10.171714782714844,
          -9.831219673156738,
          -9.0366792678833,
          -10.091780662536621,
          -9.545740127563477,
          -3.9307801723480225,
          -10.436095237731934,
          -9.803363800048828,
          -10.305716514587402,
          -9.137887001037598,
          -9.735480308532715,
          -10.476226806640625,
          -10.09946346282959,
          -9.242526054382324,
          -9.944924354553223,
          -10.603553771972656,
          -10.087302207946777
         ],
         "yaxis": "y"
        },
        {
         "hovertemplate": "class=(3, 'cat')<br>x=%{x}<br>y=%{y}<extra></extra>",
         "legendgroup": "(3, 'cat')",
         "marker": {
          "color": "#00cc96",
          "symbol": "circle"
         },
         "mode": "markers",
         "name": "(3, 'cat')",
         "orientation": "v",
         "showlegend": true,
         "type": "scatter",
         "x": [
          7.838422775268555,
          8.07982349395752,
          7.71028995513916,
          10.450989723205566,
          8.31782054901123,
          9.306065559387207,
          7.751229286193848,
          7.588571548461914,
          7.816595077514648,
          -4.197642803192139,
          7.583549499511719,
          6.610104084014893,
          7.696417331695557,
          7.29243278503418,
          6.747378349304199,
          7.826535224914551,
          7.29495096206665,
          6.555500507354736,
          7.304222106933594,
          7.812896251678467
         ],
         "xaxis": "x",
         "y": [
          -4.078901767730713,
          -3.3625731468200684,
          -4.456194877624512,
          -1.971834421157837,
          -2.961106061935425,
          -4.053905487060547,
          -4.394405841827393,
          -4.225008487701416,
          -4.357934474945068,
          3.402069330215454,
          -3.3638272285461426,
          -4.689659118652344,
          -3.6822502613067627,
          -4.710388660430908,
          -3.8056387901306152,
          -4.389827251434326,
          -4.591741561889648,
          -3.7349884510040283,
          -4.1912455558776855,
          -3.9792592525482178
         ],
         "yaxis": "y"
        },
        {
         "hovertemplate": "class=(6, 'frog')<br>x=%{x}<br>y=%{y}<extra></extra>",
         "legendgroup": "(6, 'frog')",
         "marker": {
          "color": "#ab63fa",
          "symbol": "circle"
         },
         "mode": "markers",
         "name": "(6, 'frog')",
         "orientation": "v",
         "showlegend": true,
         "type": "scatter",
         "x": [
          -4.453212261199951,
          -4.902987480163574,
          -5.058969974517822,
          -5.283603668212891,
          -5.297590732574463,
          -5.422531604766846,
          -4.684013366699219,
          -5.36098575592041,
          -5.347097396850586,
          -4.765170574188232,
          -5.732657432556152,
          -4.828287601470947,
          -5.4840521812438965,
          -5.1460394859313965,
          -4.787199974060059,
          -5.402751445770264,
          -5.872566223144531,
          -4.554278373718262,
          -5.800622463226318,
          -5.84146785736084
         ],
         "xaxis": "x",
         "y": [
          4.392024993896484,
          5.09616756439209,
          3.7945613861083984,
          4.836510181427002,
          4.577888488769531,
          4.920685291290283,
          4.71970272064209,
          4.358955383300781,
          4.479516983032227,
          4.13141393661499,
          4.54791784286499,
          4.777465343475342,
          3.776052474975586,
          4.058216094970703,
          3.437610626220703,
          4.693783760070801,
          3.6076407432556152,
          4.5713019371032715,
          3.9917876720428467,
          4.925435543060303
         ],
         "yaxis": "y"
        },
        {
         "hovertemplate": "class=(4, 'deer')<br>x=%{x}<br>y=%{y}<extra></extra>",
         "legendgroup": "(4, 'deer')",
         "marker": {
          "color": "#FFA15A",
          "symbol": "circle"
         },
         "mode": "markers",
         "name": "(4, 'deer')",
         "orientation": "v",
         "showlegend": true,
         "type": "scatter",
         "x": [
          3.8953938484191895,
          3.471557855606079,
          4.853364944458008,
          2.882249116897583,
          3.295616626739502,
          3.813758134841919,
          3.628410816192627,
          4.41644811630249,
          3.503775119781494,
          3.5699450969696045,
          3.7858083248138428,
          3.9591593742370605,
          4.051111698150635,
          3.367722272872925,
          3.6471776962280273,
          4.6475043296813965,
          3.3281123638153076,
          2.60783052444458,
          4.135321140289307,
          4.105483531951904
         ],
         "xaxis": "x",
         "y": [
          4.706879615783691,
          3.9289391040802,
          3.180598735809326,
          2.868359088897705,
          -3.425478219985962,
          4.525461196899414,
          3.926271438598633,
          3.670166254043579,
          4.213130474090576,
          3.4919564723968506,
          3.650995969772339,
          4.534026622772217,
          4.468661308288574,
          3.8558590412139893,
          3.38883113861084,
          3.9200856685638428,
          3.8542377948760986,
          3.7168385982513428,
          4.095462799072266,
          3.3033955097198486
         ],
         "yaxis": "y"
        },
        {
         "hovertemplate": "class=(0, 'airplane')<br>x=%{x}<br>y=%{y}<extra></extra>",
         "legendgroup": "(0, 'airplane')",
         "marker": {
          "color": "#19d3f3",
          "symbol": "circle"
         },
         "mode": "markers",
         "name": "(0, 'airplane')",
         "orientation": "v",
         "showlegend": true,
         "type": "scatter",
         "x": [
          1.4156501293182373,
          1.6895524263381958,
          0.4766421914100647,
          1.4903823137283325,
          1.0637810230255127,
          0.9140470027923584,
          0.8887844085693359,
          6.979936122894287,
          1.2733798027038574,
          0.3512873947620392,
          1.0662050247192383,
          0.2493392527103424,
          1.5648099184036255,
          1.7189176082611084,
          1.4059009552001953,
          0.7147546410560608,
          0.9355997443199158,
          2.0092146396636963,
          0.9580128192901611,
          1.2958991527557373
         ],
         "xaxis": "x",
         "y": [
          -6.643548011779785,
          -5.967129230499268,
          -7.049663066864014,
          -6.803454875946045,
          -6.153658390045166,
          -5.874760627746582,
          -5.434569358825684,
          -2.7067787647247314,
          -5.393674850463867,
          -5.636037349700928,
          -4.106452941894531,
          -6.429887771606445,
          -5.62733793258667,
          -5.540464401245117,
          -6.458189010620117,
          -6.71196985244751,
          -5.751705169677734,
          -4.620966911315918,
          -6.107576847076416,
          -5.500751972198486
         ],
         "yaxis": "y"
        },
        {
         "hovertemplate": "class=(9, 'truck')<br>x=%{x}<br>y=%{y}<extra></extra>",
         "legendgroup": "(9, 'truck')",
         "marker": {
          "color": "#FF6692",
          "symbol": "circle"
         },
         "mode": "markers",
         "name": "(9, 'truck')",
         "orientation": "v",
         "showlegend": true,
         "type": "scatter",
         "x": [
          -12.197610855102539,
          -13.350730895996094,
          -13.441595077514648,
          -10.883626937866211,
          -12.511880874633789,
          -12.74429988861084,
          -12.830759048461914,
          -12.938740730285645,
          -13.491487503051758,
          -13.719372749328613,
          -13.11052131652832,
          -12.959930419921875,
          -12.423595428466797,
          -13.492364883422852,
          -13.656867980957031,
          -13.343740463256836,
          -12.822840690612793,
          -13.250540733337402,
          -12.896787643432617,
          -12.532550811767578
         ],
         "xaxis": "x",
         "y": [
          -4.520908832550049,
          -4.1723785400390625,
          -4.689478397369385,
          -9.228549003601074,
          -4.141469478607178,
          -5.732756614685059,
          -5.690288066864014,
          -4.691554069519043,
          -4.888664722442627,
          -5.248255252838135,
          -4.282732009887695,
          -4.966477394104004,
          -5.318429946899414,
          -4.884425640106201,
          -4.849649429321289,
          -5.432429790496826,
          -5.198697566986084,
          -4.8274736404418945,
          -4.895471572875977,
          -4.864555835723877
         ],
         "yaxis": "y"
        },
        {
         "hovertemplate": "class=(7, 'horse')<br>x=%{x}<br>y=%{y}<extra></extra>",
         "legendgroup": "(7, 'horse')",
         "marker": {
          "color": "#B6E880",
          "symbol": "circle"
         },
         "mode": "markers",
         "name": "(7, 'horse')",
         "orientation": "v",
         "showlegend": true,
         "type": "scatter",
         "x": [
          11.578459739685059,
          11.956214904785156,
          11.589949607849121,
          10.862678527832031,
          12.307321548461914,
          11.79736328125,
          11.710680961608887,
          11.983388900756836,
          9.920929908752441,
          11.888789176940918,
          11.610912322998047,
          11.73617172241211,
          12.237698554992676,
          11.804435729980469,
          11.096654891967773,
          11.213350296020508,
          12.063071250915527,
          11.62747573852539,
          10.697192192077637,
          11.550264358520508
         ],
         "xaxis": "x",
         "y": [
          5.108824253082275,
          4.067808628082275,
          4.199073314666748,
          3.9670426845550537,
          4.23991584777832,
          4.076200008392334,
          4.163639068603516,
          4.360365867614746,
          4.088343620300293,
          5.306089401245117,
          4.718713760375977,
          5.377452850341797,
          4.886289596557617,
          4.3404717445373535,
          4.403199672698975,
          4.936983585357666,
          3.849874258041382,
          3.9089999198913574,
          5.172774314880371,
          4.33897590637207
         ],
         "yaxis": "y"
        },
        {
         "hovertemplate": "class=(5, 'dog')<br>x=%{x}<br>y=%{y}<extra></extra>",
         "legendgroup": "(5, 'dog')",
         "marker": {
          "color": "#FF97FF",
          "symbol": "circle"
         },
         "mode": "markers",
         "name": "(5, 'dog')",
         "orientation": "v",
         "showlegend": true,
         "type": "scatter",
         "x": [
          11.29251766204834,
          11.656770706176758,
          11.446390151977539,
          12.297588348388672,
          11.256217956542969,
          11.452201843261719,
          8.753544807434082,
          10.863269805908203,
          10.855371475219727,
          12.690983772277832,
          12.049721717834473,
          12.145733833312988,
          11.952652931213379,
          11.955113410949707,
          12.168526649475098,
          12.061624526977539,
          11.98668384552002,
          12.019083976745605,
          11.262862205505371,
          9.599787712097168
         ],
         "xaxis": "x",
         "y": [
          -2.768202543258667,
          -2.450641393661499,
          -1.550856351852417,
          -1.0694658756256104,
          -0.9093766808509827,
          -1.8245036602020264,
          -3.537625551223755,
          -2.2501015663146973,
          -1.4656081199645996,
          -1.6465870141983032,
          -1.2870771884918213,
          -2.0423669815063477,
          -1.2948226928710938,
          -1.2312817573547363,
          -1.416903018951416,
          -2.026149272918701,
          -1.271303653717041,
          -1.0450042486190796,
          -2.588122844696045,
          -2.7558908462524414
         ],
         "yaxis": "y"
        },
        {
         "hovertemplate": "class=(8, 'ship')<br>x=%{x}<br>y=%{y}<extra></extra>",
         "legendgroup": "(8, 'ship')",
         "marker": {
          "color": "#FECB52",
          "symbol": "circle"
         },
         "mode": "markers",
         "name": "(8, 'ship')",
         "orientation": "v",
         "showlegend": true,
         "type": "scatter",
         "x": [
          -4.63325834274292,
          -4.4912848472595215,
          -4.58601713180542,
          -3.8417341709136963,
          -4.253110408782959,
          -4.027226448059082,
          -5.456376552581787,
          -4.883899688720703,
          -3.9867162704467773,
          -4.474123477935791,
          -4.613531112670898,
          -5.361005783081055,
          -4.6817145347595215,
          -4.282899856567383,
          -4.416411876678467,
          -3.7526345252990723,
          -5.003279209136963,
          -0.9261437058448792,
          -4.1816606521606445,
          -4.469766139984131
         ],
         "xaxis": "x",
         "y": [
          -7.203925132751465,
          -6.9089765548706055,
          -7.325717449188232,
          -7.001309394836426,
          -6.766658306121826,
          -6.239548683166504,
          -7.78239107131958,
          -6.474344730377197,
          -7.229034423828125,
          -7.603697776794434,
          -6.862264633178711,
          -6.561982154846191,
          -6.195676803588867,
          -6.588109970092773,
          -6.5637969970703125,
          -6.643513202667236,
          -6.865483283996582,
          -6.694558143615723,
          -6.662355422973633,
          -5.856383323669434
         ],
         "yaxis": "y"
        }
       ],
       "layout": {
        "legend": {
         "title": {
          "text": "class"
         },
         "tracegroupgap": 0
        },
        "template": {
         "data": {
          "bar": [
           {
            "error_x": {
             "color": "#2a3f5f"
            },
            "error_y": {
             "color": "#2a3f5f"
            },
            "marker": {
             "line": {
              "color": "#E5ECF6",
              "width": 0.5
             },
             "pattern": {
              "fillmode": "overlay",
              "size": 10,
              "solidity": 0.2
             }
            },
            "type": "bar"
           }
          ],
          "barpolar": [
           {
            "marker": {
             "line": {
              "color": "#E5ECF6",
              "width": 0.5
             },
             "pattern": {
              "fillmode": "overlay",
              "size": 10,
              "solidity": 0.2
             }
            },
            "type": "barpolar"
           }
          ],
          "carpet": [
           {
            "aaxis": {
             "endlinecolor": "#2a3f5f",
             "gridcolor": "white",
             "linecolor": "white",
             "minorgridcolor": "white",
             "startlinecolor": "#2a3f5f"
            },
            "baxis": {
             "endlinecolor": "#2a3f5f",
             "gridcolor": "white",
             "linecolor": "white",
             "minorgridcolor": "white",
             "startlinecolor": "#2a3f5f"
            },
            "type": "carpet"
           }
          ],
          "choropleth": [
           {
            "colorbar": {
             "outlinewidth": 0,
             "ticks": ""
            },
            "type": "choropleth"
           }
          ],
          "contour": [
           {
            "colorbar": {
             "outlinewidth": 0,
             "ticks": ""
            },
            "colorscale": [
             [
              0,
              "#0d0887"
             ],
             [
              0.1111111111111111,
              "#46039f"
             ],
             [
              0.2222222222222222,
              "#7201a8"
             ],
             [
              0.3333333333333333,
              "#9c179e"
             ],
             [
              0.4444444444444444,
              "#bd3786"
             ],
             [
              0.5555555555555556,
              "#d8576b"
             ],
             [
              0.6666666666666666,
              "#ed7953"
             ],
             [
              0.7777777777777778,
              "#fb9f3a"
             ],
             [
              0.8888888888888888,
              "#fdca26"
             ],
             [
              1,
              "#f0f921"
             ]
            ],
            "type": "contour"
           }
          ],
          "contourcarpet": [
           {
            "colorbar": {
             "outlinewidth": 0,
             "ticks": ""
            },
            "type": "contourcarpet"
           }
          ],
          "heatmap": [
           {
            "colorbar": {
             "outlinewidth": 0,
             "ticks": ""
            },
            "colorscale": [
             [
              0,
              "#0d0887"
             ],
             [
              0.1111111111111111,
              "#46039f"
             ],
             [
              0.2222222222222222,
              "#7201a8"
             ],
             [
              0.3333333333333333,
              "#9c179e"
             ],
             [
              0.4444444444444444,
              "#bd3786"
             ],
             [
              0.5555555555555556,
              "#d8576b"
             ],
             [
              0.6666666666666666,
              "#ed7953"
             ],
             [
              0.7777777777777778,
              "#fb9f3a"
             ],
             [
              0.8888888888888888,
              "#fdca26"
             ],
             [
              1,
              "#f0f921"
             ]
            ],
            "type": "heatmap"
           }
          ],
          "heatmapgl": [
           {
            "colorbar": {
             "outlinewidth": 0,
             "ticks": ""
            },
            "colorscale": [
             [
              0,
              "#0d0887"
             ],
             [
              0.1111111111111111,
              "#46039f"
             ],
             [
              0.2222222222222222,
              "#7201a8"
             ],
             [
              0.3333333333333333,
              "#9c179e"
             ],
             [
              0.4444444444444444,
              "#bd3786"
             ],
             [
              0.5555555555555556,
              "#d8576b"
             ],
             [
              0.6666666666666666,
              "#ed7953"
             ],
             [
              0.7777777777777778,
              "#fb9f3a"
             ],
             [
              0.8888888888888888,
              "#fdca26"
             ],
             [
              1,
              "#f0f921"
             ]
            ],
            "type": "heatmapgl"
           }
          ],
          "histogram": [
           {
            "marker": {
             "pattern": {
              "fillmode": "overlay",
              "size": 10,
              "solidity": 0.2
             }
            },
            "type": "histogram"
           }
          ],
          "histogram2d": [
           {
            "colorbar": {
             "outlinewidth": 0,
             "ticks": ""
            },
            "colorscale": [
             [
              0,
              "#0d0887"
             ],
             [
              0.1111111111111111,
              "#46039f"
             ],
             [
              0.2222222222222222,
              "#7201a8"
             ],
             [
              0.3333333333333333,
              "#9c179e"
             ],
             [
              0.4444444444444444,
              "#bd3786"
             ],
             [
              0.5555555555555556,
              "#d8576b"
             ],
             [
              0.6666666666666666,
              "#ed7953"
             ],
             [
              0.7777777777777778,
              "#fb9f3a"
             ],
             [
              0.8888888888888888,
              "#fdca26"
             ],
             [
              1,
              "#f0f921"
             ]
            ],
            "type": "histogram2d"
           }
          ],
          "histogram2dcontour": [
           {
            "colorbar": {
             "outlinewidth": 0,
             "ticks": ""
            },
            "colorscale": [
             [
              0,
              "#0d0887"
             ],
             [
              0.1111111111111111,
              "#46039f"
             ],
             [
              0.2222222222222222,
              "#7201a8"
             ],
             [
              0.3333333333333333,
              "#9c179e"
             ],
             [
              0.4444444444444444,
              "#bd3786"
             ],
             [
              0.5555555555555556,
              "#d8576b"
             ],
             [
              0.6666666666666666,
              "#ed7953"
             ],
             [
              0.7777777777777778,
              "#fb9f3a"
             ],
             [
              0.8888888888888888,
              "#fdca26"
             ],
             [
              1,
              "#f0f921"
             ]
            ],
            "type": "histogram2dcontour"
           }
          ],
          "mesh3d": [
           {
            "colorbar": {
             "outlinewidth": 0,
             "ticks": ""
            },
            "type": "mesh3d"
           }
          ],
          "parcoords": [
           {
            "line": {
             "colorbar": {
              "outlinewidth": 0,
              "ticks": ""
             }
            },
            "type": "parcoords"
           }
          ],
          "pie": [
           {
            "automargin": true,
            "type": "pie"
           }
          ],
          "scatter": [
           {
            "marker": {
             "colorbar": {
              "outlinewidth": 0,
              "ticks": ""
             }
            },
            "type": "scatter"
           }
          ],
          "scatter3d": [
           {
            "line": {
             "colorbar": {
              "outlinewidth": 0,
              "ticks": ""
             }
            },
            "marker": {
             "colorbar": {
              "outlinewidth": 0,
              "ticks": ""
             }
            },
            "type": "scatter3d"
           }
          ],
          "scattercarpet": [
           {
            "marker": {
             "colorbar": {
              "outlinewidth": 0,
              "ticks": ""
             }
            },
            "type": "scattercarpet"
           }
          ],
          "scattergeo": [
           {
            "marker": {
             "colorbar": {
              "outlinewidth": 0,
              "ticks": ""
             }
            },
            "type": "scattergeo"
           }
          ],
          "scattergl": [
           {
            "marker": {
             "colorbar": {
              "outlinewidth": 0,
              "ticks": ""
             }
            },
            "type": "scattergl"
           }
          ],
          "scattermapbox": [
           {
            "marker": {
             "colorbar": {
              "outlinewidth": 0,
              "ticks": ""
             }
            },
            "type": "scattermapbox"
           }
          ],
          "scatterpolar": [
           {
            "marker": {
             "colorbar": {
              "outlinewidth": 0,
              "ticks": ""
             }
            },
            "type": "scatterpolar"
           }
          ],
          "scatterpolargl": [
           {
            "marker": {
             "colorbar": {
              "outlinewidth": 0,
              "ticks": ""
             }
            },
            "type": "scatterpolargl"
           }
          ],
          "scatterternary": [
           {
            "marker": {
             "colorbar": {
              "outlinewidth": 0,
              "ticks": ""
             }
            },
            "type": "scatterternary"
           }
          ],
          "surface": [
           {
            "colorbar": {
             "outlinewidth": 0,
             "ticks": ""
            },
            "colorscale": [
             [
              0,
              "#0d0887"
             ],
             [
              0.1111111111111111,
              "#46039f"
             ],
             [
              0.2222222222222222,
              "#7201a8"
             ],
             [
              0.3333333333333333,
              "#9c179e"
             ],
             [
              0.4444444444444444,
              "#bd3786"
             ],
             [
              0.5555555555555556,
              "#d8576b"
             ],
             [
              0.6666666666666666,
              "#ed7953"
             ],
             [
              0.7777777777777778,
              "#fb9f3a"
             ],
             [
              0.8888888888888888,
              "#fdca26"
             ],
             [
              1,
              "#f0f921"
             ]
            ],
            "type": "surface"
           }
          ],
          "table": [
           {
            "cells": {
             "fill": {
              "color": "#EBF0F8"
             },
             "line": {
              "color": "white"
             }
            },
            "header": {
             "fill": {
              "color": "#C8D4E3"
             },
             "line": {
              "color": "white"
             }
            },
            "type": "table"
           }
          ]
         },
         "layout": {
          "annotationdefaults": {
           "arrowcolor": "#2a3f5f",
           "arrowhead": 0,
           "arrowwidth": 1
          },
          "autotypenumbers": "strict",
          "coloraxis": {
           "colorbar": {
            "outlinewidth": 0,
            "ticks": ""
           }
          },
          "colorscale": {
           "diverging": [
            [
             0,
             "#8e0152"
            ],
            [
             0.1,
             "#c51b7d"
            ],
            [
             0.2,
             "#de77ae"
            ],
            [
             0.3,
             "#f1b6da"
            ],
            [
             0.4,
             "#fde0ef"
            ],
            [
             0.5,
             "#f7f7f7"
            ],
            [
             0.6,
             "#e6f5d0"
            ],
            [
             0.7,
             "#b8e186"
            ],
            [
             0.8,
             "#7fbc41"
            ],
            [
             0.9,
             "#4d9221"
            ],
            [
             1,
             "#276419"
            ]
           ],
           "sequential": [
            [
             0,
             "#0d0887"
            ],
            [
             0.1111111111111111,
             "#46039f"
            ],
            [
             0.2222222222222222,
             "#7201a8"
            ],
            [
             0.3333333333333333,
             "#9c179e"
            ],
            [
             0.4444444444444444,
             "#bd3786"
            ],
            [
             0.5555555555555556,
             "#d8576b"
            ],
            [
             0.6666666666666666,
             "#ed7953"
            ],
            [
             0.7777777777777778,
             "#fb9f3a"
            ],
            [
             0.8888888888888888,
             "#fdca26"
            ],
            [
             1,
             "#f0f921"
            ]
           ],
           "sequentialminus": [
            [
             0,
             "#0d0887"
            ],
            [
             0.1111111111111111,
             "#46039f"
            ],
            [
             0.2222222222222222,
             "#7201a8"
            ],
            [
             0.3333333333333333,
             "#9c179e"
            ],
            [
             0.4444444444444444,
             "#bd3786"
            ],
            [
             0.5555555555555556,
             "#d8576b"
            ],
            [
             0.6666666666666666,
             "#ed7953"
            ],
            [
             0.7777777777777778,
             "#fb9f3a"
            ],
            [
             0.8888888888888888,
             "#fdca26"
            ],
            [
             1,
             "#f0f921"
            ]
           ]
          },
          "colorway": [
           "#636efa",
           "#EF553B",
           "#00cc96",
           "#ab63fa",
           "#FFA15A",
           "#19d3f3",
           "#FF6692",
           "#B6E880",
           "#FF97FF",
           "#FECB52"
          ],
          "font": {
           "color": "#2a3f5f"
          },
          "geo": {
           "bgcolor": "white",
           "lakecolor": "white",
           "landcolor": "#E5ECF6",
           "showlakes": true,
           "showland": true,
           "subunitcolor": "white"
          },
          "hoverlabel": {
           "align": "left"
          },
          "hovermode": "closest",
          "mapbox": {
           "style": "light"
          },
          "paper_bgcolor": "white",
          "plot_bgcolor": "#E5ECF6",
          "polar": {
           "angularaxis": {
            "gridcolor": "white",
            "linecolor": "white",
            "ticks": ""
           },
           "bgcolor": "#E5ECF6",
           "radialaxis": {
            "gridcolor": "white",
            "linecolor": "white",
            "ticks": ""
           }
          },
          "scene": {
           "xaxis": {
            "backgroundcolor": "#E5ECF6",
            "gridcolor": "white",
            "gridwidth": 2,
            "linecolor": "white",
            "showbackground": true,
            "ticks": "",
            "zerolinecolor": "white"
           },
           "yaxis": {
            "backgroundcolor": "#E5ECF6",
            "gridcolor": "white",
            "gridwidth": 2,
            "linecolor": "white",
            "showbackground": true,
            "ticks": "",
            "zerolinecolor": "white"
           },
           "zaxis": {
            "backgroundcolor": "#E5ECF6",
            "gridcolor": "white",
            "gridwidth": 2,
            "linecolor": "white",
            "showbackground": true,
            "ticks": "",
            "zerolinecolor": "white"
           }
          },
          "shapedefaults": {
           "line": {
            "color": "#2a3f5f"
           }
          },
          "ternary": {
           "aaxis": {
            "gridcolor": "white",
            "linecolor": "white",
            "ticks": ""
           },
           "baxis": {
            "gridcolor": "white",
            "linecolor": "white",
            "ticks": ""
           },
           "bgcolor": "#E5ECF6",
           "caxis": {
            "gridcolor": "white",
            "linecolor": "white",
            "ticks": ""
           }
          },
          "title": {
           "x": 0.05
          },
          "xaxis": {
           "automargin": true,
           "gridcolor": "white",
           "linecolor": "white",
           "ticks": "",
           "title": {
            "standoff": 15
           },
           "zerolinecolor": "white",
           "zerolinewidth": 2
          },
          "yaxis": {
           "automargin": true,
           "gridcolor": "white",
           "linecolor": "white",
           "ticks": "",
           "title": {
            "standoff": 15
           },
           "zerolinecolor": "white",
           "zerolinewidth": 2
          }
         }
        },
        "title": {
         "text": "ImageNet pretrained ViT CIFAR10 T-SNE"
        },
        "xaxis": {
         "anchor": "y",
         "domain": [
          0,
          1
         ],
         "title": {
          "text": "x"
         }
        },
        "yaxis": {
         "anchor": "x",
         "domain": [
          0,
          1
         ],
         "title": {
          "text": "y"
         }
        }
       }
      },
      "text/html": [
       "<div>                            <div id=\"ccbf1929-953c-472c-93f2-a237948afc3d\" class=\"plotly-graph-div\" style=\"height:525px; width:100%;\"></div>            <script type=\"text/javascript\">                require([\"plotly\"], function(Plotly) {                    window.PLOTLYENV=window.PLOTLYENV || {};                                    if (document.getElementById(\"ccbf1929-953c-472c-93f2-a237948afc3d\")) {                    Plotly.newPlot(                        \"ccbf1929-953c-472c-93f2-a237948afc3d\",                        [{\"hovertemplate\":\"class=(2, 'bird')<br>x=%{x}<br>y=%{y}<extra></extra>\",\"legendgroup\":\"(2, 'bird')\",\"marker\":{\"color\":\"#636efa\",\"symbol\":\"circle\"},\"mode\":\"markers\",\"name\":\"(2, 'bird')\",\"orientation\":\"v\",\"showlegend\":true,\"type\":\"scatter\",\"x\":[-0.9409308433532715,-0.11230428516864777,-0.5539156794548035,0.2827477753162384,0.21151748299598694,-1.2194875478744507,0.7049155831336975,-1.0692636966705322,-1.7382855415344238,0.4187709093093872,-1.2673413753509521,-0.47071313858032227,-0.4806513488292694,-0.40609025955200195,0.9297252297401428,-0.8093603849411011,0.29427570104599,0.727464497089386,-1.0513557195663452,0.615593433380127],\"xaxis\":\"x\",\"y\":[-0.5418699979782104,0.6015770435333252,-0.2736697494983673,-1.7477209568023682,0.7371955513954163,0.21061775088310242,0.1387285441160202,-0.3520984649658203,0.6241333484649658,0.41725268959999084,-0.5617944598197937,0.1161201074719429,-0.0847199410200119,-0.2055608481168747,0.3012247085571289,-0.39105021953582764,-0.1750938594341278,-0.575884997844696,-0.19754569232463837,-0.28250762820243835],\"yaxis\":\"y\"},{\"hovertemplate\":\"class=(1, 'automobile')<br>x=%{x}<br>y=%{y}<extra></extra>\",\"legendgroup\":\"(1, 'automobile')\",\"marker\":{\"color\":\"#EF553B\",\"symbol\":\"circle\"},\"mode\":\"markers\",\"name\":\"(1, 'automobile')\",\"orientation\":\"v\",\"showlegend\":true,\"type\":\"scatter\",\"x\":[-10.0271635055542,-10.979453086853027,-11.618902206420898,-11.130526542663574,-10.510211944580078,-9.974920272827148,-10.851224899291992,-10.459575653076172,-12.009723663330078,-12.2155122756958,-10.618643760681152,-10.928709030151367,-10.910310745239258,-11.233190536499023,-10.46565055847168,-11.12865924835205,-11.229803085327148,-11.354828834533691,-10.769755363464355,-10.39773178100586],\"xaxis\":\"x\",\"y\":[-9.733997344970703,-10.487081527709961,-9.254366874694824,-10.171714782714844,-9.831219673156738,-9.0366792678833,-10.091780662536621,-9.545740127563477,-3.9307801723480225,-10.436095237731934,-9.803363800048828,-10.305716514587402,-9.137887001037598,-9.735480308532715,-10.476226806640625,-10.09946346282959,-9.242526054382324,-9.944924354553223,-10.603553771972656,-10.087302207946777],\"yaxis\":\"y\"},{\"hovertemplate\":\"class=(3, 'cat')<br>x=%{x}<br>y=%{y}<extra></extra>\",\"legendgroup\":\"(3, 'cat')\",\"marker\":{\"color\":\"#00cc96\",\"symbol\":\"circle\"},\"mode\":\"markers\",\"name\":\"(3, 'cat')\",\"orientation\":\"v\",\"showlegend\":true,\"type\":\"scatter\",\"x\":[7.838422775268555,8.07982349395752,7.71028995513916,10.450989723205566,8.31782054901123,9.306065559387207,7.751229286193848,7.588571548461914,7.816595077514648,-4.197642803192139,7.583549499511719,6.610104084014893,7.696417331695557,7.29243278503418,6.747378349304199,7.826535224914551,7.29495096206665,6.555500507354736,7.304222106933594,7.812896251678467],\"xaxis\":\"x\",\"y\":[-4.078901767730713,-3.3625731468200684,-4.456194877624512,-1.971834421157837,-2.961106061935425,-4.053905487060547,-4.394405841827393,-4.225008487701416,-4.357934474945068,3.402069330215454,-3.3638272285461426,-4.689659118652344,-3.6822502613067627,-4.710388660430908,-3.8056387901306152,-4.389827251434326,-4.591741561889648,-3.7349884510040283,-4.1912455558776855,-3.9792592525482178],\"yaxis\":\"y\"},{\"hovertemplate\":\"class=(6, 'frog')<br>x=%{x}<br>y=%{y}<extra></extra>\",\"legendgroup\":\"(6, 'frog')\",\"marker\":{\"color\":\"#ab63fa\",\"symbol\":\"circle\"},\"mode\":\"markers\",\"name\":\"(6, 'frog')\",\"orientation\":\"v\",\"showlegend\":true,\"type\":\"scatter\",\"x\":[-4.453212261199951,-4.902987480163574,-5.058969974517822,-5.283603668212891,-5.297590732574463,-5.422531604766846,-4.684013366699219,-5.36098575592041,-5.347097396850586,-4.765170574188232,-5.732657432556152,-4.828287601470947,-5.4840521812438965,-5.1460394859313965,-4.787199974060059,-5.402751445770264,-5.872566223144531,-4.554278373718262,-5.800622463226318,-5.84146785736084],\"xaxis\":\"x\",\"y\":[4.392024993896484,5.09616756439209,3.7945613861083984,4.836510181427002,4.577888488769531,4.920685291290283,4.71970272064209,4.358955383300781,4.479516983032227,4.13141393661499,4.54791784286499,4.777465343475342,3.776052474975586,4.058216094970703,3.437610626220703,4.693783760070801,3.6076407432556152,4.5713019371032715,3.9917876720428467,4.925435543060303],\"yaxis\":\"y\"},{\"hovertemplate\":\"class=(4, 'deer')<br>x=%{x}<br>y=%{y}<extra></extra>\",\"legendgroup\":\"(4, 'deer')\",\"marker\":{\"color\":\"#FFA15A\",\"symbol\":\"circle\"},\"mode\":\"markers\",\"name\":\"(4, 'deer')\",\"orientation\":\"v\",\"showlegend\":true,\"type\":\"scatter\",\"x\":[3.8953938484191895,3.471557855606079,4.853364944458008,2.882249116897583,3.295616626739502,3.813758134841919,3.628410816192627,4.41644811630249,3.503775119781494,3.5699450969696045,3.7858083248138428,3.9591593742370605,4.051111698150635,3.367722272872925,3.6471776962280273,4.6475043296813965,3.3281123638153076,2.60783052444458,4.135321140289307,4.105483531951904],\"xaxis\":\"x\",\"y\":[4.706879615783691,3.9289391040802,3.180598735809326,2.868359088897705,-3.425478219985962,4.525461196899414,3.926271438598633,3.670166254043579,4.213130474090576,3.4919564723968506,3.650995969772339,4.534026622772217,4.468661308288574,3.8558590412139893,3.38883113861084,3.9200856685638428,3.8542377948760986,3.7168385982513428,4.095462799072266,3.3033955097198486],\"yaxis\":\"y\"},{\"hovertemplate\":\"class=(0, 'airplane')<br>x=%{x}<br>y=%{y}<extra></extra>\",\"legendgroup\":\"(0, 'airplane')\",\"marker\":{\"color\":\"#19d3f3\",\"symbol\":\"circle\"},\"mode\":\"markers\",\"name\":\"(0, 'airplane')\",\"orientation\":\"v\",\"showlegend\":true,\"type\":\"scatter\",\"x\":[1.4156501293182373,1.6895524263381958,0.4766421914100647,1.4903823137283325,1.0637810230255127,0.9140470027923584,0.8887844085693359,6.979936122894287,1.2733798027038574,0.3512873947620392,1.0662050247192383,0.2493392527103424,1.5648099184036255,1.7189176082611084,1.4059009552001953,0.7147546410560608,0.9355997443199158,2.0092146396636963,0.9580128192901611,1.2958991527557373],\"xaxis\":\"x\",\"y\":[-6.643548011779785,-5.967129230499268,-7.049663066864014,-6.803454875946045,-6.153658390045166,-5.874760627746582,-5.434569358825684,-2.7067787647247314,-5.393674850463867,-5.636037349700928,-4.106452941894531,-6.429887771606445,-5.62733793258667,-5.540464401245117,-6.458189010620117,-6.71196985244751,-5.751705169677734,-4.620966911315918,-6.107576847076416,-5.500751972198486],\"yaxis\":\"y\"},{\"hovertemplate\":\"class=(9, 'truck')<br>x=%{x}<br>y=%{y}<extra></extra>\",\"legendgroup\":\"(9, 'truck')\",\"marker\":{\"color\":\"#FF6692\",\"symbol\":\"circle\"},\"mode\":\"markers\",\"name\":\"(9, 'truck')\",\"orientation\":\"v\",\"showlegend\":true,\"type\":\"scatter\",\"x\":[-12.197610855102539,-13.350730895996094,-13.441595077514648,-10.883626937866211,-12.511880874633789,-12.74429988861084,-12.830759048461914,-12.938740730285645,-13.491487503051758,-13.719372749328613,-13.11052131652832,-12.959930419921875,-12.423595428466797,-13.492364883422852,-13.656867980957031,-13.343740463256836,-12.822840690612793,-13.250540733337402,-12.896787643432617,-12.532550811767578],\"xaxis\":\"x\",\"y\":[-4.520908832550049,-4.1723785400390625,-4.689478397369385,-9.228549003601074,-4.141469478607178,-5.732756614685059,-5.690288066864014,-4.691554069519043,-4.888664722442627,-5.248255252838135,-4.282732009887695,-4.966477394104004,-5.318429946899414,-4.884425640106201,-4.849649429321289,-5.432429790496826,-5.198697566986084,-4.8274736404418945,-4.895471572875977,-4.864555835723877],\"yaxis\":\"y\"},{\"hovertemplate\":\"class=(7, 'horse')<br>x=%{x}<br>y=%{y}<extra></extra>\",\"legendgroup\":\"(7, 'horse')\",\"marker\":{\"color\":\"#B6E880\",\"symbol\":\"circle\"},\"mode\":\"markers\",\"name\":\"(7, 'horse')\",\"orientation\":\"v\",\"showlegend\":true,\"type\":\"scatter\",\"x\":[11.578459739685059,11.956214904785156,11.589949607849121,10.862678527832031,12.307321548461914,11.79736328125,11.710680961608887,11.983388900756836,9.920929908752441,11.888789176940918,11.610912322998047,11.73617172241211,12.237698554992676,11.804435729980469,11.096654891967773,11.213350296020508,12.063071250915527,11.62747573852539,10.697192192077637,11.550264358520508],\"xaxis\":\"x\",\"y\":[5.108824253082275,4.067808628082275,4.199073314666748,3.9670426845550537,4.23991584777832,4.076200008392334,4.163639068603516,4.360365867614746,4.088343620300293,5.306089401245117,4.718713760375977,5.377452850341797,4.886289596557617,4.3404717445373535,4.403199672698975,4.936983585357666,3.849874258041382,3.9089999198913574,5.172774314880371,4.33897590637207],\"yaxis\":\"y\"},{\"hovertemplate\":\"class=(5, 'dog')<br>x=%{x}<br>y=%{y}<extra></extra>\",\"legendgroup\":\"(5, 'dog')\",\"marker\":{\"color\":\"#FF97FF\",\"symbol\":\"circle\"},\"mode\":\"markers\",\"name\":\"(5, 'dog')\",\"orientation\":\"v\",\"showlegend\":true,\"type\":\"scatter\",\"x\":[11.29251766204834,11.656770706176758,11.446390151977539,12.297588348388672,11.256217956542969,11.452201843261719,8.753544807434082,10.863269805908203,10.855371475219727,12.690983772277832,12.049721717834473,12.145733833312988,11.952652931213379,11.955113410949707,12.168526649475098,12.061624526977539,11.98668384552002,12.019083976745605,11.262862205505371,9.599787712097168],\"xaxis\":\"x\",\"y\":[-2.768202543258667,-2.450641393661499,-1.550856351852417,-1.0694658756256104,-0.9093766808509827,-1.8245036602020264,-3.537625551223755,-2.2501015663146973,-1.4656081199645996,-1.6465870141983032,-1.2870771884918213,-2.0423669815063477,-1.2948226928710938,-1.2312817573547363,-1.416903018951416,-2.026149272918701,-1.271303653717041,-1.0450042486190796,-2.588122844696045,-2.7558908462524414],\"yaxis\":\"y\"},{\"hovertemplate\":\"class=(8, 'ship')<br>x=%{x}<br>y=%{y}<extra></extra>\",\"legendgroup\":\"(8, 'ship')\",\"marker\":{\"color\":\"#FECB52\",\"symbol\":\"circle\"},\"mode\":\"markers\",\"name\":\"(8, 'ship')\",\"orientation\":\"v\",\"showlegend\":true,\"type\":\"scatter\",\"x\":[-4.63325834274292,-4.4912848472595215,-4.58601713180542,-3.8417341709136963,-4.253110408782959,-4.027226448059082,-5.456376552581787,-4.883899688720703,-3.9867162704467773,-4.474123477935791,-4.613531112670898,-5.361005783081055,-4.6817145347595215,-4.282899856567383,-4.416411876678467,-3.7526345252990723,-5.003279209136963,-0.9261437058448792,-4.1816606521606445,-4.469766139984131],\"xaxis\":\"x\",\"y\":[-7.203925132751465,-6.9089765548706055,-7.325717449188232,-7.001309394836426,-6.766658306121826,-6.239548683166504,-7.78239107131958,-6.474344730377197,-7.229034423828125,-7.603697776794434,-6.862264633178711,-6.561982154846191,-6.195676803588867,-6.588109970092773,-6.5637969970703125,-6.643513202667236,-6.865483283996582,-6.694558143615723,-6.662355422973633,-5.856383323669434],\"yaxis\":\"y\"}],                        {\"legend\":{\"title\":{\"text\":\"class\"},\"tracegroupgap\":0},\"template\":{\"data\":{\"bar\":[{\"error_x\":{\"color\":\"#2a3f5f\"},\"error_y\":{\"color\":\"#2a3f5f\"},\"marker\":{\"line\":{\"color\":\"#E5ECF6\",\"width\":0.5},\"pattern\":{\"fillmode\":\"overlay\",\"size\":10,\"solidity\":0.2}},\"type\":\"bar\"}],\"barpolar\":[{\"marker\":{\"line\":{\"color\":\"#E5ECF6\",\"width\":0.5},\"pattern\":{\"fillmode\":\"overlay\",\"size\":10,\"solidity\":0.2}},\"type\":\"barpolar\"}],\"carpet\":[{\"aaxis\":{\"endlinecolor\":\"#2a3f5f\",\"gridcolor\":\"white\",\"linecolor\":\"white\",\"minorgridcolor\":\"white\",\"startlinecolor\":\"#2a3f5f\"},\"baxis\":{\"endlinecolor\":\"#2a3f5f\",\"gridcolor\":\"white\",\"linecolor\":\"white\",\"minorgridcolor\":\"white\",\"startlinecolor\":\"#2a3f5f\"},\"type\":\"carpet\"}],\"choropleth\":[{\"colorbar\":{\"outlinewidth\":0,\"ticks\":\"\"},\"type\":\"choropleth\"}],\"contour\":[{\"colorbar\":{\"outlinewidth\":0,\"ticks\":\"\"},\"colorscale\":[[0.0,\"#0d0887\"],[0.1111111111111111,\"#46039f\"],[0.2222222222222222,\"#7201a8\"],[0.3333333333333333,\"#9c179e\"],[0.4444444444444444,\"#bd3786\"],[0.5555555555555556,\"#d8576b\"],[0.6666666666666666,\"#ed7953\"],[0.7777777777777778,\"#fb9f3a\"],[0.8888888888888888,\"#fdca26\"],[1.0,\"#f0f921\"]],\"type\":\"contour\"}],\"contourcarpet\":[{\"colorbar\":{\"outlinewidth\":0,\"ticks\":\"\"},\"type\":\"contourcarpet\"}],\"heatmap\":[{\"colorbar\":{\"outlinewidth\":0,\"ticks\":\"\"},\"colorscale\":[[0.0,\"#0d0887\"],[0.1111111111111111,\"#46039f\"],[0.2222222222222222,\"#7201a8\"],[0.3333333333333333,\"#9c179e\"],[0.4444444444444444,\"#bd3786\"],[0.5555555555555556,\"#d8576b\"],[0.6666666666666666,\"#ed7953\"],[0.7777777777777778,\"#fb9f3a\"],[0.8888888888888888,\"#fdca26\"],[1.0,\"#f0f921\"]],\"type\":\"heatmap\"}],\"heatmapgl\":[{\"colorbar\":{\"outlinewidth\":0,\"ticks\":\"\"},\"colorscale\":[[0.0,\"#0d0887\"],[0.1111111111111111,\"#46039f\"],[0.2222222222222222,\"#7201a8\"],[0.3333333333333333,\"#9c179e\"],[0.4444444444444444,\"#bd3786\"],[0.5555555555555556,\"#d8576b\"],[0.6666666666666666,\"#ed7953\"],[0.7777777777777778,\"#fb9f3a\"],[0.8888888888888888,\"#fdca26\"],[1.0,\"#f0f921\"]],\"type\":\"heatmapgl\"}],\"histogram\":[{\"marker\":{\"pattern\":{\"fillmode\":\"overlay\",\"size\":10,\"solidity\":0.2}},\"type\":\"histogram\"}],\"histogram2d\":[{\"colorbar\":{\"outlinewidth\":0,\"ticks\":\"\"},\"colorscale\":[[0.0,\"#0d0887\"],[0.1111111111111111,\"#46039f\"],[0.2222222222222222,\"#7201a8\"],[0.3333333333333333,\"#9c179e\"],[0.4444444444444444,\"#bd3786\"],[0.5555555555555556,\"#d8576b\"],[0.6666666666666666,\"#ed7953\"],[0.7777777777777778,\"#fb9f3a\"],[0.8888888888888888,\"#fdca26\"],[1.0,\"#f0f921\"]],\"type\":\"histogram2d\"}],\"histogram2dcontour\":[{\"colorbar\":{\"outlinewidth\":0,\"ticks\":\"\"},\"colorscale\":[[0.0,\"#0d0887\"],[0.1111111111111111,\"#46039f\"],[0.2222222222222222,\"#7201a8\"],[0.3333333333333333,\"#9c179e\"],[0.4444444444444444,\"#bd3786\"],[0.5555555555555556,\"#d8576b\"],[0.6666666666666666,\"#ed7953\"],[0.7777777777777778,\"#fb9f3a\"],[0.8888888888888888,\"#fdca26\"],[1.0,\"#f0f921\"]],\"type\":\"histogram2dcontour\"}],\"mesh3d\":[{\"colorbar\":{\"outlinewidth\":0,\"ticks\":\"\"},\"type\":\"mesh3d\"}],\"parcoords\":[{\"line\":{\"colorbar\":{\"outlinewidth\":0,\"ticks\":\"\"}},\"type\":\"parcoords\"}],\"pie\":[{\"automargin\":true,\"type\":\"pie\"}],\"scatter\":[{\"marker\":{\"colorbar\":{\"outlinewidth\":0,\"ticks\":\"\"}},\"type\":\"scatter\"}],\"scatter3d\":[{\"line\":{\"colorbar\":{\"outlinewidth\":0,\"ticks\":\"\"}},\"marker\":{\"colorbar\":{\"outlinewidth\":0,\"ticks\":\"\"}},\"type\":\"scatter3d\"}],\"scattercarpet\":[{\"marker\":{\"colorbar\":{\"outlinewidth\":0,\"ticks\":\"\"}},\"type\":\"scattercarpet\"}],\"scattergeo\":[{\"marker\":{\"colorbar\":{\"outlinewidth\":0,\"ticks\":\"\"}},\"type\":\"scattergeo\"}],\"scattergl\":[{\"marker\":{\"colorbar\":{\"outlinewidth\":0,\"ticks\":\"\"}},\"type\":\"scattergl\"}],\"scattermapbox\":[{\"marker\":{\"colorbar\":{\"outlinewidth\":0,\"ticks\":\"\"}},\"type\":\"scattermapbox\"}],\"scatterpolar\":[{\"marker\":{\"colorbar\":{\"outlinewidth\":0,\"ticks\":\"\"}},\"type\":\"scatterpolar\"}],\"scatterpolargl\":[{\"marker\":{\"colorbar\":{\"outlinewidth\":0,\"ticks\":\"\"}},\"type\":\"scatterpolargl\"}],\"scatterternary\":[{\"marker\":{\"colorbar\":{\"outlinewidth\":0,\"ticks\":\"\"}},\"type\":\"scatterternary\"}],\"surface\":[{\"colorbar\":{\"outlinewidth\":0,\"ticks\":\"\"},\"colorscale\":[[0.0,\"#0d0887\"],[0.1111111111111111,\"#46039f\"],[0.2222222222222222,\"#7201a8\"],[0.3333333333333333,\"#9c179e\"],[0.4444444444444444,\"#bd3786\"],[0.5555555555555556,\"#d8576b\"],[0.6666666666666666,\"#ed7953\"],[0.7777777777777778,\"#fb9f3a\"],[0.8888888888888888,\"#fdca26\"],[1.0,\"#f0f921\"]],\"type\":\"surface\"}],\"table\":[{\"cells\":{\"fill\":{\"color\":\"#EBF0F8\"},\"line\":{\"color\":\"white\"}},\"header\":{\"fill\":{\"color\":\"#C8D4E3\"},\"line\":{\"color\":\"white\"}},\"type\":\"table\"}]},\"layout\":{\"annotationdefaults\":{\"arrowcolor\":\"#2a3f5f\",\"arrowhead\":0,\"arrowwidth\":1},\"autotypenumbers\":\"strict\",\"coloraxis\":{\"colorbar\":{\"outlinewidth\":0,\"ticks\":\"\"}},\"colorscale\":{\"diverging\":[[0,\"#8e0152\"],[0.1,\"#c51b7d\"],[0.2,\"#de77ae\"],[0.3,\"#f1b6da\"],[0.4,\"#fde0ef\"],[0.5,\"#f7f7f7\"],[0.6,\"#e6f5d0\"],[0.7,\"#b8e186\"],[0.8,\"#7fbc41\"],[0.9,\"#4d9221\"],[1,\"#276419\"]],\"sequential\":[[0.0,\"#0d0887\"],[0.1111111111111111,\"#46039f\"],[0.2222222222222222,\"#7201a8\"],[0.3333333333333333,\"#9c179e\"],[0.4444444444444444,\"#bd3786\"],[0.5555555555555556,\"#d8576b\"],[0.6666666666666666,\"#ed7953\"],[0.7777777777777778,\"#fb9f3a\"],[0.8888888888888888,\"#fdca26\"],[1.0,\"#f0f921\"]],\"sequentialminus\":[[0.0,\"#0d0887\"],[0.1111111111111111,\"#46039f\"],[0.2222222222222222,\"#7201a8\"],[0.3333333333333333,\"#9c179e\"],[0.4444444444444444,\"#bd3786\"],[0.5555555555555556,\"#d8576b\"],[0.6666666666666666,\"#ed7953\"],[0.7777777777777778,\"#fb9f3a\"],[0.8888888888888888,\"#fdca26\"],[1.0,\"#f0f921\"]]},\"colorway\":[\"#636efa\",\"#EF553B\",\"#00cc96\",\"#ab63fa\",\"#FFA15A\",\"#19d3f3\",\"#FF6692\",\"#B6E880\",\"#FF97FF\",\"#FECB52\"],\"font\":{\"color\":\"#2a3f5f\"},\"geo\":{\"bgcolor\":\"white\",\"lakecolor\":\"white\",\"landcolor\":\"#E5ECF6\",\"showlakes\":true,\"showland\":true,\"subunitcolor\":\"white\"},\"hoverlabel\":{\"align\":\"left\"},\"hovermode\":\"closest\",\"mapbox\":{\"style\":\"light\"},\"paper_bgcolor\":\"white\",\"plot_bgcolor\":\"#E5ECF6\",\"polar\":{\"angularaxis\":{\"gridcolor\":\"white\",\"linecolor\":\"white\",\"ticks\":\"\"},\"bgcolor\":\"#E5ECF6\",\"radialaxis\":{\"gridcolor\":\"white\",\"linecolor\":\"white\",\"ticks\":\"\"}},\"scene\":{\"xaxis\":{\"backgroundcolor\":\"#E5ECF6\",\"gridcolor\":\"white\",\"gridwidth\":2,\"linecolor\":\"white\",\"showbackground\":true,\"ticks\":\"\",\"zerolinecolor\":\"white\"},\"yaxis\":{\"backgroundcolor\":\"#E5ECF6\",\"gridcolor\":\"white\",\"gridwidth\":2,\"linecolor\":\"white\",\"showbackground\":true,\"ticks\":\"\",\"zerolinecolor\":\"white\"},\"zaxis\":{\"backgroundcolor\":\"#E5ECF6\",\"gridcolor\":\"white\",\"gridwidth\":2,\"linecolor\":\"white\",\"showbackground\":true,\"ticks\":\"\",\"zerolinecolor\":\"white\"}},\"shapedefaults\":{\"line\":{\"color\":\"#2a3f5f\"}},\"ternary\":{\"aaxis\":{\"gridcolor\":\"white\",\"linecolor\":\"white\",\"ticks\":\"\"},\"baxis\":{\"gridcolor\":\"white\",\"linecolor\":\"white\",\"ticks\":\"\"},\"bgcolor\":\"#E5ECF6\",\"caxis\":{\"gridcolor\":\"white\",\"linecolor\":\"white\",\"ticks\":\"\"}},\"title\":{\"x\":0.05},\"xaxis\":{\"automargin\":true,\"gridcolor\":\"white\",\"linecolor\":\"white\",\"ticks\":\"\",\"title\":{\"standoff\":15},\"zerolinecolor\":\"white\",\"zerolinewidth\":2},\"yaxis\":{\"automargin\":true,\"gridcolor\":\"white\",\"linecolor\":\"white\",\"ticks\":\"\",\"title\":{\"standoff\":15},\"zerolinecolor\":\"white\",\"zerolinewidth\":2}}},\"title\":{\"text\":\"ImageNet pretrained ViT CIFAR10 T-SNE\"},\"xaxis\":{\"anchor\":\"y\",\"domain\":[0.0,1.0],\"title\":{\"text\":\"x\"}},\"yaxis\":{\"anchor\":\"x\",\"domain\":[0.0,1.0],\"title\":{\"text\":\"y\"}}},                        {\"responsive\": true}                    ).then(function(){\n",
       "                            \n",
       "var gd = document.getElementById('ccbf1929-953c-472c-93f2-a237948afc3d');\n",
       "var x = new MutationObserver(function (mutations, observer) {{\n",
       "        var display = window.getComputedStyle(gd).display;\n",
       "        if (!display || display === 'none') {{\n",
       "            console.log([gd, 'removed!']);\n",
       "            Plotly.purge(gd);\n",
       "            observer.disconnect();\n",
       "        }}\n",
       "}});\n",
       "\n",
       "// Listen for the removal of the full notebook cells\n",
       "var notebookContainer = gd.closest('#notebook-container');\n",
       "if (notebookContainer) {{\n",
       "    x.observe(notebookContainer, {childList: true});\n",
       "}}\n",
       "\n",
       "// Listen for the clearing of the current output cell\n",
       "var outputEl = gd.closest('.output');\n",
       "if (outputEl) {{\n",
       "    x.observe(outputEl, {childList: true});\n",
       "}}\n",
       "\n",
       "                        })                };                });            </script>        </div>"
      ]
     },
     "metadata": {},
     "output_type": "display_data"
    }
   ],
   "source": [
    "from sklearn.manifold import TSNE\n",
    "\n",
    "tsne = TSNE(n_components=2)\n",
    "X_tsne = tsne.fit_transform(X_in)\n",
    "\n",
    "df_embed = pd.DataFrame(X_tsne)\n",
    "df_embed = df_embed.rename(columns={0: 'x', 1: 'y'})\n",
    "df_embed = df_embed.assign(label=y_in)\n",
    "fig = px.scatter(\n",
    "    df_embed,\n",
    "    x='x',\n",
    "    y='y',\n",
    "    color='label',\n",
    "    labels={'label': 'class'},\n",
    "    title='ImageNet pretrained ViT CIFAR10 T-SNE',\n",
    ")\n",
    "fig.show()"
   ]
  },
  {
   "cell_type": "code",
   "execution_count": 20,
   "metadata": {},
   "outputs": [
    {
     "data": {
      "application/vnd.plotly.v1+json": {
       "config": {
        "plotlyServerURL": "https://plot.ly"
       },
       "data": [
        {
         "hovertemplate": "class=(16, 'can')<br>x=%{x}<br>y=%{y}<extra></extra>",
         "legendgroup": "(16, 'can')",
         "marker": {
          "color": "#636efa",
          "symbol": "circle"
         },
         "mode": "markers",
         "name": "(16, 'can')",
         "orientation": "v",
         "showlegend": true,
         "type": "scatter",
         "x": [
          7.165372371673584,
          8.03159236907959,
          7.236563682556152,
          6.67072057723999,
          1.081817626953125,
          8.003446578979492,
          8.216007232666016,
          9.39100456237793,
          8.444291114807129,
          6.503406047821045,
          6.138912200927734,
          7.717874050140381,
          7.344138145446777,
          8.693441390991211,
          9.808518409729004,
          -2.3296802043914795,
          7.426355361938477,
          7.408211708068848,
          8.311869621276855,
          6.288127422332764
         ],
         "xaxis": "x",
         "y": [
          -9.157950401306152,
          -6.782402992248535,
          -7.215951919555664,
          -6.45580530166626,
          0.11673051863908768,
          -7.707665920257568,
          -4.290658473968506,
          -4.126925945281982,
          -7.971534729003906,
          -1.3904070854187012,
          -11.136578559875488,
          -4.291086196899414,
          -8.507054328918457,
          -6.306845664978027,
          -5.249258041381836,
          0.19312070310115814,
          -0.5373814105987549,
          -1.0838240385055542,
          -2.7276604175567627,
          10.073537826538086
         ],
         "yaxis": "y"
        },
        {
         "hovertemplate": "class=(7, 'beetle')<br>x=%{x}<br>y=%{y}<extra></extra>",
         "legendgroup": "(7, 'beetle')",
         "marker": {
          "color": "#EF553B",
          "symbol": "circle"
         },
         "mode": "markers",
         "name": "(7, 'beetle')",
         "orientation": "v",
         "showlegend": true,
         "type": "scatter",
         "x": [
          -0.4667283296585083,
          4.390723705291748,
          3.2918970584869385,
          3.023761749267578,
          2.5937862396240234,
          0.9281107187271118,
          1.514705777168274,
          0.33595094084739685,
          3.723935604095459,
          -0.22459879517555237,
          12.112701416015625,
          1.4301810264587402,
          1.503257155418396,
          1.1611818075180054,
          0.0553312785923481,
          1.84347665309906,
          2.9525935649871826,
          0.8221394419670105,
          0.41581499576568604,
          1.7901898622512817
         ],
         "xaxis": "x",
         "y": [
          15.884349822998047,
          14.829638481140137,
          15.0014066696167,
          15.928841590881348,
          12.773966789245605,
          16.973928451538086,
          14.855345726013184,
          13.564558982849121,
          16.23114776611328,
          15.243946075439453,
          -0.6529736518859863,
          17.855844497680664,
          16.036361694335938,
          18.587783813476562,
          15.888106346130371,
          16.859621047973633,
          14.161452293395996,
          13.110468864440918,
          16.22064971923828,
          13.886993408203125
         ],
         "yaxis": "y"
        },
        {
         "hovertemplate": "class=(68, 'road')<br>x=%{x}<br>y=%{y}<extra></extra>",
         "legendgroup": "(68, 'road')",
         "marker": {
          "color": "#00cc96",
          "symbol": "circle"
         },
         "mode": "markers",
         "name": "(68, 'road')",
         "orientation": "v",
         "showlegend": true,
         "type": "scatter",
         "x": [
          -10.809919357299805,
          -9.939002990722656,
          -5.6320109367370605,
          -2.8875086307525635,
          -9.887046813964844,
          -9.467498779296875,
          -7.3045268058776855,
          -6.196189880371094,
          -7.601500034332275,
          -10.609692573547363,
          -9.023439407348633,
          -6.3327507972717285,
          -9.433259010314941,
          -7.840165138244629,
          -4.751076698303223,
          -7.111799716949463,
          -9.394006729125977,
          -11.309993743896484,
          -9.658844947814941,
          -8.169724464416504
         ],
         "xaxis": "x",
         "y": [
          -2.6676278114318848,
          -1.9883062839508057,
          10.052992820739746,
          0.5324594974517822,
          -3.7822439670562744,
          -1.9147891998291016,
          -0.2338811159133911,
          0.4620816707611084,
          -2.8593332767486572,
          -0.6741423606872559,
          -2.572091817855835,
          -0.7476922273635864,
          -0.965510904788971,
          -1.0550761222839355,
          0.5587965250015259,
          2.5818419456481934,
          -5.804201602935791,
          1.3535754680633545,
          -0.16122888028621674,
          -2.1346778869628906
         ],
         "yaxis": "y"
        },
        {
         "hovertemplate": "class=(87, 'television')<br>x=%{x}<br>y=%{y}<extra></extra>",
         "legendgroup": "(87, 'television')",
         "marker": {
          "color": "#ab63fa",
          "symbol": "circle"
         },
         "mode": "markers",
         "name": "(87, 'television')",
         "orientation": "v",
         "showlegend": true,
         "type": "scatter",
         "x": [
          2.9016404151916504,
          -8.605595588684082,
          0.10613774508237839,
          -5.275760650634766,
          0.08238416910171509,
          5.76910924911499,
          9.442364692687988,
          2.307285785675049,
          1.6791855096817017,
          -0.21931065618991852,
          9.890656471252441,
          -9.393433570861816,
          10.785979270935059,
          4.25176477432251,
          -1.912583827972412,
          2.989487886428833,
          5.330269813537598,
          2.7250900268554688,
          4.9334397315979,
          0.6431391835212708
         ],
         "xaxis": "x",
         "y": [
          -9.937033653259277,
          7.67652702331543,
          -11.381158828735352,
          -5.047171592712402,
          -11.984521865844727,
          11.110002517700195,
          10.860007286071777,
          -11.291637420654297,
          -8.065393447875977,
          -8.85944938659668,
          10.899667739868164,
          2.0581443309783936,
          10.9385347366333,
          -9.21862506866455,
          -4.120927333831787,
          -10.080690383911133,
          7.539458274841309,
          -8.618467330932617,
          -11.412858963012695,
          -10.123453140258789
         ],
         "yaxis": "y"
        },
        {
         "hovertemplate": "class=(90, 'train')<br>x=%{x}<br>y=%{y}<extra></extra>",
         "legendgroup": "(90, 'train')",
         "marker": {
          "color": "#FFA15A",
          "symbol": "circle"
         },
         "mode": "markers",
         "name": "(90, 'train')",
         "orientation": "v",
         "showlegend": true,
         "type": "scatter",
         "x": [
          -6.651623725891113,
          -9.386167526245117,
          -8.082837104797363,
          -10.792045593261719,
          -9.154180526733398,
          -5.329286575317383,
          -4.582857131958008,
          -6.594481468200684,
          -7.03859806060791,
          -4.442999362945557,
          -8.825271606445312,
          -7.3542680740356445,
          -5.251800537109375,
          -7.35713005065918,
          -7.636759281158447,
          -5.826371192932129,
          -8.330077171325684,
          -7.305254936218262,
          -8.023691177368164,
          -6.522866249084473
         ],
         "xaxis": "x",
         "y": [
          -10.149985313415527,
          -10.116569519042969,
          -11.385029792785645,
          -8.19227123260498,
          -12.38184928894043,
          -6.1083083152771,
          -10.62247371673584,
          -11.312679290771484,
          -7.71239709854126,
          -6.899665355682373,
          -3.5980913639068604,
          -11.3678560256958,
          -7.796247482299805,
          -8.975005149841309,
          -12.815534591674805,
          -8.901269912719727,
          -8.398138999938965,
          -10.398951530456543,
          -9.81749439239502,
          -7.403239727020264
         ],
         "yaxis": "y"
        },
        {
         "hovertemplate": "class=(33, 'forest')<br>x=%{x}<br>y=%{y}<extra></extra>",
         "legendgroup": "(33, 'forest')",
         "marker": {
          "color": "#19d3f3",
          "symbol": "circle"
         },
         "mode": "markers",
         "name": "(33, 'forest')",
         "orientation": "v",
         "showlegend": true,
         "type": "scatter",
         "x": [
          -0.4461105167865753,
          -0.2702276408672333,
          -3.15132212638855,
          -7.0767927169799805,
          -1.641814112663269,
          -2.904066801071167,
          -9.704967498779297,
          -4.486746311187744,
          -7.558784008026123,
          -3.0794498920440674,
          0.6871495842933655,
          -7.261754035949707,
          -0.650929868221283,
          -3.198235511779785,
          -2.054624080657959,
          -3.8917646408081055,
          -2.4192886352539062,
          -2.9029552936553955,
          -1.7369649410247803,
          -1.1539095640182495
         ],
         "xaxis": "x",
         "y": [
          3.9400253295898438,
          5.4844651222229,
          14.62874698638916,
          2.625741958618164,
          5.863636016845703,
          4.259970188140869,
          3.40232515335083,
          5.662888050079346,
          -1.6630524396896362,
          6.397171974182129,
          12.091348648071289,
          4.507728576660156,
          3.1715872287750244,
          3.4227545261383057,
          4.137792587280273,
          4.092297077178955,
          4.664363384246826,
          5.010410785675049,
          12.324248313903809,
          4.8970208168029785
         ],
         "yaxis": "y"
        },
        {
         "hovertemplate": "class=(25, 'couch')<br>x=%{x}<br>y=%{y}<extra></extra>",
         "legendgroup": "(25, 'couch')",
         "marker": {
          "color": "#FF6692",
          "symbol": "circle"
         },
         "mode": "markers",
         "name": "(25, 'couch')",
         "orientation": "v",
         "showlegend": true,
         "type": "scatter",
         "x": [
          4.100858688354492,
          -3.133582353591919,
          5.723006725311279,
          1.0659372806549072,
          3.090296745300293,
          3.0884838104248047,
          1.7683515548706055,
          2.7300589084625244,
          -1.2555959224700928,
          4.866418838500977,
          1.9596302509307861,
          -2.207368850708008,
          4.0960564613342285,
          2.9284231662750244,
          1.9976829290390015,
          0.27828601002693176,
          3.6684415340423584,
          10.462459564208984,
          0.3224613070487976,
          5.3648600578308105
         ],
         "xaxis": "x",
         "y": [
          -2.477529764175415,
          -4.80521297454834,
          -5.586949348449707,
          -5.990505218505859,
          -1.6006895303726196,
          -5.117405414581299,
          -3.5292510986328125,
          -1.7862099409103394,
          -4.257436275482178,
          -2.4757492542266846,
          -5.04538631439209,
          -15.098968505859375,
          -3.4669973850250244,
          -4.489907264709473,
          -2.4577488899230957,
          -3.1906816959381104,
          -1.624191403388977,
          0.21238060295581818,
          -4.389050483703613,
          -1.3725725412368774
         ],
         "yaxis": "y"
        },
        {
         "hovertemplate": "class=(89, 'tractor')<br>x=%{x}<br>y=%{y}<extra></extra>",
         "legendgroup": "(89, 'tractor')",
         "marker": {
          "color": "#B6E880",
          "symbol": "circle"
         },
         "mode": "markers",
         "name": "(89, 'tractor')",
         "orientation": "v",
         "showlegend": true,
         "type": "scatter",
         "x": [
          -3.8031110763549805,
          -1.82285737991333,
          -3.264580011367798,
          -3.041423797607422,
          -6.297524929046631,
          -4.136675834655762,
          -3.21816349029541,
          -5.465747356414795,
          -5.274324893951416,
          -4.49136209487915,
          -2.3886165618896484,
          -10.436447143554688,
          -5.317076206207275,
          -2.6105456352233887,
          -5.391178131103516,
          -5.984452247619629,
          -1.8986402750015259,
          -2.9975123405456543,
          -2.0466690063476562,
          -5.334698677062988
         ],
         "xaxis": "x",
         "y": [
          -13.315492630004883,
          -10.81250286102295,
          -11.348573684692383,
          -9.068746566772461,
          -13.746683120727539,
          -11.958845138549805,
          -12.327920913696289,
          -11.382315635681152,
          -9.889323234558105,
          -12.928898811340332,
          -11.782720565795898,
          -5.280714988708496,
          -12.202091217041016,
          -10.525053977966309,
          -13.68580150604248,
          -13.078696250915527,
          -13.535815238952637,
          -13.791041374206543,
          -11.816377639770508,
          -14.855116844177246
         ],
         "yaxis": "y"
        },
        {
         "hovertemplate": "class=(34, 'fox')<br>x=%{x}<br>y=%{y}<extra></extra>",
         "legendgroup": "(34, 'fox')",
         "marker": {
          "color": "#FF97FF",
          "symbol": "circle"
         },
         "mode": "markers",
         "name": "(34, 'fox')",
         "orientation": "v",
         "showlegend": true,
         "type": "scatter",
         "x": [
          -3.036761522293091,
          8.83155632019043,
          6.648378849029541,
          -5.123558521270752,
          9.21854019165039,
          4.537283420562744,
          8.025676727294922,
          9.758278846740723,
          9.64785385131836,
          5.376641750335693,
          7.803366184234619,
          3.2610459327697754,
          8.127497673034668,
          5.062134265899658,
          9.427342414855957,
          3.968099594116211,
          8.742166519165039,
          4.376882076263428,
          -7.250319004058838,
          5.816732406616211
         ],
         "xaxis": "x",
         "y": [
          11.133749008178711,
          6.190536022186279,
          3.4292964935302734,
          10.513750076293945,
          5.430522918701172,
          2.546454668045044,
          5.309118747711182,
          6.636801242828369,
          6.399491786956787,
          2.449427843093872,
          5.957216739654541,
          4.206018447875977,
          6.727025985717773,
          4.726541996002197,
          4.162158966064453,
          5.027583122253418,
          3.7459564208984375,
          4.635637283325195,
          4.789847373962402,
          2.724994659423828
         ],
         "yaxis": "y"
        },
        {
         "hovertemplate": "class=(72, 'seal')<br>x=%{x}<br>y=%{y}<extra></extra>",
         "legendgroup": "(72, 'seal')",
         "marker": {
          "color": "#FECB52",
          "symbol": "circle"
         },
         "mode": "markers",
         "name": "(72, 'seal')",
         "orientation": "v",
         "showlegend": true,
         "type": "scatter",
         "x": [
          9.666940689086914,
          -11.47115421295166,
          2.196568489074707,
          5.210628032684326,
          -0.22000586986541748,
          9.12521743774414,
          3.129370927810669,
          0.977846622467041,
          -4.339330196380615,
          7.649489402770996,
          4.716516494750977,
          2.99739933013916,
          0.878686785697937,
          2.707740545272827,
          0.7272140383720398,
          -0.1255752593278885,
          -1.486250638961792,
          1.877831220626831,
          1.3682727813720703,
          0.710893988609314
         ],
         "xaxis": "x",
         "y": [
          2.6502552032470703,
          1.4690364599227905,
          11.11178970336914,
          1.4980429410934448,
          9.145699501037598,
          2.79341197013855,
          0.2658770978450775,
          3.7916042804718018,
          11.418068885803223,
          0.7420375943183899,
          1.3770594596862793,
          2.2161192893981934,
          6.496665954589844,
          6.77152681350708,
          8.766003608703613,
          10.354043006896973,
          9.14804458618164,
          11.035926818847656,
          7.304941654205322,
          11.670387268066406
         ],
         "yaxis": "y"
        }
       ],
       "layout": {
        "legend": {
         "title": {
          "text": "class"
         },
         "tracegroupgap": 0
        },
        "template": {
         "data": {
          "bar": [
           {
            "error_x": {
             "color": "#2a3f5f"
            },
            "error_y": {
             "color": "#2a3f5f"
            },
            "marker": {
             "line": {
              "color": "#E5ECF6",
              "width": 0.5
             },
             "pattern": {
              "fillmode": "overlay",
              "size": 10,
              "solidity": 0.2
             }
            },
            "type": "bar"
           }
          ],
          "barpolar": [
           {
            "marker": {
             "line": {
              "color": "#E5ECF6",
              "width": 0.5
             },
             "pattern": {
              "fillmode": "overlay",
              "size": 10,
              "solidity": 0.2
             }
            },
            "type": "barpolar"
           }
          ],
          "carpet": [
           {
            "aaxis": {
             "endlinecolor": "#2a3f5f",
             "gridcolor": "white",
             "linecolor": "white",
             "minorgridcolor": "white",
             "startlinecolor": "#2a3f5f"
            },
            "baxis": {
             "endlinecolor": "#2a3f5f",
             "gridcolor": "white",
             "linecolor": "white",
             "minorgridcolor": "white",
             "startlinecolor": "#2a3f5f"
            },
            "type": "carpet"
           }
          ],
          "choropleth": [
           {
            "colorbar": {
             "outlinewidth": 0,
             "ticks": ""
            },
            "type": "choropleth"
           }
          ],
          "contour": [
           {
            "colorbar": {
             "outlinewidth": 0,
             "ticks": ""
            },
            "colorscale": [
             [
              0,
              "#0d0887"
             ],
             [
              0.1111111111111111,
              "#46039f"
             ],
             [
              0.2222222222222222,
              "#7201a8"
             ],
             [
              0.3333333333333333,
              "#9c179e"
             ],
             [
              0.4444444444444444,
              "#bd3786"
             ],
             [
              0.5555555555555556,
              "#d8576b"
             ],
             [
              0.6666666666666666,
              "#ed7953"
             ],
             [
              0.7777777777777778,
              "#fb9f3a"
             ],
             [
              0.8888888888888888,
              "#fdca26"
             ],
             [
              1,
              "#f0f921"
             ]
            ],
            "type": "contour"
           }
          ],
          "contourcarpet": [
           {
            "colorbar": {
             "outlinewidth": 0,
             "ticks": ""
            },
            "type": "contourcarpet"
           }
          ],
          "heatmap": [
           {
            "colorbar": {
             "outlinewidth": 0,
             "ticks": ""
            },
            "colorscale": [
             [
              0,
              "#0d0887"
             ],
             [
              0.1111111111111111,
              "#46039f"
             ],
             [
              0.2222222222222222,
              "#7201a8"
             ],
             [
              0.3333333333333333,
              "#9c179e"
             ],
             [
              0.4444444444444444,
              "#bd3786"
             ],
             [
              0.5555555555555556,
              "#d8576b"
             ],
             [
              0.6666666666666666,
              "#ed7953"
             ],
             [
              0.7777777777777778,
              "#fb9f3a"
             ],
             [
              0.8888888888888888,
              "#fdca26"
             ],
             [
              1,
              "#f0f921"
             ]
            ],
            "type": "heatmap"
           }
          ],
          "heatmapgl": [
           {
            "colorbar": {
             "outlinewidth": 0,
             "ticks": ""
            },
            "colorscale": [
             [
              0,
              "#0d0887"
             ],
             [
              0.1111111111111111,
              "#46039f"
             ],
             [
              0.2222222222222222,
              "#7201a8"
             ],
             [
              0.3333333333333333,
              "#9c179e"
             ],
             [
              0.4444444444444444,
              "#bd3786"
             ],
             [
              0.5555555555555556,
              "#d8576b"
             ],
             [
              0.6666666666666666,
              "#ed7953"
             ],
             [
              0.7777777777777778,
              "#fb9f3a"
             ],
             [
              0.8888888888888888,
              "#fdca26"
             ],
             [
              1,
              "#f0f921"
             ]
            ],
            "type": "heatmapgl"
           }
          ],
          "histogram": [
           {
            "marker": {
             "pattern": {
              "fillmode": "overlay",
              "size": 10,
              "solidity": 0.2
             }
            },
            "type": "histogram"
           }
          ],
          "histogram2d": [
           {
            "colorbar": {
             "outlinewidth": 0,
             "ticks": ""
            },
            "colorscale": [
             [
              0,
              "#0d0887"
             ],
             [
              0.1111111111111111,
              "#46039f"
             ],
             [
              0.2222222222222222,
              "#7201a8"
             ],
             [
              0.3333333333333333,
              "#9c179e"
             ],
             [
              0.4444444444444444,
              "#bd3786"
             ],
             [
              0.5555555555555556,
              "#d8576b"
             ],
             [
              0.6666666666666666,
              "#ed7953"
             ],
             [
              0.7777777777777778,
              "#fb9f3a"
             ],
             [
              0.8888888888888888,
              "#fdca26"
             ],
             [
              1,
              "#f0f921"
             ]
            ],
            "type": "histogram2d"
           }
          ],
          "histogram2dcontour": [
           {
            "colorbar": {
             "outlinewidth": 0,
             "ticks": ""
            },
            "colorscale": [
             [
              0,
              "#0d0887"
             ],
             [
              0.1111111111111111,
              "#46039f"
             ],
             [
              0.2222222222222222,
              "#7201a8"
             ],
             [
              0.3333333333333333,
              "#9c179e"
             ],
             [
              0.4444444444444444,
              "#bd3786"
             ],
             [
              0.5555555555555556,
              "#d8576b"
             ],
             [
              0.6666666666666666,
              "#ed7953"
             ],
             [
              0.7777777777777778,
              "#fb9f3a"
             ],
             [
              0.8888888888888888,
              "#fdca26"
             ],
             [
              1,
              "#f0f921"
             ]
            ],
            "type": "histogram2dcontour"
           }
          ],
          "mesh3d": [
           {
            "colorbar": {
             "outlinewidth": 0,
             "ticks": ""
            },
            "type": "mesh3d"
           }
          ],
          "parcoords": [
           {
            "line": {
             "colorbar": {
              "outlinewidth": 0,
              "ticks": ""
             }
            },
            "type": "parcoords"
           }
          ],
          "pie": [
           {
            "automargin": true,
            "type": "pie"
           }
          ],
          "scatter": [
           {
            "marker": {
             "colorbar": {
              "outlinewidth": 0,
              "ticks": ""
             }
            },
            "type": "scatter"
           }
          ],
          "scatter3d": [
           {
            "line": {
             "colorbar": {
              "outlinewidth": 0,
              "ticks": ""
             }
            },
            "marker": {
             "colorbar": {
              "outlinewidth": 0,
              "ticks": ""
             }
            },
            "type": "scatter3d"
           }
          ],
          "scattercarpet": [
           {
            "marker": {
             "colorbar": {
              "outlinewidth": 0,
              "ticks": ""
             }
            },
            "type": "scattercarpet"
           }
          ],
          "scattergeo": [
           {
            "marker": {
             "colorbar": {
              "outlinewidth": 0,
              "ticks": ""
             }
            },
            "type": "scattergeo"
           }
          ],
          "scattergl": [
           {
            "marker": {
             "colorbar": {
              "outlinewidth": 0,
              "ticks": ""
             }
            },
            "type": "scattergl"
           }
          ],
          "scattermapbox": [
           {
            "marker": {
             "colorbar": {
              "outlinewidth": 0,
              "ticks": ""
             }
            },
            "type": "scattermapbox"
           }
          ],
          "scatterpolar": [
           {
            "marker": {
             "colorbar": {
              "outlinewidth": 0,
              "ticks": ""
             }
            },
            "type": "scatterpolar"
           }
          ],
          "scatterpolargl": [
           {
            "marker": {
             "colorbar": {
              "outlinewidth": 0,
              "ticks": ""
             }
            },
            "type": "scatterpolargl"
           }
          ],
          "scatterternary": [
           {
            "marker": {
             "colorbar": {
              "outlinewidth": 0,
              "ticks": ""
             }
            },
            "type": "scatterternary"
           }
          ],
          "surface": [
           {
            "colorbar": {
             "outlinewidth": 0,
             "ticks": ""
            },
            "colorscale": [
             [
              0,
              "#0d0887"
             ],
             [
              0.1111111111111111,
              "#46039f"
             ],
             [
              0.2222222222222222,
              "#7201a8"
             ],
             [
              0.3333333333333333,
              "#9c179e"
             ],
             [
              0.4444444444444444,
              "#bd3786"
             ],
             [
              0.5555555555555556,
              "#d8576b"
             ],
             [
              0.6666666666666666,
              "#ed7953"
             ],
             [
              0.7777777777777778,
              "#fb9f3a"
             ],
             [
              0.8888888888888888,
              "#fdca26"
             ],
             [
              1,
              "#f0f921"
             ]
            ],
            "type": "surface"
           }
          ],
          "table": [
           {
            "cells": {
             "fill": {
              "color": "#EBF0F8"
             },
             "line": {
              "color": "white"
             }
            },
            "header": {
             "fill": {
              "color": "#C8D4E3"
             },
             "line": {
              "color": "white"
             }
            },
            "type": "table"
           }
          ]
         },
         "layout": {
          "annotationdefaults": {
           "arrowcolor": "#2a3f5f",
           "arrowhead": 0,
           "arrowwidth": 1
          },
          "autotypenumbers": "strict",
          "coloraxis": {
           "colorbar": {
            "outlinewidth": 0,
            "ticks": ""
           }
          },
          "colorscale": {
           "diverging": [
            [
             0,
             "#8e0152"
            ],
            [
             0.1,
             "#c51b7d"
            ],
            [
             0.2,
             "#de77ae"
            ],
            [
             0.3,
             "#f1b6da"
            ],
            [
             0.4,
             "#fde0ef"
            ],
            [
             0.5,
             "#f7f7f7"
            ],
            [
             0.6,
             "#e6f5d0"
            ],
            [
             0.7,
             "#b8e186"
            ],
            [
             0.8,
             "#7fbc41"
            ],
            [
             0.9,
             "#4d9221"
            ],
            [
             1,
             "#276419"
            ]
           ],
           "sequential": [
            [
             0,
             "#0d0887"
            ],
            [
             0.1111111111111111,
             "#46039f"
            ],
            [
             0.2222222222222222,
             "#7201a8"
            ],
            [
             0.3333333333333333,
             "#9c179e"
            ],
            [
             0.4444444444444444,
             "#bd3786"
            ],
            [
             0.5555555555555556,
             "#d8576b"
            ],
            [
             0.6666666666666666,
             "#ed7953"
            ],
            [
             0.7777777777777778,
             "#fb9f3a"
            ],
            [
             0.8888888888888888,
             "#fdca26"
            ],
            [
             1,
             "#f0f921"
            ]
           ],
           "sequentialminus": [
            [
             0,
             "#0d0887"
            ],
            [
             0.1111111111111111,
             "#46039f"
            ],
            [
             0.2222222222222222,
             "#7201a8"
            ],
            [
             0.3333333333333333,
             "#9c179e"
            ],
            [
             0.4444444444444444,
             "#bd3786"
            ],
            [
             0.5555555555555556,
             "#d8576b"
            ],
            [
             0.6666666666666666,
             "#ed7953"
            ],
            [
             0.7777777777777778,
             "#fb9f3a"
            ],
            [
             0.8888888888888888,
             "#fdca26"
            ],
            [
             1,
             "#f0f921"
            ]
           ]
          },
          "colorway": [
           "#636efa",
           "#EF553B",
           "#00cc96",
           "#ab63fa",
           "#FFA15A",
           "#19d3f3",
           "#FF6692",
           "#B6E880",
           "#FF97FF",
           "#FECB52"
          ],
          "font": {
           "color": "#2a3f5f"
          },
          "geo": {
           "bgcolor": "white",
           "lakecolor": "white",
           "landcolor": "#E5ECF6",
           "showlakes": true,
           "showland": true,
           "subunitcolor": "white"
          },
          "hoverlabel": {
           "align": "left"
          },
          "hovermode": "closest",
          "mapbox": {
           "style": "light"
          },
          "paper_bgcolor": "white",
          "plot_bgcolor": "#E5ECF6",
          "polar": {
           "angularaxis": {
            "gridcolor": "white",
            "linecolor": "white",
            "ticks": ""
           },
           "bgcolor": "#E5ECF6",
           "radialaxis": {
            "gridcolor": "white",
            "linecolor": "white",
            "ticks": ""
           }
          },
          "scene": {
           "xaxis": {
            "backgroundcolor": "#E5ECF6",
            "gridcolor": "white",
            "gridwidth": 2,
            "linecolor": "white",
            "showbackground": true,
            "ticks": "",
            "zerolinecolor": "white"
           },
           "yaxis": {
            "backgroundcolor": "#E5ECF6",
            "gridcolor": "white",
            "gridwidth": 2,
            "linecolor": "white",
            "showbackground": true,
            "ticks": "",
            "zerolinecolor": "white"
           },
           "zaxis": {
            "backgroundcolor": "#E5ECF6",
            "gridcolor": "white",
            "gridwidth": 2,
            "linecolor": "white",
            "showbackground": true,
            "ticks": "",
            "zerolinecolor": "white"
           }
          },
          "shapedefaults": {
           "line": {
            "color": "#2a3f5f"
           }
          },
          "ternary": {
           "aaxis": {
            "gridcolor": "white",
            "linecolor": "white",
            "ticks": ""
           },
           "baxis": {
            "gridcolor": "white",
            "linecolor": "white",
            "ticks": ""
           },
           "bgcolor": "#E5ECF6",
           "caxis": {
            "gridcolor": "white",
            "linecolor": "white",
            "ticks": ""
           }
          },
          "title": {
           "x": 0.05
          },
          "xaxis": {
           "automargin": true,
           "gridcolor": "white",
           "linecolor": "white",
           "ticks": "",
           "title": {
            "standoff": 15
           },
           "zerolinecolor": "white",
           "zerolinewidth": 2
          },
          "yaxis": {
           "automargin": true,
           "gridcolor": "white",
           "linecolor": "white",
           "ticks": "",
           "title": {
            "standoff": 15
           },
           "zerolinecolor": "white",
           "zerolinewidth": 2
          }
         }
        },
        "title": {
         "text": "ImageNet pretrained ViT CIFAR100 T-SNE"
        },
        "xaxis": {
         "anchor": "y",
         "domain": [
          0,
          1
         ],
         "title": {
          "text": "x"
         }
        },
        "yaxis": {
         "anchor": "x",
         "domain": [
          0,
          1
         ],
         "title": {
          "text": "y"
         }
        }
       }
      },
      "text/html": [
       "<div>                            <div id=\"371fd830-7b18-452e-aa59-dd72bff53293\" class=\"plotly-graph-div\" style=\"height:525px; width:100%;\"></div>            <script type=\"text/javascript\">                require([\"plotly\"], function(Plotly) {                    window.PLOTLYENV=window.PLOTLYENV || {};                                    if (document.getElementById(\"371fd830-7b18-452e-aa59-dd72bff53293\")) {                    Plotly.newPlot(                        \"371fd830-7b18-452e-aa59-dd72bff53293\",                        [{\"hovertemplate\":\"class=(16, 'can')<br>x=%{x}<br>y=%{y}<extra></extra>\",\"legendgroup\":\"(16, 'can')\",\"marker\":{\"color\":\"#636efa\",\"symbol\":\"circle\"},\"mode\":\"markers\",\"name\":\"(16, 'can')\",\"orientation\":\"v\",\"showlegend\":true,\"type\":\"scatter\",\"x\":[7.165372371673584,8.03159236907959,7.236563682556152,6.67072057723999,1.081817626953125,8.003446578979492,8.216007232666016,9.39100456237793,8.444291114807129,6.503406047821045,6.138912200927734,7.717874050140381,7.344138145446777,8.693441390991211,9.808518409729004,-2.3296802043914795,7.426355361938477,7.408211708068848,8.311869621276855,6.288127422332764],\"xaxis\":\"x\",\"y\":[-9.157950401306152,-6.782402992248535,-7.215951919555664,-6.45580530166626,0.11673051863908768,-7.707665920257568,-4.290658473968506,-4.126925945281982,-7.971534729003906,-1.3904070854187012,-11.136578559875488,-4.291086196899414,-8.507054328918457,-6.306845664978027,-5.249258041381836,0.19312070310115814,-0.5373814105987549,-1.0838240385055542,-2.7276604175567627,10.073537826538086],\"yaxis\":\"y\"},{\"hovertemplate\":\"class=(7, 'beetle')<br>x=%{x}<br>y=%{y}<extra></extra>\",\"legendgroup\":\"(7, 'beetle')\",\"marker\":{\"color\":\"#EF553B\",\"symbol\":\"circle\"},\"mode\":\"markers\",\"name\":\"(7, 'beetle')\",\"orientation\":\"v\",\"showlegend\":true,\"type\":\"scatter\",\"x\":[-0.4667283296585083,4.390723705291748,3.2918970584869385,3.023761749267578,2.5937862396240234,0.9281107187271118,1.514705777168274,0.33595094084739685,3.723935604095459,-0.22459879517555237,12.112701416015625,1.4301810264587402,1.503257155418396,1.1611818075180054,0.0553312785923481,1.84347665309906,2.9525935649871826,0.8221394419670105,0.41581499576568604,1.7901898622512817],\"xaxis\":\"x\",\"y\":[15.884349822998047,14.829638481140137,15.0014066696167,15.928841590881348,12.773966789245605,16.973928451538086,14.855345726013184,13.564558982849121,16.23114776611328,15.243946075439453,-0.6529736518859863,17.855844497680664,16.036361694335938,18.587783813476562,15.888106346130371,16.859621047973633,14.161452293395996,13.110468864440918,16.22064971923828,13.886993408203125],\"yaxis\":\"y\"},{\"hovertemplate\":\"class=(68, 'road')<br>x=%{x}<br>y=%{y}<extra></extra>\",\"legendgroup\":\"(68, 'road')\",\"marker\":{\"color\":\"#00cc96\",\"symbol\":\"circle\"},\"mode\":\"markers\",\"name\":\"(68, 'road')\",\"orientation\":\"v\",\"showlegend\":true,\"type\":\"scatter\",\"x\":[-10.809919357299805,-9.939002990722656,-5.6320109367370605,-2.8875086307525635,-9.887046813964844,-9.467498779296875,-7.3045268058776855,-6.196189880371094,-7.601500034332275,-10.609692573547363,-9.023439407348633,-6.3327507972717285,-9.433259010314941,-7.840165138244629,-4.751076698303223,-7.111799716949463,-9.394006729125977,-11.309993743896484,-9.658844947814941,-8.169724464416504],\"xaxis\":\"x\",\"y\":[-2.6676278114318848,-1.9883062839508057,10.052992820739746,0.5324594974517822,-3.7822439670562744,-1.9147891998291016,-0.2338811159133911,0.4620816707611084,-2.8593332767486572,-0.6741423606872559,-2.572091817855835,-0.7476922273635864,-0.965510904788971,-1.0550761222839355,0.5587965250015259,2.5818419456481934,-5.804201602935791,1.3535754680633545,-0.16122888028621674,-2.1346778869628906],\"yaxis\":\"y\"},{\"hovertemplate\":\"class=(87, 'television')<br>x=%{x}<br>y=%{y}<extra></extra>\",\"legendgroup\":\"(87, 'television')\",\"marker\":{\"color\":\"#ab63fa\",\"symbol\":\"circle\"},\"mode\":\"markers\",\"name\":\"(87, 'television')\",\"orientation\":\"v\",\"showlegend\":true,\"type\":\"scatter\",\"x\":[2.9016404151916504,-8.605595588684082,0.10613774508237839,-5.275760650634766,0.08238416910171509,5.76910924911499,9.442364692687988,2.307285785675049,1.6791855096817017,-0.21931065618991852,9.890656471252441,-9.393433570861816,10.785979270935059,4.25176477432251,-1.912583827972412,2.989487886428833,5.330269813537598,2.7250900268554688,4.9334397315979,0.6431391835212708],\"xaxis\":\"x\",\"y\":[-9.937033653259277,7.67652702331543,-11.381158828735352,-5.047171592712402,-11.984521865844727,11.110002517700195,10.860007286071777,-11.291637420654297,-8.065393447875977,-8.85944938659668,10.899667739868164,2.0581443309783936,10.9385347366333,-9.21862506866455,-4.120927333831787,-10.080690383911133,7.539458274841309,-8.618467330932617,-11.412858963012695,-10.123453140258789],\"yaxis\":\"y\"},{\"hovertemplate\":\"class=(90, 'train')<br>x=%{x}<br>y=%{y}<extra></extra>\",\"legendgroup\":\"(90, 'train')\",\"marker\":{\"color\":\"#FFA15A\",\"symbol\":\"circle\"},\"mode\":\"markers\",\"name\":\"(90, 'train')\",\"orientation\":\"v\",\"showlegend\":true,\"type\":\"scatter\",\"x\":[-6.651623725891113,-9.386167526245117,-8.082837104797363,-10.792045593261719,-9.154180526733398,-5.329286575317383,-4.582857131958008,-6.594481468200684,-7.03859806060791,-4.442999362945557,-8.825271606445312,-7.3542680740356445,-5.251800537109375,-7.35713005065918,-7.636759281158447,-5.826371192932129,-8.330077171325684,-7.305254936218262,-8.023691177368164,-6.522866249084473],\"xaxis\":\"x\",\"y\":[-10.149985313415527,-10.116569519042969,-11.385029792785645,-8.19227123260498,-12.38184928894043,-6.1083083152771,-10.62247371673584,-11.312679290771484,-7.71239709854126,-6.899665355682373,-3.5980913639068604,-11.3678560256958,-7.796247482299805,-8.975005149841309,-12.815534591674805,-8.901269912719727,-8.398138999938965,-10.398951530456543,-9.81749439239502,-7.403239727020264],\"yaxis\":\"y\"},{\"hovertemplate\":\"class=(33, 'forest')<br>x=%{x}<br>y=%{y}<extra></extra>\",\"legendgroup\":\"(33, 'forest')\",\"marker\":{\"color\":\"#19d3f3\",\"symbol\":\"circle\"},\"mode\":\"markers\",\"name\":\"(33, 'forest')\",\"orientation\":\"v\",\"showlegend\":true,\"type\":\"scatter\",\"x\":[-0.4461105167865753,-0.2702276408672333,-3.15132212638855,-7.0767927169799805,-1.641814112663269,-2.904066801071167,-9.704967498779297,-4.486746311187744,-7.558784008026123,-3.0794498920440674,0.6871495842933655,-7.261754035949707,-0.650929868221283,-3.198235511779785,-2.054624080657959,-3.8917646408081055,-2.4192886352539062,-2.9029552936553955,-1.7369649410247803,-1.1539095640182495],\"xaxis\":\"x\",\"y\":[3.9400253295898438,5.4844651222229,14.62874698638916,2.625741958618164,5.863636016845703,4.259970188140869,3.40232515335083,5.662888050079346,-1.6630524396896362,6.397171974182129,12.091348648071289,4.507728576660156,3.1715872287750244,3.4227545261383057,4.137792587280273,4.092297077178955,4.664363384246826,5.010410785675049,12.324248313903809,4.8970208168029785],\"yaxis\":\"y\"},{\"hovertemplate\":\"class=(25, 'couch')<br>x=%{x}<br>y=%{y}<extra></extra>\",\"legendgroup\":\"(25, 'couch')\",\"marker\":{\"color\":\"#FF6692\",\"symbol\":\"circle\"},\"mode\":\"markers\",\"name\":\"(25, 'couch')\",\"orientation\":\"v\",\"showlegend\":true,\"type\":\"scatter\",\"x\":[4.100858688354492,-3.133582353591919,5.723006725311279,1.0659372806549072,3.090296745300293,3.0884838104248047,1.7683515548706055,2.7300589084625244,-1.2555959224700928,4.866418838500977,1.9596302509307861,-2.207368850708008,4.0960564613342285,2.9284231662750244,1.9976829290390015,0.27828601002693176,3.6684415340423584,10.462459564208984,0.3224613070487976,5.3648600578308105],\"xaxis\":\"x\",\"y\":[-2.477529764175415,-4.80521297454834,-5.586949348449707,-5.990505218505859,-1.6006895303726196,-5.117405414581299,-3.5292510986328125,-1.7862099409103394,-4.257436275482178,-2.4757492542266846,-5.04538631439209,-15.098968505859375,-3.4669973850250244,-4.489907264709473,-2.4577488899230957,-3.1906816959381104,-1.624191403388977,0.21238060295581818,-4.389050483703613,-1.3725725412368774],\"yaxis\":\"y\"},{\"hovertemplate\":\"class=(89, 'tractor')<br>x=%{x}<br>y=%{y}<extra></extra>\",\"legendgroup\":\"(89, 'tractor')\",\"marker\":{\"color\":\"#B6E880\",\"symbol\":\"circle\"},\"mode\":\"markers\",\"name\":\"(89, 'tractor')\",\"orientation\":\"v\",\"showlegend\":true,\"type\":\"scatter\",\"x\":[-3.8031110763549805,-1.82285737991333,-3.264580011367798,-3.041423797607422,-6.297524929046631,-4.136675834655762,-3.21816349029541,-5.465747356414795,-5.274324893951416,-4.49136209487915,-2.3886165618896484,-10.436447143554688,-5.317076206207275,-2.6105456352233887,-5.391178131103516,-5.984452247619629,-1.8986402750015259,-2.9975123405456543,-2.0466690063476562,-5.334698677062988],\"xaxis\":\"x\",\"y\":[-13.315492630004883,-10.81250286102295,-11.348573684692383,-9.068746566772461,-13.746683120727539,-11.958845138549805,-12.327920913696289,-11.382315635681152,-9.889323234558105,-12.928898811340332,-11.782720565795898,-5.280714988708496,-12.202091217041016,-10.525053977966309,-13.68580150604248,-13.078696250915527,-13.535815238952637,-13.791041374206543,-11.816377639770508,-14.855116844177246],\"yaxis\":\"y\"},{\"hovertemplate\":\"class=(34, 'fox')<br>x=%{x}<br>y=%{y}<extra></extra>\",\"legendgroup\":\"(34, 'fox')\",\"marker\":{\"color\":\"#FF97FF\",\"symbol\":\"circle\"},\"mode\":\"markers\",\"name\":\"(34, 'fox')\",\"orientation\":\"v\",\"showlegend\":true,\"type\":\"scatter\",\"x\":[-3.036761522293091,8.83155632019043,6.648378849029541,-5.123558521270752,9.21854019165039,4.537283420562744,8.025676727294922,9.758278846740723,9.64785385131836,5.376641750335693,7.803366184234619,3.2610459327697754,8.127497673034668,5.062134265899658,9.427342414855957,3.968099594116211,8.742166519165039,4.376882076263428,-7.250319004058838,5.816732406616211],\"xaxis\":\"x\",\"y\":[11.133749008178711,6.190536022186279,3.4292964935302734,10.513750076293945,5.430522918701172,2.546454668045044,5.309118747711182,6.636801242828369,6.399491786956787,2.449427843093872,5.957216739654541,4.206018447875977,6.727025985717773,4.726541996002197,4.162158966064453,5.027583122253418,3.7459564208984375,4.635637283325195,4.789847373962402,2.724994659423828],\"yaxis\":\"y\"},{\"hovertemplate\":\"class=(72, 'seal')<br>x=%{x}<br>y=%{y}<extra></extra>\",\"legendgroup\":\"(72, 'seal')\",\"marker\":{\"color\":\"#FECB52\",\"symbol\":\"circle\"},\"mode\":\"markers\",\"name\":\"(72, 'seal')\",\"orientation\":\"v\",\"showlegend\":true,\"type\":\"scatter\",\"x\":[9.666940689086914,-11.47115421295166,2.196568489074707,5.210628032684326,-0.22000586986541748,9.12521743774414,3.129370927810669,0.977846622467041,-4.339330196380615,7.649489402770996,4.716516494750977,2.99739933013916,0.878686785697937,2.707740545272827,0.7272140383720398,-0.1255752593278885,-1.486250638961792,1.877831220626831,1.3682727813720703,0.710893988609314],\"xaxis\":\"x\",\"y\":[2.6502552032470703,1.4690364599227905,11.11178970336914,1.4980429410934448,9.145699501037598,2.79341197013855,0.2658770978450775,3.7916042804718018,11.418068885803223,0.7420375943183899,1.3770594596862793,2.2161192893981934,6.496665954589844,6.77152681350708,8.766003608703613,10.354043006896973,9.14804458618164,11.035926818847656,7.304941654205322,11.670387268066406],\"yaxis\":\"y\"}],                        {\"legend\":{\"title\":{\"text\":\"class\"},\"tracegroupgap\":0},\"template\":{\"data\":{\"bar\":[{\"error_x\":{\"color\":\"#2a3f5f\"},\"error_y\":{\"color\":\"#2a3f5f\"},\"marker\":{\"line\":{\"color\":\"#E5ECF6\",\"width\":0.5},\"pattern\":{\"fillmode\":\"overlay\",\"size\":10,\"solidity\":0.2}},\"type\":\"bar\"}],\"barpolar\":[{\"marker\":{\"line\":{\"color\":\"#E5ECF6\",\"width\":0.5},\"pattern\":{\"fillmode\":\"overlay\",\"size\":10,\"solidity\":0.2}},\"type\":\"barpolar\"}],\"carpet\":[{\"aaxis\":{\"endlinecolor\":\"#2a3f5f\",\"gridcolor\":\"white\",\"linecolor\":\"white\",\"minorgridcolor\":\"white\",\"startlinecolor\":\"#2a3f5f\"},\"baxis\":{\"endlinecolor\":\"#2a3f5f\",\"gridcolor\":\"white\",\"linecolor\":\"white\",\"minorgridcolor\":\"white\",\"startlinecolor\":\"#2a3f5f\"},\"type\":\"carpet\"}],\"choropleth\":[{\"colorbar\":{\"outlinewidth\":0,\"ticks\":\"\"},\"type\":\"choropleth\"}],\"contour\":[{\"colorbar\":{\"outlinewidth\":0,\"ticks\":\"\"},\"colorscale\":[[0.0,\"#0d0887\"],[0.1111111111111111,\"#46039f\"],[0.2222222222222222,\"#7201a8\"],[0.3333333333333333,\"#9c179e\"],[0.4444444444444444,\"#bd3786\"],[0.5555555555555556,\"#d8576b\"],[0.6666666666666666,\"#ed7953\"],[0.7777777777777778,\"#fb9f3a\"],[0.8888888888888888,\"#fdca26\"],[1.0,\"#f0f921\"]],\"type\":\"contour\"}],\"contourcarpet\":[{\"colorbar\":{\"outlinewidth\":0,\"ticks\":\"\"},\"type\":\"contourcarpet\"}],\"heatmap\":[{\"colorbar\":{\"outlinewidth\":0,\"ticks\":\"\"},\"colorscale\":[[0.0,\"#0d0887\"],[0.1111111111111111,\"#46039f\"],[0.2222222222222222,\"#7201a8\"],[0.3333333333333333,\"#9c179e\"],[0.4444444444444444,\"#bd3786\"],[0.5555555555555556,\"#d8576b\"],[0.6666666666666666,\"#ed7953\"],[0.7777777777777778,\"#fb9f3a\"],[0.8888888888888888,\"#fdca26\"],[1.0,\"#f0f921\"]],\"type\":\"heatmap\"}],\"heatmapgl\":[{\"colorbar\":{\"outlinewidth\":0,\"ticks\":\"\"},\"colorscale\":[[0.0,\"#0d0887\"],[0.1111111111111111,\"#46039f\"],[0.2222222222222222,\"#7201a8\"],[0.3333333333333333,\"#9c179e\"],[0.4444444444444444,\"#bd3786\"],[0.5555555555555556,\"#d8576b\"],[0.6666666666666666,\"#ed7953\"],[0.7777777777777778,\"#fb9f3a\"],[0.8888888888888888,\"#fdca26\"],[1.0,\"#f0f921\"]],\"type\":\"heatmapgl\"}],\"histogram\":[{\"marker\":{\"pattern\":{\"fillmode\":\"overlay\",\"size\":10,\"solidity\":0.2}},\"type\":\"histogram\"}],\"histogram2d\":[{\"colorbar\":{\"outlinewidth\":0,\"ticks\":\"\"},\"colorscale\":[[0.0,\"#0d0887\"],[0.1111111111111111,\"#46039f\"],[0.2222222222222222,\"#7201a8\"],[0.3333333333333333,\"#9c179e\"],[0.4444444444444444,\"#bd3786\"],[0.5555555555555556,\"#d8576b\"],[0.6666666666666666,\"#ed7953\"],[0.7777777777777778,\"#fb9f3a\"],[0.8888888888888888,\"#fdca26\"],[1.0,\"#f0f921\"]],\"type\":\"histogram2d\"}],\"histogram2dcontour\":[{\"colorbar\":{\"outlinewidth\":0,\"ticks\":\"\"},\"colorscale\":[[0.0,\"#0d0887\"],[0.1111111111111111,\"#46039f\"],[0.2222222222222222,\"#7201a8\"],[0.3333333333333333,\"#9c179e\"],[0.4444444444444444,\"#bd3786\"],[0.5555555555555556,\"#d8576b\"],[0.6666666666666666,\"#ed7953\"],[0.7777777777777778,\"#fb9f3a\"],[0.8888888888888888,\"#fdca26\"],[1.0,\"#f0f921\"]],\"type\":\"histogram2dcontour\"}],\"mesh3d\":[{\"colorbar\":{\"outlinewidth\":0,\"ticks\":\"\"},\"type\":\"mesh3d\"}],\"parcoords\":[{\"line\":{\"colorbar\":{\"outlinewidth\":0,\"ticks\":\"\"}},\"type\":\"parcoords\"}],\"pie\":[{\"automargin\":true,\"type\":\"pie\"}],\"scatter\":[{\"marker\":{\"colorbar\":{\"outlinewidth\":0,\"ticks\":\"\"}},\"type\":\"scatter\"}],\"scatter3d\":[{\"line\":{\"colorbar\":{\"outlinewidth\":0,\"ticks\":\"\"}},\"marker\":{\"colorbar\":{\"outlinewidth\":0,\"ticks\":\"\"}},\"type\":\"scatter3d\"}],\"scattercarpet\":[{\"marker\":{\"colorbar\":{\"outlinewidth\":0,\"ticks\":\"\"}},\"type\":\"scattercarpet\"}],\"scattergeo\":[{\"marker\":{\"colorbar\":{\"outlinewidth\":0,\"ticks\":\"\"}},\"type\":\"scattergeo\"}],\"scattergl\":[{\"marker\":{\"colorbar\":{\"outlinewidth\":0,\"ticks\":\"\"}},\"type\":\"scattergl\"}],\"scattermapbox\":[{\"marker\":{\"colorbar\":{\"outlinewidth\":0,\"ticks\":\"\"}},\"type\":\"scattermapbox\"}],\"scatterpolar\":[{\"marker\":{\"colorbar\":{\"outlinewidth\":0,\"ticks\":\"\"}},\"type\":\"scatterpolar\"}],\"scatterpolargl\":[{\"marker\":{\"colorbar\":{\"outlinewidth\":0,\"ticks\":\"\"}},\"type\":\"scatterpolargl\"}],\"scatterternary\":[{\"marker\":{\"colorbar\":{\"outlinewidth\":0,\"ticks\":\"\"}},\"type\":\"scatterternary\"}],\"surface\":[{\"colorbar\":{\"outlinewidth\":0,\"ticks\":\"\"},\"colorscale\":[[0.0,\"#0d0887\"],[0.1111111111111111,\"#46039f\"],[0.2222222222222222,\"#7201a8\"],[0.3333333333333333,\"#9c179e\"],[0.4444444444444444,\"#bd3786\"],[0.5555555555555556,\"#d8576b\"],[0.6666666666666666,\"#ed7953\"],[0.7777777777777778,\"#fb9f3a\"],[0.8888888888888888,\"#fdca26\"],[1.0,\"#f0f921\"]],\"type\":\"surface\"}],\"table\":[{\"cells\":{\"fill\":{\"color\":\"#EBF0F8\"},\"line\":{\"color\":\"white\"}},\"header\":{\"fill\":{\"color\":\"#C8D4E3\"},\"line\":{\"color\":\"white\"}},\"type\":\"table\"}]},\"layout\":{\"annotationdefaults\":{\"arrowcolor\":\"#2a3f5f\",\"arrowhead\":0,\"arrowwidth\":1},\"autotypenumbers\":\"strict\",\"coloraxis\":{\"colorbar\":{\"outlinewidth\":0,\"ticks\":\"\"}},\"colorscale\":{\"diverging\":[[0,\"#8e0152\"],[0.1,\"#c51b7d\"],[0.2,\"#de77ae\"],[0.3,\"#f1b6da\"],[0.4,\"#fde0ef\"],[0.5,\"#f7f7f7\"],[0.6,\"#e6f5d0\"],[0.7,\"#b8e186\"],[0.8,\"#7fbc41\"],[0.9,\"#4d9221\"],[1,\"#276419\"]],\"sequential\":[[0.0,\"#0d0887\"],[0.1111111111111111,\"#46039f\"],[0.2222222222222222,\"#7201a8\"],[0.3333333333333333,\"#9c179e\"],[0.4444444444444444,\"#bd3786\"],[0.5555555555555556,\"#d8576b\"],[0.6666666666666666,\"#ed7953\"],[0.7777777777777778,\"#fb9f3a\"],[0.8888888888888888,\"#fdca26\"],[1.0,\"#f0f921\"]],\"sequentialminus\":[[0.0,\"#0d0887\"],[0.1111111111111111,\"#46039f\"],[0.2222222222222222,\"#7201a8\"],[0.3333333333333333,\"#9c179e\"],[0.4444444444444444,\"#bd3786\"],[0.5555555555555556,\"#d8576b\"],[0.6666666666666666,\"#ed7953\"],[0.7777777777777778,\"#fb9f3a\"],[0.8888888888888888,\"#fdca26\"],[1.0,\"#f0f921\"]]},\"colorway\":[\"#636efa\",\"#EF553B\",\"#00cc96\",\"#ab63fa\",\"#FFA15A\",\"#19d3f3\",\"#FF6692\",\"#B6E880\",\"#FF97FF\",\"#FECB52\"],\"font\":{\"color\":\"#2a3f5f\"},\"geo\":{\"bgcolor\":\"white\",\"lakecolor\":\"white\",\"landcolor\":\"#E5ECF6\",\"showlakes\":true,\"showland\":true,\"subunitcolor\":\"white\"},\"hoverlabel\":{\"align\":\"left\"},\"hovermode\":\"closest\",\"mapbox\":{\"style\":\"light\"},\"paper_bgcolor\":\"white\",\"plot_bgcolor\":\"#E5ECF6\",\"polar\":{\"angularaxis\":{\"gridcolor\":\"white\",\"linecolor\":\"white\",\"ticks\":\"\"},\"bgcolor\":\"#E5ECF6\",\"radialaxis\":{\"gridcolor\":\"white\",\"linecolor\":\"white\",\"ticks\":\"\"}},\"scene\":{\"xaxis\":{\"backgroundcolor\":\"#E5ECF6\",\"gridcolor\":\"white\",\"gridwidth\":2,\"linecolor\":\"white\",\"showbackground\":true,\"ticks\":\"\",\"zerolinecolor\":\"white\"},\"yaxis\":{\"backgroundcolor\":\"#E5ECF6\",\"gridcolor\":\"white\",\"gridwidth\":2,\"linecolor\":\"white\",\"showbackground\":true,\"ticks\":\"\",\"zerolinecolor\":\"white\"},\"zaxis\":{\"backgroundcolor\":\"#E5ECF6\",\"gridcolor\":\"white\",\"gridwidth\":2,\"linecolor\":\"white\",\"showbackground\":true,\"ticks\":\"\",\"zerolinecolor\":\"white\"}},\"shapedefaults\":{\"line\":{\"color\":\"#2a3f5f\"}},\"ternary\":{\"aaxis\":{\"gridcolor\":\"white\",\"linecolor\":\"white\",\"ticks\":\"\"},\"baxis\":{\"gridcolor\":\"white\",\"linecolor\":\"white\",\"ticks\":\"\"},\"bgcolor\":\"#E5ECF6\",\"caxis\":{\"gridcolor\":\"white\",\"linecolor\":\"white\",\"ticks\":\"\"}},\"title\":{\"x\":0.05},\"xaxis\":{\"automargin\":true,\"gridcolor\":\"white\",\"linecolor\":\"white\",\"ticks\":\"\",\"title\":{\"standoff\":15},\"zerolinecolor\":\"white\",\"zerolinewidth\":2},\"yaxis\":{\"automargin\":true,\"gridcolor\":\"white\",\"linecolor\":\"white\",\"ticks\":\"\",\"title\":{\"standoff\":15},\"zerolinecolor\":\"white\",\"zerolinewidth\":2}}},\"title\":{\"text\":\"ImageNet pretrained ViT CIFAR100 T-SNE\"},\"xaxis\":{\"anchor\":\"y\",\"domain\":[0.0,1.0],\"title\":{\"text\":\"x\"}},\"yaxis\":{\"anchor\":\"x\",\"domain\":[0.0,1.0],\"title\":{\"text\":\"y\"}}},                        {\"responsive\": true}                    ).then(function(){\n",
       "                            \n",
       "var gd = document.getElementById('371fd830-7b18-452e-aa59-dd72bff53293');\n",
       "var x = new MutationObserver(function (mutations, observer) {{\n",
       "        var display = window.getComputedStyle(gd).display;\n",
       "        if (!display || display === 'none') {{\n",
       "            console.log([gd, 'removed!']);\n",
       "            Plotly.purge(gd);\n",
       "            observer.disconnect();\n",
       "        }}\n",
       "}});\n",
       "\n",
       "// Listen for the removal of the full notebook cells\n",
       "var notebookContainer = gd.closest('#notebook-container');\n",
       "if (notebookContainer) {{\n",
       "    x.observe(notebookContainer, {childList: true});\n",
       "}}\n",
       "\n",
       "// Listen for the clearing of the current output cell\n",
       "var outputEl = gd.closest('.output');\n",
       "if (outputEl) {{\n",
       "    x.observe(outputEl, {childList: true});\n",
       "}}\n",
       "\n",
       "                        })                };                });            </script>        </div>"
      ]
     },
     "metadata": {},
     "output_type": "display_data"
    }
   ],
   "source": [
    "tsne = TSNE(n_components=2)\n",
    "X_tsne = tsne.fit_transform(X_out)\n",
    "\n",
    "df_embed = pd.DataFrame(X_tsne)\n",
    "df_embed = df_embed.rename(columns={0: 'x', 1: 'y'})\n",
    "df_embed = df_embed.assign(label=y_out)\n",
    "fig = px.scatter(\n",
    "    df_embed,\n",
    "    x='x',\n",
    "    y='y',\n",
    "    color='label',\n",
    "    labels={'label': 'class'},\n",
    "    title='ImageNet pretrained ViT CIFAR100 T-SNE',\n",
    ")\n",
    "fig.show()"
   ]
  },
  {
   "cell_type": "markdown",
   "metadata": {},
   "source": [
    "#### Feature visualization by PCA"
   ]
  },
  {
   "cell_type": "code",
   "execution_count": 21,
   "metadata": {},
   "outputs": [
    {
     "data": {
      "application/vnd.plotly.v1+json": {
       "config": {
        "plotlyServerURL": "https://plot.ly"
       },
       "data": [
        {
         "hovertemplate": "class=(2, 'bird')<br>x=%{x}<br>y=%{y}<extra></extra>",
         "legendgroup": "(2, 'bird')",
         "marker": {
          "color": "#636efa",
          "symbol": "circle"
         },
         "mode": "markers",
         "name": "(2, 'bird')",
         "orientation": "v",
         "showlegend": true,
         "type": "scatter",
         "x": [
          9.177205631085476,
          8.842180071003312,
          10.350729110775342,
          9.386413854916206,
          4.773620951379324,
          16.50813535035161,
          6.385660445729059,
          11.153619221442437,
          13.949385810998152,
          5.727849321759162,
          7.386358062969635,
          9.319022664654524,
          13.182212829109215,
          14.524781795176404,
          7.779580900341927,
          9.808775305536825,
          9.191317292055285,
          5.62353611784074,
          12.598486081073933,
          4.7750794980433335
         ],
         "xaxis": "x",
         "y": [
          2.626863055633062,
          -2.7207836359392905,
          -1.937352927316103,
          -2.698477563032536,
          -1.6969088739155653,
          -3.9587850194960708,
          -0.6354972306662579,
          0.5874198120076729,
          -5.585395120314828,
          -0.016977776821168564,
          2.901631198094353,
          -3.6805566513386143,
          -3.458598867109887,
          -3.0604818467129222,
          -1.4907976162412053,
          -2.0683836833239644,
          -3.389790438448224,
          -2.6209734098368402,
          -1.8113054746277328,
          -0.6403026350737562
         ],
         "yaxis": "y"
        },
        {
         "hovertemplate": "class=(1, 'automobile')<br>x=%{x}<br>y=%{y}<extra></extra>",
         "legendgroup": "(1, 'automobile')",
         "marker": {
          "color": "#EF553B",
          "symbol": "circle"
         },
         "mode": "markers",
         "name": "(1, 'automobile')",
         "orientation": "v",
         "showlegend": true,
         "type": "scatter",
         "x": [
          -11.987272283536186,
          -6.7475679985450165,
          -8.303091800017741,
          -10.171789855356318,
          -9.412132194975241,
          -6.184965124054326,
          -7.157798842375225,
          -8.802063779022797,
          -13.972792756755238,
          -4.329596107571173,
          -9.197799116697368,
          -7.474538423388721,
          -12.998739297299347,
          -10.258906117212192,
          -7.917858876175443,
          -9.719125972187271,
          -11.08685712305582,
          -9.455398199643293,
          -5.718936337503864,
          -8.738025691147282
         ],
         "xaxis": "x",
         "y": [
          -12.475497216897075,
          -10.336040106848346,
          -13.22843156667099,
          -12.225010685777384,
          -14.481467227231377,
          -8.249572763233463,
          -13.1048118879584,
          -13.465254207333558,
          -3.5136665052965363,
          -7.363834537668202,
          -13.173473490649014,
          -12.463158492318183,
          -13.41840035389547,
          -13.213631693713943,
          -10.646910215851763,
          -12.267672262150143,
          -15.133017510563977,
          -12.371458861694444,
          -14.09882833365646,
          -12.18540287146716
         ],
         "yaxis": "y"
        },
        {
         "hovertemplate": "class=(3, 'cat')<br>x=%{x}<br>y=%{y}<extra></extra>",
         "legendgroup": "(3, 'cat')",
         "marker": {
          "color": "#00cc96",
          "symbol": "circle"
         },
         "mode": "markers",
         "name": "(3, 'cat')",
         "orientation": "v",
         "showlegend": true,
         "type": "scatter",
         "x": [
          6.528757165196455,
          -1.5566958948340737,
          0.6126292333834035,
          -1.3141849823827227,
          0.07906805560289251,
          7.2786922467337805,
          3.774316451819295,
          1.2423052419261356,
          2.2980430813410737,
          14.542105185065301,
          3.6770593258047297,
          -1.5349522221993972,
          1.4253863463014516,
          -0.5671231290997498,
          2.7729164517537805,
          6.0259133115275185,
          0.6006143562668628,
          7.479989949450802,
          4.158068428628233,
          2.0539835346463495
         ],
         "xaxis": "x",
         "y": [
          10.372409514402008,
          9.633936605058501,
          8.045772682633542,
          15.714824318007388,
          13.609974091074577,
          10.79314942984388,
          7.416612845884628,
          9.409211980743414,
          7.984395120777427,
          2.645450443280272,
          13.059485864062523,
          8.9695653413228,
          11.335062361085074,
          7.548359475906143,
          10.8223531200206,
          8.71251915654715,
          9.549064017878464,
          6.9209484134960135,
          11.650502417635886,
          14.614079860732831
         ],
         "yaxis": "y"
        },
        {
         "hovertemplate": "class=(6, 'frog')<br>x=%{x}<br>y=%{y}<extra></extra>",
         "legendgroup": "(6, 'frog')",
         "marker": {
          "color": "#ab63fa",
          "symbol": "circle"
         },
         "mode": "markers",
         "name": "(6, 'frog')",
         "orientation": "v",
         "showlegend": true,
         "type": "scatter",
         "x": [
          17.647863696133687,
          17.628177846689585,
          15.529617663293793,
          14.74591463740086,
          16.31158462423453,
          14.440752306206736,
          19.031469516354665,
          14.818739390572386,
          15.433435793834118,
          15.553919275206285,
          14.933109685644867,
          17.825161502492644,
          12.789901482169135,
          15.670711199765531,
          14.816740383355839,
          15.78899709423077,
          9.221734352096341,
          19.43975248843895,
          11.853726283314778,
          13.126372450842869
         ],
         "xaxis": "x",
         "y": [
          -2.5001432791898384,
          -7.122400348580047,
          -3.8306235557096158,
          -7.320135116329589,
          -7.25027692469967,
          -9.283533952337692,
          -4.9496818287686555,
          -7.804601375471798,
          -6.206584745646049,
          -5.025933388607844,
          -5.461834225839862,
          -6.482909310666556,
          -4.33049762582414,
          -6.245330952376655,
          0.7173052837227083,
          -7.12964296394055,
          -5.8834730024812645,
          -6.518755466214285,
          -5.532449117218793,
          -5.869764346347934
         ],
         "yaxis": "y"
        },
        {
         "hovertemplate": "class=(4, 'deer')<br>x=%{x}<br>y=%{y}<extra></extra>",
         "legendgroup": "(4, 'deer')",
         "marker": {
          "color": "#FFA15A",
          "symbol": "circle"
         },
         "mode": "markers",
         "name": "(4, 'deer')",
         "orientation": "v",
         "showlegend": true,
         "type": "scatter",
         "x": [
          4.6727066428534405,
          4.193068387294829,
          5.390135004733428,
          8.312794198057885,
          7.345322507506158,
          4.047844461442538,
          1.2932867718084187,
          5.63873094651576,
          3.265854556871823,
          4.440041965782144,
          3.086678147436156,
          3.5357085748249077,
          3.68705487209342,
          3.9237860429639966,
          7.637038141382061,
          1.7739975015771803,
          5.106891175735731,
          3.8396732796946877,
          0.1743983870144373,
          1.5028175068523832
         ],
         "xaxis": "x",
         "y": [
          -6.742252884082455,
          -2.038258045440036,
          3.338314258968559,
          -5.911121149729869,
          6.843946036342547,
          -6.291051619656611,
          -2.023726014691626,
          -3.408900860004145,
          -1.7415024114768645,
          1.3445882377016907,
          -2.5797866014457362,
          -0.44688905399598844,
          -6.630469590038157,
          0.1303366596513993,
          -3.276039600906982,
          2.022008734901564,
          -0.36317139094015166,
          5.396452931984675,
          -0.3533366187048558,
          3.645366896608399
         ],
         "yaxis": "y"
        },
        {
         "hovertemplate": "class=(0, 'airplane')<br>x=%{x}<br>y=%{y}<extra></extra>",
         "legendgroup": "(0, 'airplane')",
         "marker": {
          "color": "#19d3f3",
          "symbol": "circle"
         },
         "mode": "markers",
         "name": "(0, 'airplane')",
         "orientation": "v",
         "showlegend": true,
         "type": "scatter",
         "x": [
          -2.510150782298862,
          1.9357216488078963,
          -5.954649138179863,
          -2.5004497586752654,
          -0.08354389262136834,
          1.8677255914655475,
          4.918085590694061,
          -5.638489330759577,
          5.092398654025196,
          3.357257960726784,
          7.338606953007733,
          -3.123158568054467,
          3.4569499640180834,
          4.624518656810819,
          1.1853018864092495,
          -4.841822859120693,
          3.7531975827035526,
          6.926743959279879,
          1.6336705702253014,
          4.632625249221221
         ],
         "xaxis": "x",
         "y": [
          0.2115983230876564,
          1.7542742145543537,
          -3.8842129217470163,
          -1.8779795843145028,
          -3.136236212179515,
          -2.5841969503435505,
          -2.7090901107885763,
          9.797855121660763,
          -1.2710882784766389,
          -2.4530938809642495,
          0.5163693059487142,
          -4.938574403376776,
          -1.9880258153295867,
          -1.9638280337167837,
          0.8587695541579101,
          -0.21237061811105298,
          0.09669927097870076,
          3.542621140207688,
          -1.159892621821615,
          -1.2624042933270072
         ],
         "yaxis": "y"
        },
        {
         "hovertemplate": "class=(9, 'truck')<br>x=%{x}<br>y=%{y}<extra></extra>",
         "legendgroup": "(9, 'truck')",
         "marker": {
          "color": "#FF6692",
          "symbol": "circle"
         },
         "mode": "markers",
         "name": "(9, 'truck')",
         "orientation": "v",
         "showlegend": true,
         "type": "scatter",
         "x": [
          -12.479517828225053,
          -14.469949094986841,
          -14.759879641913999,
          -13.114931013777273,
          -12.38528094243467,
          -15.844194486664389,
          -17.669937989008808,
          -15.526100339516674,
          -17.638446579676422,
          -12.751330594999896,
          -15.846188656969979,
          -16.608357094692806,
          -13.325950696401259,
          -15.93884184610321,
          -15.81667222337195,
          -17.62750469866756,
          -15.77484064303525,
          -15.346631955742405,
          -17.60066832369085,
          -16.433422550594454
         ],
         "xaxis": "x",
         "y": [
          -5.183384661183016,
          -5.772122855884053,
          -6.778193810213239,
          -14.297081057379659,
          -6.146954311506632,
          -10.653426890682319,
          -10.310900637237777,
          -7.754753783165088,
          -6.821256653460088,
          -11.649397479049052,
          -5.839185009673701,
          -7.706268448435044,
          -10.533322797624978,
          -6.817372309646954,
          -8.701018760608637,
          -7.514347501221609,
          -9.33756328034289,
          -8.102571721209612,
          -7.886593208595145,
          -9.892567088489022
         ],
         "yaxis": "y"
        },
        {
         "hovertemplate": "class=(7, 'horse')<br>x=%{x}<br>y=%{y}<extra></extra>",
         "legendgroup": "(7, 'horse')",
         "marker": {
          "color": "#B6E880",
          "symbol": "circle"
         },
         "mode": "markers",
         "name": "(7, 'horse')",
         "orientation": "v",
         "showlegend": true,
         "type": "scatter",
         "x": [
          -6.504591722676676,
          -9.179988689025807,
          -8.35378042617733,
          -7.740370480735549,
          -7.9456113457106765,
          -10.236406756949648,
          -9.916263926537697,
          -8.68475480199963,
          -2.153606209286831,
          -5.0936972559033,
          -8.567009917918815,
          -3.836193432513528,
          -6.5573415033453175,
          -9.685382286503469,
          -5.738184481249842,
          -7.149292996420392,
          -11.230990180968911,
          -9.03086271687088,
          -5.17733767947505,
          -7.921103811647456
         ],
         "xaxis": "x",
         "y": [
          12.481300611384816,
          10.844513105659392,
          13.065755295878837,
          12.265478457214863,
          11.819927078034212,
          11.941248435455018,
          10.406339414175743,
          13.715286977581066,
          9.756627850920456,
          12.224857264794299,
          11.393952235063214,
          14.401716820194231,
          12.482064300904657,
          10.348847640580342,
          10.174522632386603,
          14.927527050591415,
          11.725927191612206,
          14.293130478457446,
          10.518386619752434,
          10.799798438822627
         ],
         "yaxis": "y"
        },
        {
         "hovertemplate": "class=(5, 'dog')<br>x=%{x}<br>y=%{y}<extra></extra>",
         "legendgroup": "(5, 'dog')",
         "marker": {
          "color": "#FF97FF",
          "symbol": "circle"
         },
         "mode": "markers",
         "name": "(5, 'dog')",
         "orientation": "v",
         "showlegend": true,
         "type": "scatter",
         "x": [
          -5.45409425988907,
          -1.620819673003634,
          -2.2501123451957326,
          -1.9487818747706669,
          -1.3915676874018914,
          -2.1227162821660874,
          5.016923171050978,
          -8.436475278773841,
          -5.070367135559711,
          -3.3816571229438788,
          -4.085414152848384,
          -2.5750155102792918,
          -2.214611909036725,
          -3.6306112459471116,
          -3.4524171458046635,
          -5.669477023828306,
          -2.9485687482822547,
          -4.771152635357497,
          -4.209298246146387,
          -1.014268039586383
         ],
         "xaxis": "x",
         "y": [
          14.67193878231723,
          14.140482081418355,
          15.384676522844323,
          12.42472887416812,
          8.703554768892639,
          14.606998633085706,
          11.32485051559149,
          14.535342262978777,
          16.66745625720017,
          9.533821457717842,
          12.486825642684654,
          12.967979884988631,
          13.216695420594677,
          14.837132526623215,
          12.705124593015828,
          14.466023889756018,
          14.638632824755673,
          15.577827729245499,
          16.243165663132157,
          12.016787336188182
         ],
         "yaxis": "y"
        },
        {
         "hovertemplate": "class=(8, 'ship')<br>x=%{x}<br>y=%{y}<extra></extra>",
         "legendgroup": "(8, 'ship')",
         "marker": {
          "color": "#FECB52",
          "symbol": "circle"
         },
         "mode": "markers",
         "name": "(8, 'ship')",
         "orientation": "v",
         "showlegend": true,
         "type": "scatter",
         "x": [
          -1.5040737423426103,
          0.9030756150114955,
          -0.6787892638372693,
          3.507841717685691,
          3.9248762775513892,
          5.292799224330059,
          -3.665253474585245,
          2.2073651022785534,
          2.8333063232491065,
          -1.1190771364216274,
          1.7354691507930704,
          -0.5489925401736266,
          3.0537718452521085,
          3.9347186750805654,
          2.6494762607678286,
          5.478665827596268,
          1.601969616791504,
          -0.1400417503062271,
          3.6447213494085884,
          -0.1515453490276022
         ],
         "xaxis": "x",
         "y": [
          -5.318511523016463,
          -6.366631108689967,
          -8.276620260818035,
          -5.731701570082065,
          -6.003052717026214,
          -6.305041077542363,
          -3.0362096556998552,
          -8.076814612048652,
          -5.409686378875654,
          -6.188276497799724,
          -5.58764737657911,
          -8.049828197038655,
          -6.087958076515855,
          -5.385572466090906,
          -7.548956670499251,
          -5.535110798245479,
          -5.710143912461752,
          -6.881931870630802,
          -5.441537896068723,
          -6.354855078978582
         ],
         "yaxis": "y"
        }
       ],
       "layout": {
        "legend": {
         "title": {
          "text": "class"
         },
         "tracegroupgap": 0
        },
        "template": {
         "data": {
          "bar": [
           {
            "error_x": {
             "color": "#2a3f5f"
            },
            "error_y": {
             "color": "#2a3f5f"
            },
            "marker": {
             "line": {
              "color": "#E5ECF6",
              "width": 0.5
             },
             "pattern": {
              "fillmode": "overlay",
              "size": 10,
              "solidity": 0.2
             }
            },
            "type": "bar"
           }
          ],
          "barpolar": [
           {
            "marker": {
             "line": {
              "color": "#E5ECF6",
              "width": 0.5
             },
             "pattern": {
              "fillmode": "overlay",
              "size": 10,
              "solidity": 0.2
             }
            },
            "type": "barpolar"
           }
          ],
          "carpet": [
           {
            "aaxis": {
             "endlinecolor": "#2a3f5f",
             "gridcolor": "white",
             "linecolor": "white",
             "minorgridcolor": "white",
             "startlinecolor": "#2a3f5f"
            },
            "baxis": {
             "endlinecolor": "#2a3f5f",
             "gridcolor": "white",
             "linecolor": "white",
             "minorgridcolor": "white",
             "startlinecolor": "#2a3f5f"
            },
            "type": "carpet"
           }
          ],
          "choropleth": [
           {
            "colorbar": {
             "outlinewidth": 0,
             "ticks": ""
            },
            "type": "choropleth"
           }
          ],
          "contour": [
           {
            "colorbar": {
             "outlinewidth": 0,
             "ticks": ""
            },
            "colorscale": [
             [
              0,
              "#0d0887"
             ],
             [
              0.1111111111111111,
              "#46039f"
             ],
             [
              0.2222222222222222,
              "#7201a8"
             ],
             [
              0.3333333333333333,
              "#9c179e"
             ],
             [
              0.4444444444444444,
              "#bd3786"
             ],
             [
              0.5555555555555556,
              "#d8576b"
             ],
             [
              0.6666666666666666,
              "#ed7953"
             ],
             [
              0.7777777777777778,
              "#fb9f3a"
             ],
             [
              0.8888888888888888,
              "#fdca26"
             ],
             [
              1,
              "#f0f921"
             ]
            ],
            "type": "contour"
           }
          ],
          "contourcarpet": [
           {
            "colorbar": {
             "outlinewidth": 0,
             "ticks": ""
            },
            "type": "contourcarpet"
           }
          ],
          "heatmap": [
           {
            "colorbar": {
             "outlinewidth": 0,
             "ticks": ""
            },
            "colorscale": [
             [
              0,
              "#0d0887"
             ],
             [
              0.1111111111111111,
              "#46039f"
             ],
             [
              0.2222222222222222,
              "#7201a8"
             ],
             [
              0.3333333333333333,
              "#9c179e"
             ],
             [
              0.4444444444444444,
              "#bd3786"
             ],
             [
              0.5555555555555556,
              "#d8576b"
             ],
             [
              0.6666666666666666,
              "#ed7953"
             ],
             [
              0.7777777777777778,
              "#fb9f3a"
             ],
             [
              0.8888888888888888,
              "#fdca26"
             ],
             [
              1,
              "#f0f921"
             ]
            ],
            "type": "heatmap"
           }
          ],
          "heatmapgl": [
           {
            "colorbar": {
             "outlinewidth": 0,
             "ticks": ""
            },
            "colorscale": [
             [
              0,
              "#0d0887"
             ],
             [
              0.1111111111111111,
              "#46039f"
             ],
             [
              0.2222222222222222,
              "#7201a8"
             ],
             [
              0.3333333333333333,
              "#9c179e"
             ],
             [
              0.4444444444444444,
              "#bd3786"
             ],
             [
              0.5555555555555556,
              "#d8576b"
             ],
             [
              0.6666666666666666,
              "#ed7953"
             ],
             [
              0.7777777777777778,
              "#fb9f3a"
             ],
             [
              0.8888888888888888,
              "#fdca26"
             ],
             [
              1,
              "#f0f921"
             ]
            ],
            "type": "heatmapgl"
           }
          ],
          "histogram": [
           {
            "marker": {
             "pattern": {
              "fillmode": "overlay",
              "size": 10,
              "solidity": 0.2
             }
            },
            "type": "histogram"
           }
          ],
          "histogram2d": [
           {
            "colorbar": {
             "outlinewidth": 0,
             "ticks": ""
            },
            "colorscale": [
             [
              0,
              "#0d0887"
             ],
             [
              0.1111111111111111,
              "#46039f"
             ],
             [
              0.2222222222222222,
              "#7201a8"
             ],
             [
              0.3333333333333333,
              "#9c179e"
             ],
             [
              0.4444444444444444,
              "#bd3786"
             ],
             [
              0.5555555555555556,
              "#d8576b"
             ],
             [
              0.6666666666666666,
              "#ed7953"
             ],
             [
              0.7777777777777778,
              "#fb9f3a"
             ],
             [
              0.8888888888888888,
              "#fdca26"
             ],
             [
              1,
              "#f0f921"
             ]
            ],
            "type": "histogram2d"
           }
          ],
          "histogram2dcontour": [
           {
            "colorbar": {
             "outlinewidth": 0,
             "ticks": ""
            },
            "colorscale": [
             [
              0,
              "#0d0887"
             ],
             [
              0.1111111111111111,
              "#46039f"
             ],
             [
              0.2222222222222222,
              "#7201a8"
             ],
             [
              0.3333333333333333,
              "#9c179e"
             ],
             [
              0.4444444444444444,
              "#bd3786"
             ],
             [
              0.5555555555555556,
              "#d8576b"
             ],
             [
              0.6666666666666666,
              "#ed7953"
             ],
             [
              0.7777777777777778,
              "#fb9f3a"
             ],
             [
              0.8888888888888888,
              "#fdca26"
             ],
             [
              1,
              "#f0f921"
             ]
            ],
            "type": "histogram2dcontour"
           }
          ],
          "mesh3d": [
           {
            "colorbar": {
             "outlinewidth": 0,
             "ticks": ""
            },
            "type": "mesh3d"
           }
          ],
          "parcoords": [
           {
            "line": {
             "colorbar": {
              "outlinewidth": 0,
              "ticks": ""
             }
            },
            "type": "parcoords"
           }
          ],
          "pie": [
           {
            "automargin": true,
            "type": "pie"
           }
          ],
          "scatter": [
           {
            "marker": {
             "colorbar": {
              "outlinewidth": 0,
              "ticks": ""
             }
            },
            "type": "scatter"
           }
          ],
          "scatter3d": [
           {
            "line": {
             "colorbar": {
              "outlinewidth": 0,
              "ticks": ""
             }
            },
            "marker": {
             "colorbar": {
              "outlinewidth": 0,
              "ticks": ""
             }
            },
            "type": "scatter3d"
           }
          ],
          "scattercarpet": [
           {
            "marker": {
             "colorbar": {
              "outlinewidth": 0,
              "ticks": ""
             }
            },
            "type": "scattercarpet"
           }
          ],
          "scattergeo": [
           {
            "marker": {
             "colorbar": {
              "outlinewidth": 0,
              "ticks": ""
             }
            },
            "type": "scattergeo"
           }
          ],
          "scattergl": [
           {
            "marker": {
             "colorbar": {
              "outlinewidth": 0,
              "ticks": ""
             }
            },
            "type": "scattergl"
           }
          ],
          "scattermapbox": [
           {
            "marker": {
             "colorbar": {
              "outlinewidth": 0,
              "ticks": ""
             }
            },
            "type": "scattermapbox"
           }
          ],
          "scatterpolar": [
           {
            "marker": {
             "colorbar": {
              "outlinewidth": 0,
              "ticks": ""
             }
            },
            "type": "scatterpolar"
           }
          ],
          "scatterpolargl": [
           {
            "marker": {
             "colorbar": {
              "outlinewidth": 0,
              "ticks": ""
             }
            },
            "type": "scatterpolargl"
           }
          ],
          "scatterternary": [
           {
            "marker": {
             "colorbar": {
              "outlinewidth": 0,
              "ticks": ""
             }
            },
            "type": "scatterternary"
           }
          ],
          "surface": [
           {
            "colorbar": {
             "outlinewidth": 0,
             "ticks": ""
            },
            "colorscale": [
             [
              0,
              "#0d0887"
             ],
             [
              0.1111111111111111,
              "#46039f"
             ],
             [
              0.2222222222222222,
              "#7201a8"
             ],
             [
              0.3333333333333333,
              "#9c179e"
             ],
             [
              0.4444444444444444,
              "#bd3786"
             ],
             [
              0.5555555555555556,
              "#d8576b"
             ],
             [
              0.6666666666666666,
              "#ed7953"
             ],
             [
              0.7777777777777778,
              "#fb9f3a"
             ],
             [
              0.8888888888888888,
              "#fdca26"
             ],
             [
              1,
              "#f0f921"
             ]
            ],
            "type": "surface"
           }
          ],
          "table": [
           {
            "cells": {
             "fill": {
              "color": "#EBF0F8"
             },
             "line": {
              "color": "white"
             }
            },
            "header": {
             "fill": {
              "color": "#C8D4E3"
             },
             "line": {
              "color": "white"
             }
            },
            "type": "table"
           }
          ]
         },
         "layout": {
          "annotationdefaults": {
           "arrowcolor": "#2a3f5f",
           "arrowhead": 0,
           "arrowwidth": 1
          },
          "autotypenumbers": "strict",
          "coloraxis": {
           "colorbar": {
            "outlinewidth": 0,
            "ticks": ""
           }
          },
          "colorscale": {
           "diverging": [
            [
             0,
             "#8e0152"
            ],
            [
             0.1,
             "#c51b7d"
            ],
            [
             0.2,
             "#de77ae"
            ],
            [
             0.3,
             "#f1b6da"
            ],
            [
             0.4,
             "#fde0ef"
            ],
            [
             0.5,
             "#f7f7f7"
            ],
            [
             0.6,
             "#e6f5d0"
            ],
            [
             0.7,
             "#b8e186"
            ],
            [
             0.8,
             "#7fbc41"
            ],
            [
             0.9,
             "#4d9221"
            ],
            [
             1,
             "#276419"
            ]
           ],
           "sequential": [
            [
             0,
             "#0d0887"
            ],
            [
             0.1111111111111111,
             "#46039f"
            ],
            [
             0.2222222222222222,
             "#7201a8"
            ],
            [
             0.3333333333333333,
             "#9c179e"
            ],
            [
             0.4444444444444444,
             "#bd3786"
            ],
            [
             0.5555555555555556,
             "#d8576b"
            ],
            [
             0.6666666666666666,
             "#ed7953"
            ],
            [
             0.7777777777777778,
             "#fb9f3a"
            ],
            [
             0.8888888888888888,
             "#fdca26"
            ],
            [
             1,
             "#f0f921"
            ]
           ],
           "sequentialminus": [
            [
             0,
             "#0d0887"
            ],
            [
             0.1111111111111111,
             "#46039f"
            ],
            [
             0.2222222222222222,
             "#7201a8"
            ],
            [
             0.3333333333333333,
             "#9c179e"
            ],
            [
             0.4444444444444444,
             "#bd3786"
            ],
            [
             0.5555555555555556,
             "#d8576b"
            ],
            [
             0.6666666666666666,
             "#ed7953"
            ],
            [
             0.7777777777777778,
             "#fb9f3a"
            ],
            [
             0.8888888888888888,
             "#fdca26"
            ],
            [
             1,
             "#f0f921"
            ]
           ]
          },
          "colorway": [
           "#636efa",
           "#EF553B",
           "#00cc96",
           "#ab63fa",
           "#FFA15A",
           "#19d3f3",
           "#FF6692",
           "#B6E880",
           "#FF97FF",
           "#FECB52"
          ],
          "font": {
           "color": "#2a3f5f"
          },
          "geo": {
           "bgcolor": "white",
           "lakecolor": "white",
           "landcolor": "#E5ECF6",
           "showlakes": true,
           "showland": true,
           "subunitcolor": "white"
          },
          "hoverlabel": {
           "align": "left"
          },
          "hovermode": "closest",
          "mapbox": {
           "style": "light"
          },
          "paper_bgcolor": "white",
          "plot_bgcolor": "#E5ECF6",
          "polar": {
           "angularaxis": {
            "gridcolor": "white",
            "linecolor": "white",
            "ticks": ""
           },
           "bgcolor": "#E5ECF6",
           "radialaxis": {
            "gridcolor": "white",
            "linecolor": "white",
            "ticks": ""
           }
          },
          "scene": {
           "xaxis": {
            "backgroundcolor": "#E5ECF6",
            "gridcolor": "white",
            "gridwidth": 2,
            "linecolor": "white",
            "showbackground": true,
            "ticks": "",
            "zerolinecolor": "white"
           },
           "yaxis": {
            "backgroundcolor": "#E5ECF6",
            "gridcolor": "white",
            "gridwidth": 2,
            "linecolor": "white",
            "showbackground": true,
            "ticks": "",
            "zerolinecolor": "white"
           },
           "zaxis": {
            "backgroundcolor": "#E5ECF6",
            "gridcolor": "white",
            "gridwidth": 2,
            "linecolor": "white",
            "showbackground": true,
            "ticks": "",
            "zerolinecolor": "white"
           }
          },
          "shapedefaults": {
           "line": {
            "color": "#2a3f5f"
           }
          },
          "ternary": {
           "aaxis": {
            "gridcolor": "white",
            "linecolor": "white",
            "ticks": ""
           },
           "baxis": {
            "gridcolor": "white",
            "linecolor": "white",
            "ticks": ""
           },
           "bgcolor": "#E5ECF6",
           "caxis": {
            "gridcolor": "white",
            "linecolor": "white",
            "ticks": ""
           }
          },
          "title": {
           "x": 0.05
          },
          "xaxis": {
           "automargin": true,
           "gridcolor": "white",
           "linecolor": "white",
           "ticks": "",
           "title": {
            "standoff": 15
           },
           "zerolinecolor": "white",
           "zerolinewidth": 2
          },
          "yaxis": {
           "automargin": true,
           "gridcolor": "white",
           "linecolor": "white",
           "ticks": "",
           "title": {
            "standoff": 15
           },
           "zerolinecolor": "white",
           "zerolinewidth": 2
          }
         }
        },
        "title": {
         "text": "ImageNet pretrained ViT CIFAR9 PCA"
        },
        "xaxis": {
         "anchor": "y",
         "domain": [
          0,
          1
         ],
         "title": {
          "text": "x"
         }
        },
        "yaxis": {
         "anchor": "x",
         "domain": [
          0,
          1
         ],
         "title": {
          "text": "y"
         }
        }
       }
      },
      "text/html": [
       "<div>                            <div id=\"497420cf-19e3-45f4-ab4a-04be7f04cb51\" class=\"plotly-graph-div\" style=\"height:525px; width:100%;\"></div>            <script type=\"text/javascript\">                require([\"plotly\"], function(Plotly) {                    window.PLOTLYENV=window.PLOTLYENV || {};                                    if (document.getElementById(\"497420cf-19e3-45f4-ab4a-04be7f04cb51\")) {                    Plotly.newPlot(                        \"497420cf-19e3-45f4-ab4a-04be7f04cb51\",                        [{\"hovertemplate\":\"class=(2, 'bird')<br>x=%{x}<br>y=%{y}<extra></extra>\",\"legendgroup\":\"(2, 'bird')\",\"marker\":{\"color\":\"#636efa\",\"symbol\":\"circle\"},\"mode\":\"markers\",\"name\":\"(2, 'bird')\",\"orientation\":\"v\",\"showlegend\":true,\"type\":\"scatter\",\"x\":[9.177205631085476,8.842180071003312,10.350729110775342,9.386413854916206,4.773620951379324,16.50813535035161,6.385660445729059,11.153619221442437,13.949385810998152,5.727849321759162,7.386358062969635,9.319022664654524,13.182212829109215,14.524781795176404,7.779580900341927,9.808775305536825,9.191317292055285,5.62353611784074,12.598486081073933,4.7750794980433335],\"xaxis\":\"x\",\"y\":[2.626863055633062,-2.7207836359392905,-1.937352927316103,-2.698477563032536,-1.6969088739155653,-3.9587850194960708,-0.6354972306662579,0.5874198120076729,-5.585395120314828,-0.016977776821168564,2.901631198094353,-3.6805566513386143,-3.458598867109887,-3.0604818467129222,-1.4907976162412053,-2.0683836833239644,-3.389790438448224,-2.6209734098368402,-1.8113054746277328,-0.6403026350737562],\"yaxis\":\"y\"},{\"hovertemplate\":\"class=(1, 'automobile')<br>x=%{x}<br>y=%{y}<extra></extra>\",\"legendgroup\":\"(1, 'automobile')\",\"marker\":{\"color\":\"#EF553B\",\"symbol\":\"circle\"},\"mode\":\"markers\",\"name\":\"(1, 'automobile')\",\"orientation\":\"v\",\"showlegend\":true,\"type\":\"scatter\",\"x\":[-11.987272283536186,-6.7475679985450165,-8.303091800017741,-10.171789855356318,-9.412132194975241,-6.184965124054326,-7.157798842375225,-8.802063779022797,-13.972792756755238,-4.329596107571173,-9.197799116697368,-7.474538423388721,-12.998739297299347,-10.258906117212192,-7.917858876175443,-9.719125972187271,-11.08685712305582,-9.455398199643293,-5.718936337503864,-8.738025691147282],\"xaxis\":\"x\",\"y\":[-12.475497216897075,-10.336040106848346,-13.22843156667099,-12.225010685777384,-14.481467227231377,-8.249572763233463,-13.1048118879584,-13.465254207333558,-3.5136665052965363,-7.363834537668202,-13.173473490649014,-12.463158492318183,-13.41840035389547,-13.213631693713943,-10.646910215851763,-12.267672262150143,-15.133017510563977,-12.371458861694444,-14.09882833365646,-12.18540287146716],\"yaxis\":\"y\"},{\"hovertemplate\":\"class=(3, 'cat')<br>x=%{x}<br>y=%{y}<extra></extra>\",\"legendgroup\":\"(3, 'cat')\",\"marker\":{\"color\":\"#00cc96\",\"symbol\":\"circle\"},\"mode\":\"markers\",\"name\":\"(3, 'cat')\",\"orientation\":\"v\",\"showlegend\":true,\"type\":\"scatter\",\"x\":[6.528757165196455,-1.5566958948340737,0.6126292333834035,-1.3141849823827227,0.07906805560289251,7.2786922467337805,3.774316451819295,1.2423052419261356,2.2980430813410737,14.542105185065301,3.6770593258047297,-1.5349522221993972,1.4253863463014516,-0.5671231290997498,2.7729164517537805,6.0259133115275185,0.6006143562668628,7.479989949450802,4.158068428628233,2.0539835346463495],\"xaxis\":\"x\",\"y\":[10.372409514402008,9.633936605058501,8.045772682633542,15.714824318007388,13.609974091074577,10.79314942984388,7.416612845884628,9.409211980743414,7.984395120777427,2.645450443280272,13.059485864062523,8.9695653413228,11.335062361085074,7.548359475906143,10.8223531200206,8.71251915654715,9.549064017878464,6.9209484134960135,11.650502417635886,14.614079860732831],\"yaxis\":\"y\"},{\"hovertemplate\":\"class=(6, 'frog')<br>x=%{x}<br>y=%{y}<extra></extra>\",\"legendgroup\":\"(6, 'frog')\",\"marker\":{\"color\":\"#ab63fa\",\"symbol\":\"circle\"},\"mode\":\"markers\",\"name\":\"(6, 'frog')\",\"orientation\":\"v\",\"showlegend\":true,\"type\":\"scatter\",\"x\":[17.647863696133687,17.628177846689585,15.529617663293793,14.74591463740086,16.31158462423453,14.440752306206736,19.031469516354665,14.818739390572386,15.433435793834118,15.553919275206285,14.933109685644867,17.825161502492644,12.789901482169135,15.670711199765531,14.816740383355839,15.78899709423077,9.221734352096341,19.43975248843895,11.853726283314778,13.126372450842869],\"xaxis\":\"x\",\"y\":[-2.5001432791898384,-7.122400348580047,-3.8306235557096158,-7.320135116329589,-7.25027692469967,-9.283533952337692,-4.9496818287686555,-7.804601375471798,-6.206584745646049,-5.025933388607844,-5.461834225839862,-6.482909310666556,-4.33049762582414,-6.245330952376655,0.7173052837227083,-7.12964296394055,-5.8834730024812645,-6.518755466214285,-5.532449117218793,-5.869764346347934],\"yaxis\":\"y\"},{\"hovertemplate\":\"class=(4, 'deer')<br>x=%{x}<br>y=%{y}<extra></extra>\",\"legendgroup\":\"(4, 'deer')\",\"marker\":{\"color\":\"#FFA15A\",\"symbol\":\"circle\"},\"mode\":\"markers\",\"name\":\"(4, 'deer')\",\"orientation\":\"v\",\"showlegend\":true,\"type\":\"scatter\",\"x\":[4.6727066428534405,4.193068387294829,5.390135004733428,8.312794198057885,7.345322507506158,4.047844461442538,1.2932867718084187,5.63873094651576,3.265854556871823,4.440041965782144,3.086678147436156,3.5357085748249077,3.68705487209342,3.9237860429639966,7.637038141382061,1.7739975015771803,5.106891175735731,3.8396732796946877,0.1743983870144373,1.5028175068523832],\"xaxis\":\"x\",\"y\":[-6.742252884082455,-2.038258045440036,3.338314258968559,-5.911121149729869,6.843946036342547,-6.291051619656611,-2.023726014691626,-3.408900860004145,-1.7415024114768645,1.3445882377016907,-2.5797866014457362,-0.44688905399598844,-6.630469590038157,0.1303366596513993,-3.276039600906982,2.022008734901564,-0.36317139094015166,5.396452931984675,-0.3533366187048558,3.645366896608399],\"yaxis\":\"y\"},{\"hovertemplate\":\"class=(0, 'airplane')<br>x=%{x}<br>y=%{y}<extra></extra>\",\"legendgroup\":\"(0, 'airplane')\",\"marker\":{\"color\":\"#19d3f3\",\"symbol\":\"circle\"},\"mode\":\"markers\",\"name\":\"(0, 'airplane')\",\"orientation\":\"v\",\"showlegend\":true,\"type\":\"scatter\",\"x\":[-2.510150782298862,1.9357216488078963,-5.954649138179863,-2.5004497586752654,-0.08354389262136834,1.8677255914655475,4.918085590694061,-5.638489330759577,5.092398654025196,3.357257960726784,7.338606953007733,-3.123158568054467,3.4569499640180834,4.624518656810819,1.1853018864092495,-4.841822859120693,3.7531975827035526,6.926743959279879,1.6336705702253014,4.632625249221221],\"xaxis\":\"x\",\"y\":[0.2115983230876564,1.7542742145543537,-3.8842129217470163,-1.8779795843145028,-3.136236212179515,-2.5841969503435505,-2.7090901107885763,9.797855121660763,-1.2710882784766389,-2.4530938809642495,0.5163693059487142,-4.938574403376776,-1.9880258153295867,-1.9638280337167837,0.8587695541579101,-0.21237061811105298,0.09669927097870076,3.542621140207688,-1.159892621821615,-1.2624042933270072],\"yaxis\":\"y\"},{\"hovertemplate\":\"class=(9, 'truck')<br>x=%{x}<br>y=%{y}<extra></extra>\",\"legendgroup\":\"(9, 'truck')\",\"marker\":{\"color\":\"#FF6692\",\"symbol\":\"circle\"},\"mode\":\"markers\",\"name\":\"(9, 'truck')\",\"orientation\":\"v\",\"showlegend\":true,\"type\":\"scatter\",\"x\":[-12.479517828225053,-14.469949094986841,-14.759879641913999,-13.114931013777273,-12.38528094243467,-15.844194486664389,-17.669937989008808,-15.526100339516674,-17.638446579676422,-12.751330594999896,-15.846188656969979,-16.608357094692806,-13.325950696401259,-15.93884184610321,-15.81667222337195,-17.62750469866756,-15.77484064303525,-15.346631955742405,-17.60066832369085,-16.433422550594454],\"xaxis\":\"x\",\"y\":[-5.183384661183016,-5.772122855884053,-6.778193810213239,-14.297081057379659,-6.146954311506632,-10.653426890682319,-10.310900637237777,-7.754753783165088,-6.821256653460088,-11.649397479049052,-5.839185009673701,-7.706268448435044,-10.533322797624978,-6.817372309646954,-8.701018760608637,-7.514347501221609,-9.33756328034289,-8.102571721209612,-7.886593208595145,-9.892567088489022],\"yaxis\":\"y\"},{\"hovertemplate\":\"class=(7, 'horse')<br>x=%{x}<br>y=%{y}<extra></extra>\",\"legendgroup\":\"(7, 'horse')\",\"marker\":{\"color\":\"#B6E880\",\"symbol\":\"circle\"},\"mode\":\"markers\",\"name\":\"(7, 'horse')\",\"orientation\":\"v\",\"showlegend\":true,\"type\":\"scatter\",\"x\":[-6.504591722676676,-9.179988689025807,-8.35378042617733,-7.740370480735549,-7.9456113457106765,-10.236406756949648,-9.916263926537697,-8.68475480199963,-2.153606209286831,-5.0936972559033,-8.567009917918815,-3.836193432513528,-6.5573415033453175,-9.685382286503469,-5.738184481249842,-7.149292996420392,-11.230990180968911,-9.03086271687088,-5.17733767947505,-7.921103811647456],\"xaxis\":\"x\",\"y\":[12.481300611384816,10.844513105659392,13.065755295878837,12.265478457214863,11.819927078034212,11.941248435455018,10.406339414175743,13.715286977581066,9.756627850920456,12.224857264794299,11.393952235063214,14.401716820194231,12.482064300904657,10.348847640580342,10.174522632386603,14.927527050591415,11.725927191612206,14.293130478457446,10.518386619752434,10.799798438822627],\"yaxis\":\"y\"},{\"hovertemplate\":\"class=(5, 'dog')<br>x=%{x}<br>y=%{y}<extra></extra>\",\"legendgroup\":\"(5, 'dog')\",\"marker\":{\"color\":\"#FF97FF\",\"symbol\":\"circle\"},\"mode\":\"markers\",\"name\":\"(5, 'dog')\",\"orientation\":\"v\",\"showlegend\":true,\"type\":\"scatter\",\"x\":[-5.45409425988907,-1.620819673003634,-2.2501123451957326,-1.9487818747706669,-1.3915676874018914,-2.1227162821660874,5.016923171050978,-8.436475278773841,-5.070367135559711,-3.3816571229438788,-4.085414152848384,-2.5750155102792918,-2.214611909036725,-3.6306112459471116,-3.4524171458046635,-5.669477023828306,-2.9485687482822547,-4.771152635357497,-4.209298246146387,-1.014268039586383],\"xaxis\":\"x\",\"y\":[14.67193878231723,14.140482081418355,15.384676522844323,12.42472887416812,8.703554768892639,14.606998633085706,11.32485051559149,14.535342262978777,16.66745625720017,9.533821457717842,12.486825642684654,12.967979884988631,13.216695420594677,14.837132526623215,12.705124593015828,14.466023889756018,14.638632824755673,15.577827729245499,16.243165663132157,12.016787336188182],\"yaxis\":\"y\"},{\"hovertemplate\":\"class=(8, 'ship')<br>x=%{x}<br>y=%{y}<extra></extra>\",\"legendgroup\":\"(8, 'ship')\",\"marker\":{\"color\":\"#FECB52\",\"symbol\":\"circle\"},\"mode\":\"markers\",\"name\":\"(8, 'ship')\",\"orientation\":\"v\",\"showlegend\":true,\"type\":\"scatter\",\"x\":[-1.5040737423426103,0.9030756150114955,-0.6787892638372693,3.507841717685691,3.9248762775513892,5.292799224330059,-3.665253474585245,2.2073651022785534,2.8333063232491065,-1.1190771364216274,1.7354691507930704,-0.5489925401736266,3.0537718452521085,3.9347186750805654,2.6494762607678286,5.478665827596268,1.601969616791504,-0.1400417503062271,3.6447213494085884,-0.1515453490276022],\"xaxis\":\"x\",\"y\":[-5.318511523016463,-6.366631108689967,-8.276620260818035,-5.731701570082065,-6.003052717026214,-6.305041077542363,-3.0362096556998552,-8.076814612048652,-5.409686378875654,-6.188276497799724,-5.58764737657911,-8.049828197038655,-6.087958076515855,-5.385572466090906,-7.548956670499251,-5.535110798245479,-5.710143912461752,-6.881931870630802,-5.441537896068723,-6.354855078978582],\"yaxis\":\"y\"}],                        {\"legend\":{\"title\":{\"text\":\"class\"},\"tracegroupgap\":0},\"template\":{\"data\":{\"bar\":[{\"error_x\":{\"color\":\"#2a3f5f\"},\"error_y\":{\"color\":\"#2a3f5f\"},\"marker\":{\"line\":{\"color\":\"#E5ECF6\",\"width\":0.5},\"pattern\":{\"fillmode\":\"overlay\",\"size\":10,\"solidity\":0.2}},\"type\":\"bar\"}],\"barpolar\":[{\"marker\":{\"line\":{\"color\":\"#E5ECF6\",\"width\":0.5},\"pattern\":{\"fillmode\":\"overlay\",\"size\":10,\"solidity\":0.2}},\"type\":\"barpolar\"}],\"carpet\":[{\"aaxis\":{\"endlinecolor\":\"#2a3f5f\",\"gridcolor\":\"white\",\"linecolor\":\"white\",\"minorgridcolor\":\"white\",\"startlinecolor\":\"#2a3f5f\"},\"baxis\":{\"endlinecolor\":\"#2a3f5f\",\"gridcolor\":\"white\",\"linecolor\":\"white\",\"minorgridcolor\":\"white\",\"startlinecolor\":\"#2a3f5f\"},\"type\":\"carpet\"}],\"choropleth\":[{\"colorbar\":{\"outlinewidth\":0,\"ticks\":\"\"},\"type\":\"choropleth\"}],\"contour\":[{\"colorbar\":{\"outlinewidth\":0,\"ticks\":\"\"},\"colorscale\":[[0.0,\"#0d0887\"],[0.1111111111111111,\"#46039f\"],[0.2222222222222222,\"#7201a8\"],[0.3333333333333333,\"#9c179e\"],[0.4444444444444444,\"#bd3786\"],[0.5555555555555556,\"#d8576b\"],[0.6666666666666666,\"#ed7953\"],[0.7777777777777778,\"#fb9f3a\"],[0.8888888888888888,\"#fdca26\"],[1.0,\"#f0f921\"]],\"type\":\"contour\"}],\"contourcarpet\":[{\"colorbar\":{\"outlinewidth\":0,\"ticks\":\"\"},\"type\":\"contourcarpet\"}],\"heatmap\":[{\"colorbar\":{\"outlinewidth\":0,\"ticks\":\"\"},\"colorscale\":[[0.0,\"#0d0887\"],[0.1111111111111111,\"#46039f\"],[0.2222222222222222,\"#7201a8\"],[0.3333333333333333,\"#9c179e\"],[0.4444444444444444,\"#bd3786\"],[0.5555555555555556,\"#d8576b\"],[0.6666666666666666,\"#ed7953\"],[0.7777777777777778,\"#fb9f3a\"],[0.8888888888888888,\"#fdca26\"],[1.0,\"#f0f921\"]],\"type\":\"heatmap\"}],\"heatmapgl\":[{\"colorbar\":{\"outlinewidth\":0,\"ticks\":\"\"},\"colorscale\":[[0.0,\"#0d0887\"],[0.1111111111111111,\"#46039f\"],[0.2222222222222222,\"#7201a8\"],[0.3333333333333333,\"#9c179e\"],[0.4444444444444444,\"#bd3786\"],[0.5555555555555556,\"#d8576b\"],[0.6666666666666666,\"#ed7953\"],[0.7777777777777778,\"#fb9f3a\"],[0.8888888888888888,\"#fdca26\"],[1.0,\"#f0f921\"]],\"type\":\"heatmapgl\"}],\"histogram\":[{\"marker\":{\"pattern\":{\"fillmode\":\"overlay\",\"size\":10,\"solidity\":0.2}},\"type\":\"histogram\"}],\"histogram2d\":[{\"colorbar\":{\"outlinewidth\":0,\"ticks\":\"\"},\"colorscale\":[[0.0,\"#0d0887\"],[0.1111111111111111,\"#46039f\"],[0.2222222222222222,\"#7201a8\"],[0.3333333333333333,\"#9c179e\"],[0.4444444444444444,\"#bd3786\"],[0.5555555555555556,\"#d8576b\"],[0.6666666666666666,\"#ed7953\"],[0.7777777777777778,\"#fb9f3a\"],[0.8888888888888888,\"#fdca26\"],[1.0,\"#f0f921\"]],\"type\":\"histogram2d\"}],\"histogram2dcontour\":[{\"colorbar\":{\"outlinewidth\":0,\"ticks\":\"\"},\"colorscale\":[[0.0,\"#0d0887\"],[0.1111111111111111,\"#46039f\"],[0.2222222222222222,\"#7201a8\"],[0.3333333333333333,\"#9c179e\"],[0.4444444444444444,\"#bd3786\"],[0.5555555555555556,\"#d8576b\"],[0.6666666666666666,\"#ed7953\"],[0.7777777777777778,\"#fb9f3a\"],[0.8888888888888888,\"#fdca26\"],[1.0,\"#f0f921\"]],\"type\":\"histogram2dcontour\"}],\"mesh3d\":[{\"colorbar\":{\"outlinewidth\":0,\"ticks\":\"\"},\"type\":\"mesh3d\"}],\"parcoords\":[{\"line\":{\"colorbar\":{\"outlinewidth\":0,\"ticks\":\"\"}},\"type\":\"parcoords\"}],\"pie\":[{\"automargin\":true,\"type\":\"pie\"}],\"scatter\":[{\"marker\":{\"colorbar\":{\"outlinewidth\":0,\"ticks\":\"\"}},\"type\":\"scatter\"}],\"scatter3d\":[{\"line\":{\"colorbar\":{\"outlinewidth\":0,\"ticks\":\"\"}},\"marker\":{\"colorbar\":{\"outlinewidth\":0,\"ticks\":\"\"}},\"type\":\"scatter3d\"}],\"scattercarpet\":[{\"marker\":{\"colorbar\":{\"outlinewidth\":0,\"ticks\":\"\"}},\"type\":\"scattercarpet\"}],\"scattergeo\":[{\"marker\":{\"colorbar\":{\"outlinewidth\":0,\"ticks\":\"\"}},\"type\":\"scattergeo\"}],\"scattergl\":[{\"marker\":{\"colorbar\":{\"outlinewidth\":0,\"ticks\":\"\"}},\"type\":\"scattergl\"}],\"scattermapbox\":[{\"marker\":{\"colorbar\":{\"outlinewidth\":0,\"ticks\":\"\"}},\"type\":\"scattermapbox\"}],\"scatterpolar\":[{\"marker\":{\"colorbar\":{\"outlinewidth\":0,\"ticks\":\"\"}},\"type\":\"scatterpolar\"}],\"scatterpolargl\":[{\"marker\":{\"colorbar\":{\"outlinewidth\":0,\"ticks\":\"\"}},\"type\":\"scatterpolargl\"}],\"scatterternary\":[{\"marker\":{\"colorbar\":{\"outlinewidth\":0,\"ticks\":\"\"}},\"type\":\"scatterternary\"}],\"surface\":[{\"colorbar\":{\"outlinewidth\":0,\"ticks\":\"\"},\"colorscale\":[[0.0,\"#0d0887\"],[0.1111111111111111,\"#46039f\"],[0.2222222222222222,\"#7201a8\"],[0.3333333333333333,\"#9c179e\"],[0.4444444444444444,\"#bd3786\"],[0.5555555555555556,\"#d8576b\"],[0.6666666666666666,\"#ed7953\"],[0.7777777777777778,\"#fb9f3a\"],[0.8888888888888888,\"#fdca26\"],[1.0,\"#f0f921\"]],\"type\":\"surface\"}],\"table\":[{\"cells\":{\"fill\":{\"color\":\"#EBF0F8\"},\"line\":{\"color\":\"white\"}},\"header\":{\"fill\":{\"color\":\"#C8D4E3\"},\"line\":{\"color\":\"white\"}},\"type\":\"table\"}]},\"layout\":{\"annotationdefaults\":{\"arrowcolor\":\"#2a3f5f\",\"arrowhead\":0,\"arrowwidth\":1},\"autotypenumbers\":\"strict\",\"coloraxis\":{\"colorbar\":{\"outlinewidth\":0,\"ticks\":\"\"}},\"colorscale\":{\"diverging\":[[0,\"#8e0152\"],[0.1,\"#c51b7d\"],[0.2,\"#de77ae\"],[0.3,\"#f1b6da\"],[0.4,\"#fde0ef\"],[0.5,\"#f7f7f7\"],[0.6,\"#e6f5d0\"],[0.7,\"#b8e186\"],[0.8,\"#7fbc41\"],[0.9,\"#4d9221\"],[1,\"#276419\"]],\"sequential\":[[0.0,\"#0d0887\"],[0.1111111111111111,\"#46039f\"],[0.2222222222222222,\"#7201a8\"],[0.3333333333333333,\"#9c179e\"],[0.4444444444444444,\"#bd3786\"],[0.5555555555555556,\"#d8576b\"],[0.6666666666666666,\"#ed7953\"],[0.7777777777777778,\"#fb9f3a\"],[0.8888888888888888,\"#fdca26\"],[1.0,\"#f0f921\"]],\"sequentialminus\":[[0.0,\"#0d0887\"],[0.1111111111111111,\"#46039f\"],[0.2222222222222222,\"#7201a8\"],[0.3333333333333333,\"#9c179e\"],[0.4444444444444444,\"#bd3786\"],[0.5555555555555556,\"#d8576b\"],[0.6666666666666666,\"#ed7953\"],[0.7777777777777778,\"#fb9f3a\"],[0.8888888888888888,\"#fdca26\"],[1.0,\"#f0f921\"]]},\"colorway\":[\"#636efa\",\"#EF553B\",\"#00cc96\",\"#ab63fa\",\"#FFA15A\",\"#19d3f3\",\"#FF6692\",\"#B6E880\",\"#FF97FF\",\"#FECB52\"],\"font\":{\"color\":\"#2a3f5f\"},\"geo\":{\"bgcolor\":\"white\",\"lakecolor\":\"white\",\"landcolor\":\"#E5ECF6\",\"showlakes\":true,\"showland\":true,\"subunitcolor\":\"white\"},\"hoverlabel\":{\"align\":\"left\"},\"hovermode\":\"closest\",\"mapbox\":{\"style\":\"light\"},\"paper_bgcolor\":\"white\",\"plot_bgcolor\":\"#E5ECF6\",\"polar\":{\"angularaxis\":{\"gridcolor\":\"white\",\"linecolor\":\"white\",\"ticks\":\"\"},\"bgcolor\":\"#E5ECF6\",\"radialaxis\":{\"gridcolor\":\"white\",\"linecolor\":\"white\",\"ticks\":\"\"}},\"scene\":{\"xaxis\":{\"backgroundcolor\":\"#E5ECF6\",\"gridcolor\":\"white\",\"gridwidth\":2,\"linecolor\":\"white\",\"showbackground\":true,\"ticks\":\"\",\"zerolinecolor\":\"white\"},\"yaxis\":{\"backgroundcolor\":\"#E5ECF6\",\"gridcolor\":\"white\",\"gridwidth\":2,\"linecolor\":\"white\",\"showbackground\":true,\"ticks\":\"\",\"zerolinecolor\":\"white\"},\"zaxis\":{\"backgroundcolor\":\"#E5ECF6\",\"gridcolor\":\"white\",\"gridwidth\":2,\"linecolor\":\"white\",\"showbackground\":true,\"ticks\":\"\",\"zerolinecolor\":\"white\"}},\"shapedefaults\":{\"line\":{\"color\":\"#2a3f5f\"}},\"ternary\":{\"aaxis\":{\"gridcolor\":\"white\",\"linecolor\":\"white\",\"ticks\":\"\"},\"baxis\":{\"gridcolor\":\"white\",\"linecolor\":\"white\",\"ticks\":\"\"},\"bgcolor\":\"#E5ECF6\",\"caxis\":{\"gridcolor\":\"white\",\"linecolor\":\"white\",\"ticks\":\"\"}},\"title\":{\"x\":0.05},\"xaxis\":{\"automargin\":true,\"gridcolor\":\"white\",\"linecolor\":\"white\",\"ticks\":\"\",\"title\":{\"standoff\":15},\"zerolinecolor\":\"white\",\"zerolinewidth\":2},\"yaxis\":{\"automargin\":true,\"gridcolor\":\"white\",\"linecolor\":\"white\",\"ticks\":\"\",\"title\":{\"standoff\":15},\"zerolinecolor\":\"white\",\"zerolinewidth\":2}}},\"title\":{\"text\":\"ImageNet pretrained ViT CIFAR9 PCA\"},\"xaxis\":{\"anchor\":\"y\",\"domain\":[0.0,1.0],\"title\":{\"text\":\"x\"}},\"yaxis\":{\"anchor\":\"x\",\"domain\":[0.0,1.0],\"title\":{\"text\":\"y\"}}},                        {\"responsive\": true}                    ).then(function(){\n",
       "                            \n",
       "var gd = document.getElementById('497420cf-19e3-45f4-ab4a-04be7f04cb51');\n",
       "var x = new MutationObserver(function (mutations, observer) {{\n",
       "        var display = window.getComputedStyle(gd).display;\n",
       "        if (!display || display === 'none') {{\n",
       "            console.log([gd, 'removed!']);\n",
       "            Plotly.purge(gd);\n",
       "            observer.disconnect();\n",
       "        }}\n",
       "}});\n",
       "\n",
       "// Listen for the removal of the full notebook cells\n",
       "var notebookContainer = gd.closest('#notebook-container');\n",
       "if (notebookContainer) {{\n",
       "    x.observe(notebookContainer, {childList: true});\n",
       "}}\n",
       "\n",
       "// Listen for the clearing of the current output cell\n",
       "var outputEl = gd.closest('.output');\n",
       "if (outputEl) {{\n",
       "    x.observe(outputEl, {childList: true});\n",
       "}}\n",
       "\n",
       "                        })                };                });            </script>        </div>"
      ]
     },
     "metadata": {},
     "output_type": "display_data"
    }
   ],
   "source": [
    "from sklearn.decomposition import PCA\n",
    "\n",
    "pca = PCA()\n",
    "components = pca.fit_transform(X_in)\n",
    "\n",
    "df_embed = pd.DataFrame(components)\n",
    "df_embed = df_embed.rename(columns={0: 'x', 1: 'y'})\n",
    "df_embed = df_embed.assign(label=y_in)\n",
    "fig = px.scatter(\n",
    "    df_embed,\n",
    "    x='x',\n",
    "    y='y',\n",
    "    color='label',\n",
    "    labels={'label': 'class'},\n",
    "    title='ImageNet pretrained ViT CIFAR9 PCA',\n",
    ")\n",
    "fig.show()"
   ]
  },
  {
   "cell_type": "code",
   "execution_count": 22,
   "metadata": {},
   "outputs": [
    {
     "data": {
      "application/vnd.plotly.v1+json": {
       "config": {
        "plotlyServerURL": "https://plot.ly"
       },
       "data": [
        {
         "hovertemplate": "class=(16, 'can')<br>x=%{x}<br>y=%{y}<extra></extra>",
         "legendgroup": "(16, 'can')",
         "marker": {
          "color": "#636efa",
          "symbol": "circle"
         },
         "mode": "markers",
         "name": "(16, 'can')",
         "orientation": "v",
         "showlegend": true,
         "type": "scatter",
         "x": [
          5.033783056618915,
          -2.043367268810087,
          -2.5729386451439518,
          -6.980722879246192,
          -5.060698676733851,
          0.43784176880883513,
          -2.0319801448918025,
          -3.608018086087451,
          1.958956879513488,
          -8.108096902425572,
          0.7277646601473259,
          -0.0580092053979812,
          2.6479605094732106,
          -0.8139264203369979,
          -2.371982175882483,
          -2.674859575948263,
          -7.834401162176002,
          -5.1653686442822195,
          -6.497668125277308,
          1.243521111719462
         ],
         "xaxis": "x",
         "y": [
          3.5421329352946707,
          4.952579662275203,
          2.534430732992889,
          -1.4129196496229757,
          2.2178908705557956,
          2.058669437372296,
          4.543203282494967,
          1.6043491465575637,
          5.859756259441701,
          7.125706098684001,
          1.9590653095359545,
          3.279487489173139,
          5.645085728248681,
          2.628345105130539,
          7.537140014409591,
          -4.822699574490325,
          6.270770659555373,
          2.980439378201365,
          2.357022542500851,
          -0.9453678344861388
         ],
         "yaxis": "y"
        },
        {
         "hovertemplate": "class=(7, 'beetle')<br>x=%{x}<br>y=%{y}<extra></extra>",
         "legendgroup": "(7, 'beetle')",
         "marker": {
          "color": "#EF553B",
          "symbol": "circle"
         },
         "mode": "markers",
         "name": "(7, 'beetle')",
         "orientation": "v",
         "showlegend": true,
         "type": "scatter",
         "x": [
          -8.433178116438967,
          -7.413217900729173,
          -11.665918801267685,
          -7.197018274330264,
          -14.779950636674652,
          -10.790729996123122,
          -18.766601655274187,
          -10.971403208164022,
          -13.214462816469737,
          -8.0455198446787,
          -1.3287818909441307,
          -11.531474415653738,
          -12.832820617706483,
          -5.377946942629212,
          -10.549475361840043,
          -12.327816786538923,
          -16.524851820187173,
          -10.186757488041444,
          -11.223363153891617,
          -14.624362105857815
         ],
         "xaxis": "x",
         "y": [
          -7.621895447939567,
          -2.823988199612394,
          -7.5776327308501985,
          -2.5368808368519797,
          -7.686987991281403,
          -3.1170014668390484,
          -3.500316785731861,
          -6.956346023585991,
          -1.7010590923168658,
          -7.485557326031309,
          -3.357774710241741,
          -5.178525062930106,
          -6.7374936214541234,
          -2.012377984463519,
          -4.867849312320248,
          -1.0303885756734896,
          -7.4831851131387355,
          -5.6716009681460715,
          -6.590074359246767,
          -6.140846556578051
         ],
         "yaxis": "y"
        },
        {
         "hovertemplate": "class=(68, 'road')<br>x=%{x}<br>y=%{y}<extra></extra>",
         "legendgroup": "(68, 'road')",
         "marker": {
          "color": "#00cc96",
          "symbol": "circle"
         },
         "mode": "markers",
         "name": "(68, 'road')",
         "orientation": "v",
         "showlegend": true,
         "type": "scatter",
         "x": [
          9.162572646245803,
          6.938389941964238,
          -0.19560647879312001,
          -2.9444456703637414,
          5.27024586659091,
          7.895196897900546,
          4.7092084921127775,
          -1.4235449816168664,
          8.512078609360591,
          6.587451682168408,
          10.33249678037383,
          3.039741639939993,
          4.402798722768047,
          6.00899732496499,
          -1.1044240434027115,
          1.1901163083982786,
          9.353977552127116,
          0.92067928950009,
          2.609794003370336,
          11.427835265996277
         ],
         "xaxis": "x",
         "y": [
          -9.535177441795597,
          -10.674259079075453,
          -5.520391644063456,
          -5.43393501939917,
          -8.790518970616603,
          -11.685099380249069,
          -10.523649741280012,
          -6.508255113107951,
          -6.776336290600215,
          -11.274256741186464,
          -13.118751672887628,
          -12.152983740184862,
          -11.697269034931484,
          -11.25549440747236,
          -6.9058945344012175,
          -13.909122512638184,
          -2.6746196647789393,
          -13.5052519292929,
          -11.063804484280356,
          -10.063793948151382
         ],
         "yaxis": "y"
        },
        {
         "hovertemplate": "class=(87, 'television')<br>x=%{x}<br>y=%{y}<extra></extra>",
         "legendgroup": "(87, 'television')",
         "marker": {
          "color": "#ab63fa",
          "symbol": "circle"
         },
         "mode": "markers",
         "name": "(87, 'television')",
         "orientation": "v",
         "showlegend": true,
         "type": "scatter",
         "x": [
          9.932972819145995,
          5.480728307776631,
          13.661609619822388,
          11.134531153985696,
          12.973726863255532,
          -2.333474918929101,
          5.688020512911064,
          6.3442729731345375,
          3.1852686789013833,
          2.1310597313587425,
          6.421668482838117,
          2.332944263066681,
          7.679843166733527,
          2.3044864152864135,
          3.5357582275699904,
          8.716390756350876,
          -1.359911172088116,
          3.099916492988107,
          5.685044179029166,
          6.895109249622956
         ],
         "xaxis": "x",
         "y": [
          7.673593990886097,
          0.19784803977124782,
          9.048413042532532,
          -4.957466419569778,
          5.085807120234113,
          -3.188029637658526,
          -1.8169844513767717,
          7.240940077561028,
          2.1011714981483247,
          14.051059582108673,
          3.521021002633986,
          -3.721871258089815,
          -0.8975088779264692,
          -1.6464635742496696,
          -2.192622693520319,
          4.744262796227537,
          9.338907715315198,
          3.4468318982621553,
          7.681600757774673,
          7.774902488264386
         ],
         "yaxis": "y"
        },
        {
         "hovertemplate": "class=(90, 'train')<br>x=%{x}<br>y=%{y}<extra></extra>",
         "legendgroup": "(90, 'train')",
         "marker": {
          "color": "#FFA15A",
          "symbol": "circle"
         },
         "mode": "markers",
         "name": "(90, 'train')",
         "orientation": "v",
         "showlegend": true,
         "type": "scatter",
         "x": [
          14.69519625488325,
          10.986059462085711,
          16.332525053972745,
          9.318519477501425,
          7.10408187344822,
          10.562197033994776,
          11.902141812212998,
          17.843948325234837,
          10.025661321929483,
          8.816265787764321,
          6.793998941475521,
          18.832605284009986,
          14.26115863540667,
          14.873658445555588,
          10.827717074875922,
          13.250786215206778,
          10.624021055869687,
          16.519505600267838,
          10.763776620463624,
          13.414798293194815
         ],
         "xaxis": "x",
         "y": [
          -1.0262075445753176,
          -4.747607112726618,
          -2.3162174962325617,
          -4.251441996728726,
          0.35907787355817117,
          -6.629178039822693,
          6.215988512180767,
          -1.2041038467456955,
          -3.311659968910365,
          -4.777893971102216,
          -9.563743588044005,
          2.0024371330659796,
          -4.984587543230828,
          -3.7754591388731957,
          0.04028206476981526,
          0.5310277692419413,
          -2.7629658361567926,
          -2.2503037642915897,
          0.34802666322170434,
          -2.596683612719424
         ],
         "yaxis": "y"
        },
        {
         "hovertemplate": "class=(33, 'forest')<br>x=%{x}<br>y=%{y}<extra></extra>",
         "legendgroup": "(33, 'forest')",
         "marker": {
          "color": "#19d3f3",
          "symbol": "circle"
         },
         "mode": "markers",
         "name": "(33, 'forest')",
         "orientation": "v",
         "showlegend": true,
         "type": "scatter",
         "x": [
          -6.928456775889565,
          -13.202658223750223,
          -3.759010078891717,
          3.1809345404578826,
          -9.57660625590297,
          -6.101687086358012,
          -4.160173011354145,
          -6.342427303479423,
          7.93348771819462,
          -4.676361191972739,
          -12.83705487632431,
          -7.542116496968378,
          -2.4803193214256294,
          -0.7174447361792896,
          -8.090997308811307,
          -4.641072016394927,
          -4.592261860865626,
          -4.516170677514757,
          -10.54399218508708,
          -12.177130408949632
         ],
         "xaxis": "x",
         "y": [
          0.17017240204057021,
          -3.9401198365314634,
          -4.928264137741331,
          -4.28351490280997,
          -6.968063362120476,
          -6.851135638475062,
          -8.917013357446018,
          -6.076919278106608,
          -11.160829499991692,
          -8.570728334256945,
          -10.741866908165177,
          -11.808486990833032,
          -0.8409437973494506,
          -4.780772045796915,
          -1.322377792224832,
          -8.79454514058026,
          -2.3787676815351806,
          -2.835968231028342,
          -2.2103490218527133,
          -2.1381170200363773
         ],
         "yaxis": "y"
        },
        {
         "hovertemplate": "class=(25, 'couch')<br>x=%{x}<br>y=%{y}<extra></extra>",
         "legendgroup": "(25, 'couch')",
         "marker": {
          "color": "#FF6692",
          "symbol": "circle"
         },
         "mode": "markers",
         "name": "(25, 'couch')",
         "orientation": "v",
         "showlegend": true,
         "type": "scatter",
         "x": [
          -3.893975945408454,
          5.825559558039865,
          -5.297206779998655,
          6.661113112278478,
          -1.379539674786955,
          0.3648197548860104,
          6.475239018791845,
          -1.4352400090843809,
          4.0705651137971754,
          -0.9758902735368685,
          6.6622546376117295,
          9.425945184447151,
          -1.9135817032490077,
          -2.451679285466641,
          1.6799178051473111,
          6.867061773768308,
          -2.366250473865694,
          -6.158558290874249,
          4.285456038675068,
          -10.114768032709698
         ],
         "xaxis": "x",
         "y": [
          4.667510098416704,
          -2.060993074990323,
          -2.604254506387858,
          4.639619122434106,
          8.128072930508234,
          -0.3395892875680214,
          4.0075897075406,
          9.852105210446625,
          4.073688466149283,
          3.9434631124496717,
          1.488659014317952,
          1.9693305593085457,
          3.2034426126114415,
          8.401759882579398,
          10.11106457459793,
          3.7347810206012904,
          10.83693984985689,
          -2.018378697658708,
          1.4722039199433086,
          2.6402676634934945
         ],
         "yaxis": "y"
        },
        {
         "hovertemplate": "class=(89, 'tractor')<br>x=%{x}<br>y=%{y}<extra></extra>",
         "legendgroup": "(89, 'tractor')",
         "marker": {
          "color": "#B6E880",
          "symbol": "circle"
         },
         "mode": "markers",
         "name": "(89, 'tractor')",
         "orientation": "v",
         "showlegend": true,
         "type": "scatter",
         "x": [
          14.937292003777985,
          11.91942355268118,
          15.0924600515997,
          7.827634762732618,
          11.944745307668418,
          15.591110556766736,
          14.53464820742313,
          13.79473481111026,
          14.516275438866213,
          14.90137881833848,
          15.824087507943469,
          5.365575590206081,
          17.602523021267945,
          12.324580467363784,
          12.751242405203426,
          13.23311974803105,
          12.945262893247781,
          13.430371193696715,
          14.210352972745714,
          9.394523592601507
         ],
         "xaxis": "x",
         "y": [
          2.767398701805272,
          4.77971013254009,
          6.689116134227777,
          1.12356064590567,
          -3.635031627901509,
          6.346986327468775,
          2.6198414667823697,
          1.0543178539691163,
          -4.286091705384977,
          4.358765100563232,
          5.001232939457885,
          -6.3741591992667965,
          0.9833468690869144,
          5.213823341862944,
          1.5010144826358152,
          1.8036096905540835,
          4.609084957878781,
          6.381728715347039,
          8.942183101165314,
          0.4538773570923051
         ],
         "yaxis": "y"
        },
        {
         "hovertemplate": "class=(34, 'fox')<br>x=%{x}<br>y=%{y}<extra></extra>",
         "legendgroup": "(34, 'fox')",
         "marker": {
          "color": "#FF97FF",
          "symbol": "circle"
         },
         "mode": "markers",
         "name": "(34, 'fox')",
         "orientation": "v",
         "showlegend": true,
         "type": "scatter",
         "x": [
          -6.921079963401583,
          -7.37644990500104,
          -10.883750659688369,
          -0.9140725806620484,
          -3.0920709339643393,
          -10.256004202841321,
          -5.031858649172867,
          -3.962604056651641,
          -4.530546643780833,
          -9.677469408041157,
          -6.217102981609084,
          -14.188010134076796,
          -9.416034456177071,
          -13.567034648826954,
          -8.031361294947768,
          -13.722678025264965,
          -7.595339745052156,
          -11.702661527628834,
          -9.621725563960004,
          -6.133380424581021
         ],
         "xaxis": "x",
         "y": [
          4.878050154691611,
          12.124811078160667,
          12.611405521893582,
          8.171246180034798,
          11.290595814467288,
          9.164927251294078,
          15.13316357171388,
          7.069675699074991,
          12.032343283604366,
          12.882447918528522,
          14.085938102268242,
          5.566368131958795,
          9.667920331900794,
          11.824518707694315,
          11.96914306681438,
          5.549564209219966,
          16.912069545040573,
          8.774870401707386,
          -10.58527198823831,
          15.343239731177395
         ],
         "yaxis": "y"
        },
        {
         "hovertemplate": "class=(72, 'seal')<br>x=%{x}<br>y=%{y}<extra></extra>",
         "legendgroup": "(72, 'seal')",
         "marker": {
          "color": "#FECB52",
          "symbol": "circle"
         },
         "mode": "markers",
         "name": "(72, 'seal')",
         "orientation": "v",
         "showlegend": true,
         "type": "scatter",
         "x": [
          -3.1382469458770643,
          -4.9996246583789175,
          -8.855019020559647,
          -9.944503179077936,
          -9.297225279628305,
          -6.947511925072914,
          -5.608271451256035,
          -6.7530279395678035,
          -10.669537549097308,
          -12.474343324601614,
          -11.873081385445783,
          -7.42721316732954,
          -13.667031185208417,
          -10.230537007083795,
          -15.180511667429833,
          -12.814570292767527,
          -7.404967877178953,
          -14.828129501493457,
          -11.022009247351086,
          -13.118754926452063
         ],
         "xaxis": "x",
         "y": [
          9.877623881560986,
          -6.2065952727955365,
          -9.620903869463191,
          8.161427049987559,
          -7.6890587546760845,
          12.838439206429983,
          6.231768163142129,
          -0.6856101865369136,
          0.19661716659446937,
          5.221239124518398,
          7.792389529842042,
          9.854706315549121,
          0.20640274116588506,
          6.0610981389284335,
          -4.248377242912536,
          -6.985463064363637,
          -11.423991792023616,
          -9.458807487438438,
          0.33021427918316715,
          -7.57577126070428
         ],
         "yaxis": "y"
        }
       ],
       "layout": {
        "legend": {
         "title": {
          "text": "class"
         },
         "tracegroupgap": 0
        },
        "template": {
         "data": {
          "bar": [
           {
            "error_x": {
             "color": "#2a3f5f"
            },
            "error_y": {
             "color": "#2a3f5f"
            },
            "marker": {
             "line": {
              "color": "#E5ECF6",
              "width": 0.5
             },
             "pattern": {
              "fillmode": "overlay",
              "size": 10,
              "solidity": 0.2
             }
            },
            "type": "bar"
           }
          ],
          "barpolar": [
           {
            "marker": {
             "line": {
              "color": "#E5ECF6",
              "width": 0.5
             },
             "pattern": {
              "fillmode": "overlay",
              "size": 10,
              "solidity": 0.2
             }
            },
            "type": "barpolar"
           }
          ],
          "carpet": [
           {
            "aaxis": {
             "endlinecolor": "#2a3f5f",
             "gridcolor": "white",
             "linecolor": "white",
             "minorgridcolor": "white",
             "startlinecolor": "#2a3f5f"
            },
            "baxis": {
             "endlinecolor": "#2a3f5f",
             "gridcolor": "white",
             "linecolor": "white",
             "minorgridcolor": "white",
             "startlinecolor": "#2a3f5f"
            },
            "type": "carpet"
           }
          ],
          "choropleth": [
           {
            "colorbar": {
             "outlinewidth": 0,
             "ticks": ""
            },
            "type": "choropleth"
           }
          ],
          "contour": [
           {
            "colorbar": {
             "outlinewidth": 0,
             "ticks": ""
            },
            "colorscale": [
             [
              0,
              "#0d0887"
             ],
             [
              0.1111111111111111,
              "#46039f"
             ],
             [
              0.2222222222222222,
              "#7201a8"
             ],
             [
              0.3333333333333333,
              "#9c179e"
             ],
             [
              0.4444444444444444,
              "#bd3786"
             ],
             [
              0.5555555555555556,
              "#d8576b"
             ],
             [
              0.6666666666666666,
              "#ed7953"
             ],
             [
              0.7777777777777778,
              "#fb9f3a"
             ],
             [
              0.8888888888888888,
              "#fdca26"
             ],
             [
              1,
              "#f0f921"
             ]
            ],
            "type": "contour"
           }
          ],
          "contourcarpet": [
           {
            "colorbar": {
             "outlinewidth": 0,
             "ticks": ""
            },
            "type": "contourcarpet"
           }
          ],
          "heatmap": [
           {
            "colorbar": {
             "outlinewidth": 0,
             "ticks": ""
            },
            "colorscale": [
             [
              0,
              "#0d0887"
             ],
             [
              0.1111111111111111,
              "#46039f"
             ],
             [
              0.2222222222222222,
              "#7201a8"
             ],
             [
              0.3333333333333333,
              "#9c179e"
             ],
             [
              0.4444444444444444,
              "#bd3786"
             ],
             [
              0.5555555555555556,
              "#d8576b"
             ],
             [
              0.6666666666666666,
              "#ed7953"
             ],
             [
              0.7777777777777778,
              "#fb9f3a"
             ],
             [
              0.8888888888888888,
              "#fdca26"
             ],
             [
              1,
              "#f0f921"
             ]
            ],
            "type": "heatmap"
           }
          ],
          "heatmapgl": [
           {
            "colorbar": {
             "outlinewidth": 0,
             "ticks": ""
            },
            "colorscale": [
             [
              0,
              "#0d0887"
             ],
             [
              0.1111111111111111,
              "#46039f"
             ],
             [
              0.2222222222222222,
              "#7201a8"
             ],
             [
              0.3333333333333333,
              "#9c179e"
             ],
             [
              0.4444444444444444,
              "#bd3786"
             ],
             [
              0.5555555555555556,
              "#d8576b"
             ],
             [
              0.6666666666666666,
              "#ed7953"
             ],
             [
              0.7777777777777778,
              "#fb9f3a"
             ],
             [
              0.8888888888888888,
              "#fdca26"
             ],
             [
              1,
              "#f0f921"
             ]
            ],
            "type": "heatmapgl"
           }
          ],
          "histogram": [
           {
            "marker": {
             "pattern": {
              "fillmode": "overlay",
              "size": 10,
              "solidity": 0.2
             }
            },
            "type": "histogram"
           }
          ],
          "histogram2d": [
           {
            "colorbar": {
             "outlinewidth": 0,
             "ticks": ""
            },
            "colorscale": [
             [
              0,
              "#0d0887"
             ],
             [
              0.1111111111111111,
              "#46039f"
             ],
             [
              0.2222222222222222,
              "#7201a8"
             ],
             [
              0.3333333333333333,
              "#9c179e"
             ],
             [
              0.4444444444444444,
              "#bd3786"
             ],
             [
              0.5555555555555556,
              "#d8576b"
             ],
             [
              0.6666666666666666,
              "#ed7953"
             ],
             [
              0.7777777777777778,
              "#fb9f3a"
             ],
             [
              0.8888888888888888,
              "#fdca26"
             ],
             [
              1,
              "#f0f921"
             ]
            ],
            "type": "histogram2d"
           }
          ],
          "histogram2dcontour": [
           {
            "colorbar": {
             "outlinewidth": 0,
             "ticks": ""
            },
            "colorscale": [
             [
              0,
              "#0d0887"
             ],
             [
              0.1111111111111111,
              "#46039f"
             ],
             [
              0.2222222222222222,
              "#7201a8"
             ],
             [
              0.3333333333333333,
              "#9c179e"
             ],
             [
              0.4444444444444444,
              "#bd3786"
             ],
             [
              0.5555555555555556,
              "#d8576b"
             ],
             [
              0.6666666666666666,
              "#ed7953"
             ],
             [
              0.7777777777777778,
              "#fb9f3a"
             ],
             [
              0.8888888888888888,
              "#fdca26"
             ],
             [
              1,
              "#f0f921"
             ]
            ],
            "type": "histogram2dcontour"
           }
          ],
          "mesh3d": [
           {
            "colorbar": {
             "outlinewidth": 0,
             "ticks": ""
            },
            "type": "mesh3d"
           }
          ],
          "parcoords": [
           {
            "line": {
             "colorbar": {
              "outlinewidth": 0,
              "ticks": ""
             }
            },
            "type": "parcoords"
           }
          ],
          "pie": [
           {
            "automargin": true,
            "type": "pie"
           }
          ],
          "scatter": [
           {
            "marker": {
             "colorbar": {
              "outlinewidth": 0,
              "ticks": ""
             }
            },
            "type": "scatter"
           }
          ],
          "scatter3d": [
           {
            "line": {
             "colorbar": {
              "outlinewidth": 0,
              "ticks": ""
             }
            },
            "marker": {
             "colorbar": {
              "outlinewidth": 0,
              "ticks": ""
             }
            },
            "type": "scatter3d"
           }
          ],
          "scattercarpet": [
           {
            "marker": {
             "colorbar": {
              "outlinewidth": 0,
              "ticks": ""
             }
            },
            "type": "scattercarpet"
           }
          ],
          "scattergeo": [
           {
            "marker": {
             "colorbar": {
              "outlinewidth": 0,
              "ticks": ""
             }
            },
            "type": "scattergeo"
           }
          ],
          "scattergl": [
           {
            "marker": {
             "colorbar": {
              "outlinewidth": 0,
              "ticks": ""
             }
            },
            "type": "scattergl"
           }
          ],
          "scattermapbox": [
           {
            "marker": {
             "colorbar": {
              "outlinewidth": 0,
              "ticks": ""
             }
            },
            "type": "scattermapbox"
           }
          ],
          "scatterpolar": [
           {
            "marker": {
             "colorbar": {
              "outlinewidth": 0,
              "ticks": ""
             }
            },
            "type": "scatterpolar"
           }
          ],
          "scatterpolargl": [
           {
            "marker": {
             "colorbar": {
              "outlinewidth": 0,
              "ticks": ""
             }
            },
            "type": "scatterpolargl"
           }
          ],
          "scatterternary": [
           {
            "marker": {
             "colorbar": {
              "outlinewidth": 0,
              "ticks": ""
             }
            },
            "type": "scatterternary"
           }
          ],
          "surface": [
           {
            "colorbar": {
             "outlinewidth": 0,
             "ticks": ""
            },
            "colorscale": [
             [
              0,
              "#0d0887"
             ],
             [
              0.1111111111111111,
              "#46039f"
             ],
             [
              0.2222222222222222,
              "#7201a8"
             ],
             [
              0.3333333333333333,
              "#9c179e"
             ],
             [
              0.4444444444444444,
              "#bd3786"
             ],
             [
              0.5555555555555556,
              "#d8576b"
             ],
             [
              0.6666666666666666,
              "#ed7953"
             ],
             [
              0.7777777777777778,
              "#fb9f3a"
             ],
             [
              0.8888888888888888,
              "#fdca26"
             ],
             [
              1,
              "#f0f921"
             ]
            ],
            "type": "surface"
           }
          ],
          "table": [
           {
            "cells": {
             "fill": {
              "color": "#EBF0F8"
             },
             "line": {
              "color": "white"
             }
            },
            "header": {
             "fill": {
              "color": "#C8D4E3"
             },
             "line": {
              "color": "white"
             }
            },
            "type": "table"
           }
          ]
         },
         "layout": {
          "annotationdefaults": {
           "arrowcolor": "#2a3f5f",
           "arrowhead": 0,
           "arrowwidth": 1
          },
          "autotypenumbers": "strict",
          "coloraxis": {
           "colorbar": {
            "outlinewidth": 0,
            "ticks": ""
           }
          },
          "colorscale": {
           "diverging": [
            [
             0,
             "#8e0152"
            ],
            [
             0.1,
             "#c51b7d"
            ],
            [
             0.2,
             "#de77ae"
            ],
            [
             0.3,
             "#f1b6da"
            ],
            [
             0.4,
             "#fde0ef"
            ],
            [
             0.5,
             "#f7f7f7"
            ],
            [
             0.6,
             "#e6f5d0"
            ],
            [
             0.7,
             "#b8e186"
            ],
            [
             0.8,
             "#7fbc41"
            ],
            [
             0.9,
             "#4d9221"
            ],
            [
             1,
             "#276419"
            ]
           ],
           "sequential": [
            [
             0,
             "#0d0887"
            ],
            [
             0.1111111111111111,
             "#46039f"
            ],
            [
             0.2222222222222222,
             "#7201a8"
            ],
            [
             0.3333333333333333,
             "#9c179e"
            ],
            [
             0.4444444444444444,
             "#bd3786"
            ],
            [
             0.5555555555555556,
             "#d8576b"
            ],
            [
             0.6666666666666666,
             "#ed7953"
            ],
            [
             0.7777777777777778,
             "#fb9f3a"
            ],
            [
             0.8888888888888888,
             "#fdca26"
            ],
            [
             1,
             "#f0f921"
            ]
           ],
           "sequentialminus": [
            [
             0,
             "#0d0887"
            ],
            [
             0.1111111111111111,
             "#46039f"
            ],
            [
             0.2222222222222222,
             "#7201a8"
            ],
            [
             0.3333333333333333,
             "#9c179e"
            ],
            [
             0.4444444444444444,
             "#bd3786"
            ],
            [
             0.5555555555555556,
             "#d8576b"
            ],
            [
             0.6666666666666666,
             "#ed7953"
            ],
            [
             0.7777777777777778,
             "#fb9f3a"
            ],
            [
             0.8888888888888888,
             "#fdca26"
            ],
            [
             1,
             "#f0f921"
            ]
           ]
          },
          "colorway": [
           "#636efa",
           "#EF553B",
           "#00cc96",
           "#ab63fa",
           "#FFA15A",
           "#19d3f3",
           "#FF6692",
           "#B6E880",
           "#FF97FF",
           "#FECB52"
          ],
          "font": {
           "color": "#2a3f5f"
          },
          "geo": {
           "bgcolor": "white",
           "lakecolor": "white",
           "landcolor": "#E5ECF6",
           "showlakes": true,
           "showland": true,
           "subunitcolor": "white"
          },
          "hoverlabel": {
           "align": "left"
          },
          "hovermode": "closest",
          "mapbox": {
           "style": "light"
          },
          "paper_bgcolor": "white",
          "plot_bgcolor": "#E5ECF6",
          "polar": {
           "angularaxis": {
            "gridcolor": "white",
            "linecolor": "white",
            "ticks": ""
           },
           "bgcolor": "#E5ECF6",
           "radialaxis": {
            "gridcolor": "white",
            "linecolor": "white",
            "ticks": ""
           }
          },
          "scene": {
           "xaxis": {
            "backgroundcolor": "#E5ECF6",
            "gridcolor": "white",
            "gridwidth": 2,
            "linecolor": "white",
            "showbackground": true,
            "ticks": "",
            "zerolinecolor": "white"
           },
           "yaxis": {
            "backgroundcolor": "#E5ECF6",
            "gridcolor": "white",
            "gridwidth": 2,
            "linecolor": "white",
            "showbackground": true,
            "ticks": "",
            "zerolinecolor": "white"
           },
           "zaxis": {
            "backgroundcolor": "#E5ECF6",
            "gridcolor": "white",
            "gridwidth": 2,
            "linecolor": "white",
            "showbackground": true,
            "ticks": "",
            "zerolinecolor": "white"
           }
          },
          "shapedefaults": {
           "line": {
            "color": "#2a3f5f"
           }
          },
          "ternary": {
           "aaxis": {
            "gridcolor": "white",
            "linecolor": "white",
            "ticks": ""
           },
           "baxis": {
            "gridcolor": "white",
            "linecolor": "white",
            "ticks": ""
           },
           "bgcolor": "#E5ECF6",
           "caxis": {
            "gridcolor": "white",
            "linecolor": "white",
            "ticks": ""
           }
          },
          "title": {
           "x": 0.05
          },
          "xaxis": {
           "automargin": true,
           "gridcolor": "white",
           "linecolor": "white",
           "ticks": "",
           "title": {
            "standoff": 15
           },
           "zerolinecolor": "white",
           "zerolinewidth": 2
          },
          "yaxis": {
           "automargin": true,
           "gridcolor": "white",
           "linecolor": "white",
           "ticks": "",
           "title": {
            "standoff": 15
           },
           "zerolinecolor": "white",
           "zerolinewidth": 2
          }
         }
        },
        "title": {
         "text": "ImageNet pretrained ViT CIFAR9 PCA"
        },
        "xaxis": {
         "anchor": "y",
         "domain": [
          0,
          1
         ],
         "title": {
          "text": "x"
         }
        },
        "yaxis": {
         "anchor": "x",
         "domain": [
          0,
          1
         ],
         "title": {
          "text": "y"
         }
        }
       }
      },
      "text/html": [
       "<div>                            <div id=\"4a9dcfdd-865f-404d-929e-ec7a2e2b0402\" class=\"plotly-graph-div\" style=\"height:525px; width:100%;\"></div>            <script type=\"text/javascript\">                require([\"plotly\"], function(Plotly) {                    window.PLOTLYENV=window.PLOTLYENV || {};                                    if (document.getElementById(\"4a9dcfdd-865f-404d-929e-ec7a2e2b0402\")) {                    Plotly.newPlot(                        \"4a9dcfdd-865f-404d-929e-ec7a2e2b0402\",                        [{\"hovertemplate\":\"class=(16, 'can')<br>x=%{x}<br>y=%{y}<extra></extra>\",\"legendgroup\":\"(16, 'can')\",\"marker\":{\"color\":\"#636efa\",\"symbol\":\"circle\"},\"mode\":\"markers\",\"name\":\"(16, 'can')\",\"orientation\":\"v\",\"showlegend\":true,\"type\":\"scatter\",\"x\":[5.033783056618915,-2.043367268810087,-2.5729386451439518,-6.980722879246192,-5.060698676733851,0.43784176880883513,-2.0319801448918025,-3.608018086087451,1.958956879513488,-8.108096902425572,0.7277646601473259,-0.0580092053979812,2.6479605094732106,-0.8139264203369979,-2.371982175882483,-2.674859575948263,-7.834401162176002,-5.1653686442822195,-6.497668125277308,1.243521111719462],\"xaxis\":\"x\",\"y\":[3.5421329352946707,4.952579662275203,2.534430732992889,-1.4129196496229757,2.2178908705557956,2.058669437372296,4.543203282494967,1.6043491465575637,5.859756259441701,7.125706098684001,1.9590653095359545,3.279487489173139,5.645085728248681,2.628345105130539,7.537140014409591,-4.822699574490325,6.270770659555373,2.980439378201365,2.357022542500851,-0.9453678344861388],\"yaxis\":\"y\"},{\"hovertemplate\":\"class=(7, 'beetle')<br>x=%{x}<br>y=%{y}<extra></extra>\",\"legendgroup\":\"(7, 'beetle')\",\"marker\":{\"color\":\"#EF553B\",\"symbol\":\"circle\"},\"mode\":\"markers\",\"name\":\"(7, 'beetle')\",\"orientation\":\"v\",\"showlegend\":true,\"type\":\"scatter\",\"x\":[-8.433178116438967,-7.413217900729173,-11.665918801267685,-7.197018274330264,-14.779950636674652,-10.790729996123122,-18.766601655274187,-10.971403208164022,-13.214462816469737,-8.0455198446787,-1.3287818909441307,-11.531474415653738,-12.832820617706483,-5.377946942629212,-10.549475361840043,-12.327816786538923,-16.524851820187173,-10.186757488041444,-11.223363153891617,-14.624362105857815],\"xaxis\":\"x\",\"y\":[-7.621895447939567,-2.823988199612394,-7.5776327308501985,-2.5368808368519797,-7.686987991281403,-3.1170014668390484,-3.500316785731861,-6.956346023585991,-1.7010590923168658,-7.485557326031309,-3.357774710241741,-5.178525062930106,-6.7374936214541234,-2.012377984463519,-4.867849312320248,-1.0303885756734896,-7.4831851131387355,-5.6716009681460715,-6.590074359246767,-6.140846556578051],\"yaxis\":\"y\"},{\"hovertemplate\":\"class=(68, 'road')<br>x=%{x}<br>y=%{y}<extra></extra>\",\"legendgroup\":\"(68, 'road')\",\"marker\":{\"color\":\"#00cc96\",\"symbol\":\"circle\"},\"mode\":\"markers\",\"name\":\"(68, 'road')\",\"orientation\":\"v\",\"showlegend\":true,\"type\":\"scatter\",\"x\":[9.162572646245803,6.938389941964238,-0.19560647879312001,-2.9444456703637414,5.27024586659091,7.895196897900546,4.7092084921127775,-1.4235449816168664,8.512078609360591,6.587451682168408,10.33249678037383,3.039741639939993,4.402798722768047,6.00899732496499,-1.1044240434027115,1.1901163083982786,9.353977552127116,0.92067928950009,2.609794003370336,11.427835265996277],\"xaxis\":\"x\",\"y\":[-9.535177441795597,-10.674259079075453,-5.520391644063456,-5.43393501939917,-8.790518970616603,-11.685099380249069,-10.523649741280012,-6.508255113107951,-6.776336290600215,-11.274256741186464,-13.118751672887628,-12.152983740184862,-11.697269034931484,-11.25549440747236,-6.9058945344012175,-13.909122512638184,-2.6746196647789393,-13.5052519292929,-11.063804484280356,-10.063793948151382],\"yaxis\":\"y\"},{\"hovertemplate\":\"class=(87, 'television')<br>x=%{x}<br>y=%{y}<extra></extra>\",\"legendgroup\":\"(87, 'television')\",\"marker\":{\"color\":\"#ab63fa\",\"symbol\":\"circle\"},\"mode\":\"markers\",\"name\":\"(87, 'television')\",\"orientation\":\"v\",\"showlegend\":true,\"type\":\"scatter\",\"x\":[9.932972819145995,5.480728307776631,13.661609619822388,11.134531153985696,12.973726863255532,-2.333474918929101,5.688020512911064,6.3442729731345375,3.1852686789013833,2.1310597313587425,6.421668482838117,2.332944263066681,7.679843166733527,2.3044864152864135,3.5357582275699904,8.716390756350876,-1.359911172088116,3.099916492988107,5.685044179029166,6.895109249622956],\"xaxis\":\"x\",\"y\":[7.673593990886097,0.19784803977124782,9.048413042532532,-4.957466419569778,5.085807120234113,-3.188029637658526,-1.8169844513767717,7.240940077561028,2.1011714981483247,14.051059582108673,3.521021002633986,-3.721871258089815,-0.8975088779264692,-1.6464635742496696,-2.192622693520319,4.744262796227537,9.338907715315198,3.4468318982621553,7.681600757774673,7.774902488264386],\"yaxis\":\"y\"},{\"hovertemplate\":\"class=(90, 'train')<br>x=%{x}<br>y=%{y}<extra></extra>\",\"legendgroup\":\"(90, 'train')\",\"marker\":{\"color\":\"#FFA15A\",\"symbol\":\"circle\"},\"mode\":\"markers\",\"name\":\"(90, 'train')\",\"orientation\":\"v\",\"showlegend\":true,\"type\":\"scatter\",\"x\":[14.69519625488325,10.986059462085711,16.332525053972745,9.318519477501425,7.10408187344822,10.562197033994776,11.902141812212998,17.843948325234837,10.025661321929483,8.816265787764321,6.793998941475521,18.832605284009986,14.26115863540667,14.873658445555588,10.827717074875922,13.250786215206778,10.624021055869687,16.519505600267838,10.763776620463624,13.414798293194815],\"xaxis\":\"x\",\"y\":[-1.0262075445753176,-4.747607112726618,-2.3162174962325617,-4.251441996728726,0.35907787355817117,-6.629178039822693,6.215988512180767,-1.2041038467456955,-3.311659968910365,-4.777893971102216,-9.563743588044005,2.0024371330659796,-4.984587543230828,-3.7754591388731957,0.04028206476981526,0.5310277692419413,-2.7629658361567926,-2.2503037642915897,0.34802666322170434,-2.596683612719424],\"yaxis\":\"y\"},{\"hovertemplate\":\"class=(33, 'forest')<br>x=%{x}<br>y=%{y}<extra></extra>\",\"legendgroup\":\"(33, 'forest')\",\"marker\":{\"color\":\"#19d3f3\",\"symbol\":\"circle\"},\"mode\":\"markers\",\"name\":\"(33, 'forest')\",\"orientation\":\"v\",\"showlegend\":true,\"type\":\"scatter\",\"x\":[-6.928456775889565,-13.202658223750223,-3.759010078891717,3.1809345404578826,-9.57660625590297,-6.101687086358012,-4.160173011354145,-6.342427303479423,7.93348771819462,-4.676361191972739,-12.83705487632431,-7.542116496968378,-2.4803193214256294,-0.7174447361792896,-8.090997308811307,-4.641072016394927,-4.592261860865626,-4.516170677514757,-10.54399218508708,-12.177130408949632],\"xaxis\":\"x\",\"y\":[0.17017240204057021,-3.9401198365314634,-4.928264137741331,-4.28351490280997,-6.968063362120476,-6.851135638475062,-8.917013357446018,-6.076919278106608,-11.160829499991692,-8.570728334256945,-10.741866908165177,-11.808486990833032,-0.8409437973494506,-4.780772045796915,-1.322377792224832,-8.79454514058026,-2.3787676815351806,-2.835968231028342,-2.2103490218527133,-2.1381170200363773],\"yaxis\":\"y\"},{\"hovertemplate\":\"class=(25, 'couch')<br>x=%{x}<br>y=%{y}<extra></extra>\",\"legendgroup\":\"(25, 'couch')\",\"marker\":{\"color\":\"#FF6692\",\"symbol\":\"circle\"},\"mode\":\"markers\",\"name\":\"(25, 'couch')\",\"orientation\":\"v\",\"showlegend\":true,\"type\":\"scatter\",\"x\":[-3.893975945408454,5.825559558039865,-5.297206779998655,6.661113112278478,-1.379539674786955,0.3648197548860104,6.475239018791845,-1.4352400090843809,4.0705651137971754,-0.9758902735368685,6.6622546376117295,9.425945184447151,-1.9135817032490077,-2.451679285466641,1.6799178051473111,6.867061773768308,-2.366250473865694,-6.158558290874249,4.285456038675068,-10.114768032709698],\"xaxis\":\"x\",\"y\":[4.667510098416704,-2.060993074990323,-2.604254506387858,4.639619122434106,8.128072930508234,-0.3395892875680214,4.0075897075406,9.852105210446625,4.073688466149283,3.9434631124496717,1.488659014317952,1.9693305593085457,3.2034426126114415,8.401759882579398,10.11106457459793,3.7347810206012904,10.83693984985689,-2.018378697658708,1.4722039199433086,2.6402676634934945],\"yaxis\":\"y\"},{\"hovertemplate\":\"class=(89, 'tractor')<br>x=%{x}<br>y=%{y}<extra></extra>\",\"legendgroup\":\"(89, 'tractor')\",\"marker\":{\"color\":\"#B6E880\",\"symbol\":\"circle\"},\"mode\":\"markers\",\"name\":\"(89, 'tractor')\",\"orientation\":\"v\",\"showlegend\":true,\"type\":\"scatter\",\"x\":[14.937292003777985,11.91942355268118,15.0924600515997,7.827634762732618,11.944745307668418,15.591110556766736,14.53464820742313,13.79473481111026,14.516275438866213,14.90137881833848,15.824087507943469,5.365575590206081,17.602523021267945,12.324580467363784,12.751242405203426,13.23311974803105,12.945262893247781,13.430371193696715,14.210352972745714,9.394523592601507],\"xaxis\":\"x\",\"y\":[2.767398701805272,4.77971013254009,6.689116134227777,1.12356064590567,-3.635031627901509,6.346986327468775,2.6198414667823697,1.0543178539691163,-4.286091705384977,4.358765100563232,5.001232939457885,-6.3741591992667965,0.9833468690869144,5.213823341862944,1.5010144826358152,1.8036096905540835,4.609084957878781,6.381728715347039,8.942183101165314,0.4538773570923051],\"yaxis\":\"y\"},{\"hovertemplate\":\"class=(34, 'fox')<br>x=%{x}<br>y=%{y}<extra></extra>\",\"legendgroup\":\"(34, 'fox')\",\"marker\":{\"color\":\"#FF97FF\",\"symbol\":\"circle\"},\"mode\":\"markers\",\"name\":\"(34, 'fox')\",\"orientation\":\"v\",\"showlegend\":true,\"type\":\"scatter\",\"x\":[-6.921079963401583,-7.37644990500104,-10.883750659688369,-0.9140725806620484,-3.0920709339643393,-10.256004202841321,-5.031858649172867,-3.962604056651641,-4.530546643780833,-9.677469408041157,-6.217102981609084,-14.188010134076796,-9.416034456177071,-13.567034648826954,-8.031361294947768,-13.722678025264965,-7.595339745052156,-11.702661527628834,-9.621725563960004,-6.133380424581021],\"xaxis\":\"x\",\"y\":[4.878050154691611,12.124811078160667,12.611405521893582,8.171246180034798,11.290595814467288,9.164927251294078,15.13316357171388,7.069675699074991,12.032343283604366,12.882447918528522,14.085938102268242,5.566368131958795,9.667920331900794,11.824518707694315,11.96914306681438,5.549564209219966,16.912069545040573,8.774870401707386,-10.58527198823831,15.343239731177395],\"yaxis\":\"y\"},{\"hovertemplate\":\"class=(72, 'seal')<br>x=%{x}<br>y=%{y}<extra></extra>\",\"legendgroup\":\"(72, 'seal')\",\"marker\":{\"color\":\"#FECB52\",\"symbol\":\"circle\"},\"mode\":\"markers\",\"name\":\"(72, 'seal')\",\"orientation\":\"v\",\"showlegend\":true,\"type\":\"scatter\",\"x\":[-3.1382469458770643,-4.9996246583789175,-8.855019020559647,-9.944503179077936,-9.297225279628305,-6.947511925072914,-5.608271451256035,-6.7530279395678035,-10.669537549097308,-12.474343324601614,-11.873081385445783,-7.42721316732954,-13.667031185208417,-10.230537007083795,-15.180511667429833,-12.814570292767527,-7.404967877178953,-14.828129501493457,-11.022009247351086,-13.118754926452063],\"xaxis\":\"x\",\"y\":[9.877623881560986,-6.2065952727955365,-9.620903869463191,8.161427049987559,-7.6890587546760845,12.838439206429983,6.231768163142129,-0.6856101865369136,0.19661716659446937,5.221239124518398,7.792389529842042,9.854706315549121,0.20640274116588506,6.0610981389284335,-4.248377242912536,-6.985463064363637,-11.423991792023616,-9.458807487438438,0.33021427918316715,-7.57577126070428],\"yaxis\":\"y\"}],                        {\"legend\":{\"title\":{\"text\":\"class\"},\"tracegroupgap\":0},\"template\":{\"data\":{\"bar\":[{\"error_x\":{\"color\":\"#2a3f5f\"},\"error_y\":{\"color\":\"#2a3f5f\"},\"marker\":{\"line\":{\"color\":\"#E5ECF6\",\"width\":0.5},\"pattern\":{\"fillmode\":\"overlay\",\"size\":10,\"solidity\":0.2}},\"type\":\"bar\"}],\"barpolar\":[{\"marker\":{\"line\":{\"color\":\"#E5ECF6\",\"width\":0.5},\"pattern\":{\"fillmode\":\"overlay\",\"size\":10,\"solidity\":0.2}},\"type\":\"barpolar\"}],\"carpet\":[{\"aaxis\":{\"endlinecolor\":\"#2a3f5f\",\"gridcolor\":\"white\",\"linecolor\":\"white\",\"minorgridcolor\":\"white\",\"startlinecolor\":\"#2a3f5f\"},\"baxis\":{\"endlinecolor\":\"#2a3f5f\",\"gridcolor\":\"white\",\"linecolor\":\"white\",\"minorgridcolor\":\"white\",\"startlinecolor\":\"#2a3f5f\"},\"type\":\"carpet\"}],\"choropleth\":[{\"colorbar\":{\"outlinewidth\":0,\"ticks\":\"\"},\"type\":\"choropleth\"}],\"contour\":[{\"colorbar\":{\"outlinewidth\":0,\"ticks\":\"\"},\"colorscale\":[[0.0,\"#0d0887\"],[0.1111111111111111,\"#46039f\"],[0.2222222222222222,\"#7201a8\"],[0.3333333333333333,\"#9c179e\"],[0.4444444444444444,\"#bd3786\"],[0.5555555555555556,\"#d8576b\"],[0.6666666666666666,\"#ed7953\"],[0.7777777777777778,\"#fb9f3a\"],[0.8888888888888888,\"#fdca26\"],[1.0,\"#f0f921\"]],\"type\":\"contour\"}],\"contourcarpet\":[{\"colorbar\":{\"outlinewidth\":0,\"ticks\":\"\"},\"type\":\"contourcarpet\"}],\"heatmap\":[{\"colorbar\":{\"outlinewidth\":0,\"ticks\":\"\"},\"colorscale\":[[0.0,\"#0d0887\"],[0.1111111111111111,\"#46039f\"],[0.2222222222222222,\"#7201a8\"],[0.3333333333333333,\"#9c179e\"],[0.4444444444444444,\"#bd3786\"],[0.5555555555555556,\"#d8576b\"],[0.6666666666666666,\"#ed7953\"],[0.7777777777777778,\"#fb9f3a\"],[0.8888888888888888,\"#fdca26\"],[1.0,\"#f0f921\"]],\"type\":\"heatmap\"}],\"heatmapgl\":[{\"colorbar\":{\"outlinewidth\":0,\"ticks\":\"\"},\"colorscale\":[[0.0,\"#0d0887\"],[0.1111111111111111,\"#46039f\"],[0.2222222222222222,\"#7201a8\"],[0.3333333333333333,\"#9c179e\"],[0.4444444444444444,\"#bd3786\"],[0.5555555555555556,\"#d8576b\"],[0.6666666666666666,\"#ed7953\"],[0.7777777777777778,\"#fb9f3a\"],[0.8888888888888888,\"#fdca26\"],[1.0,\"#f0f921\"]],\"type\":\"heatmapgl\"}],\"histogram\":[{\"marker\":{\"pattern\":{\"fillmode\":\"overlay\",\"size\":10,\"solidity\":0.2}},\"type\":\"histogram\"}],\"histogram2d\":[{\"colorbar\":{\"outlinewidth\":0,\"ticks\":\"\"},\"colorscale\":[[0.0,\"#0d0887\"],[0.1111111111111111,\"#46039f\"],[0.2222222222222222,\"#7201a8\"],[0.3333333333333333,\"#9c179e\"],[0.4444444444444444,\"#bd3786\"],[0.5555555555555556,\"#d8576b\"],[0.6666666666666666,\"#ed7953\"],[0.7777777777777778,\"#fb9f3a\"],[0.8888888888888888,\"#fdca26\"],[1.0,\"#f0f921\"]],\"type\":\"histogram2d\"}],\"histogram2dcontour\":[{\"colorbar\":{\"outlinewidth\":0,\"ticks\":\"\"},\"colorscale\":[[0.0,\"#0d0887\"],[0.1111111111111111,\"#46039f\"],[0.2222222222222222,\"#7201a8\"],[0.3333333333333333,\"#9c179e\"],[0.4444444444444444,\"#bd3786\"],[0.5555555555555556,\"#d8576b\"],[0.6666666666666666,\"#ed7953\"],[0.7777777777777778,\"#fb9f3a\"],[0.8888888888888888,\"#fdca26\"],[1.0,\"#f0f921\"]],\"type\":\"histogram2dcontour\"}],\"mesh3d\":[{\"colorbar\":{\"outlinewidth\":0,\"ticks\":\"\"},\"type\":\"mesh3d\"}],\"parcoords\":[{\"line\":{\"colorbar\":{\"outlinewidth\":0,\"ticks\":\"\"}},\"type\":\"parcoords\"}],\"pie\":[{\"automargin\":true,\"type\":\"pie\"}],\"scatter\":[{\"marker\":{\"colorbar\":{\"outlinewidth\":0,\"ticks\":\"\"}},\"type\":\"scatter\"}],\"scatter3d\":[{\"line\":{\"colorbar\":{\"outlinewidth\":0,\"ticks\":\"\"}},\"marker\":{\"colorbar\":{\"outlinewidth\":0,\"ticks\":\"\"}},\"type\":\"scatter3d\"}],\"scattercarpet\":[{\"marker\":{\"colorbar\":{\"outlinewidth\":0,\"ticks\":\"\"}},\"type\":\"scattercarpet\"}],\"scattergeo\":[{\"marker\":{\"colorbar\":{\"outlinewidth\":0,\"ticks\":\"\"}},\"type\":\"scattergeo\"}],\"scattergl\":[{\"marker\":{\"colorbar\":{\"outlinewidth\":0,\"ticks\":\"\"}},\"type\":\"scattergl\"}],\"scattermapbox\":[{\"marker\":{\"colorbar\":{\"outlinewidth\":0,\"ticks\":\"\"}},\"type\":\"scattermapbox\"}],\"scatterpolar\":[{\"marker\":{\"colorbar\":{\"outlinewidth\":0,\"ticks\":\"\"}},\"type\":\"scatterpolar\"}],\"scatterpolargl\":[{\"marker\":{\"colorbar\":{\"outlinewidth\":0,\"ticks\":\"\"}},\"type\":\"scatterpolargl\"}],\"scatterternary\":[{\"marker\":{\"colorbar\":{\"outlinewidth\":0,\"ticks\":\"\"}},\"type\":\"scatterternary\"}],\"surface\":[{\"colorbar\":{\"outlinewidth\":0,\"ticks\":\"\"},\"colorscale\":[[0.0,\"#0d0887\"],[0.1111111111111111,\"#46039f\"],[0.2222222222222222,\"#7201a8\"],[0.3333333333333333,\"#9c179e\"],[0.4444444444444444,\"#bd3786\"],[0.5555555555555556,\"#d8576b\"],[0.6666666666666666,\"#ed7953\"],[0.7777777777777778,\"#fb9f3a\"],[0.8888888888888888,\"#fdca26\"],[1.0,\"#f0f921\"]],\"type\":\"surface\"}],\"table\":[{\"cells\":{\"fill\":{\"color\":\"#EBF0F8\"},\"line\":{\"color\":\"white\"}},\"header\":{\"fill\":{\"color\":\"#C8D4E3\"},\"line\":{\"color\":\"white\"}},\"type\":\"table\"}]},\"layout\":{\"annotationdefaults\":{\"arrowcolor\":\"#2a3f5f\",\"arrowhead\":0,\"arrowwidth\":1},\"autotypenumbers\":\"strict\",\"coloraxis\":{\"colorbar\":{\"outlinewidth\":0,\"ticks\":\"\"}},\"colorscale\":{\"diverging\":[[0,\"#8e0152\"],[0.1,\"#c51b7d\"],[0.2,\"#de77ae\"],[0.3,\"#f1b6da\"],[0.4,\"#fde0ef\"],[0.5,\"#f7f7f7\"],[0.6,\"#e6f5d0\"],[0.7,\"#b8e186\"],[0.8,\"#7fbc41\"],[0.9,\"#4d9221\"],[1,\"#276419\"]],\"sequential\":[[0.0,\"#0d0887\"],[0.1111111111111111,\"#46039f\"],[0.2222222222222222,\"#7201a8\"],[0.3333333333333333,\"#9c179e\"],[0.4444444444444444,\"#bd3786\"],[0.5555555555555556,\"#d8576b\"],[0.6666666666666666,\"#ed7953\"],[0.7777777777777778,\"#fb9f3a\"],[0.8888888888888888,\"#fdca26\"],[1.0,\"#f0f921\"]],\"sequentialminus\":[[0.0,\"#0d0887\"],[0.1111111111111111,\"#46039f\"],[0.2222222222222222,\"#7201a8\"],[0.3333333333333333,\"#9c179e\"],[0.4444444444444444,\"#bd3786\"],[0.5555555555555556,\"#d8576b\"],[0.6666666666666666,\"#ed7953\"],[0.7777777777777778,\"#fb9f3a\"],[0.8888888888888888,\"#fdca26\"],[1.0,\"#f0f921\"]]},\"colorway\":[\"#636efa\",\"#EF553B\",\"#00cc96\",\"#ab63fa\",\"#FFA15A\",\"#19d3f3\",\"#FF6692\",\"#B6E880\",\"#FF97FF\",\"#FECB52\"],\"font\":{\"color\":\"#2a3f5f\"},\"geo\":{\"bgcolor\":\"white\",\"lakecolor\":\"white\",\"landcolor\":\"#E5ECF6\",\"showlakes\":true,\"showland\":true,\"subunitcolor\":\"white\"},\"hoverlabel\":{\"align\":\"left\"},\"hovermode\":\"closest\",\"mapbox\":{\"style\":\"light\"},\"paper_bgcolor\":\"white\",\"plot_bgcolor\":\"#E5ECF6\",\"polar\":{\"angularaxis\":{\"gridcolor\":\"white\",\"linecolor\":\"white\",\"ticks\":\"\"},\"bgcolor\":\"#E5ECF6\",\"radialaxis\":{\"gridcolor\":\"white\",\"linecolor\":\"white\",\"ticks\":\"\"}},\"scene\":{\"xaxis\":{\"backgroundcolor\":\"#E5ECF6\",\"gridcolor\":\"white\",\"gridwidth\":2,\"linecolor\":\"white\",\"showbackground\":true,\"ticks\":\"\",\"zerolinecolor\":\"white\"},\"yaxis\":{\"backgroundcolor\":\"#E5ECF6\",\"gridcolor\":\"white\",\"gridwidth\":2,\"linecolor\":\"white\",\"showbackground\":true,\"ticks\":\"\",\"zerolinecolor\":\"white\"},\"zaxis\":{\"backgroundcolor\":\"#E5ECF6\",\"gridcolor\":\"white\",\"gridwidth\":2,\"linecolor\":\"white\",\"showbackground\":true,\"ticks\":\"\",\"zerolinecolor\":\"white\"}},\"shapedefaults\":{\"line\":{\"color\":\"#2a3f5f\"}},\"ternary\":{\"aaxis\":{\"gridcolor\":\"white\",\"linecolor\":\"white\",\"ticks\":\"\"},\"baxis\":{\"gridcolor\":\"white\",\"linecolor\":\"white\",\"ticks\":\"\"},\"bgcolor\":\"#E5ECF6\",\"caxis\":{\"gridcolor\":\"white\",\"linecolor\":\"white\",\"ticks\":\"\"}},\"title\":{\"x\":0.05},\"xaxis\":{\"automargin\":true,\"gridcolor\":\"white\",\"linecolor\":\"white\",\"ticks\":\"\",\"title\":{\"standoff\":15},\"zerolinecolor\":\"white\",\"zerolinewidth\":2},\"yaxis\":{\"automargin\":true,\"gridcolor\":\"white\",\"linecolor\":\"white\",\"ticks\":\"\",\"title\":{\"standoff\":15},\"zerolinecolor\":\"white\",\"zerolinewidth\":2}}},\"title\":{\"text\":\"ImageNet pretrained ViT CIFAR9 PCA\"},\"xaxis\":{\"anchor\":\"y\",\"domain\":[0.0,1.0],\"title\":{\"text\":\"x\"}},\"yaxis\":{\"anchor\":\"x\",\"domain\":[0.0,1.0],\"title\":{\"text\":\"y\"}}},                        {\"responsive\": true}                    ).then(function(){\n",
       "                            \n",
       "var gd = document.getElementById('4a9dcfdd-865f-404d-929e-ec7a2e2b0402');\n",
       "var x = new MutationObserver(function (mutations, observer) {{\n",
       "        var display = window.getComputedStyle(gd).display;\n",
       "        if (!display || display === 'none') {{\n",
       "            console.log([gd, 'removed!']);\n",
       "            Plotly.purge(gd);\n",
       "            observer.disconnect();\n",
       "        }}\n",
       "}});\n",
       "\n",
       "// Listen for the removal of the full notebook cells\n",
       "var notebookContainer = gd.closest('#notebook-container');\n",
       "if (notebookContainer) {{\n",
       "    x.observe(notebookContainer, {childList: true});\n",
       "}}\n",
       "\n",
       "// Listen for the clearing of the current output cell\n",
       "var outputEl = gd.closest('.output');\n",
       "if (outputEl) {{\n",
       "    x.observe(outputEl, {childList: true});\n",
       "}}\n",
       "\n",
       "                        })                };                });            </script>        </div>"
      ]
     },
     "metadata": {},
     "output_type": "display_data"
    }
   ],
   "source": [
    "pca = PCA()\n",
    "components = pca.fit_transform(X_out)\n",
    "\n",
    "df_embed = pd.DataFrame(components)\n",
    "df_embed = df_embed.rename(columns={0: 'x', 1: 'y'})\n",
    "df_embed = df_embed.assign(label=y_out)\n",
    "fig = px.scatter(\n",
    "    df_embed,\n",
    "    x='x',\n",
    "    y='y',\n",
    "    color='label',\n",
    "    labels={'label': 'class'},\n",
    "    title='ImageNet pretrained ViT CIFAR9 PCA',\n",
    ")\n",
    "fig.show()"
   ]
  },
  {
   "cell_type": "markdown",
   "metadata": {},
   "source": [
    "### OOD detection baselines"
   ]
  },
  {
   "cell_type": "code",
   "execution_count": 23,
   "metadata": {},
   "outputs": [],
   "source": [
    "# utility functions\n",
    "\n",
    "from sklearn.metrics import roc_auc_score, roc_curve\n",
    "\n",
    "def plot_roc_curve(fper, tper):\n",
    "    plt.plot(fper, tper, color='red', label='ROC')\n",
    "    plt.plot([0, 1], [0, 1], color='green', linestyle='--')\n",
    "    plt.xlabel('False Positive Rate')\n",
    "    plt.ylabel('True Positive Rate')\n",
    "    plt.title('Receiver Operating Characteristic Curve')\n",
    "    plt.legend()\n",
    "    plt.show()\n",
    "    \n",
    "    \n",
    "def plot_precision_recall_curve(precision, recall):\n",
    "    plt.plot(recall, precision, color='red', label='ROC')\n",
    "    plt.xlabel('Recall')\n",
    "    plt.ylabel('Precision')\n",
    "    plt.title('Precision-Recall Curve')\n",
    "    plt.legend()\n",
    "    plt.show()\n",
    "    \n",
    "    \n",
    "def compute_ood_scores(\n",
    "    metric,\n",
    "    id_dataloader,\n",
    "    ood_dataloader,\n",
    "):\n",
    "    test_y, ood_scores = [], []\n",
    "    print('processing in-distribution samples...')\n",
    "    id_ood_scores = metric.compute_dataset_ood_score(id_dataloader)\n",
    "    print('processing out-of-distribution samples...')   \n",
    "    ood_ood_scores = metric.compute_dataset_ood_score(ood_dataloader)\n",
    "    test_y = [0 for _ in range(len(id_ood_scores))] + [1 for _ in range(len(ood_ood_scores))]\n",
    "    ood_scores = id_ood_scores + ood_ood_scores\n",
    "    \n",
    "    return test_y, ood_scores, id_ood_scores, ood_ood_scores\n",
    "    "
   ]
  },
  {
   "cell_type": "markdown",
   "metadata": {},
   "source": [
    "#### OOD detection by MSP (Maximum over Softmax Probability)"
   ]
  },
  {
   "cell_type": "code",
   "execution_count": 24,
   "metadata": {},
   "outputs": [],
   "source": [
    "from ood_with_vit.metrics.msp import MSP\n",
    "\n",
    "msp = MSP(config, model)"
   ]
  },
  {
   "cell_type": "code",
   "execution_count": 25,
   "metadata": {},
   "outputs": [
    {
     "name": "stderr",
     "output_type": "stream",
     "text": [
      "  0%|          | 0/100 [00:00<?, ?it/s]"
     ]
    },
    {
     "name": "stdout",
     "output_type": "stream",
     "text": [
      "processing in-distribution samples...\n"
     ]
    },
    {
     "name": "stderr",
     "output_type": "stream",
     "text": [
      "100%|██████████| 100/100 [00:19<00:00,  5.06it/s]\n",
      "  0%|          | 0/100 [00:00<?, ?it/s]"
     ]
    },
    {
     "name": "stdout",
     "output_type": "stream",
     "text": [
      "processing out-of-distribution samples...\n"
     ]
    },
    {
     "name": "stderr",
     "output_type": "stream",
     "text": [
      "100%|██████████| 100/100 [00:20<00:00,  4.93it/s]\n"
     ]
    },
    {
     "name": "stdout",
     "output_type": "stream",
     "text": [
      "id mean score: -0.9825615\n",
      "ood mean score: -0.7670236\n"
     ]
    },
    {
     "data": {
      "image/png": "[encoded data removed]",
      "text/plain": [
       "<Figure size 432x288 with 1 Axes>"
      ]
     },
     "metadata": {
      "needs_background": "light"
     },
     "output_type": "display_data"
    },
    {
     "name": "stdout",
     "output_type": "stream",
     "text": [
      "MSP AUROC score: 0.93029612\n"
     ]
    }
   ],
   "source": [
    "test_y, ood_scores, id_ood_scores, ood_ood_scores = compute_ood_scores(\n",
    "    metric=msp,\n",
    "    id_dataloader=id_test_dataloader,\n",
    "    ood_dataloader=ood_test_dataloader,    \n",
    ")\n",
    "print('id mean score:', np.mean(id_ood_scores))\n",
    "print('ood mean score:', np.mean(ood_ood_scores))\n",
    "       \n",
    "fper, tper, _ = roc_curve(test_y, ood_scores)\n",
    "auroc_score = roc_auc_score(test_y, ood_scores)\n",
    "\n",
    "plot_roc_curve(fper, tper)\n",
    "print('MSP AUROC score:', auroc_score)"
   ]
  },
  {
   "cell_type": "code",
   "execution_count": 26,
   "metadata": {},
   "outputs": [
    {
     "data": {
      "image/png": "[encoded data removed]",
      "text/plain": [
       "<Figure size 432x288 with 1 Axes>"
      ]
     },
     "metadata": {
      "needs_background": "light"
     },
     "output_type": "display_data"
    },
    {
     "name": "stdout",
     "output_type": "stream",
     "text": [
      "MSP AUPR score: 0.9186880167998135\n"
     ]
    }
   ],
   "source": [
    "from sklearn.metrics import precision_recall_curve\n",
    "from sklearn.metrics import average_precision_score\n",
    "\n",
    "precision, recall, _ = precision_recall_curve(test_y, ood_scores)\n",
    "aupr_score = average_precision_score(test_y, ood_scores)\n",
    "\n",
    "plot_precision_recall_curve(precision, recall)\n",
    "print('MSP AUPR score:', aupr_score)"
   ]
  },
  {
   "cell_type": "markdown",
   "metadata": {},
   "source": [
    "### OOD detection by Mahalanobis"
   ]
  },
  {
   "cell_type": "code",
   "execution_count": 57,
   "metadata": {},
   "outputs": [
    {
     "name": "stdout",
     "output_type": "stream",
     "text": [
      "Files already downloaded and verified\n",
      "covariance norm: 22.59798091898979\n"
     ]
    }
   ],
   "source": [
    "from ood_with_vit.metrics.mahalanobis import Mahalanobis\n",
    "\n",
    "transform_test = transforms.Compose([\n",
    "    transforms.Resize(img_size),\n",
    "    transforms.ToTensor(),\n",
    "    transforms.Normalize(dataset_mean, dataset_std),\n",
    "])      \n",
    "cifar10 = CIFAR10(\n",
    "    root=dataset_root, \n",
    "    train=True, \n",
    "    download=False, \n",
    "    transform=transform_test\n",
    ")\n",
    "id_train_dataloader = DataLoader(\n",
    "    dataset=cifar10, \n",
    "    batch_size=config.train.batch_size, \n",
    "    shuffle=False, \n",
    "    num_workers=8\n",
    ")\n",
    "\n",
    "mahalanobis = Mahalanobis(config, model, id_train_dataloader)"
   ]
  },
  {
   "cell_type": "code",
   "execution_count": 58,
   "metadata": {},
   "outputs": [
    {
     "name": "stderr",
     "output_type": "stream",
     "text": [
      "  0%|          | 0/100 [00:00<?, ?it/s]"
     ]
    },
    {
     "name": "stdout",
     "output_type": "stream",
     "text": [
      "processing in-distribution samples...\n"
     ]
    },
    {
     "name": "stderr",
     "output_type": "stream",
     "text": [
      "100%|██████████| 100/100 [00:03<00:00, 33.00it/s]\n",
      "100%|██████████| 100/100 [00:08<00:00, 11.21it/s]\n",
      "100%|██████████| 100/100 [00:03<00:00, 30.61it/s]\n",
      "100%|██████████| 100/100 [00:03<00:00, 28.09it/s]\n",
      "100%|██████████| 100/100 [00:04<00:00, 22.12it/s]\n",
      "100%|██████████| 100/100 [00:04<00:00, 24.71it/s]\n",
      "100%|██████████| 100/100 [00:04<00:00, 23.66it/s]\n",
      "100%|██████████| 100/100 [00:05<00:00, 19.14it/s]\n",
      "100%|██████████| 100/100 [00:04<00:00, 21.98it/s]\n",
      "  0%|          | 2/1000 [00:00<00:50, 19.83it/s]"
     ]
    },
    {
     "name": "stdout",
     "output_type": "stream",
     "text": [
      "processing out-of-distribution samples...\n"
     ]
    },
    {
     "name": "stderr",
     "output_type": "stream",
     "text": [
      "100%|██████████| 1000/1000 [01:00<00:00, 16.42it/s]\n"
     ]
    },
    {
     "name": "stdout",
     "output_type": "stream",
     "text": [
      "id mean score: 178.37759356180825\n",
      "ood mean score: 375.8514508972168\n"
     ]
    },
    {
     "data": {
      "image/png": "[encoded data removed]",
      "text/plain": [
       "<Figure size 432x288 with 1 Axes>"
      ]
     },
     "metadata": {
      "needs_background": "light"
     },
     "output_type": "display_data"
    },
    {
     "name": "stdout",
     "output_type": "stream",
     "text": [
      "Mahalanobis AUROC score: 0.8946999999999998\n"
     ]
    }
   ],
   "source": [
    "test_y, ood_scores, id_ood_scores, ood_ood_scores = compute_ood_scores(mahalanobis)\n",
    "print('id mean score:', np.mean(id_ood_scores))\n",
    "print('ood mean score:', np.mean(ood_ood_scores))\n",
    "       \n",
    "fper, tper, _ = roc_curve(test_y, ood_scores)\n",
    "auroc_score = roc_auc_score(test_y, ood_scores)\n",
    "\n",
    "plot_roc_curve(fper, tper)\n",
    "print('Mahalanobis AUROC score:', auroc_score)"
   ]
  },
  {
   "cell_type": "code",
   "execution_count": 59,
   "metadata": {},
   "outputs": [
    {
     "data": {
      "image/png": "[encoded data removed]",
      "text/plain": [
       "<Figure size 432x288 with 1 Axes>"
      ]
     },
     "metadata": {
      "needs_background": "light"
     },
     "output_type": "display_data"
    },
    {
     "name": "stdout",
     "output_type": "stream",
     "text": [
      "Mahalanobis AUPR score: 0.8922381675156905\n"
     ]
    }
   ],
   "source": [
    "precision, recall, _ = precision_recall_curve(test_y, ood_scores)\n",
    "aupr_score = average_precision_score(test_y, ood_scores)\n",
    "\n",
    "plot_precision_recall_curve(precision, recall)\n",
    "print('Mahalanobis AUPR score:', aupr_score)"
   ]
  }
 ],
 "metadata": {
  "interpreter": {
   "hash": "949777d72b0d2535278d3dc13498b2535136f6dfe0678499012e853ee9abcab1"
  },
  "kernelspec": {
   "display_name": "Python 3.9.7 64-bit",
   "language": "python",
   "name": "python3"
  },
  "language_info": {
   "codemirror_mode": {
    "name": "ipython",
    "version": 3
   },
   "file_extension": ".py",
   "mimetype": "text/x-python",
   "name": "python",
   "nbconvert_exporter": "python",
   "pygments_lexer": "ipython3",
   "version": "3.9.7"
  },
  "orig_nbformat": 4
 },
 "nbformat": 4,
 "nbformat_minor": 2
}
